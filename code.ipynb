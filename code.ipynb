{
 "cells": [
  {
   "cell_type": "markdown",
   "metadata": {},
   "source": [
    "## LIBRERIAS"
   ]
  },
  {
   "cell_type": "code",
   "execution_count": 277,
   "metadata": {},
   "outputs": [],
   "source": [
    "import pandas as pd\n",
    "import numpy as np\n",
    "import plotly_express as px\n",
    "\n",
    "from sklearn.model_selection import train_test_split\n",
    "from sklearn.preprocessing import StandardScaler\n",
    "\n",
    "from sklearn.linear_model import LogisticRegression\n",
    "from sklearn.ensemble import RandomForestClassifier\n",
    "from sklearn.neighbors import KNeighborsClassifier\n",
    "\n",
    "from sklearn.metrics import f1_score, roc_auc_score, roc_curve, classification_report\n"
   ]
  },
  {
   "cell_type": "code",
   "execution_count": 278,
   "metadata": {},
   "outputs": [],
   "source": [
    "#Logistic regression\n",
    "#Random forest\n",
    "# KNN\n",
    "\n",
    "#Lightgbm\n",
    "# CatBoost\n",
    "# Red Neuronal"
   ]
  },
  {
   "cell_type": "code",
   "execution_count": 279,
   "metadata": {},
   "outputs": [],
   "source": [
    "try:\n",
    "    data_contract = pd.read_csv(\"final_provider/contract.csv\")\n",
    "    data_internet = pd.read_csv(\"final_provider/internet.csv\")\n",
    "    data_personal = pd.read_csv(\"final_provider/personal.csv\")\n",
    "    data_phone    = pd.read_csv(\"final_provider/phone.csv\")\n",
    "except:\n",
    "    data_contract = pd.read_csv(\"https://practicum-content.s3.us-west-1.amazonaws.com//datasets/final_provider/contract.csv\")\n",
    "    data_internet = pd.read_csv(\"https://practicum-content.s3.us-west-1.amazonaws.com//datasets/final_provider/internet.csv\")\n",
    "    data_personal = pd.read_csv(\"https://practicum-content.s3.us-west-1.amazonaws.com//datasets/final_provider/personal.csv\")\n",
    "    data_phone    = pd.read_csv(\"https://practicum-content.s3.us-west-1.amazonaws.com//datasets/final_provider/phone.csv\")\n",
    "\n"
   ]
  },
  {
   "cell_type": "code",
   "execution_count": 280,
   "metadata": {},
   "outputs": [],
   "source": [
    "data_contract.set_index('customerID', inplace=True)\n",
    "data_internet.set_index('customerID', inplace=True)\n",
    "data_personal.set_index('customerID', inplace=True)\n",
    "data_phone.set_index('customerID', inplace=True)\n"
   ]
  },
  {
   "cell_type": "code",
   "execution_count": 281,
   "metadata": {},
   "outputs": [],
   "source": [
    "#juntar todas las tablas\n",
    "full_data = data_contract.join([data_internet, data_personal, data_phone])\n"
   ]
  },
  {
   "cell_type": "code",
   "execution_count": 282,
   "metadata": {},
   "outputs": [
    {
     "name": "stderr",
     "output_type": "stream",
     "text": [
      "C:\\Users\\armod\\AppData\\Local\\Temp\\ipykernel_17608\\1594772674.py:2: UserWarning:\n",
      "\n",
      "Could not infer format, so each element will be parsed individually, falling back to `dateutil`. To ensure parsing is consistent and as-expected, please specify a format.\n",
      "\n"
     ]
    }
   ],
   "source": [
    "full_data[\"BeginDate\"] = pd.to_datetime(full_data[\"BeginDate\"], errors='coerce')\n",
    "full_data[\"EndDate\"] = pd.to_datetime(full_data[\"EndDate\"], errors='coerce')\n",
    "\n",
    "full_data['BeginDate_Year'] = full_data['BeginDate'].dt.year\n",
    "full_data['BeginDate_Month'] = full_data['BeginDate'].dt.month\n",
    "\n",
    "full_data['BeginDate_Year'] = full_data['BeginDate_Year'].astype(\"str\")\n",
    "full_data['BeginDate_Month'] = full_data['BeginDate_Month'].astype(\"str\")\n",
    "\n",
    "# Creación de la columna objetivo (target)\n",
    "full_data[\"isActive\"] = full_data[\"EndDate\"].apply(\n",
    "    lambda x: 0 if pd.isna(x) else 1\n",
    ")\n",
    "\n",
    "full_data = full_data.drop(columns=[\"BeginDate\", \"EndDate\"], axis =1)\n",
    "\n",
    "# Relleno de valores ausentes, al observar los datos faltantes es muy probable que todos sean por el tipo de plan contratado, no existen datos porque no han contratado un plan que pueda generar datos en esas características\n",
    "full_data.fillna(\"No data\", inplace=True)\n",
    "\n",
    "# Reemplazamos strings vacios por ceros\n",
    "full_data.replace({\"MonthlyCharges\": {\" \": 0}, \"TotalCharges\": {\" \": 0}}, inplace=True)\n",
    "\n",
    "\n",
    "\n",
    "\n"
   ]
  },
  {
   "cell_type": "code",
   "execution_count": 283,
   "metadata": {},
   "outputs": [
    {
     "data": {
      "text/html": [
       "<div>\n",
       "<style scoped>\n",
       "    .dataframe tbody tr th:only-of-type {\n",
       "        vertical-align: middle;\n",
       "    }\n",
       "\n",
       "    .dataframe tbody tr th {\n",
       "        vertical-align: top;\n",
       "    }\n",
       "\n",
       "    .dataframe thead th {\n",
       "        text-align: right;\n",
       "    }\n",
       "</style>\n",
       "<table border=\"1\" class=\"dataframe\">\n",
       "  <thead>\n",
       "    <tr style=\"text-align: right;\">\n",
       "      <th></th>\n",
       "      <th>Type</th>\n",
       "      <th>PaperlessBilling</th>\n",
       "      <th>PaymentMethod</th>\n",
       "      <th>MonthlyCharges</th>\n",
       "      <th>TotalCharges</th>\n",
       "      <th>InternetService</th>\n",
       "      <th>OnlineSecurity</th>\n",
       "      <th>OnlineBackup</th>\n",
       "      <th>DeviceProtection</th>\n",
       "      <th>TechSupport</th>\n",
       "      <th>StreamingTV</th>\n",
       "      <th>StreamingMovies</th>\n",
       "      <th>gender</th>\n",
       "      <th>SeniorCitizen</th>\n",
       "      <th>Partner</th>\n",
       "      <th>Dependents</th>\n",
       "      <th>MultipleLines</th>\n",
       "      <th>BeginDate_Year</th>\n",
       "      <th>BeginDate_Month</th>\n",
       "      <th>isActive</th>\n",
       "    </tr>\n",
       "    <tr>\n",
       "      <th>customerID</th>\n",
       "      <th></th>\n",
       "      <th></th>\n",
       "      <th></th>\n",
       "      <th></th>\n",
       "      <th></th>\n",
       "      <th></th>\n",
       "      <th></th>\n",
       "      <th></th>\n",
       "      <th></th>\n",
       "      <th></th>\n",
       "      <th></th>\n",
       "      <th></th>\n",
       "      <th></th>\n",
       "      <th></th>\n",
       "      <th></th>\n",
       "      <th></th>\n",
       "      <th></th>\n",
       "      <th></th>\n",
       "      <th></th>\n",
       "      <th></th>\n",
       "    </tr>\n",
       "  </thead>\n",
       "  <tbody>\n",
       "    <tr>\n",
       "      <th>8048-DSDFQ</th>\n",
       "      <td>Month-to-month</td>\n",
       "      <td>No</td>\n",
       "      <td>Mailed check</td>\n",
       "      <td>20.20</td>\n",
       "      <td>20.2</td>\n",
       "      <td>No data</td>\n",
       "      <td>No data</td>\n",
       "      <td>No data</td>\n",
       "      <td>No data</td>\n",
       "      <td>No data</td>\n",
       "      <td>No data</td>\n",
       "      <td>No data</td>\n",
       "      <td>Male</td>\n",
       "      <td>0</td>\n",
       "      <td>No</td>\n",
       "      <td>No</td>\n",
       "      <td>No</td>\n",
       "      <td>2020</td>\n",
       "      <td>1</td>\n",
       "      <td>0</td>\n",
       "    </tr>\n",
       "    <tr>\n",
       "      <th>4884-ZTHVF</th>\n",
       "      <td>Month-to-month</td>\n",
       "      <td>Yes</td>\n",
       "      <td>Electronic check</td>\n",
       "      <td>87.10</td>\n",
       "      <td>713.6</td>\n",
       "      <td>Fiber optic</td>\n",
       "      <td>No</td>\n",
       "      <td>Yes</td>\n",
       "      <td>No</td>\n",
       "      <td>No</td>\n",
       "      <td>Yes</td>\n",
       "      <td>No</td>\n",
       "      <td>Female</td>\n",
       "      <td>1</td>\n",
       "      <td>No</td>\n",
       "      <td>No</td>\n",
       "      <td>No</td>\n",
       "      <td>2019</td>\n",
       "      <td>6</td>\n",
       "      <td>0</td>\n",
       "    </tr>\n",
       "    <tr>\n",
       "      <th>0947-MUGVO</th>\n",
       "      <td>Month-to-month</td>\n",
       "      <td>Yes</td>\n",
       "      <td>Electronic check</td>\n",
       "      <td>73.65</td>\n",
       "      <td>1463.5</td>\n",
       "      <td>Fiber optic</td>\n",
       "      <td>No</td>\n",
       "      <td>Yes</td>\n",
       "      <td>No</td>\n",
       "      <td>No</td>\n",
       "      <td>No</td>\n",
       "      <td>No</td>\n",
       "      <td>Male</td>\n",
       "      <td>1</td>\n",
       "      <td>Yes</td>\n",
       "      <td>No</td>\n",
       "      <td>No</td>\n",
       "      <td>2018</td>\n",
       "      <td>4</td>\n",
       "      <td>1</td>\n",
       "    </tr>\n",
       "    <tr>\n",
       "      <th>8313-AFGBW</th>\n",
       "      <td>Two year</td>\n",
       "      <td>No</td>\n",
       "      <td>Electronic check</td>\n",
       "      <td>73.60</td>\n",
       "      <td>3522.65</td>\n",
       "      <td>DSL</td>\n",
       "      <td>No</td>\n",
       "      <td>Yes</td>\n",
       "      <td>Yes</td>\n",
       "      <td>No</td>\n",
       "      <td>Yes</td>\n",
       "      <td>Yes</td>\n",
       "      <td>Male</td>\n",
       "      <td>0</td>\n",
       "      <td>Yes</td>\n",
       "      <td>No</td>\n",
       "      <td>No</td>\n",
       "      <td>2016</td>\n",
       "      <td>3</td>\n",
       "      <td>0</td>\n",
       "    </tr>\n",
       "    <tr>\n",
       "      <th>0402-CQAJN</th>\n",
       "      <td>Month-to-month</td>\n",
       "      <td>Yes</td>\n",
       "      <td>Bank transfer (automatic)</td>\n",
       "      <td>101.90</td>\n",
       "      <td>3545.35</td>\n",
       "      <td>Fiber optic</td>\n",
       "      <td>No</td>\n",
       "      <td>Yes</td>\n",
       "      <td>Yes</td>\n",
       "      <td>No</td>\n",
       "      <td>Yes</td>\n",
       "      <td>Yes</td>\n",
       "      <td>Female</td>\n",
       "      <td>0</td>\n",
       "      <td>No</td>\n",
       "      <td>No</td>\n",
       "      <td>Yes</td>\n",
       "      <td>2016</td>\n",
       "      <td>10</td>\n",
       "      <td>1</td>\n",
       "    </tr>\n",
       "    <tr>\n",
       "      <th>2122-YWVYA</th>\n",
       "      <td>Month-to-month</td>\n",
       "      <td>Yes</td>\n",
       "      <td>Electronic check</td>\n",
       "      <td>75.40</td>\n",
       "      <td>1380.4</td>\n",
       "      <td>Fiber optic</td>\n",
       "      <td>Yes</td>\n",
       "      <td>No</td>\n",
       "      <td>No</td>\n",
       "      <td>No</td>\n",
       "      <td>No</td>\n",
       "      <td>No</td>\n",
       "      <td>Female</td>\n",
       "      <td>0</td>\n",
       "      <td>No</td>\n",
       "      <td>No</td>\n",
       "      <td>No</td>\n",
       "      <td>2018</td>\n",
       "      <td>8</td>\n",
       "      <td>0</td>\n",
       "    </tr>\n",
       "    <tr>\n",
       "      <th>8109-YUOHE</th>\n",
       "      <td>One year</td>\n",
       "      <td>No</td>\n",
       "      <td>Mailed check</td>\n",
       "      <td>56.10</td>\n",
       "      <td>946.95</td>\n",
       "      <td>DSL</td>\n",
       "      <td>Yes</td>\n",
       "      <td>Yes</td>\n",
       "      <td>No</td>\n",
       "      <td>No</td>\n",
       "      <td>No</td>\n",
       "      <td>No</td>\n",
       "      <td>Male</td>\n",
       "      <td>0</td>\n",
       "      <td>No</td>\n",
       "      <td>No</td>\n",
       "      <td>No</td>\n",
       "      <td>2018</td>\n",
       "      <td>9</td>\n",
       "      <td>0</td>\n",
       "    </tr>\n",
       "    <tr>\n",
       "      <th>3312-UUMZW</th>\n",
       "      <td>Month-to-month</td>\n",
       "      <td>Yes</td>\n",
       "      <td>Credit card (automatic)</td>\n",
       "      <td>98.85</td>\n",
       "      <td>3145.9</td>\n",
       "      <td>Fiber optic</td>\n",
       "      <td>No</td>\n",
       "      <td>Yes</td>\n",
       "      <td>No</td>\n",
       "      <td>No</td>\n",
       "      <td>Yes</td>\n",
       "      <td>Yes</td>\n",
       "      <td>Male</td>\n",
       "      <td>0</td>\n",
       "      <td>Yes</td>\n",
       "      <td>No</td>\n",
       "      <td>Yes</td>\n",
       "      <td>2017</td>\n",
       "      <td>6</td>\n",
       "      <td>0</td>\n",
       "    </tr>\n",
       "    <tr>\n",
       "      <th>7299-GNVPL</th>\n",
       "      <td>Month-to-month</td>\n",
       "      <td>No</td>\n",
       "      <td>Mailed check</td>\n",
       "      <td>84.40</td>\n",
       "      <td>1936.85</td>\n",
       "      <td>Fiber optic</td>\n",
       "      <td>Yes</td>\n",
       "      <td>Yes</td>\n",
       "      <td>No</td>\n",
       "      <td>Yes</td>\n",
       "      <td>No</td>\n",
       "      <td>No</td>\n",
       "      <td>Female</td>\n",
       "      <td>0</td>\n",
       "      <td>Yes</td>\n",
       "      <td>Yes</td>\n",
       "      <td>No</td>\n",
       "      <td>2018</td>\n",
       "      <td>3</td>\n",
       "      <td>0</td>\n",
       "    </tr>\n",
       "    <tr>\n",
       "      <th>8033-ATFAS</th>\n",
       "      <td>Month-to-month</td>\n",
       "      <td>Yes</td>\n",
       "      <td>Mailed check</td>\n",
       "      <td>59.85</td>\n",
       "      <td>2341.5</td>\n",
       "      <td>DSL</td>\n",
       "      <td>No</td>\n",
       "      <td>No</td>\n",
       "      <td>Yes</td>\n",
       "      <td>No</td>\n",
       "      <td>Yes</td>\n",
       "      <td>No</td>\n",
       "      <td>Female</td>\n",
       "      <td>0</td>\n",
       "      <td>Yes</td>\n",
       "      <td>Yes</td>\n",
       "      <td>No</td>\n",
       "      <td>2016</td>\n",
       "      <td>11</td>\n",
       "      <td>0</td>\n",
       "    </tr>\n",
       "  </tbody>\n",
       "</table>\n",
       "</div>"
      ],
      "text/plain": [
       "                      Type PaperlessBilling              PaymentMethod  \\\n",
       "customerID                                                               \n",
       "8048-DSDFQ  Month-to-month               No               Mailed check   \n",
       "4884-ZTHVF  Month-to-month              Yes           Electronic check   \n",
       "0947-MUGVO  Month-to-month              Yes           Electronic check   \n",
       "8313-AFGBW        Two year               No           Electronic check   \n",
       "0402-CQAJN  Month-to-month              Yes  Bank transfer (automatic)   \n",
       "2122-YWVYA  Month-to-month              Yes           Electronic check   \n",
       "8109-YUOHE        One year               No               Mailed check   \n",
       "3312-UUMZW  Month-to-month              Yes    Credit card (automatic)   \n",
       "7299-GNVPL  Month-to-month               No               Mailed check   \n",
       "8033-ATFAS  Month-to-month              Yes               Mailed check   \n",
       "\n",
       "            MonthlyCharges TotalCharges InternetService OnlineSecurity  \\\n",
       "customerID                                                               \n",
       "8048-DSDFQ           20.20         20.2         No data        No data   \n",
       "4884-ZTHVF           87.10        713.6     Fiber optic             No   \n",
       "0947-MUGVO           73.65       1463.5     Fiber optic             No   \n",
       "8313-AFGBW           73.60      3522.65             DSL             No   \n",
       "0402-CQAJN          101.90      3545.35     Fiber optic             No   \n",
       "2122-YWVYA           75.40       1380.4     Fiber optic            Yes   \n",
       "8109-YUOHE           56.10       946.95             DSL            Yes   \n",
       "3312-UUMZW           98.85       3145.9     Fiber optic             No   \n",
       "7299-GNVPL           84.40      1936.85     Fiber optic            Yes   \n",
       "8033-ATFAS           59.85       2341.5             DSL             No   \n",
       "\n",
       "           OnlineBackup DeviceProtection TechSupport StreamingTV  \\\n",
       "customerID                                                         \n",
       "8048-DSDFQ      No data          No data     No data     No data   \n",
       "4884-ZTHVF          Yes               No          No         Yes   \n",
       "0947-MUGVO          Yes               No          No          No   \n",
       "8313-AFGBW          Yes              Yes          No         Yes   \n",
       "0402-CQAJN          Yes              Yes          No         Yes   \n",
       "2122-YWVYA           No               No          No          No   \n",
       "8109-YUOHE          Yes               No          No          No   \n",
       "3312-UUMZW          Yes               No          No         Yes   \n",
       "7299-GNVPL          Yes               No         Yes          No   \n",
       "8033-ATFAS           No              Yes          No         Yes   \n",
       "\n",
       "           StreamingMovies  gender  SeniorCitizen Partner Dependents  \\\n",
       "customerID                                                             \n",
       "8048-DSDFQ         No data    Male              0      No         No   \n",
       "4884-ZTHVF              No  Female              1      No         No   \n",
       "0947-MUGVO              No    Male              1     Yes         No   \n",
       "8313-AFGBW             Yes    Male              0     Yes         No   \n",
       "0402-CQAJN             Yes  Female              0      No         No   \n",
       "2122-YWVYA              No  Female              0      No         No   \n",
       "8109-YUOHE              No    Male              0      No         No   \n",
       "3312-UUMZW             Yes    Male              0     Yes         No   \n",
       "7299-GNVPL              No  Female              0     Yes        Yes   \n",
       "8033-ATFAS              No  Female              0     Yes        Yes   \n",
       "\n",
       "           MultipleLines BeginDate_Year BeginDate_Month  isActive  \n",
       "customerID                                                         \n",
       "8048-DSDFQ            No           2020               1         0  \n",
       "4884-ZTHVF            No           2019               6         0  \n",
       "0947-MUGVO            No           2018               4         1  \n",
       "8313-AFGBW            No           2016               3         0  \n",
       "0402-CQAJN           Yes           2016              10         1  \n",
       "2122-YWVYA            No           2018               8         0  \n",
       "8109-YUOHE            No           2018               9         0  \n",
       "3312-UUMZW           Yes           2017               6         0  \n",
       "7299-GNVPL            No           2018               3         0  \n",
       "8033-ATFAS            No           2016              11         0  "
      ]
     },
     "execution_count": 283,
     "metadata": {},
     "output_type": "execute_result"
    }
   ],
   "source": [
    "full_data.sample(10)\n",
    "\n"
   ]
  },
  {
   "cell_type": "code",
   "execution_count": 284,
   "metadata": {},
   "outputs": [],
   "source": [
    "# for col in full_data:\n",
    "#     print(full_data[col].unique())\n"
   ]
  },
  {
   "cell_type": "markdown",
   "metadata": {},
   "source": [
    "## MODELOS BASICOS"
   ]
  },
  {
   "cell_type": "markdown",
   "metadata": {},
   "source": [
    "#### LOGISTIC REGRESSION"
   ]
  },
  {
   "cell_type": "code",
   "execution_count": 285,
   "metadata": {},
   "outputs": [],
   "source": [
    "cols_categ = (\n",
    "    [\n",
    "        \"Type\",\n",
    "        \"PaperlessBilling\",\n",
    "        \"PaymentMethod\",\n",
    "        \"InternetService\",\n",
    "        \"OnlineSecurity\",\n",
    "        \"OnlineBackup\",\n",
    "        \"DeviceProtection\",\n",
    "        \"TechSupport\",\n",
    "        \"StreamingTV\",\n",
    "        \"StreamingMovies\",\n",
    "        \"gender\",\n",
    "        \"SeniorCitizen\",\n",
    "        \"Partner\",\n",
    "        \"Dependents\",\n",
    "        \"MultipleLines\",\n",
    "        \"isActive\",\n",
    "        \"BeginDate_Year\",\n",
    "        \"BeginDate_Month\",\n",
    "        \"EndDate_Year\",\n",
    "        \"EndDate_Month\",\n",
    "    ],\n",
    ")\n",
    "numeric_columns = [\"MonthlyCharges\", \"TotalCharges\"]"
   ]
  },
  {
   "cell_type": "code",
   "execution_count": 286,
   "metadata": {},
   "outputs": [],
   "source": [
    "def scaler_ohe(df):\n",
    "    scaler = StandardScaler()\n",
    "    scaler.fit(df[numeric_columns])\n",
    "    data_scaled = scaler.transform(df[numeric_columns])\n",
    "    df[numeric_columns]= data_scaled\n",
    "    df = pd.get_dummies(df, drop_first=True)\n",
    "    \n",
    "    return df\n",
    "\n",
    "def find_scores(features_test, target_test, predictions, model):\n",
    "\n",
    "    print(classification_report(target_test, predictions))\n",
    "    print(\"Área bajo la curva ROC:\", roc_auc_score(target_test, predictions))\n",
    "\n",
    "    probab_test = model.predict_proba(features_test)\n",
    "    probab_one_test = probab_test[:, 1]\n",
    "\n",
    "    fpr, tpr, thresholds = roc_curve(target_test, probab_one_test)  \n",
    "\n",
    "    #Creamos un df con los datos para graficar\n",
    "    roc_data = {\"FPR\": fpr, \"TPR\": tpr}\n",
    "    df_roc = pd.DataFrame(roc_data)\n",
    "\n",
    "    # Trazar la curva ROC con Plotly Express\n",
    "    fig = px.line(\n",
    "        df_roc,\n",
    "        x=\"FPR\",\n",
    "        y=\"TPR\",\n",
    "        labels={\"FPR\": \"Tasa de falsos positivos\", \"TPR\": \"Tasa de verdaderos positivos\"},\n",
    "        title=\"Curva ROC\",\n",
    "    )\n",
    "\n",
    "    # Agregar una línea diagonal que representa el modelo aleatorio\n",
    "    fig.add_shape(type=\"line\", line=dict(dash=\"dash\"), x0=0, x1=1, y0=0, y1=1)\n",
    "    fig.update_layout(\n",
    "        width=800,  \n",
    "        height=450\n",
    "    )\n",
    "    # Mostrar la figura\n",
    "    fig.show()"
   ]
  },
  {
   "cell_type": "code",
   "execution_count": 287,
   "metadata": {},
   "outputs": [
    {
     "data": {
      "text/plain": [
       "isActive\n",
       "0    5174\n",
       "1    1869\n",
       "Name: count, dtype: int64"
      ]
     },
     "execution_count": 287,
     "metadata": {},
     "output_type": "execute_result"
    }
   ],
   "source": [
    "y = full_data[\"isActive\"]\n",
    "X = full_data.drop(columns=\"isActive\")\n",
    "X = scaler_ohe(X)\n",
    "X_train,X_valid, y_train, y_valid = train_test_split(X, y, test_size=0.2, random_state=999)\n",
    "X_train, X_test, y_train, y_test = train_test_split(X_train, y_train, test_size=0.2, random_state=999)\n",
    "y.value_counts()"
   ]
  },
  {
   "cell_type": "code",
   "execution_count": 288,
   "metadata": {},
   "outputs": [
    {
     "name": "stdout",
     "output_type": "stream",
     "text": [
      "              precision    recall  f1-score   support\n",
      "\n",
      "           0       0.93      0.73      0.82       844\n",
      "           1       0.51      0.82      0.63       283\n",
      "\n",
      "    accuracy                           0.76      1127\n",
      "   macro avg       0.72      0.78      0.72      1127\n",
      "weighted avg       0.82      0.76      0.77      1127\n",
      "\n",
      "Área bajo la curva ROC: 0.7789593555842111\n"
     ]
    },
    {
     "data": {
      "application/vnd.plotly.v1+json": {
       "config": {
        "plotlyServerURL": "https://plot.ly"
       },
       "data": [
        {
         "hovertemplate": "Tasa de falsos positivos=%{x}<br>Tasa de verdaderos positivos=%{y}<extra></extra>",
         "legendgroup": "",
         "line": {
          "color": "#636efa",
          "dash": "solid"
         },
         "marker": {
          "symbol": "circle"
         },
         "mode": "lines",
         "name": "",
         "orientation": "v",
         "showlegend": false,
         "type": "scatter",
         "x": [
          0,
          0,
          0,
          0.001184834123222749,
          0.001184834123222749,
          0.002369668246445498,
          0.002369668246445498,
          0.0035545023696682463,
          0.0035545023696682463,
          0.004739336492890996,
          0.004739336492890996,
          0.005924170616113744,
          0.005924170616113744,
          0.009478672985781991,
          0.009478672985781991,
          0.011848341232227487,
          0.011848341232227487,
          0.013033175355450236,
          0.013033175355450236,
          0.014218009478672985,
          0.014218009478672985,
          0.015402843601895734,
          0.015402843601895734,
          0.017772511848341232,
          0.017772511848341232,
          0.018957345971563982,
          0.018957345971563982,
          0.022511848341232227,
          0.022511848341232227,
          0.023696682464454975,
          0.023696682464454975,
          0.026066350710900472,
          0.026066350710900472,
          0.027251184834123223,
          0.027251184834123223,
          0.02843601895734597,
          0.02843601895734597,
          0.031990521327014215,
          0.031990521327014215,
          0.034360189573459717,
          0.034360189573459717,
          0.035545023696682464,
          0.035545023696682464,
          0.03672985781990521,
          0.03672985781990521,
          0.037914691943127965,
          0.037914691943127965,
          0.03909952606635071,
          0.03909952606635071,
          0.04028436018957346,
          0.04028436018957346,
          0.041469194312796206,
          0.041469194312796206,
          0.04265402843601896,
          0.04265402843601896,
          0.045023696682464455,
          0.045023696682464455,
          0.0485781990521327,
          0.0485781990521327,
          0.04976303317535545,
          0.04976303317535545,
          0.0509478672985782,
          0.0509478672985782,
          0.052132701421800945,
          0.052132701421800945,
          0.0533175355450237,
          0.0533175355450237,
          0.05568720379146919,
          0.05568720379146919,
          0.05687203791469194,
          0.05687203791469194,
          0.05924170616113744,
          0.05924170616113744,
          0.061611374407582936,
          0.061611374407582936,
          0.06279620853080568,
          0.06279620853080568,
          0.06516587677725119,
          0.06516587677725119,
          0.06872037914691943,
          0.06872037914691943,
          0.06990521327014218,
          0.06990521327014218,
          0.07227488151658767,
          0.07227488151658767,
          0.07464454976303317,
          0.07464454976303317,
          0.07701421800947868,
          0.07701421800947868,
          0.07819905213270142,
          0.07819905213270142,
          0.07938388625592417,
          0.07938388625592417,
          0.08056872037914692,
          0.08056872037914692,
          0.08175355450236967,
          0.08175355450236967,
          0.08293838862559241,
          0.08293838862559241,
          0.08649289099526067,
          0.08649289099526067,
          0.08767772511848342,
          0.08767772511848342,
          0.08886255924170616,
          0.08886255924170616,
          0.09360189573459715,
          0.09360189573459715,
          0.0947867298578199,
          0.0947867298578199,
          0.0971563981042654,
          0.0971563981042654,
          0.09834123222748815,
          0.09834123222748815,
          0.0995260663507109,
          0.0995260663507109,
          0.10071090047393365,
          0.10071090047393365,
          0.1018957345971564,
          0.1018957345971564,
          0.10545023696682465,
          0.10545023696682465,
          0.10781990521327015,
          0.10781990521327015,
          0.11018957345971564,
          0.11018957345971564,
          0.11137440758293839,
          0.11137440758293839,
          0.11374407582938388,
          0.11374407582938388,
          0.11492890995260663,
          0.11492890995260663,
          0.11848341232227488,
          0.11848341232227488,
          0.11966824644549763,
          0.11966824644549763,
          0.12203791469194313,
          0.12203791469194313,
          0.12322274881516587,
          0.12322274881516587,
          0.12677725118483413,
          0.12677725118483413,
          0.13507109004739337,
          0.13507109004739337,
          0.13981042654028436,
          0.13981042654028436,
          0.14218009478672985,
          0.14218009478672985,
          0.14691943127962084,
          0.14691943127962084,
          0.14928909952606634,
          0.14928909952606634,
          0.1504739336492891,
          0.1504739336492891,
          0.15402843601895735,
          0.15402843601895735,
          0.1552132701421801,
          0.1552132701421801,
          0.15758293838862558,
          0.15758293838862558,
          0.1623222748815166,
          0.1623222748815166,
          0.1646919431279621,
          0.1646919431279621,
          0.16824644549763032,
          0.16824644549763032,
          0.17772511848341233,
          0.17772511848341233,
          0.17890995260663506,
          0.17890995260663506,
          0.18127962085308058,
          0.18127962085308058,
          0.18601895734597157,
          0.18601895734597157,
          0.19075829383886256,
          0.19075829383886256,
          0.19549763033175355,
          0.19549763033175355,
          0.20260663507109006,
          0.20260663507109006,
          0.2109004739336493,
          0.2109004739336493,
          0.21208530805687204,
          0.21208530805687204,
          0.2132701421800948,
          0.2132701421800948,
          0.2156398104265403,
          0.2156398104265403,
          0.22511848341232227,
          0.22511848341232227,
          0.22985781990521326,
          0.22985781990521326,
          0.2381516587677725,
          0.2381516587677725,
          0.23933649289099526,
          0.23933649289099526,
          0.2559241706161137,
          0.2559241706161137,
          0.2571090047393365,
          0.2571090047393365,
          0.27014218009478674,
          0.27014218009478674,
          0.27488151658767773,
          0.27488151658767773,
          0.27606635071090047,
          0.27606635071090047,
          0.278436018957346,
          0.278436018957346,
          0.2796208530805687,
          0.2796208530805687,
          0.283175355450237,
          0.283175355450237,
          0.28554502369668244,
          0.28554502369668244,
          0.28672985781990523,
          0.28672985781990523,
          0.2950236966824645,
          0.2950236966824645,
          0.2985781990521327,
          0.2985781990521327,
          0.30450236966824645,
          0.30450236966824645,
          0.3068720379146919,
          0.3068720379146919,
          0.31161137440758296,
          0.31161137440758296,
          0.3175355450236967,
          0.3175355450236967,
          0.33649289099526064,
          0.33649289099526064,
          0.3459715639810427,
          0.3459715639810427,
          0.35545023696682465,
          0.35545023696682465,
          0.3637440758293839,
          0.3637440758293839,
          0.36611374407582936,
          0.36611374407582936,
          0.37796208530805686,
          0.37796208530805686,
          0.38270142180094785,
          0.38270142180094785,
          0.39454976303317535,
          0.39454976303317535,
          0.4004739336492891,
          0.4004739336492891,
          0.4087677725118483,
          0.4087677725118483,
          0.41113744075829384,
          0.41113744075829384,
          0.41232227488151657,
          0.41232227488151657,
          0.42298578199052134,
          0.42298578199052134,
          0.42417061611374407,
          0.42417061611374407,
          0.4265402843601896,
          0.4265402843601896,
          0.42890995260663506,
          0.42890995260663506,
          0.4609004739336493,
          0.4609004739336493,
          0.4703791469194313,
          0.4703791469194313,
          0.471563981042654,
          0.471563981042654,
          0.48696682464454977,
          0.48696682464454977,
          0.490521327014218,
          0.490521327014218,
          0.49644549763033174,
          0.49644549763033174,
          0.5177725118483413,
          0.5177725118483413,
          0.5438388625592417,
          0.5438388625592417,
          0.556872037914692,
          0.556872037914692,
          0.5947867298578199,
          0.5947867298578199,
          0.6172985781990521,
          0.6172985781990521,
          0.6978672985781991,
          0.6978672985781991,
          0.7345971563981043,
          0.7345971563981043,
          0.8554502369668247,
          0.8554502369668247,
          1
         ],
         "xaxis": "x",
         "y": [
          0,
          0.0035335689045936395,
          0.02120141342756184,
          0.02120141342756184,
          0.024734982332155476,
          0.024734982332155476,
          0.03180212014134275,
          0.03180212014134275,
          0.04240282685512368,
          0.04240282685512368,
          0.07773851590106007,
          0.07773851590106007,
          0.09187279151943463,
          0.09187279151943463,
          0.13427561837455831,
          0.13427561837455831,
          0.15547703180212014,
          0.15547703180212014,
          0.15901060070671377,
          0.15901060070671377,
          0.1696113074204947,
          0.1696113074204947,
          0.19081272084805653,
          0.19081272084805653,
          0.2049469964664311,
          0.2049469964664311,
          0.2332155477031802,
          0.2332155477031802,
          0.23674911660777384,
          0.23674911660777384,
          0.24734982332155478,
          0.24734982332155478,
          0.2508833922261484,
          0.2508833922261484,
          0.254416961130742,
          0.254416961130742,
          0.2579505300353357,
          0.2579505300353357,
          0.26501766784452296,
          0.26501766784452296,
          0.2968197879858657,
          0.2968197879858657,
          0.31095406360424027,
          0.31095406360424027,
          0.31448763250883394,
          0.31448763250883394,
          0.3250883392226148,
          0.3250883392226148,
          0.3321554770318021,
          0.3321554770318021,
          0.35335689045936397,
          0.35335689045936397,
          0.3568904593639576,
          0.3568904593639576,
          0.36395759717314485,
          0.36395759717314485,
          0.3674911660777385,
          0.3674911660777385,
          0.3710247349823322,
          0.3710247349823322,
          0.37809187279151946,
          0.37809187279151946,
          0.38515901060070673,
          0.38515901060070673,
          0.4028268551236749,
          0.4028268551236749,
          0.40636042402826855,
          0.40636042402826855,
          0.4098939929328622,
          0.4098939929328622,
          0.42402826855123676,
          0.42402826855123676,
          0.4275618374558304,
          0.4275618374558304,
          0.43109540636042404,
          0.43109540636042404,
          0.4416961130742049,
          0.4416961130742049,
          0.45229681978798586,
          0.45229681978798586,
          0.4558303886925795,
          0.4558303886925795,
          0.4628975265017668,
          0.4628975265017668,
          0.4734982332155477,
          0.4734982332155477,
          0.47703180212014135,
          0.47703180212014135,
          0.4876325088339223,
          0.4876325088339223,
          0.49469964664310956,
          0.49469964664310956,
          0.5017667844522968,
          0.5017667844522968,
          0.508833922261484,
          0.508833922261484,
          0.519434628975265,
          0.519434628975265,
          0.5300353356890459,
          0.5300353356890459,
          0.5335689045936396,
          0.5335689045936396,
          0.5371024734982333,
          0.5371024734982333,
          0.5406360424028268,
          0.5406360424028268,
          0.5477031802120141,
          0.5477031802120141,
          0.5512367491166078,
          0.5512367491166078,
          0.5795053003533569,
          0.5795053003533569,
          0.5901060070671378,
          0.5901060070671378,
          0.5936395759717314,
          0.5936395759717314,
          0.6042402826855123,
          0.6042402826855123,
          0.6113074204946997,
          0.6113074204946997,
          0.6148409893992933,
          0.6148409893992933,
          0.6219081272084805,
          0.6219081272084805,
          0.6254416961130742,
          0.6254416961130742,
          0.6289752650176679,
          0.6289752650176679,
          0.6325088339222615,
          0.6325088339222615,
          0.6360424028268551,
          0.6360424028268551,
          0.6395759717314488,
          0.6395759717314488,
          0.6431095406360424,
          0.6431095406360424,
          0.657243816254417,
          0.657243816254417,
          0.6607773851590106,
          0.6607773851590106,
          0.6643109540636042,
          0.6643109540636042,
          0.6678445229681979,
          0.6678445229681979,
          0.6713780918727915,
          0.6713780918727915,
          0.6819787985865724,
          0.6819787985865724,
          0.6855123674911661,
          0.6855123674911661,
          0.6890459363957597,
          0.6890459363957597,
          0.6925795053003534,
          0.6925795053003534,
          0.696113074204947,
          0.696113074204947,
          0.6996466431095406,
          0.6996466431095406,
          0.7031802120141343,
          0.7031802120141343,
          0.7102473498233216,
          0.7102473498233216,
          0.7137809187279152,
          0.7137809187279152,
          0.7173144876325088,
          0.7173144876325088,
          0.7243816254416962,
          0.7243816254416962,
          0.7314487632508834,
          0.7314487632508834,
          0.734982332155477,
          0.734982332155477,
          0.7420494699646644,
          0.7420494699646644,
          0.7491166077738516,
          0.7491166077738516,
          0.7526501766784452,
          0.7526501766784452,
          0.7632508833922261,
          0.7632508833922261,
          0.7703180212014135,
          0.7703180212014135,
          0.7879858657243817,
          0.7879858657243817,
          0.7915194346289752,
          0.7915194346289752,
          0.7985865724381626,
          0.7985865724381626,
          0.8021201413427562,
          0.8021201413427562,
          0.8056537102473498,
          0.8056537102473498,
          0.8127208480565371,
          0.8127208480565371,
          0.8162544169611308,
          0.8162544169611308,
          0.8197879858657244,
          0.8197879858657244,
          0.823321554770318,
          0.823321554770318,
          0.8303886925795053,
          0.8303886925795053,
          0.8374558303886925,
          0.8374558303886925,
          0.8445229681978799,
          0.8445229681978799,
          0.8480565371024735,
          0.8480565371024735,
          0.8515901060070671,
          0.8515901060070671,
          0.8551236749116607,
          0.8551236749116607,
          0.8586572438162544,
          0.8586572438162544,
          0.8621908127208481,
          0.8621908127208481,
          0.8657243816254417,
          0.8657243816254417,
          0.8692579505300353,
          0.8692579505300353,
          0.872791519434629,
          0.872791519434629,
          0.8798586572438163,
          0.8798586572438163,
          0.8833922261484098,
          0.8833922261484098,
          0.8869257950530035,
          0.8869257950530035,
          0.8904593639575972,
          0.8904593639575972,
          0.8939929328621908,
          0.8939929328621908,
          0.8975265017667845,
          0.8975265017667845,
          0.901060070671378,
          0.901060070671378,
          0.9045936395759717,
          0.9045936395759717,
          0.911660777385159,
          0.911660777385159,
          0.9151943462897526,
          0.9151943462897526,
          0.9187279151943463,
          0.9187279151943463,
          0.9257950530035336,
          0.9257950530035336,
          0.9293286219081273,
          0.9293286219081273,
          0.9328621908127208,
          0.9328621908127208,
          0.9363957597173145,
          0.9363957597173145,
          0.9399293286219081,
          0.9399293286219081,
          0.9434628975265018,
          0.9434628975265018,
          0.9469964664310954,
          0.9469964664310954,
          0.950530035335689,
          0.950530035335689,
          0.9540636042402827,
          0.9540636042402827,
          0.9575971731448764,
          0.9575971731448764,
          0.9611307420494699,
          0.9611307420494699,
          0.9646643109540636,
          0.9646643109540636,
          0.9681978798586572,
          0.9681978798586572,
          0.9717314487632509,
          0.9717314487632509,
          0.9752650176678446,
          0.9752650176678446,
          0.9787985865724381,
          0.9787985865724381,
          0.9823321554770318,
          0.9823321554770318,
          0.9858657243816255,
          0.9858657243816255,
          0.9893992932862191,
          0.9893992932862191,
          0.9929328621908127,
          0.9929328621908127,
          0.9964664310954063,
          0.9964664310954063,
          1,
          1
         ],
         "yaxis": "y"
        }
       ],
       "layout": {
        "height": 450,
        "legend": {
         "tracegroupgap": 0
        },
        "shapes": [
         {
          "line": {
           "dash": "dash"
          },
          "type": "line",
          "x0": 0,
          "x1": 1,
          "y0": 0,
          "y1": 1
         }
        ],
        "template": {
         "data": {
          "bar": [
           {
            "error_x": {
             "color": "#2a3f5f"
            },
            "error_y": {
             "color": "#2a3f5f"
            },
            "marker": {
             "line": {
              "color": "#E5ECF6",
              "width": 0.5
             },
             "pattern": {
              "fillmode": "overlay",
              "size": 10,
              "solidity": 0.2
             }
            },
            "type": "bar"
           }
          ],
          "barpolar": [
           {
            "marker": {
             "line": {
              "color": "#E5ECF6",
              "width": 0.5
             },
             "pattern": {
              "fillmode": "overlay",
              "size": 10,
              "solidity": 0.2
             }
            },
            "type": "barpolar"
           }
          ],
          "carpet": [
           {
            "aaxis": {
             "endlinecolor": "#2a3f5f",
             "gridcolor": "white",
             "linecolor": "white",
             "minorgridcolor": "white",
             "startlinecolor": "#2a3f5f"
            },
            "baxis": {
             "endlinecolor": "#2a3f5f",
             "gridcolor": "white",
             "linecolor": "white",
             "minorgridcolor": "white",
             "startlinecolor": "#2a3f5f"
            },
            "type": "carpet"
           }
          ],
          "choropleth": [
           {
            "colorbar": {
             "outlinewidth": 0,
             "ticks": ""
            },
            "type": "choropleth"
           }
          ],
          "contour": [
           {
            "colorbar": {
             "outlinewidth": 0,
             "ticks": ""
            },
            "colorscale": [
             [
              0,
              "#0d0887"
             ],
             [
              0.1111111111111111,
              "#46039f"
             ],
             [
              0.2222222222222222,
              "#7201a8"
             ],
             [
              0.3333333333333333,
              "#9c179e"
             ],
             [
              0.4444444444444444,
              "#bd3786"
             ],
             [
              0.5555555555555556,
              "#d8576b"
             ],
             [
              0.6666666666666666,
              "#ed7953"
             ],
             [
              0.7777777777777778,
              "#fb9f3a"
             ],
             [
              0.8888888888888888,
              "#fdca26"
             ],
             [
              1,
              "#f0f921"
             ]
            ],
            "type": "contour"
           }
          ],
          "contourcarpet": [
           {
            "colorbar": {
             "outlinewidth": 0,
             "ticks": ""
            },
            "type": "contourcarpet"
           }
          ],
          "heatmap": [
           {
            "colorbar": {
             "outlinewidth": 0,
             "ticks": ""
            },
            "colorscale": [
             [
              0,
              "#0d0887"
             ],
             [
              0.1111111111111111,
              "#46039f"
             ],
             [
              0.2222222222222222,
              "#7201a8"
             ],
             [
              0.3333333333333333,
              "#9c179e"
             ],
             [
              0.4444444444444444,
              "#bd3786"
             ],
             [
              0.5555555555555556,
              "#d8576b"
             ],
             [
              0.6666666666666666,
              "#ed7953"
             ],
             [
              0.7777777777777778,
              "#fb9f3a"
             ],
             [
              0.8888888888888888,
              "#fdca26"
             ],
             [
              1,
              "#f0f921"
             ]
            ],
            "type": "heatmap"
           }
          ],
          "heatmapgl": [
           {
            "colorbar": {
             "outlinewidth": 0,
             "ticks": ""
            },
            "colorscale": [
             [
              0,
              "#0d0887"
             ],
             [
              0.1111111111111111,
              "#46039f"
             ],
             [
              0.2222222222222222,
              "#7201a8"
             ],
             [
              0.3333333333333333,
              "#9c179e"
             ],
             [
              0.4444444444444444,
              "#bd3786"
             ],
             [
              0.5555555555555556,
              "#d8576b"
             ],
             [
              0.6666666666666666,
              "#ed7953"
             ],
             [
              0.7777777777777778,
              "#fb9f3a"
             ],
             [
              0.8888888888888888,
              "#fdca26"
             ],
             [
              1,
              "#f0f921"
             ]
            ],
            "type": "heatmapgl"
           }
          ],
          "histogram": [
           {
            "marker": {
             "pattern": {
              "fillmode": "overlay",
              "size": 10,
              "solidity": 0.2
             }
            },
            "type": "histogram"
           }
          ],
          "histogram2d": [
           {
            "colorbar": {
             "outlinewidth": 0,
             "ticks": ""
            },
            "colorscale": [
             [
              0,
              "#0d0887"
             ],
             [
              0.1111111111111111,
              "#46039f"
             ],
             [
              0.2222222222222222,
              "#7201a8"
             ],
             [
              0.3333333333333333,
              "#9c179e"
             ],
             [
              0.4444444444444444,
              "#bd3786"
             ],
             [
              0.5555555555555556,
              "#d8576b"
             ],
             [
              0.6666666666666666,
              "#ed7953"
             ],
             [
              0.7777777777777778,
              "#fb9f3a"
             ],
             [
              0.8888888888888888,
              "#fdca26"
             ],
             [
              1,
              "#f0f921"
             ]
            ],
            "type": "histogram2d"
           }
          ],
          "histogram2dcontour": [
           {
            "colorbar": {
             "outlinewidth": 0,
             "ticks": ""
            },
            "colorscale": [
             [
              0,
              "#0d0887"
             ],
             [
              0.1111111111111111,
              "#46039f"
             ],
             [
              0.2222222222222222,
              "#7201a8"
             ],
             [
              0.3333333333333333,
              "#9c179e"
             ],
             [
              0.4444444444444444,
              "#bd3786"
             ],
             [
              0.5555555555555556,
              "#d8576b"
             ],
             [
              0.6666666666666666,
              "#ed7953"
             ],
             [
              0.7777777777777778,
              "#fb9f3a"
             ],
             [
              0.8888888888888888,
              "#fdca26"
             ],
             [
              1,
              "#f0f921"
             ]
            ],
            "type": "histogram2dcontour"
           }
          ],
          "mesh3d": [
           {
            "colorbar": {
             "outlinewidth": 0,
             "ticks": ""
            },
            "type": "mesh3d"
           }
          ],
          "parcoords": [
           {
            "line": {
             "colorbar": {
              "outlinewidth": 0,
              "ticks": ""
             }
            },
            "type": "parcoords"
           }
          ],
          "pie": [
           {
            "automargin": true,
            "type": "pie"
           }
          ],
          "scatter": [
           {
            "fillpattern": {
             "fillmode": "overlay",
             "size": 10,
             "solidity": 0.2
            },
            "type": "scatter"
           }
          ],
          "scatter3d": [
           {
            "line": {
             "colorbar": {
              "outlinewidth": 0,
              "ticks": ""
             }
            },
            "marker": {
             "colorbar": {
              "outlinewidth": 0,
              "ticks": ""
             }
            },
            "type": "scatter3d"
           }
          ],
          "scattercarpet": [
           {
            "marker": {
             "colorbar": {
              "outlinewidth": 0,
              "ticks": ""
             }
            },
            "type": "scattercarpet"
           }
          ],
          "scattergeo": [
           {
            "marker": {
             "colorbar": {
              "outlinewidth": 0,
              "ticks": ""
             }
            },
            "type": "scattergeo"
           }
          ],
          "scattergl": [
           {
            "marker": {
             "colorbar": {
              "outlinewidth": 0,
              "ticks": ""
             }
            },
            "type": "scattergl"
           }
          ],
          "scattermapbox": [
           {
            "marker": {
             "colorbar": {
              "outlinewidth": 0,
              "ticks": ""
             }
            },
            "type": "scattermapbox"
           }
          ],
          "scatterpolar": [
           {
            "marker": {
             "colorbar": {
              "outlinewidth": 0,
              "ticks": ""
             }
            },
            "type": "scatterpolar"
           }
          ],
          "scatterpolargl": [
           {
            "marker": {
             "colorbar": {
              "outlinewidth": 0,
              "ticks": ""
             }
            },
            "type": "scatterpolargl"
           }
          ],
          "scatterternary": [
           {
            "marker": {
             "colorbar": {
              "outlinewidth": 0,
              "ticks": ""
             }
            },
            "type": "scatterternary"
           }
          ],
          "surface": [
           {
            "colorbar": {
             "outlinewidth": 0,
             "ticks": ""
            },
            "colorscale": [
             [
              0,
              "#0d0887"
             ],
             [
              0.1111111111111111,
              "#46039f"
             ],
             [
              0.2222222222222222,
              "#7201a8"
             ],
             [
              0.3333333333333333,
              "#9c179e"
             ],
             [
              0.4444444444444444,
              "#bd3786"
             ],
             [
              0.5555555555555556,
              "#d8576b"
             ],
             [
              0.6666666666666666,
              "#ed7953"
             ],
             [
              0.7777777777777778,
              "#fb9f3a"
             ],
             [
              0.8888888888888888,
              "#fdca26"
             ],
             [
              1,
              "#f0f921"
             ]
            ],
            "type": "surface"
           }
          ],
          "table": [
           {
            "cells": {
             "fill": {
              "color": "#EBF0F8"
             },
             "line": {
              "color": "white"
             }
            },
            "header": {
             "fill": {
              "color": "#C8D4E3"
             },
             "line": {
              "color": "white"
             }
            },
            "type": "table"
           }
          ]
         },
         "layout": {
          "annotationdefaults": {
           "arrowcolor": "#2a3f5f",
           "arrowhead": 0,
           "arrowwidth": 1
          },
          "autotypenumbers": "strict",
          "coloraxis": {
           "colorbar": {
            "outlinewidth": 0,
            "ticks": ""
           }
          },
          "colorscale": {
           "diverging": [
            [
             0,
             "#8e0152"
            ],
            [
             0.1,
             "#c51b7d"
            ],
            [
             0.2,
             "#de77ae"
            ],
            [
             0.3,
             "#f1b6da"
            ],
            [
             0.4,
             "#fde0ef"
            ],
            [
             0.5,
             "#f7f7f7"
            ],
            [
             0.6,
             "#e6f5d0"
            ],
            [
             0.7,
             "#b8e186"
            ],
            [
             0.8,
             "#7fbc41"
            ],
            [
             0.9,
             "#4d9221"
            ],
            [
             1,
             "#276419"
            ]
           ],
           "sequential": [
            [
             0,
             "#0d0887"
            ],
            [
             0.1111111111111111,
             "#46039f"
            ],
            [
             0.2222222222222222,
             "#7201a8"
            ],
            [
             0.3333333333333333,
             "#9c179e"
            ],
            [
             0.4444444444444444,
             "#bd3786"
            ],
            [
             0.5555555555555556,
             "#d8576b"
            ],
            [
             0.6666666666666666,
             "#ed7953"
            ],
            [
             0.7777777777777778,
             "#fb9f3a"
            ],
            [
             0.8888888888888888,
             "#fdca26"
            ],
            [
             1,
             "#f0f921"
            ]
           ],
           "sequentialminus": [
            [
             0,
             "#0d0887"
            ],
            [
             0.1111111111111111,
             "#46039f"
            ],
            [
             0.2222222222222222,
             "#7201a8"
            ],
            [
             0.3333333333333333,
             "#9c179e"
            ],
            [
             0.4444444444444444,
             "#bd3786"
            ],
            [
             0.5555555555555556,
             "#d8576b"
            ],
            [
             0.6666666666666666,
             "#ed7953"
            ],
            [
             0.7777777777777778,
             "#fb9f3a"
            ],
            [
             0.8888888888888888,
             "#fdca26"
            ],
            [
             1,
             "#f0f921"
            ]
           ]
          },
          "colorway": [
           "#636efa",
           "#EF553B",
           "#00cc96",
           "#ab63fa",
           "#FFA15A",
           "#19d3f3",
           "#FF6692",
           "#B6E880",
           "#FF97FF",
           "#FECB52"
          ],
          "font": {
           "color": "#2a3f5f"
          },
          "geo": {
           "bgcolor": "white",
           "lakecolor": "white",
           "landcolor": "#E5ECF6",
           "showlakes": true,
           "showland": true,
           "subunitcolor": "white"
          },
          "hoverlabel": {
           "align": "left"
          },
          "hovermode": "closest",
          "mapbox": {
           "style": "light"
          },
          "paper_bgcolor": "white",
          "plot_bgcolor": "#E5ECF6",
          "polar": {
           "angularaxis": {
            "gridcolor": "white",
            "linecolor": "white",
            "ticks": ""
           },
           "bgcolor": "#E5ECF6",
           "radialaxis": {
            "gridcolor": "white",
            "linecolor": "white",
            "ticks": ""
           }
          },
          "scene": {
           "xaxis": {
            "backgroundcolor": "#E5ECF6",
            "gridcolor": "white",
            "gridwidth": 2,
            "linecolor": "white",
            "showbackground": true,
            "ticks": "",
            "zerolinecolor": "white"
           },
           "yaxis": {
            "backgroundcolor": "#E5ECF6",
            "gridcolor": "white",
            "gridwidth": 2,
            "linecolor": "white",
            "showbackground": true,
            "ticks": "",
            "zerolinecolor": "white"
           },
           "zaxis": {
            "backgroundcolor": "#E5ECF6",
            "gridcolor": "white",
            "gridwidth": 2,
            "linecolor": "white",
            "showbackground": true,
            "ticks": "",
            "zerolinecolor": "white"
           }
          },
          "shapedefaults": {
           "line": {
            "color": "#2a3f5f"
           }
          },
          "ternary": {
           "aaxis": {
            "gridcolor": "white",
            "linecolor": "white",
            "ticks": ""
           },
           "baxis": {
            "gridcolor": "white",
            "linecolor": "white",
            "ticks": ""
           },
           "bgcolor": "#E5ECF6",
           "caxis": {
            "gridcolor": "white",
            "linecolor": "white",
            "ticks": ""
           }
          },
          "title": {
           "x": 0.05
          },
          "xaxis": {
           "automargin": true,
           "gridcolor": "white",
           "linecolor": "white",
           "ticks": "",
           "title": {
            "standoff": 15
           },
           "zerolinecolor": "white",
           "zerolinewidth": 2
          },
          "yaxis": {
           "automargin": true,
           "gridcolor": "white",
           "linecolor": "white",
           "ticks": "",
           "title": {
            "standoff": 15
           },
           "zerolinecolor": "white",
           "zerolinewidth": 2
          }
         }
        },
        "title": {
         "text": "Curva ROC"
        },
        "width": 800,
        "xaxis": {
         "anchor": "y",
         "domain": [
          0,
          1
         ],
         "title": {
          "text": "Tasa de falsos positivos"
         }
        },
        "yaxis": {
         "anchor": "x",
         "domain": [
          0,
          1
         ],
         "title": {
          "text": "Tasa de verdaderos positivos"
         }
        }
       }
      }
     },
     "metadata": {},
     "output_type": "display_data"
    }
   ],
   "source": [
    "model_logistreg = LogisticRegression(class_weight=\"balanced\")\n",
    "model_logistreg.fit(X_train, y_train)\n",
    "predictions = model_logistreg.predict(X_test)\n",
    "\n",
    "\n",
    "find_scores(X_test, y_test, predictions, model_logistreg)"
   ]
  },
  {
   "cell_type": "markdown",
   "metadata": {},
   "source": [
    "#### RANDOM FOREST CLASSIFIER"
   ]
  },
  {
   "cell_type": "code",
   "execution_count": 289,
   "metadata": {},
   "outputs": [
    {
     "name": "stdout",
     "output_type": "stream",
     "text": [
      "              precision    recall  f1-score   support\n",
      "\n",
      "           0       0.87      0.94      0.90       844\n",
      "           1       0.76      0.57      0.65       283\n",
      "\n",
      "    accuracy                           0.85      1127\n",
      "   macro avg       0.81      0.75      0.78      1127\n",
      "weighted avg       0.84      0.85      0.84      1127\n",
      "\n",
      "Área bajo la curva ROC: 0.7542390266776078\n"
     ]
    },
    {
     "data": {
      "application/vnd.plotly.v1+json": {
       "config": {
        "plotlyServerURL": "https://plot.ly"
       },
       "data": [
        {
         "hovertemplate": "Tasa de falsos positivos=%{x}<br>Tasa de verdaderos positivos=%{y}<extra></extra>",
         "legendgroup": "",
         "line": {
          "color": "#636efa",
          "dash": "solid"
         },
         "marker": {
          "symbol": "circle"
         },
         "mode": "lines",
         "name": "",
         "orientation": "v",
         "showlegend": false,
         "type": "scatter",
         "x": [
          0,
          0,
          0,
          0,
          0,
          0,
          0,
          0.001184834123222749,
          0.001184834123222749,
          0.001184834123222749,
          0.001184834123222749,
          0.0035545023696682463,
          0.0035545023696682463,
          0.0035545023696682463,
          0.0035545023696682463,
          0.004739336492890996,
          0.005924170616113744,
          0.005924170616113744,
          0.0071090047393364926,
          0.0071090047393364926,
          0.008293838862559242,
          0.01066350710900474,
          0.01066350710900474,
          0.01066350710900474,
          0.013033175355450236,
          0.013033175355450236,
          0.013033175355450236,
          0.014218009478672985,
          0.016587677725118485,
          0.018957345971563982,
          0.02132701421800948,
          0.023696682464454975,
          0.024881516587677725,
          0.027251184834123223,
          0.02843601895734597,
          0.03317535545023697,
          0.03672985781990521,
          0.04028436018957346,
          0.04028436018957346,
          0.04265402843601896,
          0.045023696682464455,
          0.0485781990521327,
          0.052132701421800945,
          0.06042654028436019,
          0.061611374407582936,
          0.06398104265402843,
          0.06516587677725119,
          0.06753554502369669,
          0.07109004739336493,
          0.07819905213270142,
          0.08293838862559241,
          0.09360189573459715,
          0.10308056872037914,
          0.11137440758293839,
          0.11255924170616113,
          0.12677725118483413,
          0.13507109004739337,
          0.14336492890995262,
          0.15758293838862558,
          0.1623222748815166,
          0.17061611374407584,
          0.18009478672985782,
          0.18601895734597157,
          0.19312796208530805,
          0.2037914691943128,
          0.2156398104265403,
          0.22630331753554503,
          0.23933649289099526,
          0.25118483412322273,
          0.26421800947867297,
          0.273696682464455,
          0.28554502369668244,
          0.29976303317535546,
          0.31990521327014215,
          0.3353080568720379,
          0.3542654028436019,
          0.37796208530805686,
          0.3909952606635071,
          0.4052132701421801,
          0.4265402843601896,
          0.4443127962085308,
          0.4656398104265403,
          0.4834123222748815,
          0.5118483412322274,
          0.533175355450237,
          0.5556872037914692,
          0.5864928909952607,
          0.6113744075829384,
          0.6386255924170616,
          0.6741706161137441,
          0.7085308056872038,
          0.745260663507109,
          0.7879146919431279,
          0.8672985781990521,
          1
         ],
         "xaxis": "x",
         "y": [
          0,
          0.007067137809187279,
          0.02120141342756184,
          0.04240282685512368,
          0.04946996466431095,
          0.07773851590106007,
          0.08480565371024736,
          0.09540636042402827,
          0.10600706713780919,
          0.11307420494699646,
          0.1413427561837456,
          0.15547703180212014,
          0.1625441696113074,
          0.1872791519434629,
          0.19434628975265017,
          0.21201413427561838,
          0.2226148409893993,
          0.24381625441696114,
          0.2579505300353357,
          0.2791519434628975,
          0.29328621908127206,
          0.303886925795053,
          0.31095406360424027,
          0.31448763250883394,
          0.3286219081272085,
          0.3392226148409894,
          0.36042402826855124,
          0.38515901060070673,
          0.3992932862190813,
          0.4204946996466431,
          0.43109540636042404,
          0.43462897526501765,
          0.4416961130742049,
          0.4558303886925795,
          0.4628975265017668,
          0.46996466431095407,
          0.48056537102473496,
          0.49469964664310956,
          0.5053003533568905,
          0.5229681978798587,
          0.5441696113074205,
          0.558303886925795,
          0.5653710247349824,
          0.568904593639576,
          0.5724381625441696,
          0.5759717314487632,
          0.5865724381625441,
          0.5901060070671378,
          0.6113074204946997,
          0.6360424028268551,
          0.6360424028268551,
          0.6431095406360424,
          0.6537102473498233,
          0.6713780918727915,
          0.6819787985865724,
          0.696113074204947,
          0.7137809187279152,
          0.7243816254416962,
          0.7279151943462897,
          0.7455830388692579,
          0.7597173144876325,
          0.7915194346289752,
          0.8091872791519434,
          0.833922261484099,
          0.8445229681978799,
          0.8551236749116607,
          0.8586572438162544,
          0.8798586572438163,
          0.8869257950530035,
          0.8975265017667845,
          0.9045936395759717,
          0.9081272084805654,
          0.9222614840989399,
          0.9257950530035336,
          0.9363957597173145,
          0.9434628975265018,
          0.950530035335689,
          0.950530035335689,
          0.9540636042402827,
          0.9646643109540636,
          0.9681978798586572,
          0.9752650176678446,
          0.9823321554770318,
          0.9858657243816255,
          0.9858657243816255,
          0.9858657243816255,
          0.9858657243816255,
          0.9858657243816255,
          0.9893992932862191,
          0.9893992932862191,
          0.9893992932862191,
          0.9893992932862191,
          0.9893992932862191,
          0.9964664310954063,
          1
         ],
         "yaxis": "y"
        }
       ],
       "layout": {
        "height": 450,
        "legend": {
         "tracegroupgap": 0
        },
        "shapes": [
         {
          "line": {
           "dash": "dash"
          },
          "type": "line",
          "x0": 0,
          "x1": 1,
          "y0": 0,
          "y1": 1
         }
        ],
        "template": {
         "data": {
          "bar": [
           {
            "error_x": {
             "color": "#2a3f5f"
            },
            "error_y": {
             "color": "#2a3f5f"
            },
            "marker": {
             "line": {
              "color": "#E5ECF6",
              "width": 0.5
             },
             "pattern": {
              "fillmode": "overlay",
              "size": 10,
              "solidity": 0.2
             }
            },
            "type": "bar"
           }
          ],
          "barpolar": [
           {
            "marker": {
             "line": {
              "color": "#E5ECF6",
              "width": 0.5
             },
             "pattern": {
              "fillmode": "overlay",
              "size": 10,
              "solidity": 0.2
             }
            },
            "type": "barpolar"
           }
          ],
          "carpet": [
           {
            "aaxis": {
             "endlinecolor": "#2a3f5f",
             "gridcolor": "white",
             "linecolor": "white",
             "minorgridcolor": "white",
             "startlinecolor": "#2a3f5f"
            },
            "baxis": {
             "endlinecolor": "#2a3f5f",
             "gridcolor": "white",
             "linecolor": "white",
             "minorgridcolor": "white",
             "startlinecolor": "#2a3f5f"
            },
            "type": "carpet"
           }
          ],
          "choropleth": [
           {
            "colorbar": {
             "outlinewidth": 0,
             "ticks": ""
            },
            "type": "choropleth"
           }
          ],
          "contour": [
           {
            "colorbar": {
             "outlinewidth": 0,
             "ticks": ""
            },
            "colorscale": [
             [
              0,
              "#0d0887"
             ],
             [
              0.1111111111111111,
              "#46039f"
             ],
             [
              0.2222222222222222,
              "#7201a8"
             ],
             [
              0.3333333333333333,
              "#9c179e"
             ],
             [
              0.4444444444444444,
              "#bd3786"
             ],
             [
              0.5555555555555556,
              "#d8576b"
             ],
             [
              0.6666666666666666,
              "#ed7953"
             ],
             [
              0.7777777777777778,
              "#fb9f3a"
             ],
             [
              0.8888888888888888,
              "#fdca26"
             ],
             [
              1,
              "#f0f921"
             ]
            ],
            "type": "contour"
           }
          ],
          "contourcarpet": [
           {
            "colorbar": {
             "outlinewidth": 0,
             "ticks": ""
            },
            "type": "contourcarpet"
           }
          ],
          "heatmap": [
           {
            "colorbar": {
             "outlinewidth": 0,
             "ticks": ""
            },
            "colorscale": [
             [
              0,
              "#0d0887"
             ],
             [
              0.1111111111111111,
              "#46039f"
             ],
             [
              0.2222222222222222,
              "#7201a8"
             ],
             [
              0.3333333333333333,
              "#9c179e"
             ],
             [
              0.4444444444444444,
              "#bd3786"
             ],
             [
              0.5555555555555556,
              "#d8576b"
             ],
             [
              0.6666666666666666,
              "#ed7953"
             ],
             [
              0.7777777777777778,
              "#fb9f3a"
             ],
             [
              0.8888888888888888,
              "#fdca26"
             ],
             [
              1,
              "#f0f921"
             ]
            ],
            "type": "heatmap"
           }
          ],
          "heatmapgl": [
           {
            "colorbar": {
             "outlinewidth": 0,
             "ticks": ""
            },
            "colorscale": [
             [
              0,
              "#0d0887"
             ],
             [
              0.1111111111111111,
              "#46039f"
             ],
             [
              0.2222222222222222,
              "#7201a8"
             ],
             [
              0.3333333333333333,
              "#9c179e"
             ],
             [
              0.4444444444444444,
              "#bd3786"
             ],
             [
              0.5555555555555556,
              "#d8576b"
             ],
             [
              0.6666666666666666,
              "#ed7953"
             ],
             [
              0.7777777777777778,
              "#fb9f3a"
             ],
             [
              0.8888888888888888,
              "#fdca26"
             ],
             [
              1,
              "#f0f921"
             ]
            ],
            "type": "heatmapgl"
           }
          ],
          "histogram": [
           {
            "marker": {
             "pattern": {
              "fillmode": "overlay",
              "size": 10,
              "solidity": 0.2
             }
            },
            "type": "histogram"
           }
          ],
          "histogram2d": [
           {
            "colorbar": {
             "outlinewidth": 0,
             "ticks": ""
            },
            "colorscale": [
             [
              0,
              "#0d0887"
             ],
             [
              0.1111111111111111,
              "#46039f"
             ],
             [
              0.2222222222222222,
              "#7201a8"
             ],
             [
              0.3333333333333333,
              "#9c179e"
             ],
             [
              0.4444444444444444,
              "#bd3786"
             ],
             [
              0.5555555555555556,
              "#d8576b"
             ],
             [
              0.6666666666666666,
              "#ed7953"
             ],
             [
              0.7777777777777778,
              "#fb9f3a"
             ],
             [
              0.8888888888888888,
              "#fdca26"
             ],
             [
              1,
              "#f0f921"
             ]
            ],
            "type": "histogram2d"
           }
          ],
          "histogram2dcontour": [
           {
            "colorbar": {
             "outlinewidth": 0,
             "ticks": ""
            },
            "colorscale": [
             [
              0,
              "#0d0887"
             ],
             [
              0.1111111111111111,
              "#46039f"
             ],
             [
              0.2222222222222222,
              "#7201a8"
             ],
             [
              0.3333333333333333,
              "#9c179e"
             ],
             [
              0.4444444444444444,
              "#bd3786"
             ],
             [
              0.5555555555555556,
              "#d8576b"
             ],
             [
              0.6666666666666666,
              "#ed7953"
             ],
             [
              0.7777777777777778,
              "#fb9f3a"
             ],
             [
              0.8888888888888888,
              "#fdca26"
             ],
             [
              1,
              "#f0f921"
             ]
            ],
            "type": "histogram2dcontour"
           }
          ],
          "mesh3d": [
           {
            "colorbar": {
             "outlinewidth": 0,
             "ticks": ""
            },
            "type": "mesh3d"
           }
          ],
          "parcoords": [
           {
            "line": {
             "colorbar": {
              "outlinewidth": 0,
              "ticks": ""
             }
            },
            "type": "parcoords"
           }
          ],
          "pie": [
           {
            "automargin": true,
            "type": "pie"
           }
          ],
          "scatter": [
           {
            "fillpattern": {
             "fillmode": "overlay",
             "size": 10,
             "solidity": 0.2
            },
            "type": "scatter"
           }
          ],
          "scatter3d": [
           {
            "line": {
             "colorbar": {
              "outlinewidth": 0,
              "ticks": ""
             }
            },
            "marker": {
             "colorbar": {
              "outlinewidth": 0,
              "ticks": ""
             }
            },
            "type": "scatter3d"
           }
          ],
          "scattercarpet": [
           {
            "marker": {
             "colorbar": {
              "outlinewidth": 0,
              "ticks": ""
             }
            },
            "type": "scattercarpet"
           }
          ],
          "scattergeo": [
           {
            "marker": {
             "colorbar": {
              "outlinewidth": 0,
              "ticks": ""
             }
            },
            "type": "scattergeo"
           }
          ],
          "scattergl": [
           {
            "marker": {
             "colorbar": {
              "outlinewidth": 0,
              "ticks": ""
             }
            },
            "type": "scattergl"
           }
          ],
          "scattermapbox": [
           {
            "marker": {
             "colorbar": {
              "outlinewidth": 0,
              "ticks": ""
             }
            },
            "type": "scattermapbox"
           }
          ],
          "scatterpolar": [
           {
            "marker": {
             "colorbar": {
              "outlinewidth": 0,
              "ticks": ""
             }
            },
            "type": "scatterpolar"
           }
          ],
          "scatterpolargl": [
           {
            "marker": {
             "colorbar": {
              "outlinewidth": 0,
              "ticks": ""
             }
            },
            "type": "scatterpolargl"
           }
          ],
          "scatterternary": [
           {
            "marker": {
             "colorbar": {
              "outlinewidth": 0,
              "ticks": ""
             }
            },
            "type": "scatterternary"
           }
          ],
          "surface": [
           {
            "colorbar": {
             "outlinewidth": 0,
             "ticks": ""
            },
            "colorscale": [
             [
              0,
              "#0d0887"
             ],
             [
              0.1111111111111111,
              "#46039f"
             ],
             [
              0.2222222222222222,
              "#7201a8"
             ],
             [
              0.3333333333333333,
              "#9c179e"
             ],
             [
              0.4444444444444444,
              "#bd3786"
             ],
             [
              0.5555555555555556,
              "#d8576b"
             ],
             [
              0.6666666666666666,
              "#ed7953"
             ],
             [
              0.7777777777777778,
              "#fb9f3a"
             ],
             [
              0.8888888888888888,
              "#fdca26"
             ],
             [
              1,
              "#f0f921"
             ]
            ],
            "type": "surface"
           }
          ],
          "table": [
           {
            "cells": {
             "fill": {
              "color": "#EBF0F8"
             },
             "line": {
              "color": "white"
             }
            },
            "header": {
             "fill": {
              "color": "#C8D4E3"
             },
             "line": {
              "color": "white"
             }
            },
            "type": "table"
           }
          ]
         },
         "layout": {
          "annotationdefaults": {
           "arrowcolor": "#2a3f5f",
           "arrowhead": 0,
           "arrowwidth": 1
          },
          "autotypenumbers": "strict",
          "coloraxis": {
           "colorbar": {
            "outlinewidth": 0,
            "ticks": ""
           }
          },
          "colorscale": {
           "diverging": [
            [
             0,
             "#8e0152"
            ],
            [
             0.1,
             "#c51b7d"
            ],
            [
             0.2,
             "#de77ae"
            ],
            [
             0.3,
             "#f1b6da"
            ],
            [
             0.4,
             "#fde0ef"
            ],
            [
             0.5,
             "#f7f7f7"
            ],
            [
             0.6,
             "#e6f5d0"
            ],
            [
             0.7,
             "#b8e186"
            ],
            [
             0.8,
             "#7fbc41"
            ],
            [
             0.9,
             "#4d9221"
            ],
            [
             1,
             "#276419"
            ]
           ],
           "sequential": [
            [
             0,
             "#0d0887"
            ],
            [
             0.1111111111111111,
             "#46039f"
            ],
            [
             0.2222222222222222,
             "#7201a8"
            ],
            [
             0.3333333333333333,
             "#9c179e"
            ],
            [
             0.4444444444444444,
             "#bd3786"
            ],
            [
             0.5555555555555556,
             "#d8576b"
            ],
            [
             0.6666666666666666,
             "#ed7953"
            ],
            [
             0.7777777777777778,
             "#fb9f3a"
            ],
            [
             0.8888888888888888,
             "#fdca26"
            ],
            [
             1,
             "#f0f921"
            ]
           ],
           "sequentialminus": [
            [
             0,
             "#0d0887"
            ],
            [
             0.1111111111111111,
             "#46039f"
            ],
            [
             0.2222222222222222,
             "#7201a8"
            ],
            [
             0.3333333333333333,
             "#9c179e"
            ],
            [
             0.4444444444444444,
             "#bd3786"
            ],
            [
             0.5555555555555556,
             "#d8576b"
            ],
            [
             0.6666666666666666,
             "#ed7953"
            ],
            [
             0.7777777777777778,
             "#fb9f3a"
            ],
            [
             0.8888888888888888,
             "#fdca26"
            ],
            [
             1,
             "#f0f921"
            ]
           ]
          },
          "colorway": [
           "#636efa",
           "#EF553B",
           "#00cc96",
           "#ab63fa",
           "#FFA15A",
           "#19d3f3",
           "#FF6692",
           "#B6E880",
           "#FF97FF",
           "#FECB52"
          ],
          "font": {
           "color": "#2a3f5f"
          },
          "geo": {
           "bgcolor": "white",
           "lakecolor": "white",
           "landcolor": "#E5ECF6",
           "showlakes": true,
           "showland": true,
           "subunitcolor": "white"
          },
          "hoverlabel": {
           "align": "left"
          },
          "hovermode": "closest",
          "mapbox": {
           "style": "light"
          },
          "paper_bgcolor": "white",
          "plot_bgcolor": "#E5ECF6",
          "polar": {
           "angularaxis": {
            "gridcolor": "white",
            "linecolor": "white",
            "ticks": ""
           },
           "bgcolor": "#E5ECF6",
           "radialaxis": {
            "gridcolor": "white",
            "linecolor": "white",
            "ticks": ""
           }
          },
          "scene": {
           "xaxis": {
            "backgroundcolor": "#E5ECF6",
            "gridcolor": "white",
            "gridwidth": 2,
            "linecolor": "white",
            "showbackground": true,
            "ticks": "",
            "zerolinecolor": "white"
           },
           "yaxis": {
            "backgroundcolor": "#E5ECF6",
            "gridcolor": "white",
            "gridwidth": 2,
            "linecolor": "white",
            "showbackground": true,
            "ticks": "",
            "zerolinecolor": "white"
           },
           "zaxis": {
            "backgroundcolor": "#E5ECF6",
            "gridcolor": "white",
            "gridwidth": 2,
            "linecolor": "white",
            "showbackground": true,
            "ticks": "",
            "zerolinecolor": "white"
           }
          },
          "shapedefaults": {
           "line": {
            "color": "#2a3f5f"
           }
          },
          "ternary": {
           "aaxis": {
            "gridcolor": "white",
            "linecolor": "white",
            "ticks": ""
           },
           "baxis": {
            "gridcolor": "white",
            "linecolor": "white",
            "ticks": ""
           },
           "bgcolor": "#E5ECF6",
           "caxis": {
            "gridcolor": "white",
            "linecolor": "white",
            "ticks": ""
           }
          },
          "title": {
           "x": 0.05
          },
          "xaxis": {
           "automargin": true,
           "gridcolor": "white",
           "linecolor": "white",
           "ticks": "",
           "title": {
            "standoff": 15
           },
           "zerolinecolor": "white",
           "zerolinewidth": 2
          },
          "yaxis": {
           "automargin": true,
           "gridcolor": "white",
           "linecolor": "white",
           "ticks": "",
           "title": {
            "standoff": 15
           },
           "zerolinecolor": "white",
           "zerolinewidth": 2
          }
         }
        },
        "title": {
         "text": "Curva ROC"
        },
        "width": 800,
        "xaxis": {
         "anchor": "y",
         "domain": [
          0,
          1
         ],
         "title": {
          "text": "Tasa de falsos positivos"
         }
        },
        "yaxis": {
         "anchor": "x",
         "domain": [
          0,
          1
         ],
         "title": {
          "text": "Tasa de verdaderos positivos"
         }
        }
       }
      }
     },
     "metadata": {},
     "output_type": "display_data"
    }
   ],
   "source": [
    "model_rf = RandomForestClassifier(class_weight=\"balanced\")\n",
    "model_rf.fit(X_train,y_train)\n",
    "predictions = model_rf.predict(X_test)\n",
    "\n",
    "\n",
    "find_scores(X_test,y_test, predictions, model_rf)"
   ]
  },
  {
   "cell_type": "markdown",
   "metadata": {},
   "source": [
    "#### KNN CLASSIFIER"
   ]
  },
  {
   "cell_type": "code",
   "execution_count": 290,
   "metadata": {},
   "outputs": [
    {
     "name": "stdout",
     "output_type": "stream",
     "text": [
      "              precision    recall  f1-score   support\n",
      "\n",
      "           0       0.86      0.86      0.86       844\n",
      "           1       0.58      0.59      0.59       283\n",
      "\n",
      "    accuracy                           0.79      1127\n",
      "   macro avg       0.72      0.72      0.72      1127\n",
      "weighted avg       0.79      0.79      0.79      1127\n",
      "\n",
      "Área bajo la curva ROC: 0.7245553732018154\n"
     ]
    },
    {
     "data": {
      "application/vnd.plotly.v1+json": {
       "config": {
        "plotlyServerURL": "https://plot.ly"
       },
       "data": [
        {
         "hovertemplate": "Tasa de falsos positivos=%{x}<br>Tasa de verdaderos positivos=%{y}<extra></extra>",
         "legendgroup": "",
         "line": {
          "color": "#636efa",
          "dash": "solid"
         },
         "marker": {
          "symbol": "circle"
         },
         "mode": "lines",
         "name": "",
         "orientation": "v",
         "showlegend": false,
         "type": "scatter",
         "x": [
          0,
          0.015402843601895734,
          0.058056872037914695,
          0.14099526066350712,
          0.29265402843601895,
          0.495260663507109,
          1
         ],
         "xaxis": "x",
         "y": [
          0,
          0.10954063604240283,
          0.3710247349823322,
          0.5901060070671378,
          0.8197879858657244,
          0.9434628975265018,
          1
         ],
         "yaxis": "y"
        }
       ],
       "layout": {
        "height": 450,
        "legend": {
         "tracegroupgap": 0
        },
        "shapes": [
         {
          "line": {
           "dash": "dash"
          },
          "type": "line",
          "x0": 0,
          "x1": 1,
          "y0": 0,
          "y1": 1
         }
        ],
        "template": {
         "data": {
          "bar": [
           {
            "error_x": {
             "color": "#2a3f5f"
            },
            "error_y": {
             "color": "#2a3f5f"
            },
            "marker": {
             "line": {
              "color": "#E5ECF6",
              "width": 0.5
             },
             "pattern": {
              "fillmode": "overlay",
              "size": 10,
              "solidity": 0.2
             }
            },
            "type": "bar"
           }
          ],
          "barpolar": [
           {
            "marker": {
             "line": {
              "color": "#E5ECF6",
              "width": 0.5
             },
             "pattern": {
              "fillmode": "overlay",
              "size": 10,
              "solidity": 0.2
             }
            },
            "type": "barpolar"
           }
          ],
          "carpet": [
           {
            "aaxis": {
             "endlinecolor": "#2a3f5f",
             "gridcolor": "white",
             "linecolor": "white",
             "minorgridcolor": "white",
             "startlinecolor": "#2a3f5f"
            },
            "baxis": {
             "endlinecolor": "#2a3f5f",
             "gridcolor": "white",
             "linecolor": "white",
             "minorgridcolor": "white",
             "startlinecolor": "#2a3f5f"
            },
            "type": "carpet"
           }
          ],
          "choropleth": [
           {
            "colorbar": {
             "outlinewidth": 0,
             "ticks": ""
            },
            "type": "choropleth"
           }
          ],
          "contour": [
           {
            "colorbar": {
             "outlinewidth": 0,
             "ticks": ""
            },
            "colorscale": [
             [
              0,
              "#0d0887"
             ],
             [
              0.1111111111111111,
              "#46039f"
             ],
             [
              0.2222222222222222,
              "#7201a8"
             ],
             [
              0.3333333333333333,
              "#9c179e"
             ],
             [
              0.4444444444444444,
              "#bd3786"
             ],
             [
              0.5555555555555556,
              "#d8576b"
             ],
             [
              0.6666666666666666,
              "#ed7953"
             ],
             [
              0.7777777777777778,
              "#fb9f3a"
             ],
             [
              0.8888888888888888,
              "#fdca26"
             ],
             [
              1,
              "#f0f921"
             ]
            ],
            "type": "contour"
           }
          ],
          "contourcarpet": [
           {
            "colorbar": {
             "outlinewidth": 0,
             "ticks": ""
            },
            "type": "contourcarpet"
           }
          ],
          "heatmap": [
           {
            "colorbar": {
             "outlinewidth": 0,
             "ticks": ""
            },
            "colorscale": [
             [
              0,
              "#0d0887"
             ],
             [
              0.1111111111111111,
              "#46039f"
             ],
             [
              0.2222222222222222,
              "#7201a8"
             ],
             [
              0.3333333333333333,
              "#9c179e"
             ],
             [
              0.4444444444444444,
              "#bd3786"
             ],
             [
              0.5555555555555556,
              "#d8576b"
             ],
             [
              0.6666666666666666,
              "#ed7953"
             ],
             [
              0.7777777777777778,
              "#fb9f3a"
             ],
             [
              0.8888888888888888,
              "#fdca26"
             ],
             [
              1,
              "#f0f921"
             ]
            ],
            "type": "heatmap"
           }
          ],
          "heatmapgl": [
           {
            "colorbar": {
             "outlinewidth": 0,
             "ticks": ""
            },
            "colorscale": [
             [
              0,
              "#0d0887"
             ],
             [
              0.1111111111111111,
              "#46039f"
             ],
             [
              0.2222222222222222,
              "#7201a8"
             ],
             [
              0.3333333333333333,
              "#9c179e"
             ],
             [
              0.4444444444444444,
              "#bd3786"
             ],
             [
              0.5555555555555556,
              "#d8576b"
             ],
             [
              0.6666666666666666,
              "#ed7953"
             ],
             [
              0.7777777777777778,
              "#fb9f3a"
             ],
             [
              0.8888888888888888,
              "#fdca26"
             ],
             [
              1,
              "#f0f921"
             ]
            ],
            "type": "heatmapgl"
           }
          ],
          "histogram": [
           {
            "marker": {
             "pattern": {
              "fillmode": "overlay",
              "size": 10,
              "solidity": 0.2
             }
            },
            "type": "histogram"
           }
          ],
          "histogram2d": [
           {
            "colorbar": {
             "outlinewidth": 0,
             "ticks": ""
            },
            "colorscale": [
             [
              0,
              "#0d0887"
             ],
             [
              0.1111111111111111,
              "#46039f"
             ],
             [
              0.2222222222222222,
              "#7201a8"
             ],
             [
              0.3333333333333333,
              "#9c179e"
             ],
             [
              0.4444444444444444,
              "#bd3786"
             ],
             [
              0.5555555555555556,
              "#d8576b"
             ],
             [
              0.6666666666666666,
              "#ed7953"
             ],
             [
              0.7777777777777778,
              "#fb9f3a"
             ],
             [
              0.8888888888888888,
              "#fdca26"
             ],
             [
              1,
              "#f0f921"
             ]
            ],
            "type": "histogram2d"
           }
          ],
          "histogram2dcontour": [
           {
            "colorbar": {
             "outlinewidth": 0,
             "ticks": ""
            },
            "colorscale": [
             [
              0,
              "#0d0887"
             ],
             [
              0.1111111111111111,
              "#46039f"
             ],
             [
              0.2222222222222222,
              "#7201a8"
             ],
             [
              0.3333333333333333,
              "#9c179e"
             ],
             [
              0.4444444444444444,
              "#bd3786"
             ],
             [
              0.5555555555555556,
              "#d8576b"
             ],
             [
              0.6666666666666666,
              "#ed7953"
             ],
             [
              0.7777777777777778,
              "#fb9f3a"
             ],
             [
              0.8888888888888888,
              "#fdca26"
             ],
             [
              1,
              "#f0f921"
             ]
            ],
            "type": "histogram2dcontour"
           }
          ],
          "mesh3d": [
           {
            "colorbar": {
             "outlinewidth": 0,
             "ticks": ""
            },
            "type": "mesh3d"
           }
          ],
          "parcoords": [
           {
            "line": {
             "colorbar": {
              "outlinewidth": 0,
              "ticks": ""
             }
            },
            "type": "parcoords"
           }
          ],
          "pie": [
           {
            "automargin": true,
            "type": "pie"
           }
          ],
          "scatter": [
           {
            "fillpattern": {
             "fillmode": "overlay",
             "size": 10,
             "solidity": 0.2
            },
            "type": "scatter"
           }
          ],
          "scatter3d": [
           {
            "line": {
             "colorbar": {
              "outlinewidth": 0,
              "ticks": ""
             }
            },
            "marker": {
             "colorbar": {
              "outlinewidth": 0,
              "ticks": ""
             }
            },
            "type": "scatter3d"
           }
          ],
          "scattercarpet": [
           {
            "marker": {
             "colorbar": {
              "outlinewidth": 0,
              "ticks": ""
             }
            },
            "type": "scattercarpet"
           }
          ],
          "scattergeo": [
           {
            "marker": {
             "colorbar": {
              "outlinewidth": 0,
              "ticks": ""
             }
            },
            "type": "scattergeo"
           }
          ],
          "scattergl": [
           {
            "marker": {
             "colorbar": {
              "outlinewidth": 0,
              "ticks": ""
             }
            },
            "type": "scattergl"
           }
          ],
          "scattermapbox": [
           {
            "marker": {
             "colorbar": {
              "outlinewidth": 0,
              "ticks": ""
             }
            },
            "type": "scattermapbox"
           }
          ],
          "scatterpolar": [
           {
            "marker": {
             "colorbar": {
              "outlinewidth": 0,
              "ticks": ""
             }
            },
            "type": "scatterpolar"
           }
          ],
          "scatterpolargl": [
           {
            "marker": {
             "colorbar": {
              "outlinewidth": 0,
              "ticks": ""
             }
            },
            "type": "scatterpolargl"
           }
          ],
          "scatterternary": [
           {
            "marker": {
             "colorbar": {
              "outlinewidth": 0,
              "ticks": ""
             }
            },
            "type": "scatterternary"
           }
          ],
          "surface": [
           {
            "colorbar": {
             "outlinewidth": 0,
             "ticks": ""
            },
            "colorscale": [
             [
              0,
              "#0d0887"
             ],
             [
              0.1111111111111111,
              "#46039f"
             ],
             [
              0.2222222222222222,
              "#7201a8"
             ],
             [
              0.3333333333333333,
              "#9c179e"
             ],
             [
              0.4444444444444444,
              "#bd3786"
             ],
             [
              0.5555555555555556,
              "#d8576b"
             ],
             [
              0.6666666666666666,
              "#ed7953"
             ],
             [
              0.7777777777777778,
              "#fb9f3a"
             ],
             [
              0.8888888888888888,
              "#fdca26"
             ],
             [
              1,
              "#f0f921"
             ]
            ],
            "type": "surface"
           }
          ],
          "table": [
           {
            "cells": {
             "fill": {
              "color": "#EBF0F8"
             },
             "line": {
              "color": "white"
             }
            },
            "header": {
             "fill": {
              "color": "#C8D4E3"
             },
             "line": {
              "color": "white"
             }
            },
            "type": "table"
           }
          ]
         },
         "layout": {
          "annotationdefaults": {
           "arrowcolor": "#2a3f5f",
           "arrowhead": 0,
           "arrowwidth": 1
          },
          "autotypenumbers": "strict",
          "coloraxis": {
           "colorbar": {
            "outlinewidth": 0,
            "ticks": ""
           }
          },
          "colorscale": {
           "diverging": [
            [
             0,
             "#8e0152"
            ],
            [
             0.1,
             "#c51b7d"
            ],
            [
             0.2,
             "#de77ae"
            ],
            [
             0.3,
             "#f1b6da"
            ],
            [
             0.4,
             "#fde0ef"
            ],
            [
             0.5,
             "#f7f7f7"
            ],
            [
             0.6,
             "#e6f5d0"
            ],
            [
             0.7,
             "#b8e186"
            ],
            [
             0.8,
             "#7fbc41"
            ],
            [
             0.9,
             "#4d9221"
            ],
            [
             1,
             "#276419"
            ]
           ],
           "sequential": [
            [
             0,
             "#0d0887"
            ],
            [
             0.1111111111111111,
             "#46039f"
            ],
            [
             0.2222222222222222,
             "#7201a8"
            ],
            [
             0.3333333333333333,
             "#9c179e"
            ],
            [
             0.4444444444444444,
             "#bd3786"
            ],
            [
             0.5555555555555556,
             "#d8576b"
            ],
            [
             0.6666666666666666,
             "#ed7953"
            ],
            [
             0.7777777777777778,
             "#fb9f3a"
            ],
            [
             0.8888888888888888,
             "#fdca26"
            ],
            [
             1,
             "#f0f921"
            ]
           ],
           "sequentialminus": [
            [
             0,
             "#0d0887"
            ],
            [
             0.1111111111111111,
             "#46039f"
            ],
            [
             0.2222222222222222,
             "#7201a8"
            ],
            [
             0.3333333333333333,
             "#9c179e"
            ],
            [
             0.4444444444444444,
             "#bd3786"
            ],
            [
             0.5555555555555556,
             "#d8576b"
            ],
            [
             0.6666666666666666,
             "#ed7953"
            ],
            [
             0.7777777777777778,
             "#fb9f3a"
            ],
            [
             0.8888888888888888,
             "#fdca26"
            ],
            [
             1,
             "#f0f921"
            ]
           ]
          },
          "colorway": [
           "#636efa",
           "#EF553B",
           "#00cc96",
           "#ab63fa",
           "#FFA15A",
           "#19d3f3",
           "#FF6692",
           "#B6E880",
           "#FF97FF",
           "#FECB52"
          ],
          "font": {
           "color": "#2a3f5f"
          },
          "geo": {
           "bgcolor": "white",
           "lakecolor": "white",
           "landcolor": "#E5ECF6",
           "showlakes": true,
           "showland": true,
           "subunitcolor": "white"
          },
          "hoverlabel": {
           "align": "left"
          },
          "hovermode": "closest",
          "mapbox": {
           "style": "light"
          },
          "paper_bgcolor": "white",
          "plot_bgcolor": "#E5ECF6",
          "polar": {
           "angularaxis": {
            "gridcolor": "white",
            "linecolor": "white",
            "ticks": ""
           },
           "bgcolor": "#E5ECF6",
           "radialaxis": {
            "gridcolor": "white",
            "linecolor": "white",
            "ticks": ""
           }
          },
          "scene": {
           "xaxis": {
            "backgroundcolor": "#E5ECF6",
            "gridcolor": "white",
            "gridwidth": 2,
            "linecolor": "white",
            "showbackground": true,
            "ticks": "",
            "zerolinecolor": "white"
           },
           "yaxis": {
            "backgroundcolor": "#E5ECF6",
            "gridcolor": "white",
            "gridwidth": 2,
            "linecolor": "white",
            "showbackground": true,
            "ticks": "",
            "zerolinecolor": "white"
           },
           "zaxis": {
            "backgroundcolor": "#E5ECF6",
            "gridcolor": "white",
            "gridwidth": 2,
            "linecolor": "white",
            "showbackground": true,
            "ticks": "",
            "zerolinecolor": "white"
           }
          },
          "shapedefaults": {
           "line": {
            "color": "#2a3f5f"
           }
          },
          "ternary": {
           "aaxis": {
            "gridcolor": "white",
            "linecolor": "white",
            "ticks": ""
           },
           "baxis": {
            "gridcolor": "white",
            "linecolor": "white",
            "ticks": ""
           },
           "bgcolor": "#E5ECF6",
           "caxis": {
            "gridcolor": "white",
            "linecolor": "white",
            "ticks": ""
           }
          },
          "title": {
           "x": 0.05
          },
          "xaxis": {
           "automargin": true,
           "gridcolor": "white",
           "linecolor": "white",
           "ticks": "",
           "title": {
            "standoff": 15
           },
           "zerolinecolor": "white",
           "zerolinewidth": 2
          },
          "yaxis": {
           "automargin": true,
           "gridcolor": "white",
           "linecolor": "white",
           "ticks": "",
           "title": {
            "standoff": 15
           },
           "zerolinecolor": "white",
           "zerolinewidth": 2
          }
         }
        },
        "title": {
         "text": "Curva ROC"
        },
        "width": 800,
        "xaxis": {
         "anchor": "y",
         "domain": [
          0,
          1
         ],
         "title": {
          "text": "Tasa de falsos positivos"
         }
        },
        "yaxis": {
         "anchor": "x",
         "domain": [
          0,
          1
         ],
         "title": {
          "text": "Tasa de verdaderos positivos"
         }
        }
       }
      }
     },
     "metadata": {},
     "output_type": "display_data"
    }
   ],
   "source": [
    "model_knn = KNeighborsClassifier(n_neighbors=5)  \n",
    "\n",
    "# Entrenar el modelo\n",
    "model_knn.fit(X_train, y_train)\n",
    "predictions = model_knn.predict(X_test)\n",
    "\n",
    "find_scores(X_test, y_test, predictions, model_knn)"
   ]
  },
  {
   "cell_type": "markdown",
   "metadata": {},
   "source": [
    "#### LIGHTGBM"
   ]
  },
  {
   "cell_type": "code",
   "execution_count": null,
   "metadata": {},
   "outputs": [],
   "source": []
  }
 ],
 "metadata": {
  "kernelspec": {
   "display_name": "Python 3",
   "language": "python",
   "name": "python3"
  },
  "language_info": {
   "codemirror_mode": {
    "name": "ipython",
    "version": 3
   },
   "file_extension": ".py",
   "mimetype": "text/x-python",
   "name": "python",
   "nbconvert_exporter": "python",
   "pygments_lexer": "ipython3",
   "version": "3.12.0"
  }
 },
 "nbformat": 4,
 "nbformat_minor": 2
}
