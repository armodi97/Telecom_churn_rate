{
 "cells": [
  {
   "cell_type": "markdown",
   "metadata": {},
   "source": [
    "## LIBRERIAS"
   ]
  },
  {
   "cell_type": "code",
   "execution_count": 23,
   "metadata": {},
   "outputs": [],
   "source": [
    "import pandas as pd\n",
    "import numpy as np\n",
    "import plotly_express as px\n",
    "import random\n",
    "\n",
    "from sklearn.linear_model import LogisticRegression\n",
    "from sklearn.ensemble import RandomForestClassifier\n",
    "from sklearn.neighbors import KNeighborsClassifier\n",
    "import lightgbm as lgbm\n",
    "from catboost import CatBoostClassifier\n",
    "import tensorflow as tf\n",
    "from tensorflow.keras.models import Sequential\n",
    "from tensorflow.keras.layers import Dense, Dropout\n",
    "\n",
    "from sklearn.model_selection import train_test_split\n",
    "from sklearn.preprocessing import StandardScaler\n",
    "from sklearn.model_selection import GridSearchCV\n",
    "from sklearn.metrics import f1_score, roc_auc_score, roc_curve, classification_report, average_precision_score\n",
    "\n",
    "np.random.seed(999)\n",
    "random.seed(999)"
   ]
  },
  {
   "cell_type": "code",
   "execution_count": 2,
   "metadata": {},
   "outputs": [],
   "source": [
    "#Logistic regression\n",
    "#Random forest\n",
    "# KNN\n",
    "\n",
    "#Lightgbm\n",
    "# CatBoost\n",
    "# Red Neuronal"
   ]
  },
  {
   "cell_type": "code",
   "execution_count": 3,
   "metadata": {},
   "outputs": [],
   "source": [
    "try:\n",
    "    data_contract = pd.read_csv(\"final_provider/contract.csv\")\n",
    "    data_internet = pd.read_csv(\"final_provider/internet.csv\")\n",
    "    data_personal = pd.read_csv(\"final_provider/personal.csv\")\n",
    "    data_phone    = pd.read_csv(\"final_provider/phone.csv\")\n",
    "except:\n",
    "    data_contract = pd.read_csv(\"https://practicum-content.s3.us-west-1.amazonaws.com/datasets/final_provider/contract.csv\")\n",
    "    data_internet = pd.read_csv(\"https://practicum-content.s3.us-west-1.amazonaws.com/datasets/final_provider/internet.csv\")\n",
    "    data_personal = pd.read_csv(\"https://practicum-content.s3.us-west-1.amazonaws.com/datasets/final_provider/personal.csv\")\n",
    "    data_phone    = pd.read_csv(\"https://practicum-content.s3.us-west-1.amazonaws.com/datasets/final_provider/phone.csv\")\n",
    "\n"
   ]
  },
  {
   "cell_type": "code",
   "execution_count": 4,
   "metadata": {},
   "outputs": [],
   "source": [
    "data_contract.set_index('customerID', inplace=True)\n",
    "data_internet.set_index('customerID', inplace=True)\n",
    "data_personal.set_index('customerID', inplace=True)\n",
    "data_phone.set_index('customerID', inplace=True)\n"
   ]
  },
  {
   "cell_type": "code",
   "execution_count": 5,
   "metadata": {},
   "outputs": [],
   "source": [
    "#juntar todas las tablas\n",
    "full_data = data_contract.join([data_internet, data_personal, data_phone])\n"
   ]
  },
  {
   "cell_type": "code",
   "execution_count": 6,
   "metadata": {},
   "outputs": [
    {
     "name": "stderr",
     "output_type": "stream",
     "text": [
      "C:\\Users\\armod\\AppData\\Local\\Temp\\ipykernel_17888\\1594772674.py:2: UserWarning: Could not infer format, so each element will be parsed individually, falling back to `dateutil`. To ensure parsing is consistent and as-expected, please specify a format.\n",
      "  full_data[\"EndDate\"] = pd.to_datetime(full_data[\"EndDate\"], errors='coerce')\n"
     ]
    }
   ],
   "source": [
    "full_data[\"BeginDate\"] = pd.to_datetime(full_data[\"BeginDate\"], errors='coerce')\n",
    "full_data[\"EndDate\"] = pd.to_datetime(full_data[\"EndDate\"], errors='coerce')\n",
    "\n",
    "full_data['BeginDate_Year'] = full_data['BeginDate'].dt.year\n",
    "full_data['BeginDate_Month'] = full_data['BeginDate'].dt.month\n",
    "\n",
    "full_data['BeginDate_Year'] = full_data['BeginDate_Year'].astype(\"str\")\n",
    "full_data['BeginDate_Month'] = full_data['BeginDate_Month'].astype(\"str\")\n",
    "\n",
    "# Creación de la columna objetivo (target)\n",
    "full_data[\"isActive\"] = full_data[\"EndDate\"].apply(\n",
    "    lambda x: 0 if pd.isna(x) else 1\n",
    ")\n",
    "\n",
    "full_data = full_data.drop(columns=[\"BeginDate\", \"EndDate\"], axis =1)\n",
    "\n",
    "# Relleno de valores ausentes, al observar los datos faltantes es muy probable que todos sean por el tipo de plan contratado, no existen datos porque no han contratado un plan que pueda generar datos en esas características\n",
    "full_data.fillna(\"No data\", inplace=True)\n",
    "\n",
    "# Reemplazamos strings vacios por ceros\n",
    "full_data.replace({\"MonthlyCharges\": {\" \": 0}, \"TotalCharges\": {\" \": 0}}, inplace=True)\n",
    "\n",
    "\n"
   ]
  },
  {
   "cell_type": "code",
   "execution_count": 8,
   "metadata": {},
   "outputs": [
    {
     "data": {
      "text/plain": [
       "isActive\n",
       "0    5174\n",
       "1    1869\n",
       "Name: count, dtype: int64"
      ]
     },
     "execution_count": 8,
     "metadata": {},
     "output_type": "execute_result"
    }
   ],
   "source": [
    "full_data[\"isActive\"].value_counts()"
   ]
  },
  {
   "cell_type": "markdown",
   "metadata": {},
   "source": [
    "## EVALUACION DE MODELOS"
   ]
  },
  {
   "cell_type": "code",
   "execution_count": 10,
   "metadata": {},
   "outputs": [],
   "source": [
    "def scaler_ohe(df):\n",
    "    scaler = StandardScaler()\n",
    "    scaler.fit(df[numeric_columns])\n",
    "    data_scaled = scaler.transform(df[numeric_columns])\n",
    "    df[numeric_columns]= data_scaled\n",
    "    df = pd.get_dummies(df, drop_first=True)\n",
    "    \n",
    "    return df\n",
    "\n",
    "def find_scores(features_test, target_test, predictions, model):\n",
    "\n",
    "    print(classification_report(target_test, predictions))\n",
    "    print(\"Área bajo la curva ROC:\", roc_auc_score(target_test, predictions))\n",
    "\n",
    "    #Buscamos las probabilidades de que el valor objetivo sea 1, dependiendo el tipo de modelo es el metodo que elegimos\n",
    "    try:\n",
    "        probab_test = model.predict_proba(features_test)\n",
    "        probab_one_test = probab_test[:, 1]\n",
    "        fpr, tpr, thresholds = roc_curve(target_test, probab_one_test)  \n",
    "        \n",
    "    except:\n",
    "        probab_one_test = model.predict(features_test)\n",
    "        fpr, tpr, thresholds = roc_curve(target_test, probab_one_test) \n",
    "\n",
    "    #Creamos un df con los datos para graficar\n",
    "    roc_data = {\"FPR\": fpr, \"TPR\": tpr}\n",
    "    df_roc = pd.DataFrame(roc_data)\n",
    "\n",
    "    # Trazar la curva ROC con Plotly Express\n",
    "    fig = px.line(\n",
    "        df_roc,\n",
    "        x=\"FPR\",\n",
    "        y=\"TPR\",\n",
    "        labels={\"FPR\": \"Tasa de falsos positivos\", \"TPR\": \"Tasa de verdaderos positivos\"},\n",
    "        title=\"Curva ROC\",\n",
    "    )\n",
    "\n",
    "    # Agregar una línea diagonal que representa el modelo aleatorio\n",
    "    fig.add_shape(type=\"line\", line=dict(dash=\"dash\"), x0=0, x1=1, y0=0, y1=1)\n",
    "    fig.update_layout(\n",
    "        width=800,  \n",
    "        height=450\n",
    "    )\n",
    "    # Mostrar la figura\n",
    "    fig.show()\n",
    "\n",
    "    cols_categ = (\n",
    "    [\n",
    "        \"Type\",\n",
    "        \"PaperlessBilling\",\n",
    "        \"PaymentMethod\",\n",
    "        \"InternetService\",\n",
    "        \"OnlineSecurity\",\n",
    "        \"OnlineBackup\",\n",
    "        \"DeviceProtection\",\n",
    "        \"TechSupport\",\n",
    "        \"StreamingTV\",\n",
    "        \"StreamingMovies\",\n",
    "        \"gender\",\n",
    "        \"SeniorCitizen\",\n",
    "        \"Partner\",\n",
    "        \"Dependents\",\n",
    "        \"MultipleLines\",\n",
    "        \"isActive\",\n",
    "        \"BeginDate_Year\",\n",
    "        \"BeginDate_Month\",\n",
    "        \"EndDate_Year\",\n",
    "        \"EndDate_Month\",\n",
    "    ],\n",
    ")\n",
    "numeric_columns = [\"MonthlyCharges\", \"TotalCharges\"]\n"
   ]
  },
  {
   "cell_type": "code",
   "execution_count": 11,
   "metadata": {},
   "outputs": [],
   "source": [
    "#Separacion de datos\n",
    "\n",
    "y = full_data[\"isActive\"]\n",
    "X = full_data.drop(columns=\"isActive\")\n",
    "X = scaler_ohe(X)\n",
    "X_train,X_valid, y_train, y_valid = train_test_split(X, y, test_size=0.2, random_state=999)\n",
    "X_train, X_test, y_train, y_test = train_test_split(X_train, y_train, test_size=0.2, random_state=999)\n"
   ]
  },
  {
   "cell_type": "markdown",
   "metadata": {},
   "source": [
    "#### LOGISTIC REGRESSION"
   ]
  },
  {
   "cell_type": "code",
   "execution_count": 25,
   "metadata": {},
   "outputs": [
    {
     "name": "stdout",
     "output_type": "stream",
     "text": [
      "              precision    recall  f1-score   support\n",
      "\n",
      "           0       0.86      0.91      0.89       844\n",
      "           1       0.68      0.58      0.62       283\n",
      "\n",
      "    accuracy                           0.83      1127\n",
      "   macro avg       0.77      0.74      0.75      1127\n",
      "weighted avg       0.82      0.83      0.82      1127\n",
      "\n",
      "Área bajo la curva ROC: 0.7423697519803059\n"
     ]
    },
    {
     "data": {
      "application/vnd.plotly.v1+json": {
       "config": {
        "plotlyServerURL": "https://plot.ly"
       },
       "data": [
        {
         "hovertemplate": "Tasa de falsos positivos=%{x}<br>Tasa de verdaderos positivos=%{y}<extra></extra>",
         "legendgroup": "",
         "line": {
          "color": "#636efa",
          "dash": "solid"
         },
         "marker": {
          "symbol": "circle"
         },
         "mode": "lines",
         "name": "",
         "orientation": "v",
         "showlegend": false,
         "type": "scatter",
         "x": [
          0,
          0,
          0,
          0.002369668246445498,
          0.002369668246445498,
          0.0035545023696682463,
          0.0035545023696682463,
          0.004739336492890996,
          0.004739336492890996,
          0.005924170616113744,
          0.005924170616113744,
          0.0071090047393364926,
          0.0071090047393364926,
          0.008293838862559242,
          0.008293838862559242,
          0.009478672985781991,
          0.009478672985781991,
          0.011848341232227487,
          0.011848341232227487,
          0.014218009478672985,
          0.014218009478672985,
          0.015402843601895734,
          0.015402843601895734,
          0.016587677725118485,
          0.016587677725118485,
          0.017772511848341232,
          0.017772511848341232,
          0.018957345971563982,
          0.018957345971563982,
          0.02014218009478673,
          0.02014218009478673,
          0.022511848341232227,
          0.022511848341232227,
          0.023696682464454975,
          0.023696682464454975,
          0.026066350710900472,
          0.026066350710900472,
          0.02962085308056872,
          0.02962085308056872,
          0.030805687203791468,
          0.030805687203791468,
          0.031990521327014215,
          0.031990521327014215,
          0.03317535545023697,
          0.03317535545023697,
          0.034360189573459717,
          0.034360189573459717,
          0.035545023696682464,
          0.035545023696682464,
          0.03909952606635071,
          0.03909952606635071,
          0.041469194312796206,
          0.041469194312796206,
          0.04265402843601896,
          0.04265402843601896,
          0.04383886255924171,
          0.04383886255924171,
          0.0462085308056872,
          0.0462085308056872,
          0.0485781990521327,
          0.0485781990521327,
          0.052132701421800945,
          0.052132701421800945,
          0.0533175355450237,
          0.0533175355450237,
          0.05568720379146919,
          0.05568720379146919,
          0.058056872037914695,
          0.058056872037914695,
          0.05924170616113744,
          0.05924170616113744,
          0.06042654028436019,
          0.06042654028436019,
          0.06398104265402843,
          0.06398104265402843,
          0.06516587677725119,
          0.06516587677725119,
          0.06753554502369669,
          0.06753554502369669,
          0.06872037914691943,
          0.06872037914691943,
          0.06990521327014218,
          0.06990521327014218,
          0.07227488151658767,
          0.07227488151658767,
          0.07345971563981042,
          0.07345971563981042,
          0.07464454976303317,
          0.07464454976303317,
          0.07582938388625593,
          0.07582938388625593,
          0.07819905213270142,
          0.07819905213270142,
          0.07938388625592417,
          0.07938388625592417,
          0.08056872037914692,
          0.08056872037914692,
          0.08293838862559241,
          0.08293838862559241,
          0.08412322274881516,
          0.08412322274881516,
          0.08530805687203792,
          0.08530805687203792,
          0.08649289099526067,
          0.08649289099526067,
          0.08767772511848342,
          0.08767772511848342,
          0.09004739336492891,
          0.09004739336492891,
          0.09123222748815166,
          0.09123222748815166,
          0.0924170616113744,
          0.0924170616113744,
          0.0947867298578199,
          0.0947867298578199,
          0.09597156398104266,
          0.09597156398104266,
          0.0971563981042654,
          0.0971563981042654,
          0.0995260663507109,
          0.0995260663507109,
          0.10426540284360189,
          0.10426540284360189,
          0.10545023696682465,
          0.10545023696682465,
          0.10781990521327015,
          0.10781990521327015,
          0.11255924170616113,
          0.11255924170616113,
          0.11729857819905214,
          0.11729857819905214,
          0.11848341232227488,
          0.11848341232227488,
          0.12677725118483413,
          0.12677725118483413,
          0.13270142180094788,
          0.13270142180094788,
          0.1338862559241706,
          0.1338862559241706,
          0.14336492890995262,
          0.14336492890995262,
          0.1457345971563981,
          0.1457345971563981,
          0.1481042654028436,
          0.1481042654028436,
          0.15165876777251186,
          0.15165876777251186,
          0.1528436018957346,
          0.1528436018957346,
          0.15402843601895735,
          0.15402843601895735,
          0.1552132701421801,
          0.1552132701421801,
          0.16350710900473933,
          0.16350710900473933,
          0.1646919431279621,
          0.1646919431279621,
          0.16943127962085308,
          0.16943127962085308,
          0.17535545023696683,
          0.17535545023696683,
          0.17772511848341233,
          0.17772511848341233,
          0.18009478672985782,
          0.18009478672985782,
          0.18127962085308058,
          0.18127962085308058,
          0.18246445497630331,
          0.18246445497630331,
          0.1848341232227488,
          0.1848341232227488,
          0.19549763033175355,
          0.19549763033175355,
          0.2037914691943128,
          0.2037914691943128,
          0.20497630331753555,
          0.20497630331753555,
          0.20616113744075829,
          0.20616113744075829,
          0.2132701421800948,
          0.2132701421800948,
          0.21445497630331753,
          0.21445497630331753,
          0.2334123222748815,
          0.2334123222748815,
          0.235781990521327,
          0.235781990521327,
          0.23696682464454977,
          0.23696682464454977,
          0.24289099526066352,
          0.24289099526066352,
          0.24407582938388625,
          0.24407582938388625,
          0.2523696682464455,
          0.2523696682464455,
          0.25829383886255924,
          0.25829383886255924,
          0.2618483412322275,
          0.2618483412322275,
          0.26895734597156395,
          0.26895734597156395,
          0.27014218009478674,
          0.27014218009478674,
          0.273696682464455,
          0.273696682464455,
          0.28080568720379145,
          0.28080568720379145,
          0.28554502369668244,
          0.28554502369668244,
          0.2914691943127962,
          0.2914691943127962,
          0.2938388625592417,
          0.2938388625592417,
          0.3009478672985782,
          0.3009478672985782,
          0.3056872037914692,
          0.3056872037914692,
          0.30924170616113744,
          0.30924170616113744,
          0.3104265402843602,
          0.3104265402843602,
          0.31161137440758296,
          0.31161137440758296,
          0.3187203791469194,
          0.3187203791469194,
          0.32109004739336494,
          0.32109004739336494,
          0.33649289099526064,
          0.33649289099526064,
          0.3542654028436019,
          0.3542654028436019,
          0.36729857819905215,
          0.36729857819905215,
          0.3767772511848341,
          0.3767772511848341,
          0.3815165876777251,
          0.3815165876777251,
          0.38388625592417064,
          0.38388625592417064,
          0.3862559241706161,
          0.3862559241706161,
          0.3921800947867299,
          0.3921800947867299,
          0.39454976303317535,
          0.39454976303317535,
          0.4004739336492891,
          0.4004739336492891,
          0.41232227488151657,
          0.41232227488151657,
          0.4194312796208531,
          0.4194312796208531,
          0.42417061611374407,
          0.42417061611374407,
          0.4277251184834123,
          0.4277251184834123,
          0.4372037914691943,
          0.4372037914691943,
          0.44075829383886256,
          0.44075829383886256,
          0.4549763033175355,
          0.4549763033175355,
          0.4609004739336493,
          0.4609004739336493,
          0.46919431279620855,
          0.46919431279620855,
          0.47985781990521326,
          0.47985781990521326,
          0.48933649289099523,
          0.48933649289099523,
          0.5225118483412322,
          0.5225118483412322,
          0.523696682464455,
          0.523696682464455,
          0.5888625592417062,
          0.5888625592417062,
          0.6125592417061612,
          0.6125592417061612,
          0.7132701421800948,
          0.7132701421800948,
          0.731042654028436,
          0.731042654028436,
          0.7713270142180095,
          0.7713270142180095,
          0.7914691943127962,
          0.7914691943127962,
          1
         ],
         "xaxis": "x",
         "y": [
          0,
          0.0035335689045936395,
          0.024734982332155476,
          0.024734982332155476,
          0.028268551236749116,
          0.028268551236749116,
          0.045936395759717315,
          0.045936395759717315,
          0.0812720848056537,
          0.0812720848056537,
          0.08480565371024736,
          0.08480565371024736,
          0.09540636042402827,
          0.09540636042402827,
          0.13780918727915195,
          0.13780918727915195,
          0.14487632508833923,
          0.14487632508833923,
          0.1519434628975265,
          0.1519434628975265,
          0.1696113074204947,
          0.1696113074204947,
          0.1978798586572438,
          0.1978798586572438,
          0.2049469964664311,
          0.2049469964664311,
          0.21908127208480566,
          0.21908127208480566,
          0.2226148409893993,
          0.2226148409893993,
          0.22968197879858657,
          0.22968197879858657,
          0.24381625441696114,
          0.24381625441696114,
          0.254416961130742,
          0.254416961130742,
          0.2579505300353357,
          0.2579505300353357,
          0.26855123674911663,
          0.26855123674911663,
          0.2791519434628975,
          0.2791519434628975,
          0.28975265017667845,
          0.28975265017667845,
          0.3003533568904594,
          0.3003533568904594,
          0.30742049469964666,
          0.30742049469964666,
          0.3321554770318021,
          0.3321554770318021,
          0.3392226148409894,
          0.3392226148409894,
          0.34275618374558303,
          0.34275618374558303,
          0.3498233215547703,
          0.3498233215547703,
          0.3710247349823322,
          0.3710247349823322,
          0.3745583038869258,
          0.3745583038869258,
          0.37809187279151946,
          0.37809187279151946,
          0.3957597173144876,
          0.3957597173144876,
          0.4275618374558304,
          0.4275618374558304,
          0.43109540636042404,
          0.43109540636042404,
          0.4416961130742049,
          0.4416961130742049,
          0.4452296819787986,
          0.4452296819787986,
          0.44876325088339225,
          0.44876325088339225,
          0.4558303886925795,
          0.4558303886925795,
          0.45936395759717313,
          0.45936395759717313,
          0.4664310954063604,
          0.4664310954063604,
          0.46996466431095407,
          0.46996466431095407,
          0.47703180212014135,
          0.47703180212014135,
          0.48056537102473496,
          0.48056537102473496,
          0.4840989399293286,
          0.4840989399293286,
          0.4911660777385159,
          0.4911660777385159,
          0.49469964664310956,
          0.49469964664310956,
          0.49823321554770317,
          0.49823321554770317,
          0.5053003533568905,
          0.5053003533568905,
          0.508833922261484,
          0.508833922261484,
          0.5123674911660777,
          0.5123674911660777,
          0.5300353356890459,
          0.5300353356890459,
          0.5547703180212014,
          0.5547703180212014,
          0.5618374558303887,
          0.5618374558303887,
          0.568904593639576,
          0.568904593639576,
          0.5724381625441696,
          0.5724381625441696,
          0.5759717314487632,
          0.5759717314487632,
          0.5795053003533569,
          0.5795053003533569,
          0.5865724381625441,
          0.5865724381625441,
          0.5901060070671378,
          0.5901060070671378,
          0.5936395759717314,
          0.5936395759717314,
          0.6148409893992933,
          0.6148409893992933,
          0.6183745583038869,
          0.6183745583038869,
          0.6219081272084805,
          0.6219081272084805,
          0.6395759717314488,
          0.6395759717314488,
          0.6537102473498233,
          0.6537102473498233,
          0.657243816254417,
          0.657243816254417,
          0.6607773851590106,
          0.6607773851590106,
          0.6643109540636042,
          0.6643109540636042,
          0.6678445229681979,
          0.6678445229681979,
          0.6713780918727915,
          0.6713780918727915,
          0.6784452296819788,
          0.6784452296819788,
          0.6819787985865724,
          0.6819787985865724,
          0.6855123674911661,
          0.6855123674911661,
          0.6890459363957597,
          0.6890459363957597,
          0.6925795053003534,
          0.6925795053003534,
          0.696113074204947,
          0.696113074204947,
          0.6996466431095406,
          0.6996466431095406,
          0.7031802120141343,
          0.7031802120141343,
          0.7137809187279152,
          0.7137809187279152,
          0.7173144876325088,
          0.7173144876325088,
          0.7243816254416962,
          0.7243816254416962,
          0.734982332155477,
          0.734982332155477,
          0.7420494699646644,
          0.7420494699646644,
          0.7491166077738516,
          0.7491166077738516,
          0.7561837455830389,
          0.7561837455830389,
          0.7597173144876325,
          0.7597173144876325,
          0.7667844522968198,
          0.7667844522968198,
          0.7703180212014135,
          0.7703180212014135,
          0.7773851590106007,
          0.7773851590106007,
          0.7809187279151943,
          0.7809187279151943,
          0.784452296819788,
          0.784452296819788,
          0.7915194346289752,
          0.7915194346289752,
          0.7950530035335689,
          0.7950530035335689,
          0.7985865724381626,
          0.7985865724381626,
          0.8091872791519434,
          0.8091872791519434,
          0.8127208480565371,
          0.8127208480565371,
          0.8162544169611308,
          0.8162544169611308,
          0.8197879858657244,
          0.8197879858657244,
          0.823321554770318,
          0.823321554770318,
          0.8303886925795053,
          0.8303886925795053,
          0.833922261484099,
          0.833922261484099,
          0.8374558303886925,
          0.8374558303886925,
          0.8409893992932862,
          0.8409893992932862,
          0.8445229681978799,
          0.8445229681978799,
          0.8515901060070671,
          0.8515901060070671,
          0.8551236749116607,
          0.8551236749116607,
          0.8586572438162544,
          0.8586572438162544,
          0.8621908127208481,
          0.8621908127208481,
          0.8657243816254417,
          0.8657243816254417,
          0.8692579505300353,
          0.8692579505300353,
          0.872791519434629,
          0.872791519434629,
          0.8798586572438163,
          0.8798586572438163,
          0.8833922261484098,
          0.8833922261484098,
          0.8869257950530035,
          0.8869257950530035,
          0.8904593639575972,
          0.8904593639575972,
          0.8975265017667845,
          0.8975265017667845,
          0.901060070671378,
          0.901060070671378,
          0.9045936395759717,
          0.9045936395759717,
          0.9081272084805654,
          0.9081272084805654,
          0.911660777385159,
          0.911660777385159,
          0.9151943462897526,
          0.9151943462897526,
          0.9187279151943463,
          0.9187279151943463,
          0.9222614840989399,
          0.9222614840989399,
          0.9257950530035336,
          0.9257950530035336,
          0.9293286219081273,
          0.9293286219081273,
          0.9328621908127208,
          0.9328621908127208,
          0.9399293286219081,
          0.9399293286219081,
          0.9434628975265018,
          0.9434628975265018,
          0.9469964664310954,
          0.9469964664310954,
          0.950530035335689,
          0.950530035335689,
          0.9540636042402827,
          0.9540636042402827,
          0.9575971731448764,
          0.9575971731448764,
          0.9646643109540636,
          0.9646643109540636,
          0.9681978798586572,
          0.9681978798586572,
          0.9717314487632509,
          0.9717314487632509,
          0.9752650176678446,
          0.9752650176678446,
          0.9787985865724381,
          0.9787985865724381,
          0.9823321554770318,
          0.9823321554770318,
          0.9858657243816255,
          0.9858657243816255,
          0.9893992932862191,
          0.9893992932862191,
          0.9929328621908127,
          0.9929328621908127,
          0.9964664310954063,
          0.9964664310954063,
          1,
          1
         ],
         "yaxis": "y"
        }
       ],
       "layout": {
        "height": 450,
        "legend": {
         "tracegroupgap": 0
        },
        "shapes": [
         {
          "line": {
           "dash": "dash"
          },
          "type": "line",
          "x0": 0,
          "x1": 1,
          "y0": 0,
          "y1": 1
         }
        ],
        "template": {
         "data": {
          "bar": [
           {
            "error_x": {
             "color": "#2a3f5f"
            },
            "error_y": {
             "color": "#2a3f5f"
            },
            "marker": {
             "line": {
              "color": "#E5ECF6",
              "width": 0.5
             },
             "pattern": {
              "fillmode": "overlay",
              "size": 10,
              "solidity": 0.2
             }
            },
            "type": "bar"
           }
          ],
          "barpolar": [
           {
            "marker": {
             "line": {
              "color": "#E5ECF6",
              "width": 0.5
             },
             "pattern": {
              "fillmode": "overlay",
              "size": 10,
              "solidity": 0.2
             }
            },
            "type": "barpolar"
           }
          ],
          "carpet": [
           {
            "aaxis": {
             "endlinecolor": "#2a3f5f",
             "gridcolor": "white",
             "linecolor": "white",
             "minorgridcolor": "white",
             "startlinecolor": "#2a3f5f"
            },
            "baxis": {
             "endlinecolor": "#2a3f5f",
             "gridcolor": "white",
             "linecolor": "white",
             "minorgridcolor": "white",
             "startlinecolor": "#2a3f5f"
            },
            "type": "carpet"
           }
          ],
          "choropleth": [
           {
            "colorbar": {
             "outlinewidth": 0,
             "ticks": ""
            },
            "type": "choropleth"
           }
          ],
          "contour": [
           {
            "colorbar": {
             "outlinewidth": 0,
             "ticks": ""
            },
            "colorscale": [
             [
              0,
              "#0d0887"
             ],
             [
              0.1111111111111111,
              "#46039f"
             ],
             [
              0.2222222222222222,
              "#7201a8"
             ],
             [
              0.3333333333333333,
              "#9c179e"
             ],
             [
              0.4444444444444444,
              "#bd3786"
             ],
             [
              0.5555555555555556,
              "#d8576b"
             ],
             [
              0.6666666666666666,
              "#ed7953"
             ],
             [
              0.7777777777777778,
              "#fb9f3a"
             ],
             [
              0.8888888888888888,
              "#fdca26"
             ],
             [
              1,
              "#f0f921"
             ]
            ],
            "type": "contour"
           }
          ],
          "contourcarpet": [
           {
            "colorbar": {
             "outlinewidth": 0,
             "ticks": ""
            },
            "type": "contourcarpet"
           }
          ],
          "heatmap": [
           {
            "colorbar": {
             "outlinewidth": 0,
             "ticks": ""
            },
            "colorscale": [
             [
              0,
              "#0d0887"
             ],
             [
              0.1111111111111111,
              "#46039f"
             ],
             [
              0.2222222222222222,
              "#7201a8"
             ],
             [
              0.3333333333333333,
              "#9c179e"
             ],
             [
              0.4444444444444444,
              "#bd3786"
             ],
             [
              0.5555555555555556,
              "#d8576b"
             ],
             [
              0.6666666666666666,
              "#ed7953"
             ],
             [
              0.7777777777777778,
              "#fb9f3a"
             ],
             [
              0.8888888888888888,
              "#fdca26"
             ],
             [
              1,
              "#f0f921"
             ]
            ],
            "type": "heatmap"
           }
          ],
          "heatmapgl": [
           {
            "colorbar": {
             "outlinewidth": 0,
             "ticks": ""
            },
            "colorscale": [
             [
              0,
              "#0d0887"
             ],
             [
              0.1111111111111111,
              "#46039f"
             ],
             [
              0.2222222222222222,
              "#7201a8"
             ],
             [
              0.3333333333333333,
              "#9c179e"
             ],
             [
              0.4444444444444444,
              "#bd3786"
             ],
             [
              0.5555555555555556,
              "#d8576b"
             ],
             [
              0.6666666666666666,
              "#ed7953"
             ],
             [
              0.7777777777777778,
              "#fb9f3a"
             ],
             [
              0.8888888888888888,
              "#fdca26"
             ],
             [
              1,
              "#f0f921"
             ]
            ],
            "type": "heatmapgl"
           }
          ],
          "histogram": [
           {
            "marker": {
             "pattern": {
              "fillmode": "overlay",
              "size": 10,
              "solidity": 0.2
             }
            },
            "type": "histogram"
           }
          ],
          "histogram2d": [
           {
            "colorbar": {
             "outlinewidth": 0,
             "ticks": ""
            },
            "colorscale": [
             [
              0,
              "#0d0887"
             ],
             [
              0.1111111111111111,
              "#46039f"
             ],
             [
              0.2222222222222222,
              "#7201a8"
             ],
             [
              0.3333333333333333,
              "#9c179e"
             ],
             [
              0.4444444444444444,
              "#bd3786"
             ],
             [
              0.5555555555555556,
              "#d8576b"
             ],
             [
              0.6666666666666666,
              "#ed7953"
             ],
             [
              0.7777777777777778,
              "#fb9f3a"
             ],
             [
              0.8888888888888888,
              "#fdca26"
             ],
             [
              1,
              "#f0f921"
             ]
            ],
            "type": "histogram2d"
           }
          ],
          "histogram2dcontour": [
           {
            "colorbar": {
             "outlinewidth": 0,
             "ticks": ""
            },
            "colorscale": [
             [
              0,
              "#0d0887"
             ],
             [
              0.1111111111111111,
              "#46039f"
             ],
             [
              0.2222222222222222,
              "#7201a8"
             ],
             [
              0.3333333333333333,
              "#9c179e"
             ],
             [
              0.4444444444444444,
              "#bd3786"
             ],
             [
              0.5555555555555556,
              "#d8576b"
             ],
             [
              0.6666666666666666,
              "#ed7953"
             ],
             [
              0.7777777777777778,
              "#fb9f3a"
             ],
             [
              0.8888888888888888,
              "#fdca26"
             ],
             [
              1,
              "#f0f921"
             ]
            ],
            "type": "histogram2dcontour"
           }
          ],
          "mesh3d": [
           {
            "colorbar": {
             "outlinewidth": 0,
             "ticks": ""
            },
            "type": "mesh3d"
           }
          ],
          "parcoords": [
           {
            "line": {
             "colorbar": {
              "outlinewidth": 0,
              "ticks": ""
             }
            },
            "type": "parcoords"
           }
          ],
          "pie": [
           {
            "automargin": true,
            "type": "pie"
           }
          ],
          "scatter": [
           {
            "fillpattern": {
             "fillmode": "overlay",
             "size": 10,
             "solidity": 0.2
            },
            "type": "scatter"
           }
          ],
          "scatter3d": [
           {
            "line": {
             "colorbar": {
              "outlinewidth": 0,
              "ticks": ""
             }
            },
            "marker": {
             "colorbar": {
              "outlinewidth": 0,
              "ticks": ""
             }
            },
            "type": "scatter3d"
           }
          ],
          "scattercarpet": [
           {
            "marker": {
             "colorbar": {
              "outlinewidth": 0,
              "ticks": ""
             }
            },
            "type": "scattercarpet"
           }
          ],
          "scattergeo": [
           {
            "marker": {
             "colorbar": {
              "outlinewidth": 0,
              "ticks": ""
             }
            },
            "type": "scattergeo"
           }
          ],
          "scattergl": [
           {
            "marker": {
             "colorbar": {
              "outlinewidth": 0,
              "ticks": ""
             }
            },
            "type": "scattergl"
           }
          ],
          "scattermapbox": [
           {
            "marker": {
             "colorbar": {
              "outlinewidth": 0,
              "ticks": ""
             }
            },
            "type": "scattermapbox"
           }
          ],
          "scatterpolar": [
           {
            "marker": {
             "colorbar": {
              "outlinewidth": 0,
              "ticks": ""
             }
            },
            "type": "scatterpolar"
           }
          ],
          "scatterpolargl": [
           {
            "marker": {
             "colorbar": {
              "outlinewidth": 0,
              "ticks": ""
             }
            },
            "type": "scatterpolargl"
           }
          ],
          "scatterternary": [
           {
            "marker": {
             "colorbar": {
              "outlinewidth": 0,
              "ticks": ""
             }
            },
            "type": "scatterternary"
           }
          ],
          "surface": [
           {
            "colorbar": {
             "outlinewidth": 0,
             "ticks": ""
            },
            "colorscale": [
             [
              0,
              "#0d0887"
             ],
             [
              0.1111111111111111,
              "#46039f"
             ],
             [
              0.2222222222222222,
              "#7201a8"
             ],
             [
              0.3333333333333333,
              "#9c179e"
             ],
             [
              0.4444444444444444,
              "#bd3786"
             ],
             [
              0.5555555555555556,
              "#d8576b"
             ],
             [
              0.6666666666666666,
              "#ed7953"
             ],
             [
              0.7777777777777778,
              "#fb9f3a"
             ],
             [
              0.8888888888888888,
              "#fdca26"
             ],
             [
              1,
              "#f0f921"
             ]
            ],
            "type": "surface"
           }
          ],
          "table": [
           {
            "cells": {
             "fill": {
              "color": "#EBF0F8"
             },
             "line": {
              "color": "white"
             }
            },
            "header": {
             "fill": {
              "color": "#C8D4E3"
             },
             "line": {
              "color": "white"
             }
            },
            "type": "table"
           }
          ]
         },
         "layout": {
          "annotationdefaults": {
           "arrowcolor": "#2a3f5f",
           "arrowhead": 0,
           "arrowwidth": 1
          },
          "autotypenumbers": "strict",
          "coloraxis": {
           "colorbar": {
            "outlinewidth": 0,
            "ticks": ""
           }
          },
          "colorscale": {
           "diverging": [
            [
             0,
             "#8e0152"
            ],
            [
             0.1,
             "#c51b7d"
            ],
            [
             0.2,
             "#de77ae"
            ],
            [
             0.3,
             "#f1b6da"
            ],
            [
             0.4,
             "#fde0ef"
            ],
            [
             0.5,
             "#f7f7f7"
            ],
            [
             0.6,
             "#e6f5d0"
            ],
            [
             0.7,
             "#b8e186"
            ],
            [
             0.8,
             "#7fbc41"
            ],
            [
             0.9,
             "#4d9221"
            ],
            [
             1,
             "#276419"
            ]
           ],
           "sequential": [
            [
             0,
             "#0d0887"
            ],
            [
             0.1111111111111111,
             "#46039f"
            ],
            [
             0.2222222222222222,
             "#7201a8"
            ],
            [
             0.3333333333333333,
             "#9c179e"
            ],
            [
             0.4444444444444444,
             "#bd3786"
            ],
            [
             0.5555555555555556,
             "#d8576b"
            ],
            [
             0.6666666666666666,
             "#ed7953"
            ],
            [
             0.7777777777777778,
             "#fb9f3a"
            ],
            [
             0.8888888888888888,
             "#fdca26"
            ],
            [
             1,
             "#f0f921"
            ]
           ],
           "sequentialminus": [
            [
             0,
             "#0d0887"
            ],
            [
             0.1111111111111111,
             "#46039f"
            ],
            [
             0.2222222222222222,
             "#7201a8"
            ],
            [
             0.3333333333333333,
             "#9c179e"
            ],
            [
             0.4444444444444444,
             "#bd3786"
            ],
            [
             0.5555555555555556,
             "#d8576b"
            ],
            [
             0.6666666666666666,
             "#ed7953"
            ],
            [
             0.7777777777777778,
             "#fb9f3a"
            ],
            [
             0.8888888888888888,
             "#fdca26"
            ],
            [
             1,
             "#f0f921"
            ]
           ]
          },
          "colorway": [
           "#636efa",
           "#EF553B",
           "#00cc96",
           "#ab63fa",
           "#FFA15A",
           "#19d3f3",
           "#FF6692",
           "#B6E880",
           "#FF97FF",
           "#FECB52"
          ],
          "font": {
           "color": "#2a3f5f"
          },
          "geo": {
           "bgcolor": "white",
           "lakecolor": "white",
           "landcolor": "#E5ECF6",
           "showlakes": true,
           "showland": true,
           "subunitcolor": "white"
          },
          "hoverlabel": {
           "align": "left"
          },
          "hovermode": "closest",
          "mapbox": {
           "style": "light"
          },
          "paper_bgcolor": "white",
          "plot_bgcolor": "#E5ECF6",
          "polar": {
           "angularaxis": {
            "gridcolor": "white",
            "linecolor": "white",
            "ticks": ""
           },
           "bgcolor": "#E5ECF6",
           "radialaxis": {
            "gridcolor": "white",
            "linecolor": "white",
            "ticks": ""
           }
          },
          "scene": {
           "xaxis": {
            "backgroundcolor": "#E5ECF6",
            "gridcolor": "white",
            "gridwidth": 2,
            "linecolor": "white",
            "showbackground": true,
            "ticks": "",
            "zerolinecolor": "white"
           },
           "yaxis": {
            "backgroundcolor": "#E5ECF6",
            "gridcolor": "white",
            "gridwidth": 2,
            "linecolor": "white",
            "showbackground": true,
            "ticks": "",
            "zerolinecolor": "white"
           },
           "zaxis": {
            "backgroundcolor": "#E5ECF6",
            "gridcolor": "white",
            "gridwidth": 2,
            "linecolor": "white",
            "showbackground": true,
            "ticks": "",
            "zerolinecolor": "white"
           }
          },
          "shapedefaults": {
           "line": {
            "color": "#2a3f5f"
           }
          },
          "ternary": {
           "aaxis": {
            "gridcolor": "white",
            "linecolor": "white",
            "ticks": ""
           },
           "baxis": {
            "gridcolor": "white",
            "linecolor": "white",
            "ticks": ""
           },
           "bgcolor": "#E5ECF6",
           "caxis": {
            "gridcolor": "white",
            "linecolor": "white",
            "ticks": ""
           }
          },
          "title": {
           "x": 0.05
          },
          "xaxis": {
           "automargin": true,
           "gridcolor": "white",
           "linecolor": "white",
           "ticks": "",
           "title": {
            "standoff": 15
           },
           "zerolinecolor": "white",
           "zerolinewidth": 2
          },
          "yaxis": {
           "automargin": true,
           "gridcolor": "white",
           "linecolor": "white",
           "ticks": "",
           "title": {
            "standoff": 15
           },
           "zerolinecolor": "white",
           "zerolinewidth": 2
          }
         }
        },
        "title": {
         "text": "Curva ROC"
        },
        "width": 800,
        "xaxis": {
         "anchor": "y",
         "domain": [
          0,
          1
         ],
         "title": {
          "text": "Tasa de falsos positivos"
         }
        },
        "yaxis": {
         "anchor": "x",
         "domain": [
          0,
          1
         ],
         "title": {
          "text": "Tasa de verdaderos positivos"
         }
        }
       }
      }
     },
     "metadata": {},
     "output_type": "display_data"
    }
   ],
   "source": [
    "Mejores_hiperparámetros = {'C': 1, 'class_weight': None, 'max_iter': 100, 'penalty': 'l1', 'solver': 'liblinear'}\n",
    "model_logistreg = LogisticRegression(**Mejores_hiperparámetros)\n",
    "\n",
    "# param_grid = {\n",
    "#     'C': [0.01, 0.1, 1, 10, 100],  # Regularización\n",
    "#     'solver': ['liblinear', 'saga'],  # Solvers comunes para clasificación binaria\n",
    "#     'class_weight': ['balanced', None],  # Considerar desbalanceo de clases o no\n",
    "#     'penalty': ['l2', 'l1'],  # Tipos de regularización\n",
    "#     'max_iter': [100, 200, 300]  # Número máximo de iteraciones\n",
    "# }\n",
    "\n",
    "\n",
    "# grid_search = GridSearchCV(estimator=model_logistreg, param_grid=param_grid, cv=5, scoring='accuracy', n_jobs=-1, verbose=2)\n",
    "\n",
    "# grid_search.fit(X_train, y_train)\n",
    "\n",
    "# print(\"Mejores hiperparámetros:\", grid_search.best_params_)\n",
    "# print(\"\")\n",
    "# # Predecir usando el mejor modelo encontrado\n",
    "# best_model = grid_search.best_estimator_\n",
    "# predictions = best_model.predict(X_test)\n",
    "\n",
    "# #Mejores hiperparámetros: {'C': 1, 'class_weight': None, 'max_iter': 100, 'penalty': 'l1', 'solver': 'liblinear'}\n",
    "\n",
    "model_logistreg.fit(X_train, y_train)\n",
    "predictions = model_logistreg.predict(X_test)\n",
    "find_scores(X_test, y_test, predictions, model_logistreg)\n",
    "\n"
   ]
  },
  {
   "cell_type": "markdown",
   "metadata": {},
   "source": [
    "#### RANDOM FOREST CLASSIFIER"
   ]
  },
  {
   "cell_type": "code",
   "execution_count": 26,
   "metadata": {},
   "outputs": [
    {
     "name": "stdout",
     "output_type": "stream",
     "text": [
      "              precision    recall  f1-score   support\n",
      "\n",
      "           0       0.87      0.94      0.90       844\n",
      "           1       0.77      0.57      0.66       283\n",
      "\n",
      "    accuracy                           0.85      1127\n",
      "   macro avg       0.82      0.76      0.78      1127\n",
      "weighted avg       0.84      0.85      0.84      1127\n",
      "\n",
      "Área bajo la curva ROC: 0.7571906452531275\n"
     ]
    },
    {
     "data": {
      "application/vnd.plotly.v1+json": {
       "config": {
        "plotlyServerURL": "https://plot.ly"
       },
       "data": [
        {
         "hovertemplate": "Tasa de falsos positivos=%{x}<br>Tasa de verdaderos positivos=%{y}<extra></extra>",
         "legendgroup": "",
         "line": {
          "color": "#636efa",
          "dash": "solid"
         },
         "marker": {
          "symbol": "circle"
         },
         "mode": "lines",
         "name": "",
         "orientation": "v",
         "showlegend": false,
         "type": "scatter",
         "x": [
          0,
          0,
          0,
          0.002369668246445498,
          0.002369668246445498,
          0.004739336492890996,
          0.004739336492890996,
          0.005924170616113744,
          0.005924170616113744,
          0.0071090047393364926,
          0.0071090047393364926,
          0.008293838862559242,
          0.008293838862559242,
          0.014218009478672985,
          0.014218009478672985,
          0.015402843601895734,
          0.015402843601895734,
          0.016587677725118485,
          0.016587677725118485,
          0.018957345971563982,
          0.018957345971563982,
          0.022511848341232227,
          0.022511848341232227,
          0.026066350710900472,
          0.026066350710900472,
          0.02843601895734597,
          0.02843601895734597,
          0.02962085308056872,
          0.02962085308056872,
          0.030805687203791468,
          0.030805687203791468,
          0.03317535545023697,
          0.03317535545023697,
          0.034360189573459717,
          0.034360189573459717,
          0.03672985781990521,
          0.03672985781990521,
          0.037914691943127965,
          0.037914691943127965,
          0.03909952606635071,
          0.03909952606635071,
          0.04028436018957346,
          0.04028436018957346,
          0.041469194312796206,
          0.041469194312796206,
          0.04265402843601896,
          0.04265402843601896,
          0.04976303317535545,
          0.04976303317535545,
          0.0509478672985782,
          0.0509478672985782,
          0.052132701421800945,
          0.052132701421800945,
          0.0533175355450237,
          0.0533175355450237,
          0.054502369668246446,
          0.054502369668246446,
          0.05687203791469194,
          0.05687203791469194,
          0.05924170616113744,
          0.05924170616113744,
          0.061611374407582936,
          0.061611374407582936,
          0.06635071090047394,
          0.06635071090047394,
          0.06753554502369669,
          0.06753554502369669,
          0.06872037914691943,
          0.06872037914691943,
          0.06990521327014218,
          0.06990521327014218,
          0.07345971563981042,
          0.07345971563981042,
          0.07464454976303317,
          0.07464454976303317,
          0.07938388625592417,
          0.07938388625592417,
          0.08175355450236967,
          0.08175355450236967,
          0.08293838862559241,
          0.08293838862559241,
          0.08412322274881516,
          0.08412322274881516,
          0.08886255924170616,
          0.08886255924170616,
          0.0924170616113744,
          0.0924170616113744,
          0.0947867298578199,
          0.0947867298578199,
          0.0971563981042654,
          0.0971563981042654,
          0.0995260663507109,
          0.0995260663507109,
          0.10071090047393365,
          0.10071090047393365,
          0.10308056872037914,
          0.10308056872037914,
          0.10426540284360189,
          0.10426540284360189,
          0.1066350710900474,
          0.1066350710900474,
          0.10900473933649289,
          0.10900473933649289,
          0.11137440758293839,
          0.11137440758293839,
          0.11492890995260663,
          0.11492890995260663,
          0.12203791469194313,
          0.12203791469194313,
          0.12559241706161137,
          0.12559241706161137,
          0.1386255924170616,
          0.1386255924170616,
          0.1457345971563981,
          0.1457345971563981,
          0.14691943127962084,
          0.14691943127962084,
          0.14928909952606634,
          0.14928909952606634,
          0.1552132701421801,
          0.1552132701421801,
          0.15639810426540285,
          0.15639810426540285,
          0.15758293838862558,
          0.15758293838862558,
          0.1623222748815166,
          0.1623222748815166,
          0.1646919431279621,
          0.1646919431279621,
          0.17535545023696683,
          0.17535545023696683,
          0.18009478672985782,
          0.18009478672985782,
          0.18601895734597157,
          0.18601895734597157,
          0.1872037914691943,
          0.1872037914691943,
          0.1895734597156398,
          0.1895734597156398,
          0.19312796208530805,
          0.19312796208530805,
          0.19549763033175355,
          0.19549763033175355,
          0.1966824644549763,
          0.1966824644549763,
          0.19786729857819904,
          0.19786729857819904,
          0.1990521327014218,
          0.1990521327014218,
          0.20023696682464456,
          0.20023696682464456,
          0.20734597156398105,
          0.20734597156398105,
          0.21208530805687204,
          0.21208530805687204,
          0.2156398104265403,
          0.2156398104265403,
          0.21919431279620852,
          0.21919431279620852,
          0.22274881516587677,
          0.22274881516587677,
          0.22630331753554503,
          0.22630331753554503,
          0.2334123222748815,
          0.2334123222748815,
          0.23459715639810427,
          0.23459715639810427,
          0.23933649289099526,
          0.23933649289099526,
          0.25,
          0.25,
          0.2618483412322275,
          0.2618483412322275,
          0.26421800947867297,
          0.26421800947867297,
          0.27014218009478674,
          0.27014218009478674,
          0.28080568720379145,
          0.28080568720379145,
          0.28199052132701424,
          0.28199052132701424,
          0.283175355450237,
          0.283175355450237,
          0.2843601895734597,
          0.2843601895734597,
          0.2938388625592417,
          0.2938388625592417,
          0.3009478672985782,
          0.3009478672985782,
          0.30924170616113744,
          0.30924170616113744,
          0.31161137440758296,
          0.31161137440758296,
          0.32582938388625593,
          0.32582938388625593,
          0.3341232227488152,
          0.3341232227488152,
          0.33767772511848343,
          0.33767772511848343,
          0.3459715639810427,
          0.3459715639810427,
          0.3471563981042654,
          0.3471563981042654,
          0.35545023696682465,
          0.35545023696682465,
          0.38744075829383884,
          0.38744075829383884,
          0.4028436018957346,
          0.4028436018957346,
          0.4206161137440758,
          0.4206161137440758,
          0.43838862559241704,
          0.43838862559241704,
          0.4466824644549763,
          0.4466824644549763,
          0.4561611374407583,
          0.4561611374407583,
          0.48104265402843605,
          0.48104265402843605,
          0.4822274881516588,
          0.4822274881516588,
          0.5379146919431279,
          0.5379146919431279,
          0.5414691943127962,
          0.5414691943127962,
          0.6575829383886256,
          0.6575829383886256,
          0.7630331753554502,
          0.7630331753554502,
          0.7784360189573459,
          0.7784360189573459,
          0.8969194312796208,
          0.8969194312796208,
          0.9597156398104265,
          0.9620853080568721,
          0.9703791469194313,
          0.9739336492890995,
          0.9822274881516587,
          0.985781990521327,
          0.9893364928909952,
          1
         ],
         "xaxis": "x",
         "y": [
          0,
          0.0035335689045936395,
          0.13074204946996468,
          0.13074204946996468,
          0.18021201413427562,
          0.18021201413427562,
          0.2968197879858657,
          0.2968197879858657,
          0.3215547703180212,
          0.3215547703180212,
          0.3250883392226148,
          0.3250883392226148,
          0.3462897526501767,
          0.3462897526501767,
          0.36395759717314485,
          0.36395759717314485,
          0.38515901060070673,
          0.38515901060070673,
          0.3992932862190813,
          0.3992932862190813,
          0.4028268551236749,
          0.4028268551236749,
          0.42402826855123676,
          0.42402826855123676,
          0.4275618374558304,
          0.4275618374558304,
          0.43462897526501765,
          0.43462897526501765,
          0.4452296819787986,
          0.4452296819787986,
          0.45229681978798586,
          0.45229681978798586,
          0.4558303886925795,
          0.4558303886925795,
          0.47703180212014135,
          0.47703180212014135,
          0.4876325088339223,
          0.4876325088339223,
          0.4911660777385159,
          0.4911660777385159,
          0.49823321554770317,
          0.49823321554770317,
          0.5123674911660777,
          0.5123674911660777,
          0.5229681978798587,
          0.5229681978798587,
          0.5300353356890459,
          0.5300353356890459,
          0.5371024734982333,
          0.5371024734982333,
          0.5477031802120141,
          0.5477031802120141,
          0.558303886925795,
          0.558303886925795,
          0.5618374558303887,
          0.5618374558303887,
          0.5653710247349824,
          0.5653710247349824,
          0.5724381625441696,
          0.5724381625441696,
          0.5971731448763251,
          0.5971731448763251,
          0.6007067137809188,
          0.6007067137809188,
          0.6042402826855123,
          0.6042402826855123,
          0.6113074204946997,
          0.6113074204946997,
          0.6148409893992933,
          0.6148409893992933,
          0.6183745583038869,
          0.6183745583038869,
          0.6219081272084805,
          0.6219081272084805,
          0.6325088339222615,
          0.6325088339222615,
          0.6360424028268551,
          0.6360424028268551,
          0.6395759717314488,
          0.6395759717314488,
          0.6431095406360424,
          0.6431095406360424,
          0.6537102473498233,
          0.6537102473498233,
          0.657243816254417,
          0.657243816254417,
          0.6607773851590106,
          0.6607773851590106,
          0.6643109540636042,
          0.6643109540636042,
          0.6749116607773852,
          0.6749116607773852,
          0.6819787985865724,
          0.6819787985865724,
          0.6855123674911661,
          0.6855123674911661,
          0.6890459363957597,
          0.6890459363957597,
          0.696113074204947,
          0.696113074204947,
          0.6996466431095406,
          0.6996466431095406,
          0.7102473498233216,
          0.7102473498233216,
          0.7243816254416962,
          0.7243816254416962,
          0.7279151943462897,
          0.7279151943462897,
          0.734982332155477,
          0.734982332155477,
          0.7385159010600707,
          0.7385159010600707,
          0.7420494699646644,
          0.7420494699646644,
          0.7491166077738516,
          0.7491166077738516,
          0.7526501766784452,
          0.7526501766784452,
          0.7561837455830389,
          0.7561837455830389,
          0.7597173144876325,
          0.7597173144876325,
          0.7632508833922261,
          0.7632508833922261,
          0.773851590106007,
          0.773851590106007,
          0.7773851590106007,
          0.7773851590106007,
          0.7809187279151943,
          0.7809187279151943,
          0.784452296819788,
          0.784452296819788,
          0.7879858657243817,
          0.7879858657243817,
          0.7950530035335689,
          0.7950530035335689,
          0.7985865724381626,
          0.7985865724381626,
          0.8021201413427562,
          0.8021201413427562,
          0.8091872791519434,
          0.8091872791519434,
          0.8127208480565371,
          0.8127208480565371,
          0.8162544169611308,
          0.8162544169611308,
          0.8197879858657244,
          0.8197879858657244,
          0.823321554770318,
          0.823321554770318,
          0.8268551236749117,
          0.8268551236749117,
          0.8303886925795053,
          0.8303886925795053,
          0.833922261484099,
          0.833922261484099,
          0.8409893992932862,
          0.8409893992932862,
          0.8445229681978799,
          0.8445229681978799,
          0.8480565371024735,
          0.8480565371024735,
          0.8515901060070671,
          0.8515901060070671,
          0.8551236749116607,
          0.8551236749116607,
          0.8586572438162544,
          0.8586572438162544,
          0.8692579505300353,
          0.8692579505300353,
          0.872791519434629,
          0.872791519434629,
          0.8763250883392226,
          0.8763250883392226,
          0.8798586572438163,
          0.8798586572438163,
          0.8869257950530035,
          0.8869257950530035,
          0.8904593639575972,
          0.8904593639575972,
          0.901060070671378,
          0.901060070671378,
          0.9045936395759717,
          0.9045936395759717,
          0.9081272084805654,
          0.9081272084805654,
          0.911660777385159,
          0.911660777385159,
          0.9151943462897526,
          0.9151943462897526,
          0.9187279151943463,
          0.9187279151943463,
          0.9222614840989399,
          0.9222614840989399,
          0.9293286219081273,
          0.9293286219081273,
          0.9328621908127208,
          0.9328621908127208,
          0.9363957597173145,
          0.9363957597173145,
          0.9399293286219081,
          0.9399293286219081,
          0.9469964664310954,
          0.9469964664310954,
          0.950530035335689,
          0.950530035335689,
          0.9540636042402827,
          0.9540636042402827,
          0.9575971731448764,
          0.9575971731448764,
          0.9611307420494699,
          0.9611307420494699,
          0.9646643109540636,
          0.9646643109540636,
          0.9681978798586572,
          0.9681978798586572,
          0.9717314487632509,
          0.9717314487632509,
          0.9752650176678446,
          0.9752650176678446,
          0.9787985865724381,
          0.9787985865724381,
          0.9823321554770318,
          0.9823321554770318,
          0.9858657243816255,
          0.9858657243816255,
          0.9893992932862191,
          0.9893992932862191,
          0.9929328621908127,
          0.9929328621908127,
          0.9964664310954063,
          0.9964664310954063,
          1,
          1,
          1,
          1,
          1,
          1,
          1,
          1,
          1
         ],
         "yaxis": "y"
        }
       ],
       "layout": {
        "height": 450,
        "legend": {
         "tracegroupgap": 0
        },
        "shapes": [
         {
          "line": {
           "dash": "dash"
          },
          "type": "line",
          "x0": 0,
          "x1": 1,
          "y0": 0,
          "y1": 1
         }
        ],
        "template": {
         "data": {
          "bar": [
           {
            "error_x": {
             "color": "#2a3f5f"
            },
            "error_y": {
             "color": "#2a3f5f"
            },
            "marker": {
             "line": {
              "color": "#E5ECF6",
              "width": 0.5
             },
             "pattern": {
              "fillmode": "overlay",
              "size": 10,
              "solidity": 0.2
             }
            },
            "type": "bar"
           }
          ],
          "barpolar": [
           {
            "marker": {
             "line": {
              "color": "#E5ECF6",
              "width": 0.5
             },
             "pattern": {
              "fillmode": "overlay",
              "size": 10,
              "solidity": 0.2
             }
            },
            "type": "barpolar"
           }
          ],
          "carpet": [
           {
            "aaxis": {
             "endlinecolor": "#2a3f5f",
             "gridcolor": "white",
             "linecolor": "white",
             "minorgridcolor": "white",
             "startlinecolor": "#2a3f5f"
            },
            "baxis": {
             "endlinecolor": "#2a3f5f",
             "gridcolor": "white",
             "linecolor": "white",
             "minorgridcolor": "white",
             "startlinecolor": "#2a3f5f"
            },
            "type": "carpet"
           }
          ],
          "choropleth": [
           {
            "colorbar": {
             "outlinewidth": 0,
             "ticks": ""
            },
            "type": "choropleth"
           }
          ],
          "contour": [
           {
            "colorbar": {
             "outlinewidth": 0,
             "ticks": ""
            },
            "colorscale": [
             [
              0,
              "#0d0887"
             ],
             [
              0.1111111111111111,
              "#46039f"
             ],
             [
              0.2222222222222222,
              "#7201a8"
             ],
             [
              0.3333333333333333,
              "#9c179e"
             ],
             [
              0.4444444444444444,
              "#bd3786"
             ],
             [
              0.5555555555555556,
              "#d8576b"
             ],
             [
              0.6666666666666666,
              "#ed7953"
             ],
             [
              0.7777777777777778,
              "#fb9f3a"
             ],
             [
              0.8888888888888888,
              "#fdca26"
             ],
             [
              1,
              "#f0f921"
             ]
            ],
            "type": "contour"
           }
          ],
          "contourcarpet": [
           {
            "colorbar": {
             "outlinewidth": 0,
             "ticks": ""
            },
            "type": "contourcarpet"
           }
          ],
          "heatmap": [
           {
            "colorbar": {
             "outlinewidth": 0,
             "ticks": ""
            },
            "colorscale": [
             [
              0,
              "#0d0887"
             ],
             [
              0.1111111111111111,
              "#46039f"
             ],
             [
              0.2222222222222222,
              "#7201a8"
             ],
             [
              0.3333333333333333,
              "#9c179e"
             ],
             [
              0.4444444444444444,
              "#bd3786"
             ],
             [
              0.5555555555555556,
              "#d8576b"
             ],
             [
              0.6666666666666666,
              "#ed7953"
             ],
             [
              0.7777777777777778,
              "#fb9f3a"
             ],
             [
              0.8888888888888888,
              "#fdca26"
             ],
             [
              1,
              "#f0f921"
             ]
            ],
            "type": "heatmap"
           }
          ],
          "heatmapgl": [
           {
            "colorbar": {
             "outlinewidth": 0,
             "ticks": ""
            },
            "colorscale": [
             [
              0,
              "#0d0887"
             ],
             [
              0.1111111111111111,
              "#46039f"
             ],
             [
              0.2222222222222222,
              "#7201a8"
             ],
             [
              0.3333333333333333,
              "#9c179e"
             ],
             [
              0.4444444444444444,
              "#bd3786"
             ],
             [
              0.5555555555555556,
              "#d8576b"
             ],
             [
              0.6666666666666666,
              "#ed7953"
             ],
             [
              0.7777777777777778,
              "#fb9f3a"
             ],
             [
              0.8888888888888888,
              "#fdca26"
             ],
             [
              1,
              "#f0f921"
             ]
            ],
            "type": "heatmapgl"
           }
          ],
          "histogram": [
           {
            "marker": {
             "pattern": {
              "fillmode": "overlay",
              "size": 10,
              "solidity": 0.2
             }
            },
            "type": "histogram"
           }
          ],
          "histogram2d": [
           {
            "colorbar": {
             "outlinewidth": 0,
             "ticks": ""
            },
            "colorscale": [
             [
              0,
              "#0d0887"
             ],
             [
              0.1111111111111111,
              "#46039f"
             ],
             [
              0.2222222222222222,
              "#7201a8"
             ],
             [
              0.3333333333333333,
              "#9c179e"
             ],
             [
              0.4444444444444444,
              "#bd3786"
             ],
             [
              0.5555555555555556,
              "#d8576b"
             ],
             [
              0.6666666666666666,
              "#ed7953"
             ],
             [
              0.7777777777777778,
              "#fb9f3a"
             ],
             [
              0.8888888888888888,
              "#fdca26"
             ],
             [
              1,
              "#f0f921"
             ]
            ],
            "type": "histogram2d"
           }
          ],
          "histogram2dcontour": [
           {
            "colorbar": {
             "outlinewidth": 0,
             "ticks": ""
            },
            "colorscale": [
             [
              0,
              "#0d0887"
             ],
             [
              0.1111111111111111,
              "#46039f"
             ],
             [
              0.2222222222222222,
              "#7201a8"
             ],
             [
              0.3333333333333333,
              "#9c179e"
             ],
             [
              0.4444444444444444,
              "#bd3786"
             ],
             [
              0.5555555555555556,
              "#d8576b"
             ],
             [
              0.6666666666666666,
              "#ed7953"
             ],
             [
              0.7777777777777778,
              "#fb9f3a"
             ],
             [
              0.8888888888888888,
              "#fdca26"
             ],
             [
              1,
              "#f0f921"
             ]
            ],
            "type": "histogram2dcontour"
           }
          ],
          "mesh3d": [
           {
            "colorbar": {
             "outlinewidth": 0,
             "ticks": ""
            },
            "type": "mesh3d"
           }
          ],
          "parcoords": [
           {
            "line": {
             "colorbar": {
              "outlinewidth": 0,
              "ticks": ""
             }
            },
            "type": "parcoords"
           }
          ],
          "pie": [
           {
            "automargin": true,
            "type": "pie"
           }
          ],
          "scatter": [
           {
            "fillpattern": {
             "fillmode": "overlay",
             "size": 10,
             "solidity": 0.2
            },
            "type": "scatter"
           }
          ],
          "scatter3d": [
           {
            "line": {
             "colorbar": {
              "outlinewidth": 0,
              "ticks": ""
             }
            },
            "marker": {
             "colorbar": {
              "outlinewidth": 0,
              "ticks": ""
             }
            },
            "type": "scatter3d"
           }
          ],
          "scattercarpet": [
           {
            "marker": {
             "colorbar": {
              "outlinewidth": 0,
              "ticks": ""
             }
            },
            "type": "scattercarpet"
           }
          ],
          "scattergeo": [
           {
            "marker": {
             "colorbar": {
              "outlinewidth": 0,
              "ticks": ""
             }
            },
            "type": "scattergeo"
           }
          ],
          "scattergl": [
           {
            "marker": {
             "colorbar": {
              "outlinewidth": 0,
              "ticks": ""
             }
            },
            "type": "scattergl"
           }
          ],
          "scattermapbox": [
           {
            "marker": {
             "colorbar": {
              "outlinewidth": 0,
              "ticks": ""
             }
            },
            "type": "scattermapbox"
           }
          ],
          "scatterpolar": [
           {
            "marker": {
             "colorbar": {
              "outlinewidth": 0,
              "ticks": ""
             }
            },
            "type": "scatterpolar"
           }
          ],
          "scatterpolargl": [
           {
            "marker": {
             "colorbar": {
              "outlinewidth": 0,
              "ticks": ""
             }
            },
            "type": "scatterpolargl"
           }
          ],
          "scatterternary": [
           {
            "marker": {
             "colorbar": {
              "outlinewidth": 0,
              "ticks": ""
             }
            },
            "type": "scatterternary"
           }
          ],
          "surface": [
           {
            "colorbar": {
             "outlinewidth": 0,
             "ticks": ""
            },
            "colorscale": [
             [
              0,
              "#0d0887"
             ],
             [
              0.1111111111111111,
              "#46039f"
             ],
             [
              0.2222222222222222,
              "#7201a8"
             ],
             [
              0.3333333333333333,
              "#9c179e"
             ],
             [
              0.4444444444444444,
              "#bd3786"
             ],
             [
              0.5555555555555556,
              "#d8576b"
             ],
             [
              0.6666666666666666,
              "#ed7953"
             ],
             [
              0.7777777777777778,
              "#fb9f3a"
             ],
             [
              0.8888888888888888,
              "#fdca26"
             ],
             [
              1,
              "#f0f921"
             ]
            ],
            "type": "surface"
           }
          ],
          "table": [
           {
            "cells": {
             "fill": {
              "color": "#EBF0F8"
             },
             "line": {
              "color": "white"
             }
            },
            "header": {
             "fill": {
              "color": "#C8D4E3"
             },
             "line": {
              "color": "white"
             }
            },
            "type": "table"
           }
          ]
         },
         "layout": {
          "annotationdefaults": {
           "arrowcolor": "#2a3f5f",
           "arrowhead": 0,
           "arrowwidth": 1
          },
          "autotypenumbers": "strict",
          "coloraxis": {
           "colorbar": {
            "outlinewidth": 0,
            "ticks": ""
           }
          },
          "colorscale": {
           "diverging": [
            [
             0,
             "#8e0152"
            ],
            [
             0.1,
             "#c51b7d"
            ],
            [
             0.2,
             "#de77ae"
            ],
            [
             0.3,
             "#f1b6da"
            ],
            [
             0.4,
             "#fde0ef"
            ],
            [
             0.5,
             "#f7f7f7"
            ],
            [
             0.6,
             "#e6f5d0"
            ],
            [
             0.7,
             "#b8e186"
            ],
            [
             0.8,
             "#7fbc41"
            ],
            [
             0.9,
             "#4d9221"
            ],
            [
             1,
             "#276419"
            ]
           ],
           "sequential": [
            [
             0,
             "#0d0887"
            ],
            [
             0.1111111111111111,
             "#46039f"
            ],
            [
             0.2222222222222222,
             "#7201a8"
            ],
            [
             0.3333333333333333,
             "#9c179e"
            ],
            [
             0.4444444444444444,
             "#bd3786"
            ],
            [
             0.5555555555555556,
             "#d8576b"
            ],
            [
             0.6666666666666666,
             "#ed7953"
            ],
            [
             0.7777777777777778,
             "#fb9f3a"
            ],
            [
             0.8888888888888888,
             "#fdca26"
            ],
            [
             1,
             "#f0f921"
            ]
           ],
           "sequentialminus": [
            [
             0,
             "#0d0887"
            ],
            [
             0.1111111111111111,
             "#46039f"
            ],
            [
             0.2222222222222222,
             "#7201a8"
            ],
            [
             0.3333333333333333,
             "#9c179e"
            ],
            [
             0.4444444444444444,
             "#bd3786"
            ],
            [
             0.5555555555555556,
             "#d8576b"
            ],
            [
             0.6666666666666666,
             "#ed7953"
            ],
            [
             0.7777777777777778,
             "#fb9f3a"
            ],
            [
             0.8888888888888888,
             "#fdca26"
            ],
            [
             1,
             "#f0f921"
            ]
           ]
          },
          "colorway": [
           "#636efa",
           "#EF553B",
           "#00cc96",
           "#ab63fa",
           "#FFA15A",
           "#19d3f3",
           "#FF6692",
           "#B6E880",
           "#FF97FF",
           "#FECB52"
          ],
          "font": {
           "color": "#2a3f5f"
          },
          "geo": {
           "bgcolor": "white",
           "lakecolor": "white",
           "landcolor": "#E5ECF6",
           "showlakes": true,
           "showland": true,
           "subunitcolor": "white"
          },
          "hoverlabel": {
           "align": "left"
          },
          "hovermode": "closest",
          "mapbox": {
           "style": "light"
          },
          "paper_bgcolor": "white",
          "plot_bgcolor": "#E5ECF6",
          "polar": {
           "angularaxis": {
            "gridcolor": "white",
            "linecolor": "white",
            "ticks": ""
           },
           "bgcolor": "#E5ECF6",
           "radialaxis": {
            "gridcolor": "white",
            "linecolor": "white",
            "ticks": ""
           }
          },
          "scene": {
           "xaxis": {
            "backgroundcolor": "#E5ECF6",
            "gridcolor": "white",
            "gridwidth": 2,
            "linecolor": "white",
            "showbackground": true,
            "ticks": "",
            "zerolinecolor": "white"
           },
           "yaxis": {
            "backgroundcolor": "#E5ECF6",
            "gridcolor": "white",
            "gridwidth": 2,
            "linecolor": "white",
            "showbackground": true,
            "ticks": "",
            "zerolinecolor": "white"
           },
           "zaxis": {
            "backgroundcolor": "#E5ECF6",
            "gridcolor": "white",
            "gridwidth": 2,
            "linecolor": "white",
            "showbackground": true,
            "ticks": "",
            "zerolinecolor": "white"
           }
          },
          "shapedefaults": {
           "line": {
            "color": "#2a3f5f"
           }
          },
          "ternary": {
           "aaxis": {
            "gridcolor": "white",
            "linecolor": "white",
            "ticks": ""
           },
           "baxis": {
            "gridcolor": "white",
            "linecolor": "white",
            "ticks": ""
           },
           "bgcolor": "#E5ECF6",
           "caxis": {
            "gridcolor": "white",
            "linecolor": "white",
            "ticks": ""
           }
          },
          "title": {
           "x": 0.05
          },
          "xaxis": {
           "automargin": true,
           "gridcolor": "white",
           "linecolor": "white",
           "ticks": "",
           "title": {
            "standoff": 15
           },
           "zerolinecolor": "white",
           "zerolinewidth": 2
          },
          "yaxis": {
           "automargin": true,
           "gridcolor": "white",
           "linecolor": "white",
           "ticks": "",
           "title": {
            "standoff": 15
           },
           "zerolinecolor": "white",
           "zerolinewidth": 2
          }
         }
        },
        "title": {
         "text": "Curva ROC"
        },
        "width": 800,
        "xaxis": {
         "anchor": "y",
         "domain": [
          0,
          1
         ],
         "title": {
          "text": "Tasa de falsos positivos"
         }
        },
        "yaxis": {
         "anchor": "x",
         "domain": [
          0,
          1
         ],
         "title": {
          "text": "Tasa de verdaderos positivos"
         }
        }
       }
      }
     },
     "metadata": {},
     "output_type": "display_data"
    }
   ],
   "source": [
    "Mejores_hiperparámetros = {'class_weight': None, 'max_depth': 20, 'min_samples_leaf': 2, 'min_samples_split': 2, 'n_estimators': 200}\n",
    "model_rf = RandomForestClassifier(**Mejores_hiperparámetros)\n",
    "\n",
    "# param_grid = {\n",
    "#     'n_estimators': [100, 200, 300],  \n",
    "#     'max_depth': [10, 20, 30],  \n",
    "#     'min_samples_split': [2, 5, 10],  \n",
    "#     'min_samples_leaf': [1, 2, 4],   \n",
    "#     'class_weight': ['balanced', 'balanced_subsample', None]  \n",
    "# }\n",
    "\n",
    "# grid_search = GridSearchCV(estimator=model_rf, param_grid=param_grid, cv=5, scoring='accuracy', n_jobs=-1, verbose=2)\n",
    "# grid_search.fit(X_train, y_train)\n",
    "\n",
    "# print(\"Mejores hiperparámetros:\", grid_search.best_params_)\n",
    "\n",
    "# #Mejores hiperparámetros: {'class_weight': None, 'max_depth': 20, 'min_samples_leaf': 2, 'min_samples_split': 2, 'n_estimators': 200}\n",
    "\n",
    "# # Predecir usando el mejor modelo encontrado\n",
    "# best_model = grid_search.best_estimator_\n",
    "# predictions = best_model.predict(X_test)\n",
    "\n",
    "model_rf.fit(X_train,y_train)\n",
    "predictions = model_rf.predict(X_test)\n",
    "find_scores(X_test, y_test, predictions, model_rf)"
   ]
  },
  {
   "cell_type": "markdown",
   "metadata": {},
   "source": [
    "#### KNN CLASSIFIER"
   ]
  },
  {
   "cell_type": "code",
   "execution_count": 27,
   "metadata": {},
   "outputs": [
    {
     "name": "stdout",
     "output_type": "stream",
     "text": [
      "              precision    recall  f1-score   support\n",
      "\n",
      "           0       0.87      0.87      0.87       844\n",
      "           1       0.62      0.61      0.61       283\n",
      "\n",
      "    accuracy                           0.81      1127\n",
      "   macro avg       0.74      0.74      0.74      1127\n",
      "weighted avg       0.81      0.81      0.81      1127\n",
      "\n",
      "Área bajo la curva ROC: 0.7422650846549327\n"
     ]
    },
    {
     "data": {
      "application/vnd.plotly.v1+json": {
       "config": {
        "plotlyServerURL": "https://plot.ly"
       },
       "data": [
        {
         "hovertemplate": "Tasa de falsos positivos=%{x}<br>Tasa de verdaderos positivos=%{y}<extra></extra>",
         "legendgroup": "",
         "line": {
          "color": "#636efa",
          "dash": "solid"
         },
         "marker": {
          "symbol": "circle"
         },
         "mode": "lines",
         "name": "",
         "orientation": "v",
         "showlegend": false,
         "type": "scatter",
         "x": [
          0,
          0.005924170616113744,
          0.015402843601895734,
          0.04265402843601896,
          0.07464454976303317,
          0.12677725118483413,
          0.20734597156398105,
          0.29976303317535546,
          0.4218009478672986,
          0.6054502369668247,
          1
         ],
         "xaxis": "x",
         "y": [
          0,
          0.053003533568904596,
          0.1625441696113074,
          0.30742049469964666,
          0.4628975265017668,
          0.6113074204946997,
          0.7491166077738516,
          0.8692579505300353,
          0.9257950530035336,
          0.9646643109540636,
          1
         ],
         "yaxis": "y"
        }
       ],
       "layout": {
        "height": 450,
        "legend": {
         "tracegroupgap": 0
        },
        "shapes": [
         {
          "line": {
           "dash": "dash"
          },
          "type": "line",
          "x0": 0,
          "x1": 1,
          "y0": 0,
          "y1": 1
         }
        ],
        "template": {
         "data": {
          "bar": [
           {
            "error_x": {
             "color": "#2a3f5f"
            },
            "error_y": {
             "color": "#2a3f5f"
            },
            "marker": {
             "line": {
              "color": "#E5ECF6",
              "width": 0.5
             },
             "pattern": {
              "fillmode": "overlay",
              "size": 10,
              "solidity": 0.2
             }
            },
            "type": "bar"
           }
          ],
          "barpolar": [
           {
            "marker": {
             "line": {
              "color": "#E5ECF6",
              "width": 0.5
             },
             "pattern": {
              "fillmode": "overlay",
              "size": 10,
              "solidity": 0.2
             }
            },
            "type": "barpolar"
           }
          ],
          "carpet": [
           {
            "aaxis": {
             "endlinecolor": "#2a3f5f",
             "gridcolor": "white",
             "linecolor": "white",
             "minorgridcolor": "white",
             "startlinecolor": "#2a3f5f"
            },
            "baxis": {
             "endlinecolor": "#2a3f5f",
             "gridcolor": "white",
             "linecolor": "white",
             "minorgridcolor": "white",
             "startlinecolor": "#2a3f5f"
            },
            "type": "carpet"
           }
          ],
          "choropleth": [
           {
            "colorbar": {
             "outlinewidth": 0,
             "ticks": ""
            },
            "type": "choropleth"
           }
          ],
          "contour": [
           {
            "colorbar": {
             "outlinewidth": 0,
             "ticks": ""
            },
            "colorscale": [
             [
              0,
              "#0d0887"
             ],
             [
              0.1111111111111111,
              "#46039f"
             ],
             [
              0.2222222222222222,
              "#7201a8"
             ],
             [
              0.3333333333333333,
              "#9c179e"
             ],
             [
              0.4444444444444444,
              "#bd3786"
             ],
             [
              0.5555555555555556,
              "#d8576b"
             ],
             [
              0.6666666666666666,
              "#ed7953"
             ],
             [
              0.7777777777777778,
              "#fb9f3a"
             ],
             [
              0.8888888888888888,
              "#fdca26"
             ],
             [
              1,
              "#f0f921"
             ]
            ],
            "type": "contour"
           }
          ],
          "contourcarpet": [
           {
            "colorbar": {
             "outlinewidth": 0,
             "ticks": ""
            },
            "type": "contourcarpet"
           }
          ],
          "heatmap": [
           {
            "colorbar": {
             "outlinewidth": 0,
             "ticks": ""
            },
            "colorscale": [
             [
              0,
              "#0d0887"
             ],
             [
              0.1111111111111111,
              "#46039f"
             ],
             [
              0.2222222222222222,
              "#7201a8"
             ],
             [
              0.3333333333333333,
              "#9c179e"
             ],
             [
              0.4444444444444444,
              "#bd3786"
             ],
             [
              0.5555555555555556,
              "#d8576b"
             ],
             [
              0.6666666666666666,
              "#ed7953"
             ],
             [
              0.7777777777777778,
              "#fb9f3a"
             ],
             [
              0.8888888888888888,
              "#fdca26"
             ],
             [
              1,
              "#f0f921"
             ]
            ],
            "type": "heatmap"
           }
          ],
          "heatmapgl": [
           {
            "colorbar": {
             "outlinewidth": 0,
             "ticks": ""
            },
            "colorscale": [
             [
              0,
              "#0d0887"
             ],
             [
              0.1111111111111111,
              "#46039f"
             ],
             [
              0.2222222222222222,
              "#7201a8"
             ],
             [
              0.3333333333333333,
              "#9c179e"
             ],
             [
              0.4444444444444444,
              "#bd3786"
             ],
             [
              0.5555555555555556,
              "#d8576b"
             ],
             [
              0.6666666666666666,
              "#ed7953"
             ],
             [
              0.7777777777777778,
              "#fb9f3a"
             ],
             [
              0.8888888888888888,
              "#fdca26"
             ],
             [
              1,
              "#f0f921"
             ]
            ],
            "type": "heatmapgl"
           }
          ],
          "histogram": [
           {
            "marker": {
             "pattern": {
              "fillmode": "overlay",
              "size": 10,
              "solidity": 0.2
             }
            },
            "type": "histogram"
           }
          ],
          "histogram2d": [
           {
            "colorbar": {
             "outlinewidth": 0,
             "ticks": ""
            },
            "colorscale": [
             [
              0,
              "#0d0887"
             ],
             [
              0.1111111111111111,
              "#46039f"
             ],
             [
              0.2222222222222222,
              "#7201a8"
             ],
             [
              0.3333333333333333,
              "#9c179e"
             ],
             [
              0.4444444444444444,
              "#bd3786"
             ],
             [
              0.5555555555555556,
              "#d8576b"
             ],
             [
              0.6666666666666666,
              "#ed7953"
             ],
             [
              0.7777777777777778,
              "#fb9f3a"
             ],
             [
              0.8888888888888888,
              "#fdca26"
             ],
             [
              1,
              "#f0f921"
             ]
            ],
            "type": "histogram2d"
           }
          ],
          "histogram2dcontour": [
           {
            "colorbar": {
             "outlinewidth": 0,
             "ticks": ""
            },
            "colorscale": [
             [
              0,
              "#0d0887"
             ],
             [
              0.1111111111111111,
              "#46039f"
             ],
             [
              0.2222222222222222,
              "#7201a8"
             ],
             [
              0.3333333333333333,
              "#9c179e"
             ],
             [
              0.4444444444444444,
              "#bd3786"
             ],
             [
              0.5555555555555556,
              "#d8576b"
             ],
             [
              0.6666666666666666,
              "#ed7953"
             ],
             [
              0.7777777777777778,
              "#fb9f3a"
             ],
             [
              0.8888888888888888,
              "#fdca26"
             ],
             [
              1,
              "#f0f921"
             ]
            ],
            "type": "histogram2dcontour"
           }
          ],
          "mesh3d": [
           {
            "colorbar": {
             "outlinewidth": 0,
             "ticks": ""
            },
            "type": "mesh3d"
           }
          ],
          "parcoords": [
           {
            "line": {
             "colorbar": {
              "outlinewidth": 0,
              "ticks": ""
             }
            },
            "type": "parcoords"
           }
          ],
          "pie": [
           {
            "automargin": true,
            "type": "pie"
           }
          ],
          "scatter": [
           {
            "fillpattern": {
             "fillmode": "overlay",
             "size": 10,
             "solidity": 0.2
            },
            "type": "scatter"
           }
          ],
          "scatter3d": [
           {
            "line": {
             "colorbar": {
              "outlinewidth": 0,
              "ticks": ""
             }
            },
            "marker": {
             "colorbar": {
              "outlinewidth": 0,
              "ticks": ""
             }
            },
            "type": "scatter3d"
           }
          ],
          "scattercarpet": [
           {
            "marker": {
             "colorbar": {
              "outlinewidth": 0,
              "ticks": ""
             }
            },
            "type": "scattercarpet"
           }
          ],
          "scattergeo": [
           {
            "marker": {
             "colorbar": {
              "outlinewidth": 0,
              "ticks": ""
             }
            },
            "type": "scattergeo"
           }
          ],
          "scattergl": [
           {
            "marker": {
             "colorbar": {
              "outlinewidth": 0,
              "ticks": ""
             }
            },
            "type": "scattergl"
           }
          ],
          "scattermapbox": [
           {
            "marker": {
             "colorbar": {
              "outlinewidth": 0,
              "ticks": ""
             }
            },
            "type": "scattermapbox"
           }
          ],
          "scatterpolar": [
           {
            "marker": {
             "colorbar": {
              "outlinewidth": 0,
              "ticks": ""
             }
            },
            "type": "scatterpolar"
           }
          ],
          "scatterpolargl": [
           {
            "marker": {
             "colorbar": {
              "outlinewidth": 0,
              "ticks": ""
             }
            },
            "type": "scatterpolargl"
           }
          ],
          "scatterternary": [
           {
            "marker": {
             "colorbar": {
              "outlinewidth": 0,
              "ticks": ""
             }
            },
            "type": "scatterternary"
           }
          ],
          "surface": [
           {
            "colorbar": {
             "outlinewidth": 0,
             "ticks": ""
            },
            "colorscale": [
             [
              0,
              "#0d0887"
             ],
             [
              0.1111111111111111,
              "#46039f"
             ],
             [
              0.2222222222222222,
              "#7201a8"
             ],
             [
              0.3333333333333333,
              "#9c179e"
             ],
             [
              0.4444444444444444,
              "#bd3786"
             ],
             [
              0.5555555555555556,
              "#d8576b"
             ],
             [
              0.6666666666666666,
              "#ed7953"
             ],
             [
              0.7777777777777778,
              "#fb9f3a"
             ],
             [
              0.8888888888888888,
              "#fdca26"
             ],
             [
              1,
              "#f0f921"
             ]
            ],
            "type": "surface"
           }
          ],
          "table": [
           {
            "cells": {
             "fill": {
              "color": "#EBF0F8"
             },
             "line": {
              "color": "white"
             }
            },
            "header": {
             "fill": {
              "color": "#C8D4E3"
             },
             "line": {
              "color": "white"
             }
            },
            "type": "table"
           }
          ]
         },
         "layout": {
          "annotationdefaults": {
           "arrowcolor": "#2a3f5f",
           "arrowhead": 0,
           "arrowwidth": 1
          },
          "autotypenumbers": "strict",
          "coloraxis": {
           "colorbar": {
            "outlinewidth": 0,
            "ticks": ""
           }
          },
          "colorscale": {
           "diverging": [
            [
             0,
             "#8e0152"
            ],
            [
             0.1,
             "#c51b7d"
            ],
            [
             0.2,
             "#de77ae"
            ],
            [
             0.3,
             "#f1b6da"
            ],
            [
             0.4,
             "#fde0ef"
            ],
            [
             0.5,
             "#f7f7f7"
            ],
            [
             0.6,
             "#e6f5d0"
            ],
            [
             0.7,
             "#b8e186"
            ],
            [
             0.8,
             "#7fbc41"
            ],
            [
             0.9,
             "#4d9221"
            ],
            [
             1,
             "#276419"
            ]
           ],
           "sequential": [
            [
             0,
             "#0d0887"
            ],
            [
             0.1111111111111111,
             "#46039f"
            ],
            [
             0.2222222222222222,
             "#7201a8"
            ],
            [
             0.3333333333333333,
             "#9c179e"
            ],
            [
             0.4444444444444444,
             "#bd3786"
            ],
            [
             0.5555555555555556,
             "#d8576b"
            ],
            [
             0.6666666666666666,
             "#ed7953"
            ],
            [
             0.7777777777777778,
             "#fb9f3a"
            ],
            [
             0.8888888888888888,
             "#fdca26"
            ],
            [
             1,
             "#f0f921"
            ]
           ],
           "sequentialminus": [
            [
             0,
             "#0d0887"
            ],
            [
             0.1111111111111111,
             "#46039f"
            ],
            [
             0.2222222222222222,
             "#7201a8"
            ],
            [
             0.3333333333333333,
             "#9c179e"
            ],
            [
             0.4444444444444444,
             "#bd3786"
            ],
            [
             0.5555555555555556,
             "#d8576b"
            ],
            [
             0.6666666666666666,
             "#ed7953"
            ],
            [
             0.7777777777777778,
             "#fb9f3a"
            ],
            [
             0.8888888888888888,
             "#fdca26"
            ],
            [
             1,
             "#f0f921"
            ]
           ]
          },
          "colorway": [
           "#636efa",
           "#EF553B",
           "#00cc96",
           "#ab63fa",
           "#FFA15A",
           "#19d3f3",
           "#FF6692",
           "#B6E880",
           "#FF97FF",
           "#FECB52"
          ],
          "font": {
           "color": "#2a3f5f"
          },
          "geo": {
           "bgcolor": "white",
           "lakecolor": "white",
           "landcolor": "#E5ECF6",
           "showlakes": true,
           "showland": true,
           "subunitcolor": "white"
          },
          "hoverlabel": {
           "align": "left"
          },
          "hovermode": "closest",
          "mapbox": {
           "style": "light"
          },
          "paper_bgcolor": "white",
          "plot_bgcolor": "#E5ECF6",
          "polar": {
           "angularaxis": {
            "gridcolor": "white",
            "linecolor": "white",
            "ticks": ""
           },
           "bgcolor": "#E5ECF6",
           "radialaxis": {
            "gridcolor": "white",
            "linecolor": "white",
            "ticks": ""
           }
          },
          "scene": {
           "xaxis": {
            "backgroundcolor": "#E5ECF6",
            "gridcolor": "white",
            "gridwidth": 2,
            "linecolor": "white",
            "showbackground": true,
            "ticks": "",
            "zerolinecolor": "white"
           },
           "yaxis": {
            "backgroundcolor": "#E5ECF6",
            "gridcolor": "white",
            "gridwidth": 2,
            "linecolor": "white",
            "showbackground": true,
            "ticks": "",
            "zerolinecolor": "white"
           },
           "zaxis": {
            "backgroundcolor": "#E5ECF6",
            "gridcolor": "white",
            "gridwidth": 2,
            "linecolor": "white",
            "showbackground": true,
            "ticks": "",
            "zerolinecolor": "white"
           }
          },
          "shapedefaults": {
           "line": {
            "color": "#2a3f5f"
           }
          },
          "ternary": {
           "aaxis": {
            "gridcolor": "white",
            "linecolor": "white",
            "ticks": ""
           },
           "baxis": {
            "gridcolor": "white",
            "linecolor": "white",
            "ticks": ""
           },
           "bgcolor": "#E5ECF6",
           "caxis": {
            "gridcolor": "white",
            "linecolor": "white",
            "ticks": ""
           }
          },
          "title": {
           "x": 0.05
          },
          "xaxis": {
           "automargin": true,
           "gridcolor": "white",
           "linecolor": "white",
           "ticks": "",
           "title": {
            "standoff": 15
           },
           "zerolinecolor": "white",
           "zerolinewidth": 2
          },
          "yaxis": {
           "automargin": true,
           "gridcolor": "white",
           "linecolor": "white",
           "ticks": "",
           "title": {
            "standoff": 15
           },
           "zerolinecolor": "white",
           "zerolinewidth": 2
          }
         }
        },
        "title": {
         "text": "Curva ROC"
        },
        "width": 800,
        "xaxis": {
         "anchor": "y",
         "domain": [
          0,
          1
         ],
         "title": {
          "text": "Tasa de falsos positivos"
         }
        },
        "yaxis": {
         "anchor": "x",
         "domain": [
          0,
          1
         ],
         "title": {
          "text": "Tasa de verdaderos positivos"
         }
        }
       }
      }
     },
     "metadata": {},
     "output_type": "display_data"
    }
   ],
   "source": [
    "Mejores_hiperparámetros = {'metric': 'manhattan', 'n_neighbors': 9, 'weights': 'uniform'}\n",
    "\n",
    "model_knn = KNeighborsClassifier(**Mejores_hiperparámetros)\n",
    "\n",
    "# param_grid = {\n",
    "#     'n_neighbors': [3, 5, 7, 9], \n",
    "#     'weights': ['uniform', 'distance'],  \n",
    "#     'metric': ['euclidean', 'manhattan', 'minkowski'] \n",
    "# }\n",
    "\n",
    "# grid_search = GridSearchCV(estimator=model_knn, param_grid=param_grid, cv=5, scoring='accuracy', n_jobs=-1, verbose=2)\n",
    "\n",
    "# grid_search.fit(X_train, y_train)\n",
    "\n",
    "# print(\"Mejores hiperparámetros:\", grid_search.best_params_)\n",
    "# \"Mejores hiperparámetros: {'metric': 'manhattan', 'n_neighbors': 9, 'weights': 'uniform'}\"\n",
    "\n",
    "# # Predecir usando el mejor modelo encontrado\n",
    "# best_model = grid_search.best_estimator_\n",
    "# predictions = best_model.predict(X_test)\n",
    "\n",
    "model_knn.fit(X_train,y_train)\n",
    "predictions = model_knn.predict(X_test)\n",
    "\n",
    "find_scores(X_test, y_test, predictions, model_knn)\n"
   ]
  },
  {
   "cell_type": "markdown",
   "metadata": {},
   "source": [
    "#### LIGHTGBM"
   ]
  },
  {
   "cell_type": "code",
   "execution_count": 15,
   "metadata": {},
   "outputs": [
    {
     "name": "stdout",
     "output_type": "stream",
     "text": [
      "              precision    recall  f1-score   support\n",
      "\n",
      "           0       0.88      0.94      0.91       844\n",
      "           1       0.79      0.63      0.70       283\n",
      "\n",
      "    accuracy                           0.87      1127\n",
      "   macro avg       0.84      0.79      0.81      1127\n",
      "weighted avg       0.86      0.87      0.86      1127\n",
      "\n",
      "Área bajo la curva ROC: 0.7878183980037848\n"
     ]
    },
    {
     "data": {
      "application/vnd.plotly.v1+json": {
       "config": {
        "plotlyServerURL": "https://plot.ly"
       },
       "data": [
        {
         "hovertemplate": "Tasa de falsos positivos=%{x}<br>Tasa de verdaderos positivos=%{y}<extra></extra>",
         "legendgroup": "",
         "line": {
          "color": "#636efa",
          "dash": "solid"
         },
         "marker": {
          "symbol": "circle"
         },
         "mode": "lines",
         "name": "",
         "orientation": "v",
         "showlegend": false,
         "type": "scatter",
         "x": [
          0,
          0,
          0,
          0,
          0,
          0,
          0,
          0.001184834123222749,
          0.001184834123222749,
          0.002369668246445498,
          0.002369668246445498,
          0.0035545023696682463,
          0.0035545023696682463,
          0.004739336492890996,
          0.004739336492890996,
          0.005924170616113744,
          0.005924170616113744,
          0.0071090047393364926,
          0.0071090047393364926,
          0.008293838862559242,
          0.008293838862559242,
          0.01066350710900474,
          0.01066350710900474,
          0.011848341232227487,
          0.011848341232227487,
          0.013033175355450236,
          0.013033175355450236,
          0.014218009478672985,
          0.014218009478672985,
          0.016587677725118485,
          0.016587677725118485,
          0.017772511848341232,
          0.017772511848341232,
          0.018957345971563982,
          0.018957345971563982,
          0.02132701421800948,
          0.02132701421800948,
          0.022511848341232227,
          0.022511848341232227,
          0.023696682464454975,
          0.023696682464454975,
          0.024881516587677725,
          0.024881516587677725,
          0.026066350710900472,
          0.026066350710900472,
          0.027251184834123223,
          0.027251184834123223,
          0.02843601895734597,
          0.02843601895734597,
          0.02962085308056872,
          0.02962085308056872,
          0.031990521327014215,
          0.031990521327014215,
          0.03317535545023697,
          0.03317535545023697,
          0.034360189573459717,
          0.034360189573459717,
          0.035545023696682464,
          0.035545023696682464,
          0.03672985781990521,
          0.03672985781990521,
          0.04028436018957346,
          0.04028436018957346,
          0.045023696682464455,
          0.045023696682464455,
          0.04976303317535545,
          0.04976303317535545,
          0.0533175355450237,
          0.0533175355450237,
          0.05568720379146919,
          0.05568720379146919,
          0.05924170616113744,
          0.05924170616113744,
          0.061611374407582936,
          0.061611374407582936,
          0.06398104265402843,
          0.06398104265402843,
          0.06990521327014218,
          0.06990521327014218,
          0.07227488151658767,
          0.07227488151658767,
          0.07582938388625593,
          0.07582938388625593,
          0.07701421800947868,
          0.07701421800947868,
          0.08056872037914692,
          0.08056872037914692,
          0.08293838862559241,
          0.08293838862559241,
          0.08412322274881516,
          0.08412322274881516,
          0.08530805687203792,
          0.08530805687203792,
          0.08767772511848342,
          0.08767772511848342,
          0.09004739336492891,
          0.09004739336492891,
          0.09123222748815166,
          0.09123222748815166,
          0.09360189573459715,
          0.09360189573459715,
          0.0947867298578199,
          0.0947867298578199,
          0.09834123222748815,
          0.09834123222748815,
          0.10308056872037914,
          0.10308056872037914,
          0.10545023696682465,
          0.10545023696682465,
          0.10900473933649289,
          0.10900473933649289,
          0.11255924170616113,
          0.11255924170616113,
          0.11611374407582939,
          0.11611374407582939,
          0.11729857819905214,
          0.11729857819905214,
          0.11848341232227488,
          0.11848341232227488,
          0.12677725118483413,
          0.12677725118483413,
          0.12914691943127962,
          0.12914691943127962,
          0.1338862559241706,
          0.1338862559241706,
          0.1362559241706161,
          0.1362559241706161,
          0.14218009478672985,
          0.14218009478672985,
          0.14454976303317535,
          0.14454976303317535,
          0.14691943127962084,
          0.14691943127962084,
          0.17061611374407584,
          0.17061611374407584,
          0.17535545023696683,
          0.17535545023696683,
          0.17654028436018956,
          0.17654028436018956,
          0.1848341232227488,
          0.1848341232227488,
          0.1872037914691943,
          0.1872037914691943,
          0.18838862559241706,
          0.18838862559241706,
          0.1990521327014218,
          0.1990521327014218,
          0.20260663507109006,
          0.20260663507109006,
          0.21445497630331753,
          0.21445497630331753,
          0.21800947867298578,
          0.21800947867298578,
          0.21919431279620852,
          0.21919431279620852,
          0.22037914691943128,
          0.22037914691943128,
          0.22867298578199052,
          0.22867298578199052,
          0.23459715639810427,
          0.23459715639810427,
          0.235781990521327,
          0.235781990521327,
          0.2381516587677725,
          0.2381516587677725,
          0.24881516587677724,
          0.24881516587677724,
          0.2523696682464455,
          0.2523696682464455,
          0.2571090047393365,
          0.2571090047393365,
          0.2677725118483412,
          0.2677725118483412,
          0.27606635071090047,
          0.27606635071090047,
          0.278436018957346,
          0.278436018957346,
          0.283175355450237,
          0.283175355450237,
          0.2950236966824645,
          0.2950236966824645,
          0.2962085308056872,
          0.2962085308056872,
          0.29739336492890994,
          0.29739336492890994,
          0.2985781990521327,
          0.2985781990521327,
          0.31990521327014215,
          0.31990521327014215,
          0.32109004739336494,
          0.32109004739336494,
          0.3222748815165877,
          0.3222748815165877,
          0.32701421800947866,
          0.32701421800947866,
          0.33767772511848343,
          0.33767772511848343,
          0.35071090047393366,
          0.35071090047393366,
          0.35545023696682465,
          0.35545023696682465,
          0.3732227488151659,
          0.3732227488151659,
          0.3755924170616114,
          0.3755924170616114,
          0.4028436018957346,
          0.4028436018957346,
          0.4158767772511848,
          0.4158767772511848,
          0.43364928909952605,
          0.43364928909952605,
          0.4561611374407583,
          0.4561611374407583,
          0.46327014218009477,
          0.46327014218009477,
          0.46445497630331756,
          0.46445497630331756,
          0.476303317535545,
          0.476303317535545,
          0.48696682464454977,
          0.48696682464454977,
          0.5308056872037915,
          0.5308056872037915,
          0.5710900473933649,
          0.5710900473933649,
          0.5793838862559242,
          0.5793838862559242,
          0.590047393364929,
          0.590047393364929,
          0.6054502369668247,
          0.6054502369668247,
          0.7251184834123223,
          0.7274881516587678,
          0.7393364928909952,
          0.7393364928909952,
          0.8601895734597157,
          0.8601895734597157,
          0.8767772511848341,
          0.8791469194312796,
          0.9620853080568721,
          0.9620853080568721,
          1
         ],
         "xaxis": "x",
         "y": [
          0,
          0.0035335689045936395,
          0.01060070671378092,
          0.0176678445229682,
          0.1696113074204947,
          0.17667844522968199,
          0.303886925795053,
          0.303886925795053,
          0.3250883392226148,
          0.3250883392226148,
          0.3392226148409894,
          0.3392226148409894,
          0.38162544169611307,
          0.38162544169611307,
          0.392226148409894,
          0.392226148409894,
          0.4134275618374558,
          0.4134275618374558,
          0.42402826855123676,
          0.42402826855123676,
          0.4275618374558304,
          0.4275618374558304,
          0.43462897526501765,
          0.43462897526501765,
          0.45936395759717313,
          0.45936395759717313,
          0.4628975265017668,
          0.4628975265017668,
          0.4911660777385159,
          0.4911660777385159,
          0.49823321554770317,
          0.49823321554770317,
          0.5017667844522968,
          0.5017667844522968,
          0.5053003533568905,
          0.5053003533568905,
          0.5229681978798587,
          0.5229681978798587,
          0.5265017667844523,
          0.5265017667844523,
          0.5441696113074205,
          0.5441696113074205,
          0.5477031802120141,
          0.5477031802120141,
          0.5512367491166078,
          0.5512367491166078,
          0.5618374558303887,
          0.5618374558303887,
          0.5653710247349824,
          0.5653710247349824,
          0.568904593639576,
          0.568904593639576,
          0.5795053003533569,
          0.5795053003533569,
          0.5830388692579506,
          0.5830388692579506,
          0.5865724381625441,
          0.5865724381625441,
          0.5936395759717314,
          0.5936395759717314,
          0.6007067137809188,
          0.6007067137809188,
          0.607773851590106,
          0.607773851590106,
          0.6113074204946997,
          0.6113074204946997,
          0.6254416961130742,
          0.6254416961130742,
          0.6289752650176679,
          0.6289752650176679,
          0.6325088339222615,
          0.6325088339222615,
          0.6360424028268551,
          0.6360424028268551,
          0.6395759717314488,
          0.6395759717314488,
          0.6501766784452296,
          0.6501766784452296,
          0.657243816254417,
          0.657243816254417,
          0.6607773851590106,
          0.6607773851590106,
          0.6678445229681979,
          0.6678445229681979,
          0.6713780918727915,
          0.6713780918727915,
          0.6784452296819788,
          0.6784452296819788,
          0.6819787985865724,
          0.6819787985865724,
          0.6855123674911661,
          0.6855123674911661,
          0.6925795053003534,
          0.6925795053003534,
          0.6996466431095406,
          0.6996466431095406,
          0.7031802120141343,
          0.7031802120141343,
          0.7102473498233216,
          0.7102473498233216,
          0.7137809187279152,
          0.7137809187279152,
          0.7173144876325088,
          0.7173144876325088,
          0.7208480565371025,
          0.7208480565371025,
          0.7243816254416962,
          0.7243816254416962,
          0.7279151943462897,
          0.7279151943462897,
          0.7314487632508834,
          0.7314487632508834,
          0.7420494699646644,
          0.7420494699646644,
          0.7455830388692579,
          0.7455830388692579,
          0.7526501766784452,
          0.7526501766784452,
          0.7561837455830389,
          0.7561837455830389,
          0.7597173144876325,
          0.7597173144876325,
          0.7667844522968198,
          0.7667844522968198,
          0.773851590106007,
          0.773851590106007,
          0.784452296819788,
          0.784452296819788,
          0.7879858657243817,
          0.7879858657243817,
          0.7950530035335689,
          0.7950530035335689,
          0.7985865724381626,
          0.7985865724381626,
          0.8021201413427562,
          0.8021201413427562,
          0.8056537102473498,
          0.8056537102473498,
          0.8091872791519434,
          0.8091872791519434,
          0.8162544169611308,
          0.8162544169611308,
          0.8197879858657244,
          0.8197879858657244,
          0.8268551236749117,
          0.8268551236749117,
          0.8303886925795053,
          0.8303886925795053,
          0.833922261484099,
          0.833922261484099,
          0.8374558303886925,
          0.8374558303886925,
          0.8409893992932862,
          0.8409893992932862,
          0.8445229681978799,
          0.8445229681978799,
          0.8480565371024735,
          0.8480565371024735,
          0.8515901060070671,
          0.8515901060070671,
          0.8551236749116607,
          0.8551236749116607,
          0.8586572438162544,
          0.8586572438162544,
          0.8621908127208481,
          0.8621908127208481,
          0.8657243816254417,
          0.8657243816254417,
          0.8692579505300353,
          0.8692579505300353,
          0.872791519434629,
          0.872791519434629,
          0.8798586572438163,
          0.8798586572438163,
          0.8833922261484098,
          0.8833922261484098,
          0.8869257950530035,
          0.8869257950530035,
          0.8904593639575972,
          0.8904593639575972,
          0.8939929328621908,
          0.8939929328621908,
          0.9045936395759717,
          0.9045936395759717,
          0.9081272084805654,
          0.9081272084805654,
          0.911660777385159,
          0.911660777385159,
          0.9151943462897526,
          0.9151943462897526,
          0.9187279151943463,
          0.9187279151943463,
          0.9222614840989399,
          0.9222614840989399,
          0.9257950530035336,
          0.9257950530035336,
          0.9293286219081273,
          0.9293286219081273,
          0.9328621908127208,
          0.9328621908127208,
          0.9363957597173145,
          0.9363957597173145,
          0.9399293286219081,
          0.9399293286219081,
          0.9434628975265018,
          0.9434628975265018,
          0.9469964664310954,
          0.9469964664310954,
          0.950530035335689,
          0.950530035335689,
          0.9540636042402827,
          0.9540636042402827,
          0.9575971731448764,
          0.9575971731448764,
          0.9611307420494699,
          0.9611307420494699,
          0.9646643109540636,
          0.9646643109540636,
          0.9681978798586572,
          0.9681978798586572,
          0.9717314487632509,
          0.9717314487632509,
          0.9752650176678446,
          0.9752650176678446,
          0.9787985865724381,
          0.9787985865724381,
          0.9823321554770318,
          0.9823321554770318,
          0.9858657243816255,
          0.9858657243816255,
          0.9893992932862191,
          0.9893992932862191,
          0.9893992932862191,
          0.9893992932862191,
          0.9929328621908127,
          0.9929328621908127,
          0.9964664310954063,
          0.9964664310954063,
          0.9964664310954063,
          0.9964664310954063,
          1,
          1
         ],
         "yaxis": "y"
        }
       ],
       "layout": {
        "height": 450,
        "legend": {
         "tracegroupgap": 0
        },
        "shapes": [
         {
          "line": {
           "dash": "dash"
          },
          "type": "line",
          "x0": 0,
          "x1": 1,
          "y0": 0,
          "y1": 1
         }
        ],
        "template": {
         "data": {
          "bar": [
           {
            "error_x": {
             "color": "#2a3f5f"
            },
            "error_y": {
             "color": "#2a3f5f"
            },
            "marker": {
             "line": {
              "color": "#E5ECF6",
              "width": 0.5
             },
             "pattern": {
              "fillmode": "overlay",
              "size": 10,
              "solidity": 0.2
             }
            },
            "type": "bar"
           }
          ],
          "barpolar": [
           {
            "marker": {
             "line": {
              "color": "#E5ECF6",
              "width": 0.5
             },
             "pattern": {
              "fillmode": "overlay",
              "size": 10,
              "solidity": 0.2
             }
            },
            "type": "barpolar"
           }
          ],
          "carpet": [
           {
            "aaxis": {
             "endlinecolor": "#2a3f5f",
             "gridcolor": "white",
             "linecolor": "white",
             "minorgridcolor": "white",
             "startlinecolor": "#2a3f5f"
            },
            "baxis": {
             "endlinecolor": "#2a3f5f",
             "gridcolor": "white",
             "linecolor": "white",
             "minorgridcolor": "white",
             "startlinecolor": "#2a3f5f"
            },
            "type": "carpet"
           }
          ],
          "choropleth": [
           {
            "colorbar": {
             "outlinewidth": 0,
             "ticks": ""
            },
            "type": "choropleth"
           }
          ],
          "contour": [
           {
            "colorbar": {
             "outlinewidth": 0,
             "ticks": ""
            },
            "colorscale": [
             [
              0,
              "#0d0887"
             ],
             [
              0.1111111111111111,
              "#46039f"
             ],
             [
              0.2222222222222222,
              "#7201a8"
             ],
             [
              0.3333333333333333,
              "#9c179e"
             ],
             [
              0.4444444444444444,
              "#bd3786"
             ],
             [
              0.5555555555555556,
              "#d8576b"
             ],
             [
              0.6666666666666666,
              "#ed7953"
             ],
             [
              0.7777777777777778,
              "#fb9f3a"
             ],
             [
              0.8888888888888888,
              "#fdca26"
             ],
             [
              1,
              "#f0f921"
             ]
            ],
            "type": "contour"
           }
          ],
          "contourcarpet": [
           {
            "colorbar": {
             "outlinewidth": 0,
             "ticks": ""
            },
            "type": "contourcarpet"
           }
          ],
          "heatmap": [
           {
            "colorbar": {
             "outlinewidth": 0,
             "ticks": ""
            },
            "colorscale": [
             [
              0,
              "#0d0887"
             ],
             [
              0.1111111111111111,
              "#46039f"
             ],
             [
              0.2222222222222222,
              "#7201a8"
             ],
             [
              0.3333333333333333,
              "#9c179e"
             ],
             [
              0.4444444444444444,
              "#bd3786"
             ],
             [
              0.5555555555555556,
              "#d8576b"
             ],
             [
              0.6666666666666666,
              "#ed7953"
             ],
             [
              0.7777777777777778,
              "#fb9f3a"
             ],
             [
              0.8888888888888888,
              "#fdca26"
             ],
             [
              1,
              "#f0f921"
             ]
            ],
            "type": "heatmap"
           }
          ],
          "heatmapgl": [
           {
            "colorbar": {
             "outlinewidth": 0,
             "ticks": ""
            },
            "colorscale": [
             [
              0,
              "#0d0887"
             ],
             [
              0.1111111111111111,
              "#46039f"
             ],
             [
              0.2222222222222222,
              "#7201a8"
             ],
             [
              0.3333333333333333,
              "#9c179e"
             ],
             [
              0.4444444444444444,
              "#bd3786"
             ],
             [
              0.5555555555555556,
              "#d8576b"
             ],
             [
              0.6666666666666666,
              "#ed7953"
             ],
             [
              0.7777777777777778,
              "#fb9f3a"
             ],
             [
              0.8888888888888888,
              "#fdca26"
             ],
             [
              1,
              "#f0f921"
             ]
            ],
            "type": "heatmapgl"
           }
          ],
          "histogram": [
           {
            "marker": {
             "pattern": {
              "fillmode": "overlay",
              "size": 10,
              "solidity": 0.2
             }
            },
            "type": "histogram"
           }
          ],
          "histogram2d": [
           {
            "colorbar": {
             "outlinewidth": 0,
             "ticks": ""
            },
            "colorscale": [
             [
              0,
              "#0d0887"
             ],
             [
              0.1111111111111111,
              "#46039f"
             ],
             [
              0.2222222222222222,
              "#7201a8"
             ],
             [
              0.3333333333333333,
              "#9c179e"
             ],
             [
              0.4444444444444444,
              "#bd3786"
             ],
             [
              0.5555555555555556,
              "#d8576b"
             ],
             [
              0.6666666666666666,
              "#ed7953"
             ],
             [
              0.7777777777777778,
              "#fb9f3a"
             ],
             [
              0.8888888888888888,
              "#fdca26"
             ],
             [
              1,
              "#f0f921"
             ]
            ],
            "type": "histogram2d"
           }
          ],
          "histogram2dcontour": [
           {
            "colorbar": {
             "outlinewidth": 0,
             "ticks": ""
            },
            "colorscale": [
             [
              0,
              "#0d0887"
             ],
             [
              0.1111111111111111,
              "#46039f"
             ],
             [
              0.2222222222222222,
              "#7201a8"
             ],
             [
              0.3333333333333333,
              "#9c179e"
             ],
             [
              0.4444444444444444,
              "#bd3786"
             ],
             [
              0.5555555555555556,
              "#d8576b"
             ],
             [
              0.6666666666666666,
              "#ed7953"
             ],
             [
              0.7777777777777778,
              "#fb9f3a"
             ],
             [
              0.8888888888888888,
              "#fdca26"
             ],
             [
              1,
              "#f0f921"
             ]
            ],
            "type": "histogram2dcontour"
           }
          ],
          "mesh3d": [
           {
            "colorbar": {
             "outlinewidth": 0,
             "ticks": ""
            },
            "type": "mesh3d"
           }
          ],
          "parcoords": [
           {
            "line": {
             "colorbar": {
              "outlinewidth": 0,
              "ticks": ""
             }
            },
            "type": "parcoords"
           }
          ],
          "pie": [
           {
            "automargin": true,
            "type": "pie"
           }
          ],
          "scatter": [
           {
            "fillpattern": {
             "fillmode": "overlay",
             "size": 10,
             "solidity": 0.2
            },
            "type": "scatter"
           }
          ],
          "scatter3d": [
           {
            "line": {
             "colorbar": {
              "outlinewidth": 0,
              "ticks": ""
             }
            },
            "marker": {
             "colorbar": {
              "outlinewidth": 0,
              "ticks": ""
             }
            },
            "type": "scatter3d"
           }
          ],
          "scattercarpet": [
           {
            "marker": {
             "colorbar": {
              "outlinewidth": 0,
              "ticks": ""
             }
            },
            "type": "scattercarpet"
           }
          ],
          "scattergeo": [
           {
            "marker": {
             "colorbar": {
              "outlinewidth": 0,
              "ticks": ""
             }
            },
            "type": "scattergeo"
           }
          ],
          "scattergl": [
           {
            "marker": {
             "colorbar": {
              "outlinewidth": 0,
              "ticks": ""
             }
            },
            "type": "scattergl"
           }
          ],
          "scattermapbox": [
           {
            "marker": {
             "colorbar": {
              "outlinewidth": 0,
              "ticks": ""
             }
            },
            "type": "scattermapbox"
           }
          ],
          "scatterpolar": [
           {
            "marker": {
             "colorbar": {
              "outlinewidth": 0,
              "ticks": ""
             }
            },
            "type": "scatterpolar"
           }
          ],
          "scatterpolargl": [
           {
            "marker": {
             "colorbar": {
              "outlinewidth": 0,
              "ticks": ""
             }
            },
            "type": "scatterpolargl"
           }
          ],
          "scatterternary": [
           {
            "marker": {
             "colorbar": {
              "outlinewidth": 0,
              "ticks": ""
             }
            },
            "type": "scatterternary"
           }
          ],
          "surface": [
           {
            "colorbar": {
             "outlinewidth": 0,
             "ticks": ""
            },
            "colorscale": [
             [
              0,
              "#0d0887"
             ],
             [
              0.1111111111111111,
              "#46039f"
             ],
             [
              0.2222222222222222,
              "#7201a8"
             ],
             [
              0.3333333333333333,
              "#9c179e"
             ],
             [
              0.4444444444444444,
              "#bd3786"
             ],
             [
              0.5555555555555556,
              "#d8576b"
             ],
             [
              0.6666666666666666,
              "#ed7953"
             ],
             [
              0.7777777777777778,
              "#fb9f3a"
             ],
             [
              0.8888888888888888,
              "#fdca26"
             ],
             [
              1,
              "#f0f921"
             ]
            ],
            "type": "surface"
           }
          ],
          "table": [
           {
            "cells": {
             "fill": {
              "color": "#EBF0F8"
             },
             "line": {
              "color": "white"
             }
            },
            "header": {
             "fill": {
              "color": "#C8D4E3"
             },
             "line": {
              "color": "white"
             }
            },
            "type": "table"
           }
          ]
         },
         "layout": {
          "annotationdefaults": {
           "arrowcolor": "#2a3f5f",
           "arrowhead": 0,
           "arrowwidth": 1
          },
          "autotypenumbers": "strict",
          "coloraxis": {
           "colorbar": {
            "outlinewidth": 0,
            "ticks": ""
           }
          },
          "colorscale": {
           "diverging": [
            [
             0,
             "#8e0152"
            ],
            [
             0.1,
             "#c51b7d"
            ],
            [
             0.2,
             "#de77ae"
            ],
            [
             0.3,
             "#f1b6da"
            ],
            [
             0.4,
             "#fde0ef"
            ],
            [
             0.5,
             "#f7f7f7"
            ],
            [
             0.6,
             "#e6f5d0"
            ],
            [
             0.7,
             "#b8e186"
            ],
            [
             0.8,
             "#7fbc41"
            ],
            [
             0.9,
             "#4d9221"
            ],
            [
             1,
             "#276419"
            ]
           ],
           "sequential": [
            [
             0,
             "#0d0887"
            ],
            [
             0.1111111111111111,
             "#46039f"
            ],
            [
             0.2222222222222222,
             "#7201a8"
            ],
            [
             0.3333333333333333,
             "#9c179e"
            ],
            [
             0.4444444444444444,
             "#bd3786"
            ],
            [
             0.5555555555555556,
             "#d8576b"
            ],
            [
             0.6666666666666666,
             "#ed7953"
            ],
            [
             0.7777777777777778,
             "#fb9f3a"
            ],
            [
             0.8888888888888888,
             "#fdca26"
            ],
            [
             1,
             "#f0f921"
            ]
           ],
           "sequentialminus": [
            [
             0,
             "#0d0887"
            ],
            [
             0.1111111111111111,
             "#46039f"
            ],
            [
             0.2222222222222222,
             "#7201a8"
            ],
            [
             0.3333333333333333,
             "#9c179e"
            ],
            [
             0.4444444444444444,
             "#bd3786"
            ],
            [
             0.5555555555555556,
             "#d8576b"
            ],
            [
             0.6666666666666666,
             "#ed7953"
            ],
            [
             0.7777777777777778,
             "#fb9f3a"
            ],
            [
             0.8888888888888888,
             "#fdca26"
            ],
            [
             1,
             "#f0f921"
            ]
           ]
          },
          "colorway": [
           "#636efa",
           "#EF553B",
           "#00cc96",
           "#ab63fa",
           "#FFA15A",
           "#19d3f3",
           "#FF6692",
           "#B6E880",
           "#FF97FF",
           "#FECB52"
          ],
          "font": {
           "color": "#2a3f5f"
          },
          "geo": {
           "bgcolor": "white",
           "lakecolor": "white",
           "landcolor": "#E5ECF6",
           "showlakes": true,
           "showland": true,
           "subunitcolor": "white"
          },
          "hoverlabel": {
           "align": "left"
          },
          "hovermode": "closest",
          "mapbox": {
           "style": "light"
          },
          "paper_bgcolor": "white",
          "plot_bgcolor": "#E5ECF6",
          "polar": {
           "angularaxis": {
            "gridcolor": "white",
            "linecolor": "white",
            "ticks": ""
           },
           "bgcolor": "#E5ECF6",
           "radialaxis": {
            "gridcolor": "white",
            "linecolor": "white",
            "ticks": ""
           }
          },
          "scene": {
           "xaxis": {
            "backgroundcolor": "#E5ECF6",
            "gridcolor": "white",
            "gridwidth": 2,
            "linecolor": "white",
            "showbackground": true,
            "ticks": "",
            "zerolinecolor": "white"
           },
           "yaxis": {
            "backgroundcolor": "#E5ECF6",
            "gridcolor": "white",
            "gridwidth": 2,
            "linecolor": "white",
            "showbackground": true,
            "ticks": "",
            "zerolinecolor": "white"
           },
           "zaxis": {
            "backgroundcolor": "#E5ECF6",
            "gridcolor": "white",
            "gridwidth": 2,
            "linecolor": "white",
            "showbackground": true,
            "ticks": "",
            "zerolinecolor": "white"
           }
          },
          "shapedefaults": {
           "line": {
            "color": "#2a3f5f"
           }
          },
          "ternary": {
           "aaxis": {
            "gridcolor": "white",
            "linecolor": "white",
            "ticks": ""
           },
           "baxis": {
            "gridcolor": "white",
            "linecolor": "white",
            "ticks": ""
           },
           "bgcolor": "#E5ECF6",
           "caxis": {
            "gridcolor": "white",
            "linecolor": "white",
            "ticks": ""
           }
          },
          "title": {
           "x": 0.05
          },
          "xaxis": {
           "automargin": true,
           "gridcolor": "white",
           "linecolor": "white",
           "ticks": "",
           "title": {
            "standoff": 15
           },
           "zerolinecolor": "white",
           "zerolinewidth": 2
          },
          "yaxis": {
           "automargin": true,
           "gridcolor": "white",
           "linecolor": "white",
           "ticks": "",
           "title": {
            "standoff": 15
           },
           "zerolinecolor": "white",
           "zerolinewidth": 2
          }
         }
        },
        "title": {
         "text": "Curva ROC"
        },
        "width": 800,
        "xaxis": {
         "anchor": "y",
         "domain": [
          0,
          1
         ],
         "title": {
          "text": "Tasa de falsos positivos"
         }
        },
        "yaxis": {
         "anchor": "x",
         "domain": [
          0,
          1
         ],
         "title": {
          "text": "Tasa de verdaderos positivos"
         }
        }
       }
      }
     },
     "metadata": {},
     "output_type": "display_data"
    },
    {
     "data": {
      "text/plain": [
       "\"Mejores hiperparámetros: {'boosting_type': 'gbdt', 'objective': 'binary', 'metric': 'binary_logloss', 'num_leaves': 31, 'learning_rate': 0.1, 'min_child_samples': 30, 'reg_alpha': 0.1, 'reg_lambda': 0.1, 'verbose': -1}\\n\""
      ]
     },
     "execution_count": 15,
     "metadata": {},
     "output_type": "execute_result"
    }
   ],
   "source": [
    "\n",
    "train_data = lgbm.Dataset(X_train, label=y_train)\n",
    "\n",
    "# # Definir el espacio de búsqueda de hiperparámetros\n",
    "# param_grid = {\n",
    "#     'boosting_type': ['gbdt'],\n",
    "#     'objective': ['binary'],\n",
    "#     'metric': ['binary_logloss'],\n",
    "#     'num_leaves': [31, 50, 100],\n",
    "#     'n_estimators': [100, 200, 300],\n",
    "#     'learning_rate': [0.1, 0.01, 0.05],\n",
    "#     'min_child_samples': [20, 30],\n",
    "#     'reg_alpha': [0.0, 0.1],\n",
    "#     'reg_lambda': [0.0, 0.1]\n",
    "# }\n",
    "\n",
    "# # Variables para almacenar los mejores resultados\n",
    "# best_params = None\n",
    "# best_score = float('inf')\n",
    "\n",
    "# # Parámetros para early stopping\n",
    "# early_stopping_rounds = 10\n",
    "\n",
    "# # Búsqueda de hiperparámetros utilizando validación cruzada\n",
    "# for num_leaves in param_grid['num_leaves']:\n",
    "#     for n_estimators in param_grid['num_leaves']:    \n",
    "#         for learning_rate in param_grid['learning_rate']:\n",
    "#                 for min_child_samples in param_grid['min_child_samples']:\n",
    "#                     for reg_alpha in param_grid['reg_alpha']:\n",
    "#                         for reg_lambda in param_grid['reg_lambda']:\n",
    "#                             params = {\n",
    "#                                 'boosting_type': 'gbdt',\n",
    "#                                 'objective': 'binary',\n",
    "#                                 'metric': 'binary_logloss',\n",
    "#                                 'num_leaves': num_leaves,\n",
    "#                                 'learning_rate': learning_rate,\n",
    "#                                 'min_child_samples': min_child_samples,\n",
    "#                                 'reg_alpha': reg_alpha,\n",
    "#                                 'reg_lambda': reg_lambda,\n",
    "#                                 'verbose': -1\n",
    "#                             }\n",
    "\n",
    "#                             # Realizar la validación cruzada\n",
    "#                             cv_results = lgbm.cv(params, train_data, nfold=5, metrics='f1', stratified=True, seed=123)\n",
    "\n",
    "#                             # Implementar early stopping manualmente\n",
    "#                             min_logloss = np.min(cv_results['valid binary_logloss-mean'])\n",
    "#                             best_round = np.argmin(cv_results['valid binary_logloss-mean'])\n",
    "\n",
    "#                             if best_round + early_stopping_rounds < len(cv_results['valid binary_logloss-mean']):\n",
    "#                                 continue\n",
    "\n",
    "#                             # Verificar si es la mejor métrica encontrada\n",
    "#                             if min_logloss < best_score:\n",
    "#                                 best_score = min_logloss\n",
    "#                                 best_params = params\n",
    "                            \n",
    "\n",
    "# # Entrenar el modelo con los mejores hiperparámetros encontrados\n",
    "# print(\"Mejores hiperparámetros:\", best_params)\n",
    "\"\"\"Mejores hiperparámetros: {'boosting_type': 'gbdt', 'objective': 'binary', 'metric': 'binary_logloss', 'num_leaves': 31, 'learning_rate': 0.1, 'min_child_samples': 30, 'reg_alpha': 0.1, 'reg_lambda': 0.1, 'verbose': -1}\n",
    "\"\"\"\n",
    "\n",
    "\n",
    "best_params = {'boosting_type': 'gbdt', 'objective': 'binary', 'metric': 'binary_logloss', 'num_leaves': 31, 'learning_rate': 0.1, 'min_child_samples': 30, 'reg_alpha': 0.1, 'reg_lambda': 0.1, 'verbose': -1}\n",
    "\n",
    "\n",
    "model_lgbm = lgbm.train(best_params, train_data)\n",
    "predictions = ((model_lgbm.predict(X_test)) >= 0.5).astype(int)\n",
    "\n",
    "# Evaluar el modelo\n",
    "find_scores(X_test, y_test, predictions, model_lgbm)\n",
    "\n",
    "\n"
   ]
  },
  {
   "cell_type": "markdown",
   "metadata": {},
   "source": [
    "#### CATBOOST"
   ]
  },
  {
   "cell_type": "code",
   "execution_count": 29,
   "metadata": {},
   "outputs": [
    {
     "name": "stdout",
     "output_type": "stream",
     "text": [
      "              precision    recall  f1-score   support\n",
      "\n",
      "           0       0.90      0.95      0.92       844\n",
      "           1       0.82      0.67      0.74       283\n",
      "\n",
      "    accuracy                           0.88      1127\n",
      "   macro avg       0.86      0.81      0.83      1127\n",
      "weighted avg       0.88      0.88      0.88      1127\n",
      "\n",
      "Área bajo la curva ROC: 0.8125743138010149\n"
     ]
    },
    {
     "data": {
      "application/vnd.plotly.v1+json": {
       "config": {
        "plotlyServerURL": "https://plot.ly"
       },
       "data": [
        {
         "hovertemplate": "Tasa de falsos positivos=%{x}<br>Tasa de verdaderos positivos=%{y}<extra></extra>",
         "legendgroup": "",
         "line": {
          "color": "#636efa",
          "dash": "solid"
         },
         "marker": {
          "symbol": "circle"
         },
         "mode": "lines",
         "name": "",
         "orientation": "v",
         "showlegend": false,
         "type": "scatter",
         "x": [
          0,
          0,
          0,
          0,
          0,
          0.001184834123222749,
          0.001184834123222749,
          0.002369668246445498,
          0.002369668246445498,
          0.0035545023696682463,
          0.0035545023696682463,
          0.004739336492890996,
          0.004739336492890996,
          0.008293838862559242,
          0.008293838862559242,
          0.01066350710900474,
          0.01066350710900474,
          0.011848341232227487,
          0.011848341232227487,
          0.013033175355450236,
          0.013033175355450236,
          0.014218009478672985,
          0.014218009478672985,
          0.015402843601895734,
          0.015402843601895734,
          0.016587677725118485,
          0.016587677725118485,
          0.018957345971563982,
          0.018957345971563982,
          0.02014218009478673,
          0.02014218009478673,
          0.023696682464454975,
          0.023696682464454975,
          0.024881516587677725,
          0.024881516587677725,
          0.026066350710900472,
          0.026066350710900472,
          0.027251184834123223,
          0.027251184834123223,
          0.02843601895734597,
          0.02843601895734597,
          0.030805687203791468,
          0.030805687203791468,
          0.031990521327014215,
          0.031990521327014215,
          0.034360189573459717,
          0.034360189573459717,
          0.035545023696682464,
          0.035545023696682464,
          0.03672985781990521,
          0.03672985781990521,
          0.041469194312796206,
          0.041469194312796206,
          0.0485781990521327,
          0.0485781990521327,
          0.054502369668246446,
          0.054502369668246446,
          0.05568720379146919,
          0.05568720379146919,
          0.05687203791469194,
          0.05687203791469194,
          0.058056872037914695,
          0.058056872037914695,
          0.05924170616113744,
          0.05924170616113744,
          0.061611374407582936,
          0.061611374407582936,
          0.06398104265402843,
          0.06398104265402843,
          0.06753554502369669,
          0.06753554502369669,
          0.07227488151658767,
          0.07227488151658767,
          0.07345971563981042,
          0.07345971563981042,
          0.08412322274881516,
          0.08412322274881516,
          0.09597156398104266,
          0.09597156398104266,
          0.10071090047393365,
          0.10071090047393365,
          0.10308056872037914,
          0.10308056872037914,
          0.10900473933649289,
          0.10900473933649289,
          0.11018957345971564,
          0.11018957345971564,
          0.11137440758293839,
          0.11137440758293839,
          0.11255924170616113,
          0.11255924170616113,
          0.11492890995260663,
          0.11492890995260663,
          0.11611374407582939,
          0.11611374407582939,
          0.11729857819905214,
          0.11729857819905214,
          0.11966824644549763,
          0.11966824644549763,
          0.12559241706161137,
          0.12559241706161137,
          0.12914691943127962,
          0.12914691943127962,
          0.13507109004739337,
          0.13507109004739337,
          0.14099526066350712,
          0.14099526066350712,
          0.14336492890995262,
          0.14336492890995262,
          0.1457345971563981,
          0.1457345971563981,
          0.14928909952606634,
          0.14928909952606634,
          0.15165876777251186,
          0.15165876777251186,
          0.1528436018957346,
          0.1528436018957346,
          0.15402843601895735,
          0.15402843601895735,
          0.1646919431279621,
          0.1646919431279621,
          0.16943127962085308,
          0.16943127962085308,
          0.17535545023696683,
          0.17535545023696683,
          0.17654028436018956,
          0.17654028436018956,
          0.17890995260663506,
          0.17890995260663506,
          0.18601895734597157,
          0.18601895734597157,
          0.18838862559241706,
          0.18838862559241706,
          0.1943127962085308,
          0.1943127962085308,
          0.1990521327014218,
          0.1990521327014218,
          0.22274881516587677,
          0.22274881516587677,
          0.2381516587677725,
          0.2381516587677725,
          0.24881516587677724,
          0.24881516587677724,
          0.2523696682464455,
          0.2523696682464455,
          0.26421800947867297,
          0.26421800947867297,
          0.2665876777251185,
          0.2665876777251185,
          0.2772511848341232,
          0.2772511848341232,
          0.283175355450237,
          0.283175355450237,
          0.28672985781990523,
          0.28672985781990523,
          0.29976303317535546,
          0.29976303317535546,
          0.3009478672985782,
          0.3009478672985782,
          0.30213270142180093,
          0.30213270142180093,
          0.3033175355450237,
          0.3033175355450237,
          0.31161137440758296,
          0.31161137440758296,
          0.31398104265402843,
          0.31398104265402843,
          0.35071090047393366,
          0.35071090047393366,
          0.36611374407582936,
          0.36611374407582936,
          0.38744075829383884,
          0.38744075829383884,
          0.4087677725118483,
          0.4087677725118483,
          0.4194312796208531,
          0.4194312796208531,
          0.5,
          0.5,
          0.5248815165876777,
          0.5248815165876777,
          0.5841232227488151,
          0.5841232227488151,
          0.6172985781990521,
          0.6172985781990521,
          0.6220379146919431,
          0.6220379146919431,
          0.70260663507109,
          0.70260663507109,
          0.7274881516587678,
          0.7274881516587678,
          0.9040284360189573,
          0.9040284360189573,
          0.9917061611374408,
          0.995260663507109,
          1
         ],
         "xaxis": "x",
         "y": [
          0,
          0.0035335689045936395,
          0.14487632508833923,
          0.1519434628975265,
          0.30742049469964666,
          0.30742049469964666,
          0.3321554770318021,
          0.3321554770318021,
          0.38162544169611307,
          0.38162544169611307,
          0.4452296819787986,
          0.4452296819787986,
          0.4558303886925795,
          0.4558303886925795,
          0.4628975265017668,
          0.4628975265017668,
          0.46996466431095407,
          0.46996466431095407,
          0.4734982332155477,
          0.4734982332155477,
          0.47703180212014135,
          0.47703180212014135,
          0.4911660777385159,
          0.4911660777385159,
          0.5017667844522968,
          0.5017667844522968,
          0.5123674911660777,
          0.5123674911660777,
          0.5300353356890459,
          0.5300353356890459,
          0.5371024734982333,
          0.5371024734982333,
          0.5653710247349824,
          0.5653710247349824,
          0.568904593639576,
          0.568904593639576,
          0.5936395759717314,
          0.5936395759717314,
          0.5971731448763251,
          0.5971731448763251,
          0.6254416961130742,
          0.6254416961130742,
          0.6395759717314488,
          0.6395759717314488,
          0.6431095406360424,
          0.6431095406360424,
          0.6537102473498233,
          0.6537102473498233,
          0.657243816254417,
          0.657243816254417,
          0.6607773851590106,
          0.6607773851590106,
          0.6678445229681979,
          0.6678445229681979,
          0.6749116607773852,
          0.6749116607773852,
          0.6784452296819788,
          0.6784452296819788,
          0.6855123674911661,
          0.6855123674911661,
          0.6890459363957597,
          0.6890459363957597,
          0.6925795053003534,
          0.6925795053003534,
          0.7067137809187279,
          0.7067137809187279,
          0.7102473498233216,
          0.7102473498233216,
          0.7137809187279152,
          0.7137809187279152,
          0.7173144876325088,
          0.7173144876325088,
          0.7208480565371025,
          0.7208480565371025,
          0.7279151943462897,
          0.7279151943462897,
          0.7314487632508834,
          0.7314487632508834,
          0.734982332155477,
          0.734982332155477,
          0.7385159010600707,
          0.7385159010600707,
          0.7420494699646644,
          0.7420494699646644,
          0.7455830388692579,
          0.7455830388692579,
          0.7491166077738516,
          0.7491166077738516,
          0.7526501766784452,
          0.7526501766784452,
          0.7561837455830389,
          0.7561837455830389,
          0.7632508833922261,
          0.7632508833922261,
          0.7703180212014135,
          0.7703180212014135,
          0.773851590106007,
          0.773851590106007,
          0.7773851590106007,
          0.7773851590106007,
          0.7809187279151943,
          0.7809187279151943,
          0.784452296819788,
          0.784452296819788,
          0.7879858657243817,
          0.7879858657243817,
          0.7915194346289752,
          0.7915194346289752,
          0.7950530035335689,
          0.7950530035335689,
          0.8021201413427562,
          0.8021201413427562,
          0.8056537102473498,
          0.8056537102473498,
          0.8197879858657244,
          0.8197879858657244,
          0.823321554770318,
          0.823321554770318,
          0.8268551236749117,
          0.8268551236749117,
          0.8303886925795053,
          0.8303886925795053,
          0.8374558303886925,
          0.8374558303886925,
          0.8409893992932862,
          0.8409893992932862,
          0.8445229681978799,
          0.8445229681978799,
          0.8515901060070671,
          0.8515901060070671,
          0.8551236749116607,
          0.8551236749116607,
          0.8621908127208481,
          0.8621908127208481,
          0.8692579505300353,
          0.8692579505300353,
          0.872791519434629,
          0.872791519434629,
          0.8763250883392226,
          0.8763250883392226,
          0.8798586572438163,
          0.8798586572438163,
          0.8833922261484098,
          0.8833922261484098,
          0.8869257950530035,
          0.8869257950530035,
          0.8904593639575972,
          0.8904593639575972,
          0.8939929328621908,
          0.8939929328621908,
          0.8975265017667845,
          0.8975265017667845,
          0.901060070671378,
          0.901060070671378,
          0.9081272084805654,
          0.9081272084805654,
          0.9151943462897526,
          0.9151943462897526,
          0.9257950530035336,
          0.9257950530035336,
          0.9293286219081273,
          0.9293286219081273,
          0.9328621908127208,
          0.9328621908127208,
          0.9363957597173145,
          0.9363957597173145,
          0.9399293286219081,
          0.9399293286219081,
          0.9434628975265018,
          0.9434628975265018,
          0.9540636042402827,
          0.9540636042402827,
          0.9575971731448764,
          0.9575971731448764,
          0.9611307420494699,
          0.9611307420494699,
          0.9681978798586572,
          0.9681978798586572,
          0.9717314487632509,
          0.9717314487632509,
          0.9787985865724381,
          0.9787985865724381,
          0.9823321554770318,
          0.9823321554770318,
          0.9858657243816255,
          0.9858657243816255,
          0.9893992932862191,
          0.9893992932862191,
          0.9929328621908127,
          0.9929328621908127,
          0.9964664310954063,
          0.9964664310954063,
          1,
          1,
          1,
          1
         ],
         "yaxis": "y"
        }
       ],
       "layout": {
        "height": 450,
        "legend": {
         "tracegroupgap": 0
        },
        "shapes": [
         {
          "line": {
           "dash": "dash"
          },
          "type": "line",
          "x0": 0,
          "x1": 1,
          "y0": 0,
          "y1": 1
         }
        ],
        "template": {
         "data": {
          "bar": [
           {
            "error_x": {
             "color": "#2a3f5f"
            },
            "error_y": {
             "color": "#2a3f5f"
            },
            "marker": {
             "line": {
              "color": "#E5ECF6",
              "width": 0.5
             },
             "pattern": {
              "fillmode": "overlay",
              "size": 10,
              "solidity": 0.2
             }
            },
            "type": "bar"
           }
          ],
          "barpolar": [
           {
            "marker": {
             "line": {
              "color": "#E5ECF6",
              "width": 0.5
             },
             "pattern": {
              "fillmode": "overlay",
              "size": 10,
              "solidity": 0.2
             }
            },
            "type": "barpolar"
           }
          ],
          "carpet": [
           {
            "aaxis": {
             "endlinecolor": "#2a3f5f",
             "gridcolor": "white",
             "linecolor": "white",
             "minorgridcolor": "white",
             "startlinecolor": "#2a3f5f"
            },
            "baxis": {
             "endlinecolor": "#2a3f5f",
             "gridcolor": "white",
             "linecolor": "white",
             "minorgridcolor": "white",
             "startlinecolor": "#2a3f5f"
            },
            "type": "carpet"
           }
          ],
          "choropleth": [
           {
            "colorbar": {
             "outlinewidth": 0,
             "ticks": ""
            },
            "type": "choropleth"
           }
          ],
          "contour": [
           {
            "colorbar": {
             "outlinewidth": 0,
             "ticks": ""
            },
            "colorscale": [
             [
              0,
              "#0d0887"
             ],
             [
              0.1111111111111111,
              "#46039f"
             ],
             [
              0.2222222222222222,
              "#7201a8"
             ],
             [
              0.3333333333333333,
              "#9c179e"
             ],
             [
              0.4444444444444444,
              "#bd3786"
             ],
             [
              0.5555555555555556,
              "#d8576b"
             ],
             [
              0.6666666666666666,
              "#ed7953"
             ],
             [
              0.7777777777777778,
              "#fb9f3a"
             ],
             [
              0.8888888888888888,
              "#fdca26"
             ],
             [
              1,
              "#f0f921"
             ]
            ],
            "type": "contour"
           }
          ],
          "contourcarpet": [
           {
            "colorbar": {
             "outlinewidth": 0,
             "ticks": ""
            },
            "type": "contourcarpet"
           }
          ],
          "heatmap": [
           {
            "colorbar": {
             "outlinewidth": 0,
             "ticks": ""
            },
            "colorscale": [
             [
              0,
              "#0d0887"
             ],
             [
              0.1111111111111111,
              "#46039f"
             ],
             [
              0.2222222222222222,
              "#7201a8"
             ],
             [
              0.3333333333333333,
              "#9c179e"
             ],
             [
              0.4444444444444444,
              "#bd3786"
             ],
             [
              0.5555555555555556,
              "#d8576b"
             ],
             [
              0.6666666666666666,
              "#ed7953"
             ],
             [
              0.7777777777777778,
              "#fb9f3a"
             ],
             [
              0.8888888888888888,
              "#fdca26"
             ],
             [
              1,
              "#f0f921"
             ]
            ],
            "type": "heatmap"
           }
          ],
          "heatmapgl": [
           {
            "colorbar": {
             "outlinewidth": 0,
             "ticks": ""
            },
            "colorscale": [
             [
              0,
              "#0d0887"
             ],
             [
              0.1111111111111111,
              "#46039f"
             ],
             [
              0.2222222222222222,
              "#7201a8"
             ],
             [
              0.3333333333333333,
              "#9c179e"
             ],
             [
              0.4444444444444444,
              "#bd3786"
             ],
             [
              0.5555555555555556,
              "#d8576b"
             ],
             [
              0.6666666666666666,
              "#ed7953"
             ],
             [
              0.7777777777777778,
              "#fb9f3a"
             ],
             [
              0.8888888888888888,
              "#fdca26"
             ],
             [
              1,
              "#f0f921"
             ]
            ],
            "type": "heatmapgl"
           }
          ],
          "histogram": [
           {
            "marker": {
             "pattern": {
              "fillmode": "overlay",
              "size": 10,
              "solidity": 0.2
             }
            },
            "type": "histogram"
           }
          ],
          "histogram2d": [
           {
            "colorbar": {
             "outlinewidth": 0,
             "ticks": ""
            },
            "colorscale": [
             [
              0,
              "#0d0887"
             ],
             [
              0.1111111111111111,
              "#46039f"
             ],
             [
              0.2222222222222222,
              "#7201a8"
             ],
             [
              0.3333333333333333,
              "#9c179e"
             ],
             [
              0.4444444444444444,
              "#bd3786"
             ],
             [
              0.5555555555555556,
              "#d8576b"
             ],
             [
              0.6666666666666666,
              "#ed7953"
             ],
             [
              0.7777777777777778,
              "#fb9f3a"
             ],
             [
              0.8888888888888888,
              "#fdca26"
             ],
             [
              1,
              "#f0f921"
             ]
            ],
            "type": "histogram2d"
           }
          ],
          "histogram2dcontour": [
           {
            "colorbar": {
             "outlinewidth": 0,
             "ticks": ""
            },
            "colorscale": [
             [
              0,
              "#0d0887"
             ],
             [
              0.1111111111111111,
              "#46039f"
             ],
             [
              0.2222222222222222,
              "#7201a8"
             ],
             [
              0.3333333333333333,
              "#9c179e"
             ],
             [
              0.4444444444444444,
              "#bd3786"
             ],
             [
              0.5555555555555556,
              "#d8576b"
             ],
             [
              0.6666666666666666,
              "#ed7953"
             ],
             [
              0.7777777777777778,
              "#fb9f3a"
             ],
             [
              0.8888888888888888,
              "#fdca26"
             ],
             [
              1,
              "#f0f921"
             ]
            ],
            "type": "histogram2dcontour"
           }
          ],
          "mesh3d": [
           {
            "colorbar": {
             "outlinewidth": 0,
             "ticks": ""
            },
            "type": "mesh3d"
           }
          ],
          "parcoords": [
           {
            "line": {
             "colorbar": {
              "outlinewidth": 0,
              "ticks": ""
             }
            },
            "type": "parcoords"
           }
          ],
          "pie": [
           {
            "automargin": true,
            "type": "pie"
           }
          ],
          "scatter": [
           {
            "fillpattern": {
             "fillmode": "overlay",
             "size": 10,
             "solidity": 0.2
            },
            "type": "scatter"
           }
          ],
          "scatter3d": [
           {
            "line": {
             "colorbar": {
              "outlinewidth": 0,
              "ticks": ""
             }
            },
            "marker": {
             "colorbar": {
              "outlinewidth": 0,
              "ticks": ""
             }
            },
            "type": "scatter3d"
           }
          ],
          "scattercarpet": [
           {
            "marker": {
             "colorbar": {
              "outlinewidth": 0,
              "ticks": ""
             }
            },
            "type": "scattercarpet"
           }
          ],
          "scattergeo": [
           {
            "marker": {
             "colorbar": {
              "outlinewidth": 0,
              "ticks": ""
             }
            },
            "type": "scattergeo"
           }
          ],
          "scattergl": [
           {
            "marker": {
             "colorbar": {
              "outlinewidth": 0,
              "ticks": ""
             }
            },
            "type": "scattergl"
           }
          ],
          "scattermapbox": [
           {
            "marker": {
             "colorbar": {
              "outlinewidth": 0,
              "ticks": ""
             }
            },
            "type": "scattermapbox"
           }
          ],
          "scatterpolar": [
           {
            "marker": {
             "colorbar": {
              "outlinewidth": 0,
              "ticks": ""
             }
            },
            "type": "scatterpolar"
           }
          ],
          "scatterpolargl": [
           {
            "marker": {
             "colorbar": {
              "outlinewidth": 0,
              "ticks": ""
             }
            },
            "type": "scatterpolargl"
           }
          ],
          "scatterternary": [
           {
            "marker": {
             "colorbar": {
              "outlinewidth": 0,
              "ticks": ""
             }
            },
            "type": "scatterternary"
           }
          ],
          "surface": [
           {
            "colorbar": {
             "outlinewidth": 0,
             "ticks": ""
            },
            "colorscale": [
             [
              0,
              "#0d0887"
             ],
             [
              0.1111111111111111,
              "#46039f"
             ],
             [
              0.2222222222222222,
              "#7201a8"
             ],
             [
              0.3333333333333333,
              "#9c179e"
             ],
             [
              0.4444444444444444,
              "#bd3786"
             ],
             [
              0.5555555555555556,
              "#d8576b"
             ],
             [
              0.6666666666666666,
              "#ed7953"
             ],
             [
              0.7777777777777778,
              "#fb9f3a"
             ],
             [
              0.8888888888888888,
              "#fdca26"
             ],
             [
              1,
              "#f0f921"
             ]
            ],
            "type": "surface"
           }
          ],
          "table": [
           {
            "cells": {
             "fill": {
              "color": "#EBF0F8"
             },
             "line": {
              "color": "white"
             }
            },
            "header": {
             "fill": {
              "color": "#C8D4E3"
             },
             "line": {
              "color": "white"
             }
            },
            "type": "table"
           }
          ]
         },
         "layout": {
          "annotationdefaults": {
           "arrowcolor": "#2a3f5f",
           "arrowhead": 0,
           "arrowwidth": 1
          },
          "autotypenumbers": "strict",
          "coloraxis": {
           "colorbar": {
            "outlinewidth": 0,
            "ticks": ""
           }
          },
          "colorscale": {
           "diverging": [
            [
             0,
             "#8e0152"
            ],
            [
             0.1,
             "#c51b7d"
            ],
            [
             0.2,
             "#de77ae"
            ],
            [
             0.3,
             "#f1b6da"
            ],
            [
             0.4,
             "#fde0ef"
            ],
            [
             0.5,
             "#f7f7f7"
            ],
            [
             0.6,
             "#e6f5d0"
            ],
            [
             0.7,
             "#b8e186"
            ],
            [
             0.8,
             "#7fbc41"
            ],
            [
             0.9,
             "#4d9221"
            ],
            [
             1,
             "#276419"
            ]
           ],
           "sequential": [
            [
             0,
             "#0d0887"
            ],
            [
             0.1111111111111111,
             "#46039f"
            ],
            [
             0.2222222222222222,
             "#7201a8"
            ],
            [
             0.3333333333333333,
             "#9c179e"
            ],
            [
             0.4444444444444444,
             "#bd3786"
            ],
            [
             0.5555555555555556,
             "#d8576b"
            ],
            [
             0.6666666666666666,
             "#ed7953"
            ],
            [
             0.7777777777777778,
             "#fb9f3a"
            ],
            [
             0.8888888888888888,
             "#fdca26"
            ],
            [
             1,
             "#f0f921"
            ]
           ],
           "sequentialminus": [
            [
             0,
             "#0d0887"
            ],
            [
             0.1111111111111111,
             "#46039f"
            ],
            [
             0.2222222222222222,
             "#7201a8"
            ],
            [
             0.3333333333333333,
             "#9c179e"
            ],
            [
             0.4444444444444444,
             "#bd3786"
            ],
            [
             0.5555555555555556,
             "#d8576b"
            ],
            [
             0.6666666666666666,
             "#ed7953"
            ],
            [
             0.7777777777777778,
             "#fb9f3a"
            ],
            [
             0.8888888888888888,
             "#fdca26"
            ],
            [
             1,
             "#f0f921"
            ]
           ]
          },
          "colorway": [
           "#636efa",
           "#EF553B",
           "#00cc96",
           "#ab63fa",
           "#FFA15A",
           "#19d3f3",
           "#FF6692",
           "#B6E880",
           "#FF97FF",
           "#FECB52"
          ],
          "font": {
           "color": "#2a3f5f"
          },
          "geo": {
           "bgcolor": "white",
           "lakecolor": "white",
           "landcolor": "#E5ECF6",
           "showlakes": true,
           "showland": true,
           "subunitcolor": "white"
          },
          "hoverlabel": {
           "align": "left"
          },
          "hovermode": "closest",
          "mapbox": {
           "style": "light"
          },
          "paper_bgcolor": "white",
          "plot_bgcolor": "#E5ECF6",
          "polar": {
           "angularaxis": {
            "gridcolor": "white",
            "linecolor": "white",
            "ticks": ""
           },
           "bgcolor": "#E5ECF6",
           "radialaxis": {
            "gridcolor": "white",
            "linecolor": "white",
            "ticks": ""
           }
          },
          "scene": {
           "xaxis": {
            "backgroundcolor": "#E5ECF6",
            "gridcolor": "white",
            "gridwidth": 2,
            "linecolor": "white",
            "showbackground": true,
            "ticks": "",
            "zerolinecolor": "white"
           },
           "yaxis": {
            "backgroundcolor": "#E5ECF6",
            "gridcolor": "white",
            "gridwidth": 2,
            "linecolor": "white",
            "showbackground": true,
            "ticks": "",
            "zerolinecolor": "white"
           },
           "zaxis": {
            "backgroundcolor": "#E5ECF6",
            "gridcolor": "white",
            "gridwidth": 2,
            "linecolor": "white",
            "showbackground": true,
            "ticks": "",
            "zerolinecolor": "white"
           }
          },
          "shapedefaults": {
           "line": {
            "color": "#2a3f5f"
           }
          },
          "ternary": {
           "aaxis": {
            "gridcolor": "white",
            "linecolor": "white",
            "ticks": ""
           },
           "baxis": {
            "gridcolor": "white",
            "linecolor": "white",
            "ticks": ""
           },
           "bgcolor": "#E5ECF6",
           "caxis": {
            "gridcolor": "white",
            "linecolor": "white",
            "ticks": ""
           }
          },
          "title": {
           "x": 0.05
          },
          "xaxis": {
           "automargin": true,
           "gridcolor": "white",
           "linecolor": "white",
           "ticks": "",
           "title": {
            "standoff": 15
           },
           "zerolinecolor": "white",
           "zerolinewidth": 2
          },
          "yaxis": {
           "automargin": true,
           "gridcolor": "white",
           "linecolor": "white",
           "ticks": "",
           "title": {
            "standoff": 15
           },
           "zerolinecolor": "white",
           "zerolinewidth": 2
          }
         }
        },
        "title": {
         "text": "Curva ROC"
        },
        "width": 800,
        "xaxis": {
         "anchor": "y",
         "domain": [
          0,
          1
         ],
         "title": {
          "text": "Tasa de falsos positivos"
         }
        },
        "yaxis": {
         "anchor": "x",
         "domain": [
          0,
          1
         ],
         "title": {
          "text": "Tasa de verdaderos positivos"
         }
        }
       }
      }
     },
     "metadata": {},
     "output_type": "display_data"
    }
   ],
   "source": [
    "Mejores_hiperparámetros = {'border_count': 50, 'depth': 4, 'iterations': 600, 'l2_leaf_reg': 5, 'learning_rate': 0.1}\n",
    "model_catboost = CatBoostClassifier(**Mejores_hiperparámetros, verbose=False)\n",
    "\n",
    "# param_grid = {\n",
    "#     \"iterations\": [200, 400, 600],\n",
    "#     \"learning_rate\": [0.01, 0.1, 0.2],\n",
    "#     \"depth\": [4, 6, 8],\n",
    "#     \"l2_leaf_reg\": [1, 3, 5],\n",
    "#     \"border_count\": [32, 50, 100],\n",
    "# }\n",
    "\n",
    "# grid_search = GridSearchCV(estimator=model_catboost, param_grid=param_grid, scoring=\"roc_auc\", cv=5, n_jobs=-1)\n",
    "# grid_search.fit(X_train, y_train)\n",
    "\n",
    "# best_params = grid_search.best_params_\n",
    "# best_model = grid_search.best_estimator_\n",
    "\n",
    "# predictions = best_model.predict(X_test)\n",
    "\n",
    "# print(\"Mejores hiperparámetros:\", best_params)\n",
    "# \"Mejores hiperparámetros: {'border_count': 50, 'depth': 4, 'iterations': 600, 'l2_leaf_reg': 5, 'learning_rate': 0.1}\"\n",
    "model_catboost.fit(X_train, y_train)\n",
    "predictions = model_catboost.predict(X_test)\n",
    "\n",
    "find_scores(X_test,y_test, predictions, model_catboost)"
   ]
  },
  {
   "cell_type": "markdown",
   "metadata": {},
   "source": [
    "#### NEURAL NETWORK"
   ]
  },
  {
   "cell_type": "code",
   "execution_count": 17,
   "metadata": {},
   "outputs": [
    {
     "name": "stderr",
     "output_type": "stream",
     "text": [
      "c:\\Users\\armod\\AppData\\Local\\Programs\\Python\\Python312\\Lib\\site-packages\\keras\\src\\layers\\core\\dense.py:87: UserWarning:\n",
      "\n",
      "Do not pass an `input_shape`/`input_dim` argument to a layer. When using Sequential models, prefer using an `Input(shape)` object as the first layer in the model instead.\n",
      "\n"
     ]
    },
    {
     "name": "stdout",
     "output_type": "stream",
     "text": [
      "\u001b[1m36/36\u001b[0m \u001b[32m━━━━━━━━━━━━━━━━━━━━\u001b[0m\u001b[37m\u001b[0m \u001b[1m0s\u001b[0m 735us/step - accuracy: 0.8198 - loss: 0.3800\n",
      "Precisión en el conjunto de prueba: 0.8217\n",
      "\u001b[1m36/36\u001b[0m \u001b[32m━━━━━━━━━━━━━━━━━━━━\u001b[0m\u001b[37m\u001b[0m \u001b[1m0s\u001b[0m 2ms/step\n",
      "              precision    recall  f1-score   support\n",
      "\n",
      "           0       0.86      0.91      0.88       844\n",
      "           1       0.67      0.57      0.62       283\n",
      "\n",
      "    accuracy                           0.82      1127\n",
      "   macro avg       0.77      0.74      0.75      1127\n",
      "weighted avg       0.81      0.82      0.82      1127\n",
      "\n",
      "Área bajo la curva ROC: 0.7376513489524894\n",
      "\u001b[1m36/36\u001b[0m \u001b[32m━━━━━━━━━━━━━━━━━━━━\u001b[0m\u001b[37m\u001b[0m \u001b[1m0s\u001b[0m 635us/step\n"
     ]
    },
    {
     "data": {
      "application/vnd.plotly.v1+json": {
       "config": {
        "plotlyServerURL": "https://plot.ly"
       },
       "data": [
        {
         "hovertemplate": "Tasa de falsos positivos=%{x}<br>Tasa de verdaderos positivos=%{y}<extra></extra>",
         "legendgroup": "",
         "line": {
          "color": "#636efa",
          "dash": "solid"
         },
         "marker": {
          "symbol": "circle"
         },
         "mode": "lines",
         "name": "",
         "orientation": "v",
         "showlegend": false,
         "type": "scatter",
         "x": [
          0,
          0,
          0,
          0.001184834123222749,
          0.001184834123222749,
          0.002369668246445498,
          0.002369668246445498,
          0.0035545023696682463,
          0.0035545023696682463,
          0.004739336492890996,
          0.004739336492890996,
          0.005924170616113744,
          0.005924170616113744,
          0.0071090047393364926,
          0.0071090047393364926,
          0.01066350710900474,
          0.01066350710900474,
          0.013033175355450236,
          0.013033175355450236,
          0.014218009478672985,
          0.014218009478672985,
          0.015402843601895734,
          0.015402843601895734,
          0.017772511848341232,
          0.017772511848341232,
          0.018957345971563982,
          0.018957345971563982,
          0.02014218009478673,
          0.02014218009478673,
          0.022511848341232227,
          0.022511848341232227,
          0.024881516587677725,
          0.024881516587677725,
          0.027251184834123223,
          0.027251184834123223,
          0.02962085308056872,
          0.02962085308056872,
          0.030805687203791468,
          0.030805687203791468,
          0.031990521327014215,
          0.031990521327014215,
          0.03317535545023697,
          0.03317535545023697,
          0.037914691943127965,
          0.037914691943127965,
          0.03909952606635071,
          0.03909952606635071,
          0.041469194312796206,
          0.041469194312796206,
          0.04265402843601896,
          0.04265402843601896,
          0.04383886255924171,
          0.04383886255924171,
          0.0462085308056872,
          0.0462085308056872,
          0.04739336492890995,
          0.04739336492890995,
          0.0485781990521327,
          0.0485781990521327,
          0.04976303317535545,
          0.04976303317535545,
          0.052132701421800945,
          0.052132701421800945,
          0.05687203791469194,
          0.05687203791469194,
          0.058056872037914695,
          0.058056872037914695,
          0.06042654028436019,
          0.06042654028436019,
          0.061611374407582936,
          0.061611374407582936,
          0.06398104265402843,
          0.06398104265402843,
          0.06753554502369669,
          0.06753554502369669,
          0.06872037914691943,
          0.06872037914691943,
          0.07227488151658767,
          0.07227488151658767,
          0.07582938388625593,
          0.07582938388625593,
          0.07819905213270142,
          0.07819905213270142,
          0.07938388625592417,
          0.07938388625592417,
          0.08175355450236967,
          0.08175355450236967,
          0.08293838862559241,
          0.08293838862559241,
          0.08530805687203792,
          0.08530805687203792,
          0.08767772511848342,
          0.08767772511848342,
          0.08886255924170616,
          0.08886255924170616,
          0.09004739336492891,
          0.09004739336492891,
          0.0924170616113744,
          0.0924170616113744,
          0.09360189573459715,
          0.09360189573459715,
          0.0947867298578199,
          0.0947867298578199,
          0.10071090047393365,
          0.10071090047393365,
          0.10545023696682465,
          0.10545023696682465,
          0.1066350710900474,
          0.1066350710900474,
          0.10900473933649289,
          0.10900473933649289,
          0.11018957345971564,
          0.11018957345971564,
          0.11255924170616113,
          0.11255924170616113,
          0.11611374407582939,
          0.11611374407582939,
          0.11729857819905214,
          0.11729857819905214,
          0.12085308056872038,
          0.12085308056872038,
          0.12203791469194313,
          0.12203791469194313,
          0.12322274881516587,
          0.12322274881516587,
          0.12559241706161137,
          0.12559241706161137,
          0.12796208530805686,
          0.12796208530805686,
          0.1338862559241706,
          0.1338862559241706,
          0.1362559241706161,
          0.1362559241706161,
          0.1386255924170616,
          0.1386255924170616,
          0.14099526066350712,
          0.14099526066350712,
          0.14336492890995262,
          0.14336492890995262,
          0.1457345971563981,
          0.1457345971563981,
          0.15639810426540285,
          0.15639810426540285,
          0.15758293838862558,
          0.15758293838862558,
          0.16113744075829384,
          0.16113744075829384,
          0.1623222748815166,
          0.1623222748815166,
          0.16587677725118483,
          0.16587677725118483,
          0.1670616113744076,
          0.1670616113744076,
          0.16824644549763032,
          0.16824644549763032,
          0.16943127962085308,
          0.16943127962085308,
          0.17180094786729858,
          0.17180094786729858,
          0.1848341232227488,
          0.1848341232227488,
          0.1872037914691943,
          0.18838862559241706,
          0.18838862559241706,
          0.19075829383886256,
          0.19075829383886256,
          0.19312796208530805,
          0.19312796208530805,
          0.19786729857819904,
          0.19786729857819904,
          0.20260663507109006,
          0.20260663507109006,
          0.20853080568720378,
          0.20853080568720378,
          0.20971563981042654,
          0.20971563981042654,
          0.21208530805687204,
          0.21208530805687204,
          0.2156398104265403,
          0.2156398104265403,
          0.22037914691943128,
          0.22037914691943128,
          0.22630331753554503,
          0.22630331753554503,
          0.22867298578199052,
          0.22867298578199052,
          0.23222748815165878,
          0.23222748815165878,
          0.23459715639810427,
          0.23459715639810427,
          0.24170616113744076,
          0.24170616113744076,
          0.245260663507109,
          0.245260663507109,
          0.24881516587677724,
          0.24881516587677724,
          0.25355450236966826,
          0.25355450236966826,
          0.254739336492891,
          0.254739336492891,
          0.26895734597156395,
          0.26895734597156395,
          0.27014218009478674,
          0.27014218009478674,
          0.2772511848341232,
          0.2772511848341232,
          0.278436018957346,
          0.278436018957346,
          0.2796208530805687,
          0.2796208530805687,
          0.29265402843601895,
          0.29265402843601895,
          0.29739336492890994,
          0.29739336492890994,
          0.3009478672985782,
          0.3009478672985782,
          0.30450236966824645,
          0.30450236966824645,
          0.31398104265402843,
          0.31398104265402843,
          0.31635071090047395,
          0.31635071090047395,
          0.32109004739336494,
          0.32109004739336494,
          0.32582938388625593,
          0.32582938388625593,
          0.3353080568720379,
          0.3353080568720379,
          0.33767772511848343,
          0.33767772511848343,
          0.3412322274881517,
          0.3412322274881517,
          0.34360189573459715,
          0.34360189573459715,
          0.3590047393364929,
          0.3590047393364929,
          0.3755924170616114,
          0.3755924170616114,
          0.3886255924170616,
          0.3886255924170616,
          0.3921800947867299,
          0.3921800947867299,
          0.39454976303317535,
          0.39454976303317535,
          0.4028436018957346,
          0.4028436018957346,
          0.4040284360189573,
          0.4040284360189573,
          0.41232227488151657,
          0.41232227488151657,
          0.4265402843601896,
          0.4265402843601896,
          0.44549763033175355,
          0.44549763033175355,
          0.45023696682464454,
          0.45023696682464454,
          0.476303317535545,
          0.476303317535545,
          0.49170616113744076,
          0.49170616113744076,
          0.504739336492891,
          0.504739336492891,
          0.5165876777251185,
          0.5165876777251185,
          0.5308056872037915,
          0.5308056872037915,
          0.542654028436019,
          0.542654028436019,
          0.5710900473933649,
          0.5710900473933649,
          0.5793838862559242,
          0.5793838862559242,
          0.6765402843601895,
          0.6765402843601895,
          0.7156398104265402,
          0.7156398104265402,
          0.8791469194312796,
          0.8791469194312796,
          1
         ],
         "xaxis": "x",
         "y": [
          0,
          0.0035335689045936395,
          0.038869257950530034,
          0.038869257950530034,
          0.06713780918727916,
          0.06713780918727916,
          0.07773851590106007,
          0.07773851590106007,
          0.09187279151943463,
          0.09187279151943463,
          0.14840989399293286,
          0.14840989399293286,
          0.1519434628975265,
          0.1519434628975265,
          0.1625441696113074,
          0.1625441696113074,
          0.16607773851590105,
          0.16607773851590105,
          0.19081272084805653,
          0.19081272084805653,
          0.2049469964664311,
          0.2049469964664311,
          0.21201413427561838,
          0.21201413427561838,
          0.22968197879858657,
          0.22968197879858657,
          0.2332155477031802,
          0.2332155477031802,
          0.2579505300353357,
          0.2579505300353357,
          0.26148409893992935,
          0.26148409893992935,
          0.27208480565371024,
          0.27208480565371024,
          0.29328621908127206,
          0.29328621908127206,
          0.2968197879858657,
          0.3003533568904594,
          0.3215547703180212,
          0.3215547703180212,
          0.3321554770318021,
          0.3321554770318021,
          0.35335689045936397,
          0.35335689045936397,
          0.36042402826855124,
          0.36042402826855124,
          0.36395759717314485,
          0.36395759717314485,
          0.3674911660777385,
          0.3674911660777385,
          0.3745583038869258,
          0.3745583038869258,
          0.37809187279151946,
          0.37809187279151946,
          0.38162544169611307,
          0.38162544169611307,
          0.38515901060070673,
          0.38515901060070673,
          0.3957597173144876,
          0.3957597173144876,
          0.43462897526501765,
          0.43462897526501765,
          0.4381625441696113,
          0.4381625441696113,
          0.4416961130742049,
          0.4416961130742049,
          0.4452296819787986,
          0.4452296819787986,
          0.45229681978798586,
          0.45229681978798586,
          0.46996466431095407,
          0.46996466431095407,
          0.47703180212014135,
          0.47703180212014135,
          0.48056537102473496,
          0.48056537102473496,
          0.49823321554770317,
          0.49823321554770317,
          0.508833922261484,
          0.508833922261484,
          0.5159010600706714,
          0.5159010600706714,
          0.5265017667844523,
          0.5265017667844523,
          0.5300353356890459,
          0.5300353356890459,
          0.5371024734982333,
          0.5371024734982333,
          0.5406360424028268,
          0.5406360424028268,
          0.5477031802120141,
          0.5477031802120141,
          0.5547703180212014,
          0.5547703180212014,
          0.558303886925795,
          0.558303886925795,
          0.5618374558303887,
          0.5618374558303887,
          0.568904593639576,
          0.568904593639576,
          0.5724381625441696,
          0.5724381625441696,
          0.5759717314487632,
          0.5759717314487632,
          0.5865724381625441,
          0.5865724381625441,
          0.5901060070671378,
          0.5901060070671378,
          0.6042402826855123,
          0.6042402826855123,
          0.607773851590106,
          0.607773851590106,
          0.6113074204946997,
          0.6113074204946997,
          0.6148409893992933,
          0.6148409893992933,
          0.6219081272084805,
          0.6219081272084805,
          0.6289752650176679,
          0.6289752650176679,
          0.6395759717314488,
          0.6395759717314488,
          0.6431095406360424,
          0.6431095406360424,
          0.6466431095406361,
          0.6466431095406361,
          0.6501766784452296,
          0.6501766784452296,
          0.6537102473498233,
          0.6537102473498233,
          0.657243816254417,
          0.657243816254417,
          0.6607773851590106,
          0.6607773851590106,
          0.6643109540636042,
          0.6643109540636042,
          0.6678445229681979,
          0.6678445229681979,
          0.6749116607773852,
          0.6749116607773852,
          0.6784452296819788,
          0.6784452296819788,
          0.6890459363957597,
          0.6890459363957597,
          0.696113074204947,
          0.696113074204947,
          0.6996466431095406,
          0.6996466431095406,
          0.7067137809187279,
          0.7067137809187279,
          0.7173144876325088,
          0.7173144876325088,
          0.7208480565371025,
          0.7208480565371025,
          0.7279151943462897,
          0.7279151943462897,
          0.7314487632508834,
          0.7314487632508834,
          0.7420494699646644,
          0.7420494699646644,
          0.7455830388692579,
          0.7455830388692579,
          0.7455830388692579,
          0.7491166077738516,
          0.7491166077738516,
          0.7597173144876325,
          0.7597173144876325,
          0.7667844522968198,
          0.7667844522968198,
          0.773851590106007,
          0.773851590106007,
          0.7773851590106007,
          0.7773851590106007,
          0.7809187279151943,
          0.7809187279151943,
          0.784452296819788,
          0.784452296819788,
          0.7915194346289752,
          0.7915194346289752,
          0.7950530035335689,
          0.7950530035335689,
          0.7985865724381626,
          0.7985865724381626,
          0.8056537102473498,
          0.8056537102473498,
          0.8091872791519434,
          0.8091872791519434,
          0.8127208480565371,
          0.8127208480565371,
          0.8197879858657244,
          0.8197879858657244,
          0.8268551236749117,
          0.8268551236749117,
          0.8303886925795053,
          0.8303886925795053,
          0.833922261484099,
          0.833922261484099,
          0.8374558303886925,
          0.8374558303886925,
          0.8409893992932862,
          0.8409893992932862,
          0.8445229681978799,
          0.8445229681978799,
          0.8480565371024735,
          0.8480565371024735,
          0.8515901060070671,
          0.8515901060070671,
          0.8621908127208481,
          0.8621908127208481,
          0.8657243816254417,
          0.8657243816254417,
          0.8692579505300353,
          0.8692579505300353,
          0.872791519434629,
          0.872791519434629,
          0.8798586572438163,
          0.8798586572438163,
          0.8833922261484098,
          0.8833922261484098,
          0.8869257950530035,
          0.8869257950530035,
          0.8904593639575972,
          0.8904593639575972,
          0.8939929328621908,
          0.8939929328621908,
          0.8975265017667845,
          0.8975265017667845,
          0.901060070671378,
          0.901060070671378,
          0.9081272084805654,
          0.9081272084805654,
          0.911660777385159,
          0.911660777385159,
          0.9151943462897526,
          0.9151943462897526,
          0.9187279151943463,
          0.9187279151943463,
          0.9222614840989399,
          0.9222614840989399,
          0.9257950530035336,
          0.9257950530035336,
          0.9293286219081273,
          0.9293286219081273,
          0.9328621908127208,
          0.9328621908127208,
          0.9363957597173145,
          0.9363957597173145,
          0.9399293286219081,
          0.9399293286219081,
          0.9434628975265018,
          0.9434628975265018,
          0.9469964664310954,
          0.9469964664310954,
          0.950530035335689,
          0.950530035335689,
          0.9540636042402827,
          0.9540636042402827,
          0.9575971731448764,
          0.9575971731448764,
          0.9611307420494699,
          0.9611307420494699,
          0.9717314487632509,
          0.9717314487632509,
          0.9752650176678446,
          0.9752650176678446,
          0.9787985865724381,
          0.9787985865724381,
          0.9823321554770318,
          0.9823321554770318,
          0.9858657243816255,
          0.9858657243816255,
          0.9893992932862191,
          0.9893992932862191,
          0.9929328621908127,
          0.9929328621908127,
          0.9964664310954063,
          0.9964664310954063,
          1,
          1
         ],
         "yaxis": "y"
        }
       ],
       "layout": {
        "height": 450,
        "legend": {
         "tracegroupgap": 0
        },
        "shapes": [
         {
          "line": {
           "dash": "dash"
          },
          "type": "line",
          "x0": 0,
          "x1": 1,
          "y0": 0,
          "y1": 1
         }
        ],
        "template": {
         "data": {
          "bar": [
           {
            "error_x": {
             "color": "#2a3f5f"
            },
            "error_y": {
             "color": "#2a3f5f"
            },
            "marker": {
             "line": {
              "color": "#E5ECF6",
              "width": 0.5
             },
             "pattern": {
              "fillmode": "overlay",
              "size": 10,
              "solidity": 0.2
             }
            },
            "type": "bar"
           }
          ],
          "barpolar": [
           {
            "marker": {
             "line": {
              "color": "#E5ECF6",
              "width": 0.5
             },
             "pattern": {
              "fillmode": "overlay",
              "size": 10,
              "solidity": 0.2
             }
            },
            "type": "barpolar"
           }
          ],
          "carpet": [
           {
            "aaxis": {
             "endlinecolor": "#2a3f5f",
             "gridcolor": "white",
             "linecolor": "white",
             "minorgridcolor": "white",
             "startlinecolor": "#2a3f5f"
            },
            "baxis": {
             "endlinecolor": "#2a3f5f",
             "gridcolor": "white",
             "linecolor": "white",
             "minorgridcolor": "white",
             "startlinecolor": "#2a3f5f"
            },
            "type": "carpet"
           }
          ],
          "choropleth": [
           {
            "colorbar": {
             "outlinewidth": 0,
             "ticks": ""
            },
            "type": "choropleth"
           }
          ],
          "contour": [
           {
            "colorbar": {
             "outlinewidth": 0,
             "ticks": ""
            },
            "colorscale": [
             [
              0,
              "#0d0887"
             ],
             [
              0.1111111111111111,
              "#46039f"
             ],
             [
              0.2222222222222222,
              "#7201a8"
             ],
             [
              0.3333333333333333,
              "#9c179e"
             ],
             [
              0.4444444444444444,
              "#bd3786"
             ],
             [
              0.5555555555555556,
              "#d8576b"
             ],
             [
              0.6666666666666666,
              "#ed7953"
             ],
             [
              0.7777777777777778,
              "#fb9f3a"
             ],
             [
              0.8888888888888888,
              "#fdca26"
             ],
             [
              1,
              "#f0f921"
             ]
            ],
            "type": "contour"
           }
          ],
          "contourcarpet": [
           {
            "colorbar": {
             "outlinewidth": 0,
             "ticks": ""
            },
            "type": "contourcarpet"
           }
          ],
          "heatmap": [
           {
            "colorbar": {
             "outlinewidth": 0,
             "ticks": ""
            },
            "colorscale": [
             [
              0,
              "#0d0887"
             ],
             [
              0.1111111111111111,
              "#46039f"
             ],
             [
              0.2222222222222222,
              "#7201a8"
             ],
             [
              0.3333333333333333,
              "#9c179e"
             ],
             [
              0.4444444444444444,
              "#bd3786"
             ],
             [
              0.5555555555555556,
              "#d8576b"
             ],
             [
              0.6666666666666666,
              "#ed7953"
             ],
             [
              0.7777777777777778,
              "#fb9f3a"
             ],
             [
              0.8888888888888888,
              "#fdca26"
             ],
             [
              1,
              "#f0f921"
             ]
            ],
            "type": "heatmap"
           }
          ],
          "heatmapgl": [
           {
            "colorbar": {
             "outlinewidth": 0,
             "ticks": ""
            },
            "colorscale": [
             [
              0,
              "#0d0887"
             ],
             [
              0.1111111111111111,
              "#46039f"
             ],
             [
              0.2222222222222222,
              "#7201a8"
             ],
             [
              0.3333333333333333,
              "#9c179e"
             ],
             [
              0.4444444444444444,
              "#bd3786"
             ],
             [
              0.5555555555555556,
              "#d8576b"
             ],
             [
              0.6666666666666666,
              "#ed7953"
             ],
             [
              0.7777777777777778,
              "#fb9f3a"
             ],
             [
              0.8888888888888888,
              "#fdca26"
             ],
             [
              1,
              "#f0f921"
             ]
            ],
            "type": "heatmapgl"
           }
          ],
          "histogram": [
           {
            "marker": {
             "pattern": {
              "fillmode": "overlay",
              "size": 10,
              "solidity": 0.2
             }
            },
            "type": "histogram"
           }
          ],
          "histogram2d": [
           {
            "colorbar": {
             "outlinewidth": 0,
             "ticks": ""
            },
            "colorscale": [
             [
              0,
              "#0d0887"
             ],
             [
              0.1111111111111111,
              "#46039f"
             ],
             [
              0.2222222222222222,
              "#7201a8"
             ],
             [
              0.3333333333333333,
              "#9c179e"
             ],
             [
              0.4444444444444444,
              "#bd3786"
             ],
             [
              0.5555555555555556,
              "#d8576b"
             ],
             [
              0.6666666666666666,
              "#ed7953"
             ],
             [
              0.7777777777777778,
              "#fb9f3a"
             ],
             [
              0.8888888888888888,
              "#fdca26"
             ],
             [
              1,
              "#f0f921"
             ]
            ],
            "type": "histogram2d"
           }
          ],
          "histogram2dcontour": [
           {
            "colorbar": {
             "outlinewidth": 0,
             "ticks": ""
            },
            "colorscale": [
             [
              0,
              "#0d0887"
             ],
             [
              0.1111111111111111,
              "#46039f"
             ],
             [
              0.2222222222222222,
              "#7201a8"
             ],
             [
              0.3333333333333333,
              "#9c179e"
             ],
             [
              0.4444444444444444,
              "#bd3786"
             ],
             [
              0.5555555555555556,
              "#d8576b"
             ],
             [
              0.6666666666666666,
              "#ed7953"
             ],
             [
              0.7777777777777778,
              "#fb9f3a"
             ],
             [
              0.8888888888888888,
              "#fdca26"
             ],
             [
              1,
              "#f0f921"
             ]
            ],
            "type": "histogram2dcontour"
           }
          ],
          "mesh3d": [
           {
            "colorbar": {
             "outlinewidth": 0,
             "ticks": ""
            },
            "type": "mesh3d"
           }
          ],
          "parcoords": [
           {
            "line": {
             "colorbar": {
              "outlinewidth": 0,
              "ticks": ""
             }
            },
            "type": "parcoords"
           }
          ],
          "pie": [
           {
            "automargin": true,
            "type": "pie"
           }
          ],
          "scatter": [
           {
            "fillpattern": {
             "fillmode": "overlay",
             "size": 10,
             "solidity": 0.2
            },
            "type": "scatter"
           }
          ],
          "scatter3d": [
           {
            "line": {
             "colorbar": {
              "outlinewidth": 0,
              "ticks": ""
             }
            },
            "marker": {
             "colorbar": {
              "outlinewidth": 0,
              "ticks": ""
             }
            },
            "type": "scatter3d"
           }
          ],
          "scattercarpet": [
           {
            "marker": {
             "colorbar": {
              "outlinewidth": 0,
              "ticks": ""
             }
            },
            "type": "scattercarpet"
           }
          ],
          "scattergeo": [
           {
            "marker": {
             "colorbar": {
              "outlinewidth": 0,
              "ticks": ""
             }
            },
            "type": "scattergeo"
           }
          ],
          "scattergl": [
           {
            "marker": {
             "colorbar": {
              "outlinewidth": 0,
              "ticks": ""
             }
            },
            "type": "scattergl"
           }
          ],
          "scattermapbox": [
           {
            "marker": {
             "colorbar": {
              "outlinewidth": 0,
              "ticks": ""
             }
            },
            "type": "scattermapbox"
           }
          ],
          "scatterpolar": [
           {
            "marker": {
             "colorbar": {
              "outlinewidth": 0,
              "ticks": ""
             }
            },
            "type": "scatterpolar"
           }
          ],
          "scatterpolargl": [
           {
            "marker": {
             "colorbar": {
              "outlinewidth": 0,
              "ticks": ""
             }
            },
            "type": "scatterpolargl"
           }
          ],
          "scatterternary": [
           {
            "marker": {
             "colorbar": {
              "outlinewidth": 0,
              "ticks": ""
             }
            },
            "type": "scatterternary"
           }
          ],
          "surface": [
           {
            "colorbar": {
             "outlinewidth": 0,
             "ticks": ""
            },
            "colorscale": [
             [
              0,
              "#0d0887"
             ],
             [
              0.1111111111111111,
              "#46039f"
             ],
             [
              0.2222222222222222,
              "#7201a8"
             ],
             [
              0.3333333333333333,
              "#9c179e"
             ],
             [
              0.4444444444444444,
              "#bd3786"
             ],
             [
              0.5555555555555556,
              "#d8576b"
             ],
             [
              0.6666666666666666,
              "#ed7953"
             ],
             [
              0.7777777777777778,
              "#fb9f3a"
             ],
             [
              0.8888888888888888,
              "#fdca26"
             ],
             [
              1,
              "#f0f921"
             ]
            ],
            "type": "surface"
           }
          ],
          "table": [
           {
            "cells": {
             "fill": {
              "color": "#EBF0F8"
             },
             "line": {
              "color": "white"
             }
            },
            "header": {
             "fill": {
              "color": "#C8D4E3"
             },
             "line": {
              "color": "white"
             }
            },
            "type": "table"
           }
          ]
         },
         "layout": {
          "annotationdefaults": {
           "arrowcolor": "#2a3f5f",
           "arrowhead": 0,
           "arrowwidth": 1
          },
          "autotypenumbers": "strict",
          "coloraxis": {
           "colorbar": {
            "outlinewidth": 0,
            "ticks": ""
           }
          },
          "colorscale": {
           "diverging": [
            [
             0,
             "#8e0152"
            ],
            [
             0.1,
             "#c51b7d"
            ],
            [
             0.2,
             "#de77ae"
            ],
            [
             0.3,
             "#f1b6da"
            ],
            [
             0.4,
             "#fde0ef"
            ],
            [
             0.5,
             "#f7f7f7"
            ],
            [
             0.6,
             "#e6f5d0"
            ],
            [
             0.7,
             "#b8e186"
            ],
            [
             0.8,
             "#7fbc41"
            ],
            [
             0.9,
             "#4d9221"
            ],
            [
             1,
             "#276419"
            ]
           ],
           "sequential": [
            [
             0,
             "#0d0887"
            ],
            [
             0.1111111111111111,
             "#46039f"
            ],
            [
             0.2222222222222222,
             "#7201a8"
            ],
            [
             0.3333333333333333,
             "#9c179e"
            ],
            [
             0.4444444444444444,
             "#bd3786"
            ],
            [
             0.5555555555555556,
             "#d8576b"
            ],
            [
             0.6666666666666666,
             "#ed7953"
            ],
            [
             0.7777777777777778,
             "#fb9f3a"
            ],
            [
             0.8888888888888888,
             "#fdca26"
            ],
            [
             1,
             "#f0f921"
            ]
           ],
           "sequentialminus": [
            [
             0,
             "#0d0887"
            ],
            [
             0.1111111111111111,
             "#46039f"
            ],
            [
             0.2222222222222222,
             "#7201a8"
            ],
            [
             0.3333333333333333,
             "#9c179e"
            ],
            [
             0.4444444444444444,
             "#bd3786"
            ],
            [
             0.5555555555555556,
             "#d8576b"
            ],
            [
             0.6666666666666666,
             "#ed7953"
            ],
            [
             0.7777777777777778,
             "#fb9f3a"
            ],
            [
             0.8888888888888888,
             "#fdca26"
            ],
            [
             1,
             "#f0f921"
            ]
           ]
          },
          "colorway": [
           "#636efa",
           "#EF553B",
           "#00cc96",
           "#ab63fa",
           "#FFA15A",
           "#19d3f3",
           "#FF6692",
           "#B6E880",
           "#FF97FF",
           "#FECB52"
          ],
          "font": {
           "color": "#2a3f5f"
          },
          "geo": {
           "bgcolor": "white",
           "lakecolor": "white",
           "landcolor": "#E5ECF6",
           "showlakes": true,
           "showland": true,
           "subunitcolor": "white"
          },
          "hoverlabel": {
           "align": "left"
          },
          "hovermode": "closest",
          "mapbox": {
           "style": "light"
          },
          "paper_bgcolor": "white",
          "plot_bgcolor": "#E5ECF6",
          "polar": {
           "angularaxis": {
            "gridcolor": "white",
            "linecolor": "white",
            "ticks": ""
           },
           "bgcolor": "#E5ECF6",
           "radialaxis": {
            "gridcolor": "white",
            "linecolor": "white",
            "ticks": ""
           }
          },
          "scene": {
           "xaxis": {
            "backgroundcolor": "#E5ECF6",
            "gridcolor": "white",
            "gridwidth": 2,
            "linecolor": "white",
            "showbackground": true,
            "ticks": "",
            "zerolinecolor": "white"
           },
           "yaxis": {
            "backgroundcolor": "#E5ECF6",
            "gridcolor": "white",
            "gridwidth": 2,
            "linecolor": "white",
            "showbackground": true,
            "ticks": "",
            "zerolinecolor": "white"
           },
           "zaxis": {
            "backgroundcolor": "#E5ECF6",
            "gridcolor": "white",
            "gridwidth": 2,
            "linecolor": "white",
            "showbackground": true,
            "ticks": "",
            "zerolinecolor": "white"
           }
          },
          "shapedefaults": {
           "line": {
            "color": "#2a3f5f"
           }
          },
          "ternary": {
           "aaxis": {
            "gridcolor": "white",
            "linecolor": "white",
            "ticks": ""
           },
           "baxis": {
            "gridcolor": "white",
            "linecolor": "white",
            "ticks": ""
           },
           "bgcolor": "#E5ECF6",
           "caxis": {
            "gridcolor": "white",
            "linecolor": "white",
            "ticks": ""
           }
          },
          "title": {
           "x": 0.05
          },
          "xaxis": {
           "automargin": true,
           "gridcolor": "white",
           "linecolor": "white",
           "ticks": "",
           "title": {
            "standoff": 15
           },
           "zerolinecolor": "white",
           "zerolinewidth": 2
          },
          "yaxis": {
           "automargin": true,
           "gridcolor": "white",
           "linecolor": "white",
           "ticks": "",
           "title": {
            "standoff": 15
           },
           "zerolinecolor": "white",
           "zerolinewidth": 2
          }
         }
        },
        "title": {
         "text": "Curva ROC"
        },
        "width": 800,
        "xaxis": {
         "anchor": "y",
         "domain": [
          0,
          1
         ],
         "title": {
          "text": "Tasa de falsos positivos"
         }
        },
        "yaxis": {
         "anchor": "x",
         "domain": [
          0,
          1
         ],
         "title": {
          "text": "Tasa de verdaderos positivos"
         }
        }
       }
      }
     },
     "metadata": {},
     "output_type": "display_data"
    }
   ],
   "source": [
    "model_net = Sequential()\n",
    "\n",
    "model_net.add(Dense(32, input_dim=X_train.shape[1], activation='relu'))\n",
    "model_net.add(Dropout(0.5))  # Prevención sobreajuste (Apagado aleatorio de neuronas)\n",
    "model_net.add(Dense(16, activation='relu')) \n",
    "model_net.add(Dropout(0.5))  # Prevención sobreajuste (Apagado aleatorio de neuronas)\n",
    "model_net.add(Dense(8, activation='relu')) \n",
    "model_net.add(Dropout(0.5))  # Prevención sobreajuste (Apagado aleatorio de neuronas)\n",
    "model_net.add(Dense(1, activation='sigmoid'))\n",
    "\n",
    "model_net.compile(optimizer='adam', loss='binary_crossentropy', metrics=['accuracy'])\n",
    "\n",
    "history = model_net.fit(X_train, y_train, epochs=50, batch_size=32, validation_data=(X_test, y_test), verbose=False)\n",
    "\n",
    "loss, accuracy = model_net.evaluate(X_test, y_test)\n",
    "print(f\"Precisión en el conjunto de prueba: {accuracy:.4f}\")\n",
    "\n",
    "predictions = (model_net.predict(X_test)>=0.5).astype(int)\n",
    "\n",
    "find_scores(X_test, y_test, predictions, model_net)"
   ]
  },
  {
   "cell_type": "markdown",
   "metadata": {},
   "source": [
    "## CONCLUSIONES"
   ]
  },
  {
   "cell_type": "markdown",
   "metadata": {},
   "source": [
    "### Análisis de los Resultados:\n",
    "##### Random Forest (RF Classifier):\n",
    "\n",
    "Precision (1): 0.77\n",
    "\n",
    "Recall (1): 0.57\n",
    "\n",
    "F1-score (1): 0.66\n",
    "\n",
    "ROC AUC: 0.7572\n",
    "\n",
    "El modelo RF tiene un recall bajo para la clase positiva (0.57), lo que indica que está dejando escapar muchos verdaderos positivos, es decir, está generando un número significativo de falsos negativos. Aunque la precisión es relativamente alta (0.77), este modelo podría no ser adecuado dado el alto costo de los falsos negativos.\n",
    "\n",
    "#####LightGBM:\n",
    "\n",
    "Precision (1): 0.79\n",
    "\n",
    "Recall (1): 0.63\n",
    "\n",
    "F1-score (1): 0.70\n",
    "\n",
    "ROC AUC: 0.7878\n",
    "\n",
    "LightGBM mejora tanto en recall (0.63) como en F1-score en comparación con Random Forest, lo que sugiere que es mejor en identificar correctamente los positivos. Sin embargo, sigue existiendo una cantidad significativa de falsos negativos. Su ROC AUC también es superior, lo que refleja un mejor equilibrio general entre las clases.\n",
    "\n",
    "##### CatBoost:\n",
    "\n",
    "Precision (1): 0.82\n",
    "\n",
    "Recall (1): 0.67\n",
    "\n",
    "F1-score (1): 0.74\n",
    "\n",
    "ROC AUC: 0.8126\n",
    "\n",
    "CatBoost ofrece el mejor rendimiento en términos de recall (0.67) y F1-score (0.74) para la clase positiva. Esto indica que captura más verdaderos positivos, reduciendo la cantidad de falsos negativos, lo cual es esencial dado el costo asociado. También tiene el ROC AUC más alto (0.8126), lo que sugiere que es el mejor modelo en términos de discriminación general entre clases.\n",
    "\n",
    "##### Red Neuronal:\n",
    "\n",
    "Precision (1): 0.67\n",
    "\n",
    "Recall (1): 0.57\n",
    "\n",
    "F1-score (1): 0.62\n",
    "\n",
    "ROC AUC: 0.7377\n",
    "\n",
    "La red neuronal muestra el peor rendimiento en recall (0.57) y F1-score (0.62) para la clase positiva, similar al Random Forest. Esto sugiere que también genera muchos falsos negativos, lo que podría ser problemático dada la situación.\n",
    "\n",
    "##### Selección de modelo:\n",
    "\n",
    "CatBoost parece ser el mejor modelo en este caso, ya que ofrece el mayor recall para la clase positiva (1) y el mejor equilibrio entre precisión y recall en términos de F1-score. Este modelo minimiza los falsos negativos, lo cual es crucial dada la importancia de evitar estos errores.\n",
    "\n",
    "LightGBM también es una buena opción, con un rendimiento cercano al de CatBoost. Si la interpretabilidad del modelo o el tiempo de entrenamiento son factores importantes, LightGBM podría ser preferible, aunque el costo de algunos falsos negativos adicionales tendría que ser evaluado.\n",
    "\n",
    "Random Forest y Red Neuronal no parecen ser las mejores opciones en este caso, dado que tienen un recall relativamente bajo para la clase positiva, lo que resultaría en un mayor número de falsos negativos.\n",
    "\n",
    "Futuras mejoras:\n",
    "\n",
    "Optimización de Recall:\n",
    "\n",
    "Dado que el costo de los falsos negativos es alto, podría ser útil ajustar aún más los hiperparámetros de los modelos CatBoost o LightGBM, o ajustar el umbral de decisión para favorecer un mayor recall.\n",
    "\n",
    "Ajuste del Umbral: \n",
    "\n",
    "Consideraré mover el umbral de clasificación hacia un valor menor (por ejemplo, 0.4 en lugar de 0.5) para aumentar el recall, aunque esto podría disminuir la precisión y aumentar los falsos positivos."
   ]
  },
  {
   "cell_type": "markdown",
   "metadata": {},
   "source": [
    "#### - ¿Qué pasos del plan se realizaron y qué pasos se omitieron (explica por qué)?\n",
    "\n",
    "Prácticamente se realizaron todos los pasos descritos, pero necesité agregar otros para mejorar los modelos, por ejemplo, la creacion de nuevas características con  las fechas de los datasets\n",
    "\n",
    "#### - ¿Qué dificultades encontraste y cómo lograste resolverlas?\n",
    "\n",
    "La mayor fueron los tiempos de ejecucion al realizar un gridsearch, pero al obtener los mejores hiperparámetros pude avanzar de una mejor manera, además de que el preprocesamiento de los datos también fue un poco tardado, una vez superadas ambas etapas, fue mas sencillo realizar lo demás.\n",
    "\n",
    "#### - ¿Cuáles fueron algunos de los pasos clave para resolver la tarea?\n",
    "\n",
    "El preprocesamiento de los datos y el gridsearch, fueron las etapas claves, además del entendimiento del problema y la metrica seleccionada para elegir el mejor modelo\n",
    "\n",
    "#### - ¿Cuál es tu modelo final y qué nivel de calidad tiene?\n",
    "\n",
    "Fue un modelo de catboost con un recall de 0.67 y f1 de 0.74 para los valores positivos"
   ]
  }
 ],
 "metadata": {
  "kernelspec": {
   "display_name": "Python 3",
   "language": "python",
   "name": "python3"
  },
  "language_info": {
   "codemirror_mode": {
    "name": "ipython",
    "version": 3
   },
   "file_extension": ".py",
   "mimetype": "text/x-python",
   "name": "python",
   "nbconvert_exporter": "python",
   "pygments_lexer": "ipython3",
   "version": "3.12.0"
  }
 },
 "nbformat": 4,
 "nbformat_minor": 2
}
