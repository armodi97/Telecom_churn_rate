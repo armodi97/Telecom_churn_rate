{
 "cells": [
  {
   "cell_type": "markdown",
   "metadata": {},
   "source": [
    "## LIBRERIAS"
   ]
  },
  {
   "cell_type": "code",
   "execution_count": 338,
   "metadata": {},
   "outputs": [],
   "source": [
    "import pandas as pd\n",
    "import numpy as np\n",
    "import plotly_express as px\n",
    "\n",
    "from sklearn.linear_model import LogisticRegression\n",
    "from sklearn.ensemble import RandomForestClassifier\n",
    "from sklearn.neighbors import KNeighborsClassifier\n",
    "import lightgbm as lgbm\n",
    "from catboost import CatBoostClassifier\n",
    "import tensorflow as tf\n",
    "from tensorflow.keras.models import Sequential\n",
    "from tensorflow.keras.layers import Dense, Dropout\n",
    "\n",
    "from sklearn.model_selection import train_test_split\n",
    "from sklearn.preprocessing import StandardScaler\n",
    "from sklearn.model_selection import GridSearchCV\n",
    "from sklearn.metrics import f1_score, roc_auc_score, roc_curve, classification_report\n"
   ]
  },
  {
   "cell_type": "code",
   "execution_count": 339,
   "metadata": {},
   "outputs": [],
   "source": [
    "#Logistic regression\n",
    "#Random forest\n",
    "# KNN\n",
    "\n",
    "#Lightgbm\n",
    "# CatBoost\n",
    "# Red Neuronal"
   ]
  },
  {
   "cell_type": "code",
   "execution_count": 340,
   "metadata": {},
   "outputs": [],
   "source": [
    "try:\n",
    "    data_contract = pd.read_csv(\"final_provider/contract.csv\")\n",
    "    data_internet = pd.read_csv(\"final_provider/internet.csv\")\n",
    "    data_personal = pd.read_csv(\"final_provider/personal.csv\")\n",
    "    data_phone    = pd.read_csv(\"final_provider/phone.csv\")\n",
    "except:\n",
    "    data_contract = pd.read_csv(\"https://practicum-content.s3.us-west-1.amazonaws.com//datasets/final_provider/contract.csv\")\n",
    "    data_internet = pd.read_csv(\"https://practicum-content.s3.us-west-1.amazonaws.com//datasets/final_provider/internet.csv\")\n",
    "    data_personal = pd.read_csv(\"https://practicum-content.s3.us-west-1.amazonaws.com//datasets/final_provider/personal.csv\")\n",
    "    data_phone    = pd.read_csv(\"https://practicum-content.s3.us-west-1.amazonaws.com//datasets/final_provider/phone.csv\")\n",
    "\n"
   ]
  },
  {
   "cell_type": "code",
   "execution_count": 341,
   "metadata": {},
   "outputs": [],
   "source": [
    "data_contract.set_index('customerID', inplace=True)\n",
    "data_internet.set_index('customerID', inplace=True)\n",
    "data_personal.set_index('customerID', inplace=True)\n",
    "data_phone.set_index('customerID', inplace=True)\n"
   ]
  },
  {
   "cell_type": "code",
   "execution_count": 342,
   "metadata": {},
   "outputs": [],
   "source": [
    "#juntar todas las tablas\n",
    "full_data = data_contract.join([data_internet, data_personal, data_phone])\n"
   ]
  },
  {
   "cell_type": "code",
   "execution_count": 343,
   "metadata": {},
   "outputs": [
    {
     "name": "stderr",
     "output_type": "stream",
     "text": [
      "C:\\Users\\armod\\AppData\\Local\\Temp\\ipykernel_10520\\1594772674.py:2: UserWarning:\n",
      "\n",
      "Could not infer format, so each element will be parsed individually, falling back to `dateutil`. To ensure parsing is consistent and as-expected, please specify a format.\n",
      "\n"
     ]
    }
   ],
   "source": [
    "full_data[\"BeginDate\"] = pd.to_datetime(full_data[\"BeginDate\"], errors='coerce')\n",
    "full_data[\"EndDate\"] = pd.to_datetime(full_data[\"EndDate\"], errors='coerce')\n",
    "\n",
    "full_data['BeginDate_Year'] = full_data['BeginDate'].dt.year\n",
    "full_data['BeginDate_Month'] = full_data['BeginDate'].dt.month\n",
    "\n",
    "full_data['BeginDate_Year'] = full_data['BeginDate_Year'].astype(\"str\")\n",
    "full_data['BeginDate_Month'] = full_data['BeginDate_Month'].astype(\"str\")\n",
    "\n",
    "# Creación de la columna objetivo (target)\n",
    "full_data[\"isActive\"] = full_data[\"EndDate\"].apply(\n",
    "    lambda x: 0 if pd.isna(x) else 1\n",
    ")\n",
    "\n",
    "full_data = full_data.drop(columns=[\"BeginDate\", \"EndDate\"], axis =1)\n",
    "\n",
    "# Relleno de valores ausentes, al observar los datos faltantes es muy probable que todos sean por el tipo de plan contratado, no existen datos porque no han contratado un plan que pueda generar datos en esas características\n",
    "full_data.fillna(\"No data\", inplace=True)\n",
    "\n",
    "# Reemplazamos strings vacios por ceros\n",
    "full_data.replace({\"MonthlyCharges\": {\" \": 0}, \"TotalCharges\": {\" \": 0}}, inplace=True)\n",
    "\n",
    "\n",
    "\n",
    "\n"
   ]
  },
  {
   "cell_type": "code",
   "execution_count": 344,
   "metadata": {},
   "outputs": [
    {
     "data": {
      "text/html": [
       "<div>\n",
       "<style scoped>\n",
       "    .dataframe tbody tr th:only-of-type {\n",
       "        vertical-align: middle;\n",
       "    }\n",
       "\n",
       "    .dataframe tbody tr th {\n",
       "        vertical-align: top;\n",
       "    }\n",
       "\n",
       "    .dataframe thead th {\n",
       "        text-align: right;\n",
       "    }\n",
       "</style>\n",
       "<table border=\"1\" class=\"dataframe\">\n",
       "  <thead>\n",
       "    <tr style=\"text-align: right;\">\n",
       "      <th></th>\n",
       "      <th>Type</th>\n",
       "      <th>PaperlessBilling</th>\n",
       "      <th>PaymentMethod</th>\n",
       "      <th>MonthlyCharges</th>\n",
       "      <th>TotalCharges</th>\n",
       "      <th>InternetService</th>\n",
       "      <th>OnlineSecurity</th>\n",
       "      <th>OnlineBackup</th>\n",
       "      <th>DeviceProtection</th>\n",
       "      <th>TechSupport</th>\n",
       "      <th>StreamingTV</th>\n",
       "      <th>StreamingMovies</th>\n",
       "      <th>gender</th>\n",
       "      <th>SeniorCitizen</th>\n",
       "      <th>Partner</th>\n",
       "      <th>Dependents</th>\n",
       "      <th>MultipleLines</th>\n",
       "      <th>BeginDate_Year</th>\n",
       "      <th>BeginDate_Month</th>\n",
       "      <th>isActive</th>\n",
       "    </tr>\n",
       "    <tr>\n",
       "      <th>customerID</th>\n",
       "      <th></th>\n",
       "      <th></th>\n",
       "      <th></th>\n",
       "      <th></th>\n",
       "      <th></th>\n",
       "      <th></th>\n",
       "      <th></th>\n",
       "      <th></th>\n",
       "      <th></th>\n",
       "      <th></th>\n",
       "      <th></th>\n",
       "      <th></th>\n",
       "      <th></th>\n",
       "      <th></th>\n",
       "      <th></th>\n",
       "      <th></th>\n",
       "      <th></th>\n",
       "      <th></th>\n",
       "      <th></th>\n",
       "      <th></th>\n",
       "    </tr>\n",
       "  </thead>\n",
       "  <tbody>\n",
       "    <tr>\n",
       "      <th>3530-CRZSB</th>\n",
       "      <td>Month-to-month</td>\n",
       "      <td>No</td>\n",
       "      <td>Mailed check</td>\n",
       "      <td>20.65</td>\n",
       "      <td>155.9</td>\n",
       "      <td>No data</td>\n",
       "      <td>No data</td>\n",
       "      <td>No data</td>\n",
       "      <td>No data</td>\n",
       "      <td>No data</td>\n",
       "      <td>No data</td>\n",
       "      <td>No data</td>\n",
       "      <td>Female</td>\n",
       "      <td>0</td>\n",
       "      <td>No</td>\n",
       "      <td>No</td>\n",
       "      <td>No</td>\n",
       "      <td>2019</td>\n",
       "      <td>7</td>\n",
       "      <td>0</td>\n",
       "    </tr>\n",
       "    <tr>\n",
       "      <th>2293-IJWPS</th>\n",
       "      <td>One year</td>\n",
       "      <td>Yes</td>\n",
       "      <td>Credit card (automatic)</td>\n",
       "      <td>100.75</td>\n",
       "      <td>5985</td>\n",
       "      <td>Fiber optic</td>\n",
       "      <td>No</td>\n",
       "      <td>No</td>\n",
       "      <td>Yes</td>\n",
       "      <td>No</td>\n",
       "      <td>Yes</td>\n",
       "      <td>Yes</td>\n",
       "      <td>Female</td>\n",
       "      <td>0</td>\n",
       "      <td>Yes</td>\n",
       "      <td>No</td>\n",
       "      <td>Yes</td>\n",
       "      <td>2015</td>\n",
       "      <td>5</td>\n",
       "      <td>0</td>\n",
       "    </tr>\n",
       "    <tr>\n",
       "      <th>8595-SIZNC</th>\n",
       "      <td>One year</td>\n",
       "      <td>No</td>\n",
       "      <td>Bank transfer (automatic)</td>\n",
       "      <td>25.60</td>\n",
       "      <td>548.8</td>\n",
       "      <td>No data</td>\n",
       "      <td>No data</td>\n",
       "      <td>No data</td>\n",
       "      <td>No data</td>\n",
       "      <td>No data</td>\n",
       "      <td>No data</td>\n",
       "      <td>No data</td>\n",
       "      <td>Female</td>\n",
       "      <td>1</td>\n",
       "      <td>Yes</td>\n",
       "      <td>No</td>\n",
       "      <td>Yes</td>\n",
       "      <td>2018</td>\n",
       "      <td>4</td>\n",
       "      <td>0</td>\n",
       "    </tr>\n",
       "    <tr>\n",
       "      <th>9600-NAXZN</th>\n",
       "      <td>Month-to-month</td>\n",
       "      <td>Yes</td>\n",
       "      <td>Electronic check</td>\n",
       "      <td>101.40</td>\n",
       "      <td>4528</td>\n",
       "      <td>Fiber optic</td>\n",
       "      <td>No</td>\n",
       "      <td>Yes</td>\n",
       "      <td>No</td>\n",
       "      <td>No</td>\n",
       "      <td>Yes</td>\n",
       "      <td>Yes</td>\n",
       "      <td>Male</td>\n",
       "      <td>0</td>\n",
       "      <td>No</td>\n",
       "      <td>No</td>\n",
       "      <td>Yes</td>\n",
       "      <td>2016</td>\n",
       "      <td>6</td>\n",
       "      <td>1</td>\n",
       "    </tr>\n",
       "    <tr>\n",
       "      <th>8242-SOQUO</th>\n",
       "      <td>Month-to-month</td>\n",
       "      <td>Yes</td>\n",
       "      <td>Electronic check</td>\n",
       "      <td>84.70</td>\n",
       "      <td>392.5</td>\n",
       "      <td>Fiber optic</td>\n",
       "      <td>No</td>\n",
       "      <td>Yes</td>\n",
       "      <td>No</td>\n",
       "      <td>No</td>\n",
       "      <td>Yes</td>\n",
       "      <td>No</td>\n",
       "      <td>Female</td>\n",
       "      <td>1</td>\n",
       "      <td>No</td>\n",
       "      <td>No</td>\n",
       "      <td>No</td>\n",
       "      <td>2019</td>\n",
       "      <td>9</td>\n",
       "      <td>0</td>\n",
       "    </tr>\n",
       "    <tr>\n",
       "      <th>6215-NQCPY</th>\n",
       "      <td>Month-to-month</td>\n",
       "      <td>Yes</td>\n",
       "      <td>Electronic check</td>\n",
       "      <td>99.70</td>\n",
       "      <td>1566.75</td>\n",
       "      <td>Fiber optic</td>\n",
       "      <td>Yes</td>\n",
       "      <td>No</td>\n",
       "      <td>No</td>\n",
       "      <td>No</td>\n",
       "      <td>Yes</td>\n",
       "      <td>Yes</td>\n",
       "      <td>Male</td>\n",
       "      <td>0</td>\n",
       "      <td>No</td>\n",
       "      <td>No</td>\n",
       "      <td>Yes</td>\n",
       "      <td>2018</td>\n",
       "      <td>11</td>\n",
       "      <td>0</td>\n",
       "    </tr>\n",
       "    <tr>\n",
       "      <th>8104-OSKWT</th>\n",
       "      <td>Month-to-month</td>\n",
       "      <td>Yes</td>\n",
       "      <td>Electronic check</td>\n",
       "      <td>79.80</td>\n",
       "      <td>1001.2</td>\n",
       "      <td>Fiber optic</td>\n",
       "      <td>Yes</td>\n",
       "      <td>No</td>\n",
       "      <td>No</td>\n",
       "      <td>No</td>\n",
       "      <td>No</td>\n",
       "      <td>No</td>\n",
       "      <td>Female</td>\n",
       "      <td>0</td>\n",
       "      <td>No</td>\n",
       "      <td>No</td>\n",
       "      <td>Yes</td>\n",
       "      <td>2019</td>\n",
       "      <td>2</td>\n",
       "      <td>0</td>\n",
       "    </tr>\n",
       "    <tr>\n",
       "      <th>7579-KKLOE</th>\n",
       "      <td>Two year</td>\n",
       "      <td>Yes</td>\n",
       "      <td>Mailed check</td>\n",
       "      <td>91.25</td>\n",
       "      <td>6589.6</td>\n",
       "      <td>DSL</td>\n",
       "      <td>Yes</td>\n",
       "      <td>Yes</td>\n",
       "      <td>Yes</td>\n",
       "      <td>Yes</td>\n",
       "      <td>Yes</td>\n",
       "      <td>Yes</td>\n",
       "      <td>Male</td>\n",
       "      <td>0</td>\n",
       "      <td>Yes</td>\n",
       "      <td>Yes</td>\n",
       "      <td>Yes</td>\n",
       "      <td>2014</td>\n",
       "      <td>3</td>\n",
       "      <td>0</td>\n",
       "    </tr>\n",
       "    <tr>\n",
       "      <th>7435-ZNUYY</th>\n",
       "      <td>One year</td>\n",
       "      <td>No</td>\n",
       "      <td>Mailed check</td>\n",
       "      <td>20.60</td>\n",
       "      <td>116.6</td>\n",
       "      <td>No data</td>\n",
       "      <td>No data</td>\n",
       "      <td>No data</td>\n",
       "      <td>No data</td>\n",
       "      <td>No data</td>\n",
       "      <td>No data</td>\n",
       "      <td>No data</td>\n",
       "      <td>Male</td>\n",
       "      <td>0</td>\n",
       "      <td>No</td>\n",
       "      <td>No</td>\n",
       "      <td>No</td>\n",
       "      <td>2019</td>\n",
       "      <td>8</td>\n",
       "      <td>0</td>\n",
       "    </tr>\n",
       "    <tr>\n",
       "      <th>5914-DVBWJ</th>\n",
       "      <td>Month-to-month</td>\n",
       "      <td>Yes</td>\n",
       "      <td>Electronic check</td>\n",
       "      <td>85.45</td>\n",
       "      <td>1505.85</td>\n",
       "      <td>Fiber optic</td>\n",
       "      <td>No</td>\n",
       "      <td>Yes</td>\n",
       "      <td>No</td>\n",
       "      <td>Yes</td>\n",
       "      <td>No</td>\n",
       "      <td>No</td>\n",
       "      <td>Female</td>\n",
       "      <td>1</td>\n",
       "      <td>No</td>\n",
       "      <td>No</td>\n",
       "      <td>Yes</td>\n",
       "      <td>2018</td>\n",
       "      <td>5</td>\n",
       "      <td>1</td>\n",
       "    </tr>\n",
       "  </tbody>\n",
       "</table>\n",
       "</div>"
      ],
      "text/plain": [
       "                      Type PaperlessBilling              PaymentMethod  \\\n",
       "customerID                                                               \n",
       "3530-CRZSB  Month-to-month               No               Mailed check   \n",
       "2293-IJWPS        One year              Yes    Credit card (automatic)   \n",
       "8595-SIZNC        One year               No  Bank transfer (automatic)   \n",
       "9600-NAXZN  Month-to-month              Yes           Electronic check   \n",
       "8242-SOQUO  Month-to-month              Yes           Electronic check   \n",
       "6215-NQCPY  Month-to-month              Yes           Electronic check   \n",
       "8104-OSKWT  Month-to-month              Yes           Electronic check   \n",
       "7579-KKLOE        Two year              Yes               Mailed check   \n",
       "7435-ZNUYY        One year               No               Mailed check   \n",
       "5914-DVBWJ  Month-to-month              Yes           Electronic check   \n",
       "\n",
       "            MonthlyCharges TotalCharges InternetService OnlineSecurity  \\\n",
       "customerID                                                               \n",
       "3530-CRZSB           20.65        155.9         No data        No data   \n",
       "2293-IJWPS          100.75         5985     Fiber optic             No   \n",
       "8595-SIZNC           25.60        548.8         No data        No data   \n",
       "9600-NAXZN          101.40         4528     Fiber optic             No   \n",
       "8242-SOQUO           84.70        392.5     Fiber optic             No   \n",
       "6215-NQCPY           99.70      1566.75     Fiber optic            Yes   \n",
       "8104-OSKWT           79.80       1001.2     Fiber optic            Yes   \n",
       "7579-KKLOE           91.25       6589.6             DSL            Yes   \n",
       "7435-ZNUYY           20.60        116.6         No data        No data   \n",
       "5914-DVBWJ           85.45      1505.85     Fiber optic             No   \n",
       "\n",
       "           OnlineBackup DeviceProtection TechSupport StreamingTV  \\\n",
       "customerID                                                         \n",
       "3530-CRZSB      No data          No data     No data     No data   \n",
       "2293-IJWPS           No              Yes          No         Yes   \n",
       "8595-SIZNC      No data          No data     No data     No data   \n",
       "9600-NAXZN          Yes               No          No         Yes   \n",
       "8242-SOQUO          Yes               No          No         Yes   \n",
       "6215-NQCPY           No               No          No         Yes   \n",
       "8104-OSKWT           No               No          No          No   \n",
       "7579-KKLOE          Yes              Yes         Yes         Yes   \n",
       "7435-ZNUYY      No data          No data     No data     No data   \n",
       "5914-DVBWJ          Yes               No         Yes          No   \n",
       "\n",
       "           StreamingMovies  gender  SeniorCitizen Partner Dependents  \\\n",
       "customerID                                                             \n",
       "3530-CRZSB         No data  Female              0      No         No   \n",
       "2293-IJWPS             Yes  Female              0     Yes         No   \n",
       "8595-SIZNC         No data  Female              1     Yes         No   \n",
       "9600-NAXZN             Yes    Male              0      No         No   \n",
       "8242-SOQUO              No  Female              1      No         No   \n",
       "6215-NQCPY             Yes    Male              0      No         No   \n",
       "8104-OSKWT              No  Female              0      No         No   \n",
       "7579-KKLOE             Yes    Male              0     Yes        Yes   \n",
       "7435-ZNUYY         No data    Male              0      No         No   \n",
       "5914-DVBWJ              No  Female              1      No         No   \n",
       "\n",
       "           MultipleLines BeginDate_Year BeginDate_Month  isActive  \n",
       "customerID                                                         \n",
       "3530-CRZSB            No           2019               7         0  \n",
       "2293-IJWPS           Yes           2015               5         0  \n",
       "8595-SIZNC           Yes           2018               4         0  \n",
       "9600-NAXZN           Yes           2016               6         1  \n",
       "8242-SOQUO            No           2019               9         0  \n",
       "6215-NQCPY           Yes           2018              11         0  \n",
       "8104-OSKWT           Yes           2019               2         0  \n",
       "7579-KKLOE           Yes           2014               3         0  \n",
       "7435-ZNUYY            No           2019               8         0  \n",
       "5914-DVBWJ           Yes           2018               5         1  "
      ]
     },
     "execution_count": 344,
     "metadata": {},
     "output_type": "execute_result"
    }
   ],
   "source": [
    "full_data.sample(10)\n",
    "\n"
   ]
  },
  {
   "cell_type": "code",
   "execution_count": 345,
   "metadata": {},
   "outputs": [],
   "source": [
    "# for col in full_data:\n",
    "#     print(full_data[col].unique())\n"
   ]
  },
  {
   "cell_type": "markdown",
   "metadata": {},
   "source": [
    "## EVALUACION DE MODELOS"
   ]
  },
  {
   "cell_type": "code",
   "execution_count": 346,
   "metadata": {},
   "outputs": [],
   "source": [
    "def scaler_ohe(df):\n",
    "    scaler = StandardScaler()\n",
    "    scaler.fit(df[numeric_columns])\n",
    "    data_scaled = scaler.transform(df[numeric_columns])\n",
    "    df[numeric_columns]= data_scaled\n",
    "    df = pd.get_dummies(df, drop_first=True)\n",
    "    \n",
    "    return df\n",
    "\n",
    "def find_scores(features_test, target_test, predictions, model):\n",
    "\n",
    "    print(classification_report(target_test, predictions))\n",
    "    print(\"Área bajo la curva ROC:\", roc_auc_score(target_test, predictions))\n",
    "\n",
    "    #Buscamos las probabilidades de que el valor objetivo sea 1, dependiendo el tipo de modelo es el metodo que elegimos\n",
    "    try:\n",
    "        probab_test = model.predict_proba(features_test)\n",
    "        probab_one_test = probab_test[:, 1]\n",
    "        fpr, tpr, thresholds = roc_curve(target_test, probab_one_test)  \n",
    "        \n",
    "    except:\n",
    "        probab_one_test = model.predict(features_test)\n",
    "        fpr, tpr, thresholds = roc_curve(target_test, probab_one_test) \n",
    "\n",
    "    #Creamos un df con los datos para graficar\n",
    "    roc_data = {\"FPR\": fpr, \"TPR\": tpr}\n",
    "    df_roc = pd.DataFrame(roc_data)\n",
    "\n",
    "    # Trazar la curva ROC con Plotly Express\n",
    "    fig = px.line(\n",
    "        df_roc,\n",
    "        x=\"FPR\",\n",
    "        y=\"TPR\",\n",
    "        labels={\"FPR\": \"Tasa de falsos positivos\", \"TPR\": \"Tasa de verdaderos positivos\"},\n",
    "        title=\"Curva ROC\",\n",
    "    )\n",
    "\n",
    "    # Agregar una línea diagonal que representa el modelo aleatorio\n",
    "    fig.add_shape(type=\"line\", line=dict(dash=\"dash\"), x0=0, x1=1, y0=0, y1=1)\n",
    "    fig.update_layout(\n",
    "        width=800,  \n",
    "        height=450\n",
    "    )\n",
    "    # Mostrar la figura\n",
    "    fig.show()\n",
    "\n",
    "    cols_categ = (\n",
    "    [\n",
    "        \"Type\",\n",
    "        \"PaperlessBilling\",\n",
    "        \"PaymentMethod\",\n",
    "        \"InternetService\",\n",
    "        \"OnlineSecurity\",\n",
    "        \"OnlineBackup\",\n",
    "        \"DeviceProtection\",\n",
    "        \"TechSupport\",\n",
    "        \"StreamingTV\",\n",
    "        \"StreamingMovies\",\n",
    "        \"gender\",\n",
    "        \"SeniorCitizen\",\n",
    "        \"Partner\",\n",
    "        \"Dependents\",\n",
    "        \"MultipleLines\",\n",
    "        \"isActive\",\n",
    "        \"BeginDate_Year\",\n",
    "        \"BeginDate_Month\",\n",
    "        \"EndDate_Year\",\n",
    "        \"EndDate_Month\",\n",
    "    ],\n",
    ")\n",
    "numeric_columns = [\"MonthlyCharges\", \"TotalCharges\"]\n"
   ]
  },
  {
   "cell_type": "code",
   "execution_count": 347,
   "metadata": {},
   "outputs": [],
   "source": [
    "#Separacion de datos\n",
    "\n",
    "y = full_data[\"isActive\"]\n",
    "X = full_data.drop(columns=\"isActive\")\n",
    "X = scaler_ohe(X)\n",
    "X_train,X_valid, y_train, y_valid = train_test_split(X, y, test_size=0.2, random_state=999)\n",
    "X_train, X_test, y_train, y_test = train_test_split(X_train, y_train, test_size=0.2, random_state=999)\n"
   ]
  },
  {
   "cell_type": "markdown",
   "metadata": {},
   "source": [
    "#### LOGISTIC REGRESSION"
   ]
  },
  {
   "cell_type": "code",
   "execution_count": 348,
   "metadata": {},
   "outputs": [
    {
     "name": "stdout",
     "output_type": "stream",
     "text": [
      "Fitting 5 folds for each of 120 candidates, totalling 600 fits\n",
      "Mejores hiperparámetros: {'C': 1, 'class_weight': None, 'max_iter': 100, 'penalty': 'l1', 'solver': 'liblinear'}\n",
      "\n",
      "              precision    recall  f1-score   support\n",
      "\n",
      "           0       0.86      0.91      0.89       844\n",
      "           1       0.68      0.58      0.62       283\n",
      "\n",
      "    accuracy                           0.83      1127\n",
      "   macro avg       0.77      0.74      0.75      1127\n",
      "weighted avg       0.82      0.83      0.82      1127\n",
      "\n",
      "Área bajo la curva ROC: 0.7423697519803059\n"
     ]
    },
    {
     "data": {
      "application/vnd.plotly.v1+json": {
       "config": {
        "plotlyServerURL": "https://plot.ly"
       },
       "data": [
        {
         "hovertemplate": "Tasa de falsos positivos=%{x}<br>Tasa de verdaderos positivos=%{y}<extra></extra>",
         "legendgroup": "",
         "line": {
          "color": "#636efa",
          "dash": "solid"
         },
         "marker": {
          "symbol": "circle"
         },
         "mode": "lines",
         "name": "",
         "orientation": "v",
         "showlegend": false,
         "type": "scatter",
         "x": [
          0,
          0,
          0,
          0.002369668246445498,
          0.002369668246445498,
          0.0035545023696682463,
          0.0035545023696682463,
          0.004739336492890996,
          0.004739336492890996,
          0.005924170616113744,
          0.005924170616113744,
          0.0071090047393364926,
          0.0071090047393364926,
          0.008293838862559242,
          0.008293838862559242,
          0.009478672985781991,
          0.009478672985781991,
          0.011848341232227487,
          0.011848341232227487,
          0.014218009478672985,
          0.014218009478672985,
          0.015402843601895734,
          0.015402843601895734,
          0.016587677725118485,
          0.016587677725118485,
          0.017772511848341232,
          0.017772511848341232,
          0.018957345971563982,
          0.018957345971563982,
          0.02014218009478673,
          0.02014218009478673,
          0.022511848341232227,
          0.022511848341232227,
          0.023696682464454975,
          0.023696682464454975,
          0.026066350710900472,
          0.026066350710900472,
          0.02962085308056872,
          0.02962085308056872,
          0.030805687203791468,
          0.030805687203791468,
          0.031990521327014215,
          0.031990521327014215,
          0.03317535545023697,
          0.03317535545023697,
          0.034360189573459717,
          0.034360189573459717,
          0.035545023696682464,
          0.035545023696682464,
          0.03909952606635071,
          0.03909952606635071,
          0.041469194312796206,
          0.041469194312796206,
          0.04265402843601896,
          0.04265402843601896,
          0.04383886255924171,
          0.04383886255924171,
          0.0462085308056872,
          0.0462085308056872,
          0.0485781990521327,
          0.0485781990521327,
          0.052132701421800945,
          0.052132701421800945,
          0.0533175355450237,
          0.0533175355450237,
          0.05687203791469194,
          0.05687203791469194,
          0.058056872037914695,
          0.058056872037914695,
          0.05924170616113744,
          0.05924170616113744,
          0.06042654028436019,
          0.06042654028436019,
          0.06398104265402843,
          0.06398104265402843,
          0.06516587677725119,
          0.06516587677725119,
          0.06753554502369669,
          0.06753554502369669,
          0.06872037914691943,
          0.06872037914691943,
          0.06990521327014218,
          0.06990521327014218,
          0.07227488151658767,
          0.07227488151658767,
          0.07345971563981042,
          0.07345971563981042,
          0.07464454976303317,
          0.07464454976303317,
          0.07582938388625593,
          0.07582938388625593,
          0.07819905213270142,
          0.07819905213270142,
          0.07938388625592417,
          0.07938388625592417,
          0.08175355450236967,
          0.08175355450236967,
          0.08293838862559241,
          0.08293838862559241,
          0.08412322274881516,
          0.08412322274881516,
          0.08530805687203792,
          0.08530805687203792,
          0.08649289099526067,
          0.08649289099526067,
          0.08767772511848342,
          0.08767772511848342,
          0.09004739336492891,
          0.09004739336492891,
          0.09123222748815166,
          0.09123222748815166,
          0.0924170616113744,
          0.0924170616113744,
          0.0947867298578199,
          0.0947867298578199,
          0.09597156398104266,
          0.09597156398104266,
          0.0971563981042654,
          0.0971563981042654,
          0.0995260663507109,
          0.0995260663507109,
          0.10426540284360189,
          0.10426540284360189,
          0.10545023696682465,
          0.10545023696682465,
          0.10781990521327015,
          0.10781990521327015,
          0.11255924170616113,
          0.11255924170616113,
          0.11729857819905214,
          0.11729857819905214,
          0.11848341232227488,
          0.11848341232227488,
          0.12677725118483413,
          0.12677725118483413,
          0.13270142180094788,
          0.13270142180094788,
          0.1338862559241706,
          0.1338862559241706,
          0.14336492890995262,
          0.14336492890995262,
          0.1457345971563981,
          0.1457345971563981,
          0.1481042654028436,
          0.1481042654028436,
          0.15165876777251186,
          0.15165876777251186,
          0.1528436018957346,
          0.1528436018957346,
          0.15402843601895735,
          0.15402843601895735,
          0.1552132701421801,
          0.1552132701421801,
          0.16350710900473933,
          0.16350710900473933,
          0.1646919431279621,
          0.1646919431279621,
          0.16587677725118483,
          0.16587677725118483,
          0.16943127962085308,
          0.16943127962085308,
          0.17535545023696683,
          0.17535545023696683,
          0.17772511848341233,
          0.17772511848341233,
          0.18009478672985782,
          0.18009478672985782,
          0.18127962085308058,
          0.18127962085308058,
          0.18246445497630331,
          0.18246445497630331,
          0.18364928909952608,
          0.18364928909952608,
          0.1848341232227488,
          0.1848341232227488,
          0.19549763033175355,
          0.19549763033175355,
          0.2037914691943128,
          0.2037914691943128,
          0.20497630331753555,
          0.20497630331753555,
          0.20616113744075829,
          0.20616113744075829,
          0.2132701421800948,
          0.2132701421800948,
          0.21445497630331753,
          0.21445497630331753,
          0.2334123222748815,
          0.2334123222748815,
          0.235781990521327,
          0.235781990521327,
          0.23696682464454977,
          0.23696682464454977,
          0.24289099526066352,
          0.24289099526066352,
          0.24407582938388625,
          0.24407582938388625,
          0.2523696682464455,
          0.2523696682464455,
          0.25829383886255924,
          0.25829383886255924,
          0.2618483412322275,
          0.2618483412322275,
          0.2677725118483412,
          0.2677725118483412,
          0.27014218009478674,
          0.27014218009478674,
          0.273696682464455,
          0.273696682464455,
          0.28080568720379145,
          0.28080568720379145,
          0.28554502369668244,
          0.28554502369668244,
          0.2914691943127962,
          0.2914691943127962,
          0.2938388625592417,
          0.2938388625592417,
          0.3009478672985782,
          0.3009478672985782,
          0.3056872037914692,
          0.3056872037914692,
          0.30924170616113744,
          0.30924170616113744,
          0.3104265402843602,
          0.3104265402843602,
          0.31161137440758296,
          0.31161137440758296,
          0.3187203791469194,
          0.3187203791469194,
          0.32109004739336494,
          0.32109004739336494,
          0.33649289099526064,
          0.33649289099526064,
          0.3542654028436019,
          0.3542654028436019,
          0.36729857819905215,
          0.36729857819905215,
          0.3767772511848341,
          0.3767772511848341,
          0.3815165876777251,
          0.3815165876777251,
          0.38388625592417064,
          0.38388625592417064,
          0.3862559241706161,
          0.3862559241706161,
          0.3921800947867299,
          0.3921800947867299,
          0.39454976303317535,
          0.39454976303317535,
          0.4004739336492891,
          0.4004739336492891,
          0.41232227488151657,
          0.41232227488151657,
          0.4194312796208531,
          0.4194312796208531,
          0.42417061611374407,
          0.42417061611374407,
          0.42890995260663506,
          0.42890995260663506,
          0.4372037914691943,
          0.4372037914691943,
          0.44075829383886256,
          0.44075829383886256,
          0.4549763033175355,
          0.4549763033175355,
          0.4609004739336493,
          0.4609004739336493,
          0.46919431279620855,
          0.46919431279620855,
          0.47985781990521326,
          0.47985781990521326,
          0.48933649289099523,
          0.48933649289099523,
          0.5225118483412322,
          0.5225118483412322,
          0.523696682464455,
          0.523696682464455,
          0.5888625592417062,
          0.5888625592417062,
          0.6125592417061612,
          0.6125592417061612,
          0.7132701421800948,
          0.7132701421800948,
          0.731042654028436,
          0.731042654028436,
          0.768957345971564,
          0.768957345971564,
          0.7914691943127962,
          0.7914691943127962,
          1
         ],
         "xaxis": "x",
         "y": [
          0,
          0.0035335689045936395,
          0.024734982332155476,
          0.024734982332155476,
          0.028268551236749116,
          0.028268551236749116,
          0.045936395759717315,
          0.045936395759717315,
          0.0812720848056537,
          0.0812720848056537,
          0.08480565371024736,
          0.08480565371024736,
          0.09540636042402827,
          0.09540636042402827,
          0.13427561837455831,
          0.13427561837455831,
          0.14487632508833923,
          0.14487632508833923,
          0.1519434628975265,
          0.1519434628975265,
          0.1696113074204947,
          0.1696113074204947,
          0.1978798586572438,
          0.1978798586572438,
          0.2049469964664311,
          0.2049469964664311,
          0.21908127208480566,
          0.21908127208480566,
          0.2226148409893993,
          0.2226148409893993,
          0.22968197879858657,
          0.22968197879858657,
          0.24381625441696114,
          0.24381625441696114,
          0.254416961130742,
          0.254416961130742,
          0.2579505300353357,
          0.2579505300353357,
          0.26855123674911663,
          0.26855123674911663,
          0.2791519434628975,
          0.2791519434628975,
          0.28975265017667845,
          0.28975265017667845,
          0.3003533568904594,
          0.3003533568904594,
          0.303886925795053,
          0.303886925795053,
          0.3321554770318021,
          0.3321554770318021,
          0.3392226148409894,
          0.3392226148409894,
          0.34275618374558303,
          0.34275618374558303,
          0.3498233215547703,
          0.3498233215547703,
          0.3710247349823322,
          0.3710247349823322,
          0.3745583038869258,
          0.3745583038869258,
          0.37809187279151946,
          0.37809187279151946,
          0.3957597173144876,
          0.3957597173144876,
          0.4275618374558304,
          0.4275618374558304,
          0.43109540636042404,
          0.43109540636042404,
          0.4416961130742049,
          0.4416961130742049,
          0.4452296819787986,
          0.4452296819787986,
          0.44876325088339225,
          0.44876325088339225,
          0.4558303886925795,
          0.4558303886925795,
          0.45936395759717313,
          0.45936395759717313,
          0.4664310954063604,
          0.4664310954063604,
          0.46996466431095407,
          0.46996466431095407,
          0.47703180212014135,
          0.47703180212014135,
          0.48056537102473496,
          0.48056537102473496,
          0.4840989399293286,
          0.4840989399293286,
          0.4911660777385159,
          0.4911660777385159,
          0.49469964664310956,
          0.49469964664310956,
          0.49823321554770317,
          0.49823321554770317,
          0.5053003533568905,
          0.5053003533568905,
          0.508833922261484,
          0.508833922261484,
          0.5123674911660777,
          0.5123674911660777,
          0.5300353356890459,
          0.5300353356890459,
          0.5547703180212014,
          0.5547703180212014,
          0.5618374558303887,
          0.5618374558303887,
          0.568904593639576,
          0.568904593639576,
          0.5724381625441696,
          0.5724381625441696,
          0.5759717314487632,
          0.5759717314487632,
          0.5795053003533569,
          0.5795053003533569,
          0.5865724381625441,
          0.5865724381625441,
          0.5901060070671378,
          0.5901060070671378,
          0.5936395759717314,
          0.5936395759717314,
          0.6148409893992933,
          0.6148409893992933,
          0.6183745583038869,
          0.6183745583038869,
          0.6219081272084805,
          0.6219081272084805,
          0.6395759717314488,
          0.6395759717314488,
          0.6537102473498233,
          0.6537102473498233,
          0.657243816254417,
          0.657243816254417,
          0.6607773851590106,
          0.6607773851590106,
          0.6643109540636042,
          0.6643109540636042,
          0.6678445229681979,
          0.6678445229681979,
          0.6713780918727915,
          0.6713780918727915,
          0.6784452296819788,
          0.6784452296819788,
          0.6819787985865724,
          0.6819787985865724,
          0.6855123674911661,
          0.6855123674911661,
          0.6890459363957597,
          0.6890459363957597,
          0.6925795053003534,
          0.6925795053003534,
          0.696113074204947,
          0.696113074204947,
          0.6996466431095406,
          0.6996466431095406,
          0.7031802120141343,
          0.7031802120141343,
          0.7102473498233216,
          0.7102473498233216,
          0.7137809187279152,
          0.7137809187279152,
          0.7173144876325088,
          0.7173144876325088,
          0.7243816254416962,
          0.7243816254416962,
          0.734982332155477,
          0.734982332155477,
          0.7420494699646644,
          0.7420494699646644,
          0.7491166077738516,
          0.7491166077738516,
          0.7526501766784452,
          0.7526501766784452,
          0.7561837455830389,
          0.7561837455830389,
          0.7597173144876325,
          0.7597173144876325,
          0.7667844522968198,
          0.7667844522968198,
          0.7703180212014135,
          0.7703180212014135,
          0.7773851590106007,
          0.7773851590106007,
          0.7809187279151943,
          0.7809187279151943,
          0.7879858657243817,
          0.7879858657243817,
          0.7915194346289752,
          0.7915194346289752,
          0.7950530035335689,
          0.7950530035335689,
          0.7985865724381626,
          0.7985865724381626,
          0.8091872791519434,
          0.8091872791519434,
          0.8127208480565371,
          0.8127208480565371,
          0.8162544169611308,
          0.8162544169611308,
          0.8197879858657244,
          0.8197879858657244,
          0.823321554770318,
          0.823321554770318,
          0.8303886925795053,
          0.8303886925795053,
          0.833922261484099,
          0.833922261484099,
          0.8374558303886925,
          0.8374558303886925,
          0.8409893992932862,
          0.8409893992932862,
          0.8445229681978799,
          0.8445229681978799,
          0.8515901060070671,
          0.8515901060070671,
          0.8551236749116607,
          0.8551236749116607,
          0.8586572438162544,
          0.8586572438162544,
          0.8621908127208481,
          0.8621908127208481,
          0.8657243816254417,
          0.8657243816254417,
          0.8692579505300353,
          0.8692579505300353,
          0.872791519434629,
          0.872791519434629,
          0.8798586572438163,
          0.8798586572438163,
          0.8833922261484098,
          0.8833922261484098,
          0.8869257950530035,
          0.8869257950530035,
          0.8904593639575972,
          0.8904593639575972,
          0.8975265017667845,
          0.8975265017667845,
          0.901060070671378,
          0.901060070671378,
          0.9045936395759717,
          0.9045936395759717,
          0.9081272084805654,
          0.9081272084805654,
          0.911660777385159,
          0.911660777385159,
          0.9151943462897526,
          0.9151943462897526,
          0.9187279151943463,
          0.9187279151943463,
          0.9222614840989399,
          0.9222614840989399,
          0.9257950530035336,
          0.9257950530035336,
          0.9293286219081273,
          0.9293286219081273,
          0.9328621908127208,
          0.9328621908127208,
          0.9399293286219081,
          0.9399293286219081,
          0.9434628975265018,
          0.9434628975265018,
          0.9469964664310954,
          0.9469964664310954,
          0.950530035335689,
          0.950530035335689,
          0.9540636042402827,
          0.9540636042402827,
          0.9575971731448764,
          0.9575971731448764,
          0.9646643109540636,
          0.9646643109540636,
          0.9681978798586572,
          0.9681978798586572,
          0.9717314487632509,
          0.9717314487632509,
          0.9752650176678446,
          0.9752650176678446,
          0.9787985865724381,
          0.9787985865724381,
          0.9823321554770318,
          0.9823321554770318,
          0.9858657243816255,
          0.9858657243816255,
          0.9893992932862191,
          0.9893992932862191,
          0.9929328621908127,
          0.9929328621908127,
          0.9964664310954063,
          0.9964664310954063,
          1,
          1
         ],
         "yaxis": "y"
        }
       ],
       "layout": {
        "height": 450,
        "legend": {
         "tracegroupgap": 0
        },
        "shapes": [
         {
          "line": {
           "dash": "dash"
          },
          "type": "line",
          "x0": 0,
          "x1": 1,
          "y0": 0,
          "y1": 1
         }
        ],
        "template": {
         "data": {
          "bar": [
           {
            "error_x": {
             "color": "#2a3f5f"
            },
            "error_y": {
             "color": "#2a3f5f"
            },
            "marker": {
             "line": {
              "color": "#E5ECF6",
              "width": 0.5
             },
             "pattern": {
              "fillmode": "overlay",
              "size": 10,
              "solidity": 0.2
             }
            },
            "type": "bar"
           }
          ],
          "barpolar": [
           {
            "marker": {
             "line": {
              "color": "#E5ECF6",
              "width": 0.5
             },
             "pattern": {
              "fillmode": "overlay",
              "size": 10,
              "solidity": 0.2
             }
            },
            "type": "barpolar"
           }
          ],
          "carpet": [
           {
            "aaxis": {
             "endlinecolor": "#2a3f5f",
             "gridcolor": "white",
             "linecolor": "white",
             "minorgridcolor": "white",
             "startlinecolor": "#2a3f5f"
            },
            "baxis": {
             "endlinecolor": "#2a3f5f",
             "gridcolor": "white",
             "linecolor": "white",
             "minorgridcolor": "white",
             "startlinecolor": "#2a3f5f"
            },
            "type": "carpet"
           }
          ],
          "choropleth": [
           {
            "colorbar": {
             "outlinewidth": 0,
             "ticks": ""
            },
            "type": "choropleth"
           }
          ],
          "contour": [
           {
            "colorbar": {
             "outlinewidth": 0,
             "ticks": ""
            },
            "colorscale": [
             [
              0,
              "#0d0887"
             ],
             [
              0.1111111111111111,
              "#46039f"
             ],
             [
              0.2222222222222222,
              "#7201a8"
             ],
             [
              0.3333333333333333,
              "#9c179e"
             ],
             [
              0.4444444444444444,
              "#bd3786"
             ],
             [
              0.5555555555555556,
              "#d8576b"
             ],
             [
              0.6666666666666666,
              "#ed7953"
             ],
             [
              0.7777777777777778,
              "#fb9f3a"
             ],
             [
              0.8888888888888888,
              "#fdca26"
             ],
             [
              1,
              "#f0f921"
             ]
            ],
            "type": "contour"
           }
          ],
          "contourcarpet": [
           {
            "colorbar": {
             "outlinewidth": 0,
             "ticks": ""
            },
            "type": "contourcarpet"
           }
          ],
          "heatmap": [
           {
            "colorbar": {
             "outlinewidth": 0,
             "ticks": ""
            },
            "colorscale": [
             [
              0,
              "#0d0887"
             ],
             [
              0.1111111111111111,
              "#46039f"
             ],
             [
              0.2222222222222222,
              "#7201a8"
             ],
             [
              0.3333333333333333,
              "#9c179e"
             ],
             [
              0.4444444444444444,
              "#bd3786"
             ],
             [
              0.5555555555555556,
              "#d8576b"
             ],
             [
              0.6666666666666666,
              "#ed7953"
             ],
             [
              0.7777777777777778,
              "#fb9f3a"
             ],
             [
              0.8888888888888888,
              "#fdca26"
             ],
             [
              1,
              "#f0f921"
             ]
            ],
            "type": "heatmap"
           }
          ],
          "heatmapgl": [
           {
            "colorbar": {
             "outlinewidth": 0,
             "ticks": ""
            },
            "colorscale": [
             [
              0,
              "#0d0887"
             ],
             [
              0.1111111111111111,
              "#46039f"
             ],
             [
              0.2222222222222222,
              "#7201a8"
             ],
             [
              0.3333333333333333,
              "#9c179e"
             ],
             [
              0.4444444444444444,
              "#bd3786"
             ],
             [
              0.5555555555555556,
              "#d8576b"
             ],
             [
              0.6666666666666666,
              "#ed7953"
             ],
             [
              0.7777777777777778,
              "#fb9f3a"
             ],
             [
              0.8888888888888888,
              "#fdca26"
             ],
             [
              1,
              "#f0f921"
             ]
            ],
            "type": "heatmapgl"
           }
          ],
          "histogram": [
           {
            "marker": {
             "pattern": {
              "fillmode": "overlay",
              "size": 10,
              "solidity": 0.2
             }
            },
            "type": "histogram"
           }
          ],
          "histogram2d": [
           {
            "colorbar": {
             "outlinewidth": 0,
             "ticks": ""
            },
            "colorscale": [
             [
              0,
              "#0d0887"
             ],
             [
              0.1111111111111111,
              "#46039f"
             ],
             [
              0.2222222222222222,
              "#7201a8"
             ],
             [
              0.3333333333333333,
              "#9c179e"
             ],
             [
              0.4444444444444444,
              "#bd3786"
             ],
             [
              0.5555555555555556,
              "#d8576b"
             ],
             [
              0.6666666666666666,
              "#ed7953"
             ],
             [
              0.7777777777777778,
              "#fb9f3a"
             ],
             [
              0.8888888888888888,
              "#fdca26"
             ],
             [
              1,
              "#f0f921"
             ]
            ],
            "type": "histogram2d"
           }
          ],
          "histogram2dcontour": [
           {
            "colorbar": {
             "outlinewidth": 0,
             "ticks": ""
            },
            "colorscale": [
             [
              0,
              "#0d0887"
             ],
             [
              0.1111111111111111,
              "#46039f"
             ],
             [
              0.2222222222222222,
              "#7201a8"
             ],
             [
              0.3333333333333333,
              "#9c179e"
             ],
             [
              0.4444444444444444,
              "#bd3786"
             ],
             [
              0.5555555555555556,
              "#d8576b"
             ],
             [
              0.6666666666666666,
              "#ed7953"
             ],
             [
              0.7777777777777778,
              "#fb9f3a"
             ],
             [
              0.8888888888888888,
              "#fdca26"
             ],
             [
              1,
              "#f0f921"
             ]
            ],
            "type": "histogram2dcontour"
           }
          ],
          "mesh3d": [
           {
            "colorbar": {
             "outlinewidth": 0,
             "ticks": ""
            },
            "type": "mesh3d"
           }
          ],
          "parcoords": [
           {
            "line": {
             "colorbar": {
              "outlinewidth": 0,
              "ticks": ""
             }
            },
            "type": "parcoords"
           }
          ],
          "pie": [
           {
            "automargin": true,
            "type": "pie"
           }
          ],
          "scatter": [
           {
            "fillpattern": {
             "fillmode": "overlay",
             "size": 10,
             "solidity": 0.2
            },
            "type": "scatter"
           }
          ],
          "scatter3d": [
           {
            "line": {
             "colorbar": {
              "outlinewidth": 0,
              "ticks": ""
             }
            },
            "marker": {
             "colorbar": {
              "outlinewidth": 0,
              "ticks": ""
             }
            },
            "type": "scatter3d"
           }
          ],
          "scattercarpet": [
           {
            "marker": {
             "colorbar": {
              "outlinewidth": 0,
              "ticks": ""
             }
            },
            "type": "scattercarpet"
           }
          ],
          "scattergeo": [
           {
            "marker": {
             "colorbar": {
              "outlinewidth": 0,
              "ticks": ""
             }
            },
            "type": "scattergeo"
           }
          ],
          "scattergl": [
           {
            "marker": {
             "colorbar": {
              "outlinewidth": 0,
              "ticks": ""
             }
            },
            "type": "scattergl"
           }
          ],
          "scattermapbox": [
           {
            "marker": {
             "colorbar": {
              "outlinewidth": 0,
              "ticks": ""
             }
            },
            "type": "scattermapbox"
           }
          ],
          "scatterpolar": [
           {
            "marker": {
             "colorbar": {
              "outlinewidth": 0,
              "ticks": ""
             }
            },
            "type": "scatterpolar"
           }
          ],
          "scatterpolargl": [
           {
            "marker": {
             "colorbar": {
              "outlinewidth": 0,
              "ticks": ""
             }
            },
            "type": "scatterpolargl"
           }
          ],
          "scatterternary": [
           {
            "marker": {
             "colorbar": {
              "outlinewidth": 0,
              "ticks": ""
             }
            },
            "type": "scatterternary"
           }
          ],
          "surface": [
           {
            "colorbar": {
             "outlinewidth": 0,
             "ticks": ""
            },
            "colorscale": [
             [
              0,
              "#0d0887"
             ],
             [
              0.1111111111111111,
              "#46039f"
             ],
             [
              0.2222222222222222,
              "#7201a8"
             ],
             [
              0.3333333333333333,
              "#9c179e"
             ],
             [
              0.4444444444444444,
              "#bd3786"
             ],
             [
              0.5555555555555556,
              "#d8576b"
             ],
             [
              0.6666666666666666,
              "#ed7953"
             ],
             [
              0.7777777777777778,
              "#fb9f3a"
             ],
             [
              0.8888888888888888,
              "#fdca26"
             ],
             [
              1,
              "#f0f921"
             ]
            ],
            "type": "surface"
           }
          ],
          "table": [
           {
            "cells": {
             "fill": {
              "color": "#EBF0F8"
             },
             "line": {
              "color": "white"
             }
            },
            "header": {
             "fill": {
              "color": "#C8D4E3"
             },
             "line": {
              "color": "white"
             }
            },
            "type": "table"
           }
          ]
         },
         "layout": {
          "annotationdefaults": {
           "arrowcolor": "#2a3f5f",
           "arrowhead": 0,
           "arrowwidth": 1
          },
          "autotypenumbers": "strict",
          "coloraxis": {
           "colorbar": {
            "outlinewidth": 0,
            "ticks": ""
           }
          },
          "colorscale": {
           "diverging": [
            [
             0,
             "#8e0152"
            ],
            [
             0.1,
             "#c51b7d"
            ],
            [
             0.2,
             "#de77ae"
            ],
            [
             0.3,
             "#f1b6da"
            ],
            [
             0.4,
             "#fde0ef"
            ],
            [
             0.5,
             "#f7f7f7"
            ],
            [
             0.6,
             "#e6f5d0"
            ],
            [
             0.7,
             "#b8e186"
            ],
            [
             0.8,
             "#7fbc41"
            ],
            [
             0.9,
             "#4d9221"
            ],
            [
             1,
             "#276419"
            ]
           ],
           "sequential": [
            [
             0,
             "#0d0887"
            ],
            [
             0.1111111111111111,
             "#46039f"
            ],
            [
             0.2222222222222222,
             "#7201a8"
            ],
            [
             0.3333333333333333,
             "#9c179e"
            ],
            [
             0.4444444444444444,
             "#bd3786"
            ],
            [
             0.5555555555555556,
             "#d8576b"
            ],
            [
             0.6666666666666666,
             "#ed7953"
            ],
            [
             0.7777777777777778,
             "#fb9f3a"
            ],
            [
             0.8888888888888888,
             "#fdca26"
            ],
            [
             1,
             "#f0f921"
            ]
           ],
           "sequentialminus": [
            [
             0,
             "#0d0887"
            ],
            [
             0.1111111111111111,
             "#46039f"
            ],
            [
             0.2222222222222222,
             "#7201a8"
            ],
            [
             0.3333333333333333,
             "#9c179e"
            ],
            [
             0.4444444444444444,
             "#bd3786"
            ],
            [
             0.5555555555555556,
             "#d8576b"
            ],
            [
             0.6666666666666666,
             "#ed7953"
            ],
            [
             0.7777777777777778,
             "#fb9f3a"
            ],
            [
             0.8888888888888888,
             "#fdca26"
            ],
            [
             1,
             "#f0f921"
            ]
           ]
          },
          "colorway": [
           "#636efa",
           "#EF553B",
           "#00cc96",
           "#ab63fa",
           "#FFA15A",
           "#19d3f3",
           "#FF6692",
           "#B6E880",
           "#FF97FF",
           "#FECB52"
          ],
          "font": {
           "color": "#2a3f5f"
          },
          "geo": {
           "bgcolor": "white",
           "lakecolor": "white",
           "landcolor": "#E5ECF6",
           "showlakes": true,
           "showland": true,
           "subunitcolor": "white"
          },
          "hoverlabel": {
           "align": "left"
          },
          "hovermode": "closest",
          "mapbox": {
           "style": "light"
          },
          "paper_bgcolor": "white",
          "plot_bgcolor": "#E5ECF6",
          "polar": {
           "angularaxis": {
            "gridcolor": "white",
            "linecolor": "white",
            "ticks": ""
           },
           "bgcolor": "#E5ECF6",
           "radialaxis": {
            "gridcolor": "white",
            "linecolor": "white",
            "ticks": ""
           }
          },
          "scene": {
           "xaxis": {
            "backgroundcolor": "#E5ECF6",
            "gridcolor": "white",
            "gridwidth": 2,
            "linecolor": "white",
            "showbackground": true,
            "ticks": "",
            "zerolinecolor": "white"
           },
           "yaxis": {
            "backgroundcolor": "#E5ECF6",
            "gridcolor": "white",
            "gridwidth": 2,
            "linecolor": "white",
            "showbackground": true,
            "ticks": "",
            "zerolinecolor": "white"
           },
           "zaxis": {
            "backgroundcolor": "#E5ECF6",
            "gridcolor": "white",
            "gridwidth": 2,
            "linecolor": "white",
            "showbackground": true,
            "ticks": "",
            "zerolinecolor": "white"
           }
          },
          "shapedefaults": {
           "line": {
            "color": "#2a3f5f"
           }
          },
          "ternary": {
           "aaxis": {
            "gridcolor": "white",
            "linecolor": "white",
            "ticks": ""
           },
           "baxis": {
            "gridcolor": "white",
            "linecolor": "white",
            "ticks": ""
           },
           "bgcolor": "#E5ECF6",
           "caxis": {
            "gridcolor": "white",
            "linecolor": "white",
            "ticks": ""
           }
          },
          "title": {
           "x": 0.05
          },
          "xaxis": {
           "automargin": true,
           "gridcolor": "white",
           "linecolor": "white",
           "ticks": "",
           "title": {
            "standoff": 15
           },
           "zerolinecolor": "white",
           "zerolinewidth": 2
          },
          "yaxis": {
           "automargin": true,
           "gridcolor": "white",
           "linecolor": "white",
           "ticks": "",
           "title": {
            "standoff": 15
           },
           "zerolinecolor": "white",
           "zerolinewidth": 2
          }
         }
        },
        "title": {
         "text": "Curva ROC"
        },
        "width": 800,
        "xaxis": {
         "anchor": "y",
         "domain": [
          0,
          1
         ],
         "title": {
          "text": "Tasa de falsos positivos"
         }
        },
        "yaxis": {
         "anchor": "x",
         "domain": [
          0,
          1
         ],
         "title": {
          "text": "Tasa de verdaderos positivos"
         }
        }
       }
      }
     },
     "metadata": {},
     "output_type": "display_data"
    }
   ],
   "source": [
    "model_logistreg = LogisticRegression()\n",
    "\n",
    "\n",
    "param_grid = {\n",
    "    'C': [0.01, 0.1, 1, 10, 100],  # Regularización\n",
    "    'solver': ['liblinear', 'saga'],  # Solvers comunes para clasificación binaria\n",
    "    'class_weight': ['balanced', None],  # Considerar desbalanceo de clases o no\n",
    "    'penalty': ['l2', 'l1'],  # Tipos de regularización\n",
    "    'max_iter': [100, 200, 300]  # Número máximo de iteraciones\n",
    "}\n",
    "\n",
    "\n",
    "grid_search = GridSearchCV(estimator=model_logistreg, param_grid=param_grid, cv=5, scoring='accuracy', n_jobs=-1, verbose=2)\n",
    "\n",
    "grid_search.fit(X_train, y_train)\n",
    "\n",
    "\n",
    "print(\"Mejores hiperparámetros:\", grid_search.best_params_)\n",
    "print(\"\")\n",
    "# Predecir usando el mejor modelo encontrado\n",
    "best_model = grid_search.best_estimator_\n",
    "predictions = best_model.predict(X_test)\n",
    "\n",
    "find_scores(X_test, y_test, predictions, best_model)"
   ]
  },
  {
   "cell_type": "markdown",
   "metadata": {},
   "source": [
    "#### RANDOM FOREST CLASSIFIER"
   ]
  },
  {
   "cell_type": "code",
   "execution_count": 349,
   "metadata": {},
   "outputs": [
    {
     "name": "stdout",
     "output_type": "stream",
     "text": [
      "Fitting 5 folds for each of 243 candidates, totalling 1215 fits\n",
      "Mejores hiperparámetros: {'class_weight': None, 'max_depth': 30, 'min_samples_leaf': 1, 'min_samples_split': 5, 'n_estimators': 300}\n",
      "              precision    recall  f1-score   support\n",
      "\n",
      "           0       0.87      0.94      0.90       844\n",
      "           1       0.77      0.58      0.66       283\n",
      "\n",
      "    accuracy                           0.85      1127\n",
      "   macro avg       0.82      0.76      0.78      1127\n",
      "weighted avg       0.84      0.85      0.84      1127\n",
      "\n",
      "Área bajo la curva ROC: 0.7607242141577212\n"
     ]
    },
    {
     "data": {
      "application/vnd.plotly.v1+json": {
       "config": {
        "plotlyServerURL": "https://plot.ly"
       },
       "data": [
        {
         "hovertemplate": "Tasa de falsos positivos=%{x}<br>Tasa de verdaderos positivos=%{y}<extra></extra>",
         "legendgroup": "",
         "line": {
          "color": "#636efa",
          "dash": "solid"
         },
         "marker": {
          "symbol": "circle"
         },
         "mode": "lines",
         "name": "",
         "orientation": "v",
         "showlegend": false,
         "type": "scatter",
         "x": [
          0,
          0,
          0,
          0.001184834123222749,
          0.001184834123222749,
          0.002369668246445498,
          0.002369668246445498,
          0.0035545023696682463,
          0.0035545023696682463,
          0.0071090047393364926,
          0.0071090047393364926,
          0.011848341232227487,
          0.011848341232227487,
          0.013033175355450236,
          0.013033175355450236,
          0.014218009478672985,
          0.014218009478672985,
          0.015402843601895734,
          0.015402843601895734,
          0.016587677725118485,
          0.016587677725118485,
          0.018957345971563982,
          0.018957345971563982,
          0.02014218009478673,
          0.02014218009478673,
          0.02132701421800948,
          0.02132701421800948,
          0.027251184834123223,
          0.027251184834123223,
          0.030805687203791468,
          0.030805687203791468,
          0.03317535545023697,
          0.03317535545023697,
          0.035545023696682464,
          0.035545023696682464,
          0.037914691943127965,
          0.037914691943127965,
          0.03909952606635071,
          0.03909952606635071,
          0.04028436018957346,
          0.04028436018957346,
          0.041469194312796206,
          0.041469194312796206,
          0.04383886255924171,
          0.04383886255924171,
          0.04739336492890995,
          0.04739336492890995,
          0.04976303317535545,
          0.04976303317535545,
          0.0509478672985782,
          0.0509478672985782,
          0.052132701421800945,
          0.052132701421800945,
          0.054502369668246446,
          0.054502369668246446,
          0.058056872037914695,
          0.058056872037914695,
          0.05924170616113744,
          0.05924170616113744,
          0.06042654028436019,
          0.06042654028436019,
          0.06279620853080568,
          0.06279620853080568,
          0.06398104265402843,
          0.06398104265402843,
          0.06635071090047394,
          0.06635071090047394,
          0.07109004739336493,
          0.07109004739336493,
          0.07345971563981042,
          0.07345971563981042,
          0.07582938388625593,
          0.07582938388625593,
          0.07819905213270142,
          0.07819905213270142,
          0.07938388625592417,
          0.07938388625592417,
          0.08056872037914692,
          0.08056872037914692,
          0.08175355450236967,
          0.08175355450236967,
          0.08412322274881516,
          0.08412322274881516,
          0.08530805687203792,
          0.08530805687203792,
          0.09123222748815166,
          0.09123222748815166,
          0.10545023696682465,
          0.10545023696682465,
          0.1066350710900474,
          0.1066350710900474,
          0.11374407582938388,
          0.11374407582938388,
          0.11729857819905214,
          0.11729857819905214,
          0.12085308056872038,
          0.12085308056872038,
          0.12203791469194313,
          0.12203791469194313,
          0.12440758293838862,
          0.12440758293838862,
          0.12559241706161137,
          0.12559241706161137,
          0.12677725118483413,
          0.12677725118483413,
          0.12796208530805686,
          0.12796208530805686,
          0.13151658767772512,
          0.13151658767772512,
          0.1338862559241706,
          0.1338862559241706,
          0.1386255924170616,
          0.1386255924170616,
          0.14099526066350712,
          0.14099526066350712,
          0.14454976303317535,
          0.14454976303317535,
          0.1481042654028436,
          0.1481042654028436,
          0.15165876777251186,
          0.15165876777251186,
          0.1552132701421801,
          0.1552132701421801,
          0.16113744075829384,
          0.16113744075829384,
          0.1623222748815166,
          0.1623222748815166,
          0.16350710900473933,
          0.16350710900473933,
          0.1670616113744076,
          0.1670616113744076,
          0.16824644549763032,
          0.16824644549763032,
          0.17061611374407584,
          0.17061611374407584,
          0.17535545023696683,
          0.17535545023696683,
          0.17772511848341233,
          0.17772511848341233,
          0.17890995260663506,
          0.17890995260663506,
          0.18601895734597157,
          0.18601895734597157,
          0.19075829383886256,
          0.19075829383886256,
          0.1966824644549763,
          0.1966824644549763,
          0.1990521327014218,
          0.1990521327014218,
          0.2132701421800948,
          0.2132701421800948,
          0.21445497630331753,
          0.21445497630331753,
          0.22156398104265404,
          0.22156398104265404,
          0.23459715639810427,
          0.23459715639810427,
          0.235781990521327,
          0.235781990521327,
          0.23696682464454977,
          0.23696682464454977,
          0.24289099526066352,
          0.24289099526066352,
          0.24407582938388625,
          0.24407582938388625,
          0.2559241706161137,
          0.2559241706161137,
          0.27014218009478674,
          0.27014218009478674,
          0.2725118483412322,
          0.2725118483412322,
          0.2890995260663507,
          0.2890995260663507,
          0.2938388625592417,
          0.2938388625592417,
          0.2950236966824645,
          0.2950236966824645,
          0.3033175355450237,
          0.3033175355450237,
          0.31161137440758296,
          0.31161137440758296,
          0.32109004739336494,
          0.32109004739336494,
          0.3246445497630332,
          0.3246445497630332,
          0.32582938388625593,
          0.32582938388625593,
          0.3542654028436019,
          0.3542654028436019,
          0.3637440758293839,
          0.3637440758293839,
          0.37203791469194314,
          0.37203791469194314,
          0.38388625592417064,
          0.38388625592417064,
          0.38744075829383884,
          0.38744075829383884,
          0.3921800947867299,
          0.3921800947867299,
          0.4052132701421801,
          0.4052132701421801,
          0.41113744075829384,
          0.41113744075829384,
          0.42417061611374407,
          0.42417061611374407,
          0.4312796208530806,
          0.4312796208530806,
          0.4514218009478673,
          0.4514218009478673,
          0.48459715639810425,
          0.48459715639810425,
          0.48696682464454977,
          0.48696682464454977,
          0.49644549763033174,
          0.49644549763033174,
          0.509478672985782,
          0.509478672985782,
          0.5154028436018957,
          0.5154028436018957,
          0.6587677725118484,
          0.6587677725118484,
          0.7381516587677726,
          0.7381516587677726,
          0.8092417061611374,
          0.8092417061611374,
          0.8803317535545023,
          0.8827014218009479,
          0.9206161137440758,
          0.9229857819905213,
          0.9407582938388626,
          0.943127962085308,
          0.9466824644549763,
          0.9466824644549763,
          0.9644549763033176,
          0.9691943127962085,
          0.9727488151658767,
          0.9751184834123223,
          0.9798578199052133,
          1
         ],
         "xaxis": "x",
         "y": [
          0,
          0.0035335689045936395,
          0.127208480565371,
          0.127208480565371,
          0.19434628975265017,
          0.19434628975265017,
          0.2049469964664311,
          0.2049469964664311,
          0.3286219081272085,
          0.3286219081272085,
          0.3462897526501767,
          0.3462897526501767,
          0.3498233215547703,
          0.3498233215547703,
          0.37809187279151946,
          0.37809187279151946,
          0.38515901060070673,
          0.38515901060070673,
          0.392226148409894,
          0.392226148409894,
          0.40636042402826855,
          0.40636042402826855,
          0.4098939929328622,
          0.4098939929328622,
          0.4452296819787986,
          0.4452296819787986,
          0.4734982332155477,
          0.4734982332155477,
          0.47703180212014135,
          0.47703180212014135,
          0.48056537102473496,
          0.48056537102473496,
          0.4840989399293286,
          0.4840989399293286,
          0.4876325088339223,
          0.4876325088339223,
          0.49469964664310956,
          0.49469964664310956,
          0.49823321554770317,
          0.49823321554770317,
          0.519434628975265,
          0.519434628975265,
          0.5300353356890459,
          0.5300353356890459,
          0.5335689045936396,
          0.5335689045936396,
          0.5371024734982333,
          0.5371024734982333,
          0.5512367491166078,
          0.5512367491166078,
          0.5547703180212014,
          0.5547703180212014,
          0.5618374558303887,
          0.5618374558303887,
          0.568904593639576,
          0.568904593639576,
          0.5830388692579506,
          0.5830388692579506,
          0.5971731448763251,
          0.5971731448763251,
          0.6007067137809188,
          0.6007067137809188,
          0.6042402826855123,
          0.6042402826855123,
          0.6219081272084805,
          0.6219081272084805,
          0.6254416961130742,
          0.6254416961130742,
          0.6289752650176679,
          0.6289752650176679,
          0.6360424028268551,
          0.6360424028268551,
          0.6395759717314488,
          0.6395759717314488,
          0.6431095406360424,
          0.6431095406360424,
          0.6466431095406361,
          0.6466431095406361,
          0.6501766784452296,
          0.6501766784452296,
          0.657243816254417,
          0.657243816254417,
          0.6607773851590106,
          0.6607773851590106,
          0.6678445229681979,
          0.6678445229681979,
          0.6784452296819788,
          0.6784452296819788,
          0.6819787985865724,
          0.6819787985865724,
          0.6890459363957597,
          0.6890459363957597,
          0.6925795053003534,
          0.6925795053003534,
          0.6996466431095406,
          0.6996466431095406,
          0.7102473498233216,
          0.7102473498233216,
          0.7137809187279152,
          0.7137809187279152,
          0.7173144876325088,
          0.7173144876325088,
          0.7208480565371025,
          0.7208480565371025,
          0.7385159010600707,
          0.7385159010600707,
          0.7420494699646644,
          0.7420494699646644,
          0.7455830388692579,
          0.7455830388692579,
          0.7491166077738516,
          0.7491166077738516,
          0.7526501766784452,
          0.7526501766784452,
          0.7561837455830389,
          0.7561837455830389,
          0.7597173144876325,
          0.7597173144876325,
          0.7667844522968198,
          0.7667844522968198,
          0.773851590106007,
          0.773851590106007,
          0.7773851590106007,
          0.7773851590106007,
          0.784452296819788,
          0.784452296819788,
          0.7915194346289752,
          0.7915194346289752,
          0.7950530035335689,
          0.7950530035335689,
          0.7985865724381626,
          0.7985865724381626,
          0.8021201413427562,
          0.8021201413427562,
          0.8056537102473498,
          0.8056537102473498,
          0.8091872791519434,
          0.8091872791519434,
          0.8127208480565371,
          0.8127208480565371,
          0.8162544169611308,
          0.8162544169611308,
          0.8197879858657244,
          0.8197879858657244,
          0.823321554770318,
          0.823321554770318,
          0.8268551236749117,
          0.8268551236749117,
          0.8303886925795053,
          0.8303886925795053,
          0.833922261484099,
          0.833922261484099,
          0.8409893992932862,
          0.8409893992932862,
          0.8445229681978799,
          0.8445229681978799,
          0.8480565371024735,
          0.8480565371024735,
          0.8515901060070671,
          0.8515901060070671,
          0.8692579505300353,
          0.8692579505300353,
          0.872791519434629,
          0.872791519434629,
          0.8763250883392226,
          0.8763250883392226,
          0.8798586572438163,
          0.8798586572438163,
          0.8833922261484098,
          0.8833922261484098,
          0.8869257950530035,
          0.8869257950530035,
          0.8904593639575972,
          0.8904593639575972,
          0.8939929328621908,
          0.8939929328621908,
          0.8975265017667845,
          0.8975265017667845,
          0.901060070671378,
          0.901060070671378,
          0.9081272084805654,
          0.9081272084805654,
          0.911660777385159,
          0.911660777385159,
          0.9151943462897526,
          0.9151943462897526,
          0.9187279151943463,
          0.9187279151943463,
          0.9222614840989399,
          0.9222614840989399,
          0.9363957597173145,
          0.9363957597173145,
          0.9399293286219081,
          0.9399293286219081,
          0.9434628975265018,
          0.9434628975265018,
          0.9469964664310954,
          0.9469964664310954,
          0.950530035335689,
          0.950530035335689,
          0.9540636042402827,
          0.9540636042402827,
          0.9575971731448764,
          0.9575971731448764,
          0.9611307420494699,
          0.9611307420494699,
          0.9646643109540636,
          0.9646643109540636,
          0.9681978798586572,
          0.9681978798586572,
          0.9717314487632509,
          0.9717314487632509,
          0.9752650176678446,
          0.9752650176678446,
          0.9787985865724381,
          0.9787985865724381,
          0.9823321554770318,
          0.9823321554770318,
          0.9858657243816255,
          0.9858657243816255,
          0.9893992932862191,
          0.9893992932862191,
          0.9929328621908127,
          0.9929328621908127,
          0.9964664310954063,
          0.9964664310954063,
          0.9964664310954063,
          0.9964664310954063,
          0.9964664310954063,
          0.9964664310954063,
          0.9964664310954063,
          0.9964664310954063,
          1,
          1,
          1,
          1,
          1,
          1,
          1
         ],
         "yaxis": "y"
        }
       ],
       "layout": {
        "height": 450,
        "legend": {
         "tracegroupgap": 0
        },
        "shapes": [
         {
          "line": {
           "dash": "dash"
          },
          "type": "line",
          "x0": 0,
          "x1": 1,
          "y0": 0,
          "y1": 1
         }
        ],
        "template": {
         "data": {
          "bar": [
           {
            "error_x": {
             "color": "#2a3f5f"
            },
            "error_y": {
             "color": "#2a3f5f"
            },
            "marker": {
             "line": {
              "color": "#E5ECF6",
              "width": 0.5
             },
             "pattern": {
              "fillmode": "overlay",
              "size": 10,
              "solidity": 0.2
             }
            },
            "type": "bar"
           }
          ],
          "barpolar": [
           {
            "marker": {
             "line": {
              "color": "#E5ECF6",
              "width": 0.5
             },
             "pattern": {
              "fillmode": "overlay",
              "size": 10,
              "solidity": 0.2
             }
            },
            "type": "barpolar"
           }
          ],
          "carpet": [
           {
            "aaxis": {
             "endlinecolor": "#2a3f5f",
             "gridcolor": "white",
             "linecolor": "white",
             "minorgridcolor": "white",
             "startlinecolor": "#2a3f5f"
            },
            "baxis": {
             "endlinecolor": "#2a3f5f",
             "gridcolor": "white",
             "linecolor": "white",
             "minorgridcolor": "white",
             "startlinecolor": "#2a3f5f"
            },
            "type": "carpet"
           }
          ],
          "choropleth": [
           {
            "colorbar": {
             "outlinewidth": 0,
             "ticks": ""
            },
            "type": "choropleth"
           }
          ],
          "contour": [
           {
            "colorbar": {
             "outlinewidth": 0,
             "ticks": ""
            },
            "colorscale": [
             [
              0,
              "#0d0887"
             ],
             [
              0.1111111111111111,
              "#46039f"
             ],
             [
              0.2222222222222222,
              "#7201a8"
             ],
             [
              0.3333333333333333,
              "#9c179e"
             ],
             [
              0.4444444444444444,
              "#bd3786"
             ],
             [
              0.5555555555555556,
              "#d8576b"
             ],
             [
              0.6666666666666666,
              "#ed7953"
             ],
             [
              0.7777777777777778,
              "#fb9f3a"
             ],
             [
              0.8888888888888888,
              "#fdca26"
             ],
             [
              1,
              "#f0f921"
             ]
            ],
            "type": "contour"
           }
          ],
          "contourcarpet": [
           {
            "colorbar": {
             "outlinewidth": 0,
             "ticks": ""
            },
            "type": "contourcarpet"
           }
          ],
          "heatmap": [
           {
            "colorbar": {
             "outlinewidth": 0,
             "ticks": ""
            },
            "colorscale": [
             [
              0,
              "#0d0887"
             ],
             [
              0.1111111111111111,
              "#46039f"
             ],
             [
              0.2222222222222222,
              "#7201a8"
             ],
             [
              0.3333333333333333,
              "#9c179e"
             ],
             [
              0.4444444444444444,
              "#bd3786"
             ],
             [
              0.5555555555555556,
              "#d8576b"
             ],
             [
              0.6666666666666666,
              "#ed7953"
             ],
             [
              0.7777777777777778,
              "#fb9f3a"
             ],
             [
              0.8888888888888888,
              "#fdca26"
             ],
             [
              1,
              "#f0f921"
             ]
            ],
            "type": "heatmap"
           }
          ],
          "heatmapgl": [
           {
            "colorbar": {
             "outlinewidth": 0,
             "ticks": ""
            },
            "colorscale": [
             [
              0,
              "#0d0887"
             ],
             [
              0.1111111111111111,
              "#46039f"
             ],
             [
              0.2222222222222222,
              "#7201a8"
             ],
             [
              0.3333333333333333,
              "#9c179e"
             ],
             [
              0.4444444444444444,
              "#bd3786"
             ],
             [
              0.5555555555555556,
              "#d8576b"
             ],
             [
              0.6666666666666666,
              "#ed7953"
             ],
             [
              0.7777777777777778,
              "#fb9f3a"
             ],
             [
              0.8888888888888888,
              "#fdca26"
             ],
             [
              1,
              "#f0f921"
             ]
            ],
            "type": "heatmapgl"
           }
          ],
          "histogram": [
           {
            "marker": {
             "pattern": {
              "fillmode": "overlay",
              "size": 10,
              "solidity": 0.2
             }
            },
            "type": "histogram"
           }
          ],
          "histogram2d": [
           {
            "colorbar": {
             "outlinewidth": 0,
             "ticks": ""
            },
            "colorscale": [
             [
              0,
              "#0d0887"
             ],
             [
              0.1111111111111111,
              "#46039f"
             ],
             [
              0.2222222222222222,
              "#7201a8"
             ],
             [
              0.3333333333333333,
              "#9c179e"
             ],
             [
              0.4444444444444444,
              "#bd3786"
             ],
             [
              0.5555555555555556,
              "#d8576b"
             ],
             [
              0.6666666666666666,
              "#ed7953"
             ],
             [
              0.7777777777777778,
              "#fb9f3a"
             ],
             [
              0.8888888888888888,
              "#fdca26"
             ],
             [
              1,
              "#f0f921"
             ]
            ],
            "type": "histogram2d"
           }
          ],
          "histogram2dcontour": [
           {
            "colorbar": {
             "outlinewidth": 0,
             "ticks": ""
            },
            "colorscale": [
             [
              0,
              "#0d0887"
             ],
             [
              0.1111111111111111,
              "#46039f"
             ],
             [
              0.2222222222222222,
              "#7201a8"
             ],
             [
              0.3333333333333333,
              "#9c179e"
             ],
             [
              0.4444444444444444,
              "#bd3786"
             ],
             [
              0.5555555555555556,
              "#d8576b"
             ],
             [
              0.6666666666666666,
              "#ed7953"
             ],
             [
              0.7777777777777778,
              "#fb9f3a"
             ],
             [
              0.8888888888888888,
              "#fdca26"
             ],
             [
              1,
              "#f0f921"
             ]
            ],
            "type": "histogram2dcontour"
           }
          ],
          "mesh3d": [
           {
            "colorbar": {
             "outlinewidth": 0,
             "ticks": ""
            },
            "type": "mesh3d"
           }
          ],
          "parcoords": [
           {
            "line": {
             "colorbar": {
              "outlinewidth": 0,
              "ticks": ""
             }
            },
            "type": "parcoords"
           }
          ],
          "pie": [
           {
            "automargin": true,
            "type": "pie"
           }
          ],
          "scatter": [
           {
            "fillpattern": {
             "fillmode": "overlay",
             "size": 10,
             "solidity": 0.2
            },
            "type": "scatter"
           }
          ],
          "scatter3d": [
           {
            "line": {
             "colorbar": {
              "outlinewidth": 0,
              "ticks": ""
             }
            },
            "marker": {
             "colorbar": {
              "outlinewidth": 0,
              "ticks": ""
             }
            },
            "type": "scatter3d"
           }
          ],
          "scattercarpet": [
           {
            "marker": {
             "colorbar": {
              "outlinewidth": 0,
              "ticks": ""
             }
            },
            "type": "scattercarpet"
           }
          ],
          "scattergeo": [
           {
            "marker": {
             "colorbar": {
              "outlinewidth": 0,
              "ticks": ""
             }
            },
            "type": "scattergeo"
           }
          ],
          "scattergl": [
           {
            "marker": {
             "colorbar": {
              "outlinewidth": 0,
              "ticks": ""
             }
            },
            "type": "scattergl"
           }
          ],
          "scattermapbox": [
           {
            "marker": {
             "colorbar": {
              "outlinewidth": 0,
              "ticks": ""
             }
            },
            "type": "scattermapbox"
           }
          ],
          "scatterpolar": [
           {
            "marker": {
             "colorbar": {
              "outlinewidth": 0,
              "ticks": ""
             }
            },
            "type": "scatterpolar"
           }
          ],
          "scatterpolargl": [
           {
            "marker": {
             "colorbar": {
              "outlinewidth": 0,
              "ticks": ""
             }
            },
            "type": "scatterpolargl"
           }
          ],
          "scatterternary": [
           {
            "marker": {
             "colorbar": {
              "outlinewidth": 0,
              "ticks": ""
             }
            },
            "type": "scatterternary"
           }
          ],
          "surface": [
           {
            "colorbar": {
             "outlinewidth": 0,
             "ticks": ""
            },
            "colorscale": [
             [
              0,
              "#0d0887"
             ],
             [
              0.1111111111111111,
              "#46039f"
             ],
             [
              0.2222222222222222,
              "#7201a8"
             ],
             [
              0.3333333333333333,
              "#9c179e"
             ],
             [
              0.4444444444444444,
              "#bd3786"
             ],
             [
              0.5555555555555556,
              "#d8576b"
             ],
             [
              0.6666666666666666,
              "#ed7953"
             ],
             [
              0.7777777777777778,
              "#fb9f3a"
             ],
             [
              0.8888888888888888,
              "#fdca26"
             ],
             [
              1,
              "#f0f921"
             ]
            ],
            "type": "surface"
           }
          ],
          "table": [
           {
            "cells": {
             "fill": {
              "color": "#EBF0F8"
             },
             "line": {
              "color": "white"
             }
            },
            "header": {
             "fill": {
              "color": "#C8D4E3"
             },
             "line": {
              "color": "white"
             }
            },
            "type": "table"
           }
          ]
         },
         "layout": {
          "annotationdefaults": {
           "arrowcolor": "#2a3f5f",
           "arrowhead": 0,
           "arrowwidth": 1
          },
          "autotypenumbers": "strict",
          "coloraxis": {
           "colorbar": {
            "outlinewidth": 0,
            "ticks": ""
           }
          },
          "colorscale": {
           "diverging": [
            [
             0,
             "#8e0152"
            ],
            [
             0.1,
             "#c51b7d"
            ],
            [
             0.2,
             "#de77ae"
            ],
            [
             0.3,
             "#f1b6da"
            ],
            [
             0.4,
             "#fde0ef"
            ],
            [
             0.5,
             "#f7f7f7"
            ],
            [
             0.6,
             "#e6f5d0"
            ],
            [
             0.7,
             "#b8e186"
            ],
            [
             0.8,
             "#7fbc41"
            ],
            [
             0.9,
             "#4d9221"
            ],
            [
             1,
             "#276419"
            ]
           ],
           "sequential": [
            [
             0,
             "#0d0887"
            ],
            [
             0.1111111111111111,
             "#46039f"
            ],
            [
             0.2222222222222222,
             "#7201a8"
            ],
            [
             0.3333333333333333,
             "#9c179e"
            ],
            [
             0.4444444444444444,
             "#bd3786"
            ],
            [
             0.5555555555555556,
             "#d8576b"
            ],
            [
             0.6666666666666666,
             "#ed7953"
            ],
            [
             0.7777777777777778,
             "#fb9f3a"
            ],
            [
             0.8888888888888888,
             "#fdca26"
            ],
            [
             1,
             "#f0f921"
            ]
           ],
           "sequentialminus": [
            [
             0,
             "#0d0887"
            ],
            [
             0.1111111111111111,
             "#46039f"
            ],
            [
             0.2222222222222222,
             "#7201a8"
            ],
            [
             0.3333333333333333,
             "#9c179e"
            ],
            [
             0.4444444444444444,
             "#bd3786"
            ],
            [
             0.5555555555555556,
             "#d8576b"
            ],
            [
             0.6666666666666666,
             "#ed7953"
            ],
            [
             0.7777777777777778,
             "#fb9f3a"
            ],
            [
             0.8888888888888888,
             "#fdca26"
            ],
            [
             1,
             "#f0f921"
            ]
           ]
          },
          "colorway": [
           "#636efa",
           "#EF553B",
           "#00cc96",
           "#ab63fa",
           "#FFA15A",
           "#19d3f3",
           "#FF6692",
           "#B6E880",
           "#FF97FF",
           "#FECB52"
          ],
          "font": {
           "color": "#2a3f5f"
          },
          "geo": {
           "bgcolor": "white",
           "lakecolor": "white",
           "landcolor": "#E5ECF6",
           "showlakes": true,
           "showland": true,
           "subunitcolor": "white"
          },
          "hoverlabel": {
           "align": "left"
          },
          "hovermode": "closest",
          "mapbox": {
           "style": "light"
          },
          "paper_bgcolor": "white",
          "plot_bgcolor": "#E5ECF6",
          "polar": {
           "angularaxis": {
            "gridcolor": "white",
            "linecolor": "white",
            "ticks": ""
           },
           "bgcolor": "#E5ECF6",
           "radialaxis": {
            "gridcolor": "white",
            "linecolor": "white",
            "ticks": ""
           }
          },
          "scene": {
           "xaxis": {
            "backgroundcolor": "#E5ECF6",
            "gridcolor": "white",
            "gridwidth": 2,
            "linecolor": "white",
            "showbackground": true,
            "ticks": "",
            "zerolinecolor": "white"
           },
           "yaxis": {
            "backgroundcolor": "#E5ECF6",
            "gridcolor": "white",
            "gridwidth": 2,
            "linecolor": "white",
            "showbackground": true,
            "ticks": "",
            "zerolinecolor": "white"
           },
           "zaxis": {
            "backgroundcolor": "#E5ECF6",
            "gridcolor": "white",
            "gridwidth": 2,
            "linecolor": "white",
            "showbackground": true,
            "ticks": "",
            "zerolinecolor": "white"
           }
          },
          "shapedefaults": {
           "line": {
            "color": "#2a3f5f"
           }
          },
          "ternary": {
           "aaxis": {
            "gridcolor": "white",
            "linecolor": "white",
            "ticks": ""
           },
           "baxis": {
            "gridcolor": "white",
            "linecolor": "white",
            "ticks": ""
           },
           "bgcolor": "#E5ECF6",
           "caxis": {
            "gridcolor": "white",
            "linecolor": "white",
            "ticks": ""
           }
          },
          "title": {
           "x": 0.05
          },
          "xaxis": {
           "automargin": true,
           "gridcolor": "white",
           "linecolor": "white",
           "ticks": "",
           "title": {
            "standoff": 15
           },
           "zerolinecolor": "white",
           "zerolinewidth": 2
          },
          "yaxis": {
           "automargin": true,
           "gridcolor": "white",
           "linecolor": "white",
           "ticks": "",
           "title": {
            "standoff": 15
           },
           "zerolinecolor": "white",
           "zerolinewidth": 2
          }
         }
        },
        "title": {
         "text": "Curva ROC"
        },
        "width": 800,
        "xaxis": {
         "anchor": "y",
         "domain": [
          0,
          1
         ],
         "title": {
          "text": "Tasa de falsos positivos"
         }
        },
        "yaxis": {
         "anchor": "x",
         "domain": [
          0,
          1
         ],
         "title": {
          "text": "Tasa de verdaderos positivos"
         }
        }
       }
      }
     },
     "metadata": {},
     "output_type": "display_data"
    }
   ],
   "source": [
    "model_rf = RandomForestClassifier()\n",
    "\n",
    "param_grid = {\n",
    "    'n_estimators': [100, 200, 300],  \n",
    "    'max_depth': [10, 20, 30],  \n",
    "    'min_samples_split': [2, 5, 10],  \n",
    "    'min_samples_leaf': [1, 2, 4],   \n",
    "    'class_weight': ['balanced', 'balanced_subsample', None]  \n",
    "}\n",
    "\n",
    "grid_search = GridSearchCV(estimator=model_rf, param_grid=param_grid, cv=5, scoring='accuracy', n_jobs=-1, verbose=2)\n",
    "grid_search.fit(X_train, y_train)\n",
    "\n",
    "print(\"Mejores hiperparámetros:\", grid_search.best_params_)\n",
    "\n",
    "# Predecir usando el mejor modelo encontrado\n",
    "best_model = grid_search.best_estimator_\n",
    "predictions = best_model.predict(X_test)\n",
    "\n",
    "find_scores(X_test, y_test, predictions, best_model)"
   ]
  },
  {
   "cell_type": "markdown",
   "metadata": {},
   "source": [
    "#### KNN CLASSIFIER"
   ]
  },
  {
   "cell_type": "code",
   "execution_count": 350,
   "metadata": {},
   "outputs": [
    {
     "name": "stdout",
     "output_type": "stream",
     "text": [
      "Fitting 5 folds for each of 24 candidates, totalling 120 fits\n",
      "Mejores hiperparámetros: {'metric': 'manhattan', 'n_neighbors': 9, 'weights': 'uniform'}\n",
      "              precision    recall  f1-score   support\n",
      "\n",
      "           0       0.87      0.87      0.87       844\n",
      "           1       0.62      0.61      0.61       283\n",
      "\n",
      "    accuracy                           0.81      1127\n",
      "   macro avg       0.74      0.74      0.74      1127\n",
      "weighted avg       0.81      0.81      0.81      1127\n",
      "\n",
      "Área bajo la curva ROC: 0.7422650846549327\n"
     ]
    },
    {
     "data": {
      "application/vnd.plotly.v1+json": {
       "config": {
        "plotlyServerURL": "https://plot.ly"
       },
       "data": [
        {
         "hovertemplate": "Tasa de falsos positivos=%{x}<br>Tasa de verdaderos positivos=%{y}<extra></extra>",
         "legendgroup": "",
         "line": {
          "color": "#636efa",
          "dash": "solid"
         },
         "marker": {
          "symbol": "circle"
         },
         "mode": "lines",
         "name": "",
         "orientation": "v",
         "showlegend": false,
         "type": "scatter",
         "x": [
          0,
          0.005924170616113744,
          0.015402843601895734,
          0.04265402843601896,
          0.07464454976303317,
          0.12677725118483413,
          0.20734597156398105,
          0.29976303317535546,
          0.4218009478672986,
          0.6054502369668247,
          1
         ],
         "xaxis": "x",
         "y": [
          0,
          0.053003533568904596,
          0.1625441696113074,
          0.30742049469964666,
          0.4628975265017668,
          0.6113074204946997,
          0.7491166077738516,
          0.8692579505300353,
          0.9257950530035336,
          0.9646643109540636,
          1
         ],
         "yaxis": "y"
        }
       ],
       "layout": {
        "height": 450,
        "legend": {
         "tracegroupgap": 0
        },
        "shapes": [
         {
          "line": {
           "dash": "dash"
          },
          "type": "line",
          "x0": 0,
          "x1": 1,
          "y0": 0,
          "y1": 1
         }
        ],
        "template": {
         "data": {
          "bar": [
           {
            "error_x": {
             "color": "#2a3f5f"
            },
            "error_y": {
             "color": "#2a3f5f"
            },
            "marker": {
             "line": {
              "color": "#E5ECF6",
              "width": 0.5
             },
             "pattern": {
              "fillmode": "overlay",
              "size": 10,
              "solidity": 0.2
             }
            },
            "type": "bar"
           }
          ],
          "barpolar": [
           {
            "marker": {
             "line": {
              "color": "#E5ECF6",
              "width": 0.5
             },
             "pattern": {
              "fillmode": "overlay",
              "size": 10,
              "solidity": 0.2
             }
            },
            "type": "barpolar"
           }
          ],
          "carpet": [
           {
            "aaxis": {
             "endlinecolor": "#2a3f5f",
             "gridcolor": "white",
             "linecolor": "white",
             "minorgridcolor": "white",
             "startlinecolor": "#2a3f5f"
            },
            "baxis": {
             "endlinecolor": "#2a3f5f",
             "gridcolor": "white",
             "linecolor": "white",
             "minorgridcolor": "white",
             "startlinecolor": "#2a3f5f"
            },
            "type": "carpet"
           }
          ],
          "choropleth": [
           {
            "colorbar": {
             "outlinewidth": 0,
             "ticks": ""
            },
            "type": "choropleth"
           }
          ],
          "contour": [
           {
            "colorbar": {
             "outlinewidth": 0,
             "ticks": ""
            },
            "colorscale": [
             [
              0,
              "#0d0887"
             ],
             [
              0.1111111111111111,
              "#46039f"
             ],
             [
              0.2222222222222222,
              "#7201a8"
             ],
             [
              0.3333333333333333,
              "#9c179e"
             ],
             [
              0.4444444444444444,
              "#bd3786"
             ],
             [
              0.5555555555555556,
              "#d8576b"
             ],
             [
              0.6666666666666666,
              "#ed7953"
             ],
             [
              0.7777777777777778,
              "#fb9f3a"
             ],
             [
              0.8888888888888888,
              "#fdca26"
             ],
             [
              1,
              "#f0f921"
             ]
            ],
            "type": "contour"
           }
          ],
          "contourcarpet": [
           {
            "colorbar": {
             "outlinewidth": 0,
             "ticks": ""
            },
            "type": "contourcarpet"
           }
          ],
          "heatmap": [
           {
            "colorbar": {
             "outlinewidth": 0,
             "ticks": ""
            },
            "colorscale": [
             [
              0,
              "#0d0887"
             ],
             [
              0.1111111111111111,
              "#46039f"
             ],
             [
              0.2222222222222222,
              "#7201a8"
             ],
             [
              0.3333333333333333,
              "#9c179e"
             ],
             [
              0.4444444444444444,
              "#bd3786"
             ],
             [
              0.5555555555555556,
              "#d8576b"
             ],
             [
              0.6666666666666666,
              "#ed7953"
             ],
             [
              0.7777777777777778,
              "#fb9f3a"
             ],
             [
              0.8888888888888888,
              "#fdca26"
             ],
             [
              1,
              "#f0f921"
             ]
            ],
            "type": "heatmap"
           }
          ],
          "heatmapgl": [
           {
            "colorbar": {
             "outlinewidth": 0,
             "ticks": ""
            },
            "colorscale": [
             [
              0,
              "#0d0887"
             ],
             [
              0.1111111111111111,
              "#46039f"
             ],
             [
              0.2222222222222222,
              "#7201a8"
             ],
             [
              0.3333333333333333,
              "#9c179e"
             ],
             [
              0.4444444444444444,
              "#bd3786"
             ],
             [
              0.5555555555555556,
              "#d8576b"
             ],
             [
              0.6666666666666666,
              "#ed7953"
             ],
             [
              0.7777777777777778,
              "#fb9f3a"
             ],
             [
              0.8888888888888888,
              "#fdca26"
             ],
             [
              1,
              "#f0f921"
             ]
            ],
            "type": "heatmapgl"
           }
          ],
          "histogram": [
           {
            "marker": {
             "pattern": {
              "fillmode": "overlay",
              "size": 10,
              "solidity": 0.2
             }
            },
            "type": "histogram"
           }
          ],
          "histogram2d": [
           {
            "colorbar": {
             "outlinewidth": 0,
             "ticks": ""
            },
            "colorscale": [
             [
              0,
              "#0d0887"
             ],
             [
              0.1111111111111111,
              "#46039f"
             ],
             [
              0.2222222222222222,
              "#7201a8"
             ],
             [
              0.3333333333333333,
              "#9c179e"
             ],
             [
              0.4444444444444444,
              "#bd3786"
             ],
             [
              0.5555555555555556,
              "#d8576b"
             ],
             [
              0.6666666666666666,
              "#ed7953"
             ],
             [
              0.7777777777777778,
              "#fb9f3a"
             ],
             [
              0.8888888888888888,
              "#fdca26"
             ],
             [
              1,
              "#f0f921"
             ]
            ],
            "type": "histogram2d"
           }
          ],
          "histogram2dcontour": [
           {
            "colorbar": {
             "outlinewidth": 0,
             "ticks": ""
            },
            "colorscale": [
             [
              0,
              "#0d0887"
             ],
             [
              0.1111111111111111,
              "#46039f"
             ],
             [
              0.2222222222222222,
              "#7201a8"
             ],
             [
              0.3333333333333333,
              "#9c179e"
             ],
             [
              0.4444444444444444,
              "#bd3786"
             ],
             [
              0.5555555555555556,
              "#d8576b"
             ],
             [
              0.6666666666666666,
              "#ed7953"
             ],
             [
              0.7777777777777778,
              "#fb9f3a"
             ],
             [
              0.8888888888888888,
              "#fdca26"
             ],
             [
              1,
              "#f0f921"
             ]
            ],
            "type": "histogram2dcontour"
           }
          ],
          "mesh3d": [
           {
            "colorbar": {
             "outlinewidth": 0,
             "ticks": ""
            },
            "type": "mesh3d"
           }
          ],
          "parcoords": [
           {
            "line": {
             "colorbar": {
              "outlinewidth": 0,
              "ticks": ""
             }
            },
            "type": "parcoords"
           }
          ],
          "pie": [
           {
            "automargin": true,
            "type": "pie"
           }
          ],
          "scatter": [
           {
            "fillpattern": {
             "fillmode": "overlay",
             "size": 10,
             "solidity": 0.2
            },
            "type": "scatter"
           }
          ],
          "scatter3d": [
           {
            "line": {
             "colorbar": {
              "outlinewidth": 0,
              "ticks": ""
             }
            },
            "marker": {
             "colorbar": {
              "outlinewidth": 0,
              "ticks": ""
             }
            },
            "type": "scatter3d"
           }
          ],
          "scattercarpet": [
           {
            "marker": {
             "colorbar": {
              "outlinewidth": 0,
              "ticks": ""
             }
            },
            "type": "scattercarpet"
           }
          ],
          "scattergeo": [
           {
            "marker": {
             "colorbar": {
              "outlinewidth": 0,
              "ticks": ""
             }
            },
            "type": "scattergeo"
           }
          ],
          "scattergl": [
           {
            "marker": {
             "colorbar": {
              "outlinewidth": 0,
              "ticks": ""
             }
            },
            "type": "scattergl"
           }
          ],
          "scattermapbox": [
           {
            "marker": {
             "colorbar": {
              "outlinewidth": 0,
              "ticks": ""
             }
            },
            "type": "scattermapbox"
           }
          ],
          "scatterpolar": [
           {
            "marker": {
             "colorbar": {
              "outlinewidth": 0,
              "ticks": ""
             }
            },
            "type": "scatterpolar"
           }
          ],
          "scatterpolargl": [
           {
            "marker": {
             "colorbar": {
              "outlinewidth": 0,
              "ticks": ""
             }
            },
            "type": "scatterpolargl"
           }
          ],
          "scatterternary": [
           {
            "marker": {
             "colorbar": {
              "outlinewidth": 0,
              "ticks": ""
             }
            },
            "type": "scatterternary"
           }
          ],
          "surface": [
           {
            "colorbar": {
             "outlinewidth": 0,
             "ticks": ""
            },
            "colorscale": [
             [
              0,
              "#0d0887"
             ],
             [
              0.1111111111111111,
              "#46039f"
             ],
             [
              0.2222222222222222,
              "#7201a8"
             ],
             [
              0.3333333333333333,
              "#9c179e"
             ],
             [
              0.4444444444444444,
              "#bd3786"
             ],
             [
              0.5555555555555556,
              "#d8576b"
             ],
             [
              0.6666666666666666,
              "#ed7953"
             ],
             [
              0.7777777777777778,
              "#fb9f3a"
             ],
             [
              0.8888888888888888,
              "#fdca26"
             ],
             [
              1,
              "#f0f921"
             ]
            ],
            "type": "surface"
           }
          ],
          "table": [
           {
            "cells": {
             "fill": {
              "color": "#EBF0F8"
             },
             "line": {
              "color": "white"
             }
            },
            "header": {
             "fill": {
              "color": "#C8D4E3"
             },
             "line": {
              "color": "white"
             }
            },
            "type": "table"
           }
          ]
         },
         "layout": {
          "annotationdefaults": {
           "arrowcolor": "#2a3f5f",
           "arrowhead": 0,
           "arrowwidth": 1
          },
          "autotypenumbers": "strict",
          "coloraxis": {
           "colorbar": {
            "outlinewidth": 0,
            "ticks": ""
           }
          },
          "colorscale": {
           "diverging": [
            [
             0,
             "#8e0152"
            ],
            [
             0.1,
             "#c51b7d"
            ],
            [
             0.2,
             "#de77ae"
            ],
            [
             0.3,
             "#f1b6da"
            ],
            [
             0.4,
             "#fde0ef"
            ],
            [
             0.5,
             "#f7f7f7"
            ],
            [
             0.6,
             "#e6f5d0"
            ],
            [
             0.7,
             "#b8e186"
            ],
            [
             0.8,
             "#7fbc41"
            ],
            [
             0.9,
             "#4d9221"
            ],
            [
             1,
             "#276419"
            ]
           ],
           "sequential": [
            [
             0,
             "#0d0887"
            ],
            [
             0.1111111111111111,
             "#46039f"
            ],
            [
             0.2222222222222222,
             "#7201a8"
            ],
            [
             0.3333333333333333,
             "#9c179e"
            ],
            [
             0.4444444444444444,
             "#bd3786"
            ],
            [
             0.5555555555555556,
             "#d8576b"
            ],
            [
             0.6666666666666666,
             "#ed7953"
            ],
            [
             0.7777777777777778,
             "#fb9f3a"
            ],
            [
             0.8888888888888888,
             "#fdca26"
            ],
            [
             1,
             "#f0f921"
            ]
           ],
           "sequentialminus": [
            [
             0,
             "#0d0887"
            ],
            [
             0.1111111111111111,
             "#46039f"
            ],
            [
             0.2222222222222222,
             "#7201a8"
            ],
            [
             0.3333333333333333,
             "#9c179e"
            ],
            [
             0.4444444444444444,
             "#bd3786"
            ],
            [
             0.5555555555555556,
             "#d8576b"
            ],
            [
             0.6666666666666666,
             "#ed7953"
            ],
            [
             0.7777777777777778,
             "#fb9f3a"
            ],
            [
             0.8888888888888888,
             "#fdca26"
            ],
            [
             1,
             "#f0f921"
            ]
           ]
          },
          "colorway": [
           "#636efa",
           "#EF553B",
           "#00cc96",
           "#ab63fa",
           "#FFA15A",
           "#19d3f3",
           "#FF6692",
           "#B6E880",
           "#FF97FF",
           "#FECB52"
          ],
          "font": {
           "color": "#2a3f5f"
          },
          "geo": {
           "bgcolor": "white",
           "lakecolor": "white",
           "landcolor": "#E5ECF6",
           "showlakes": true,
           "showland": true,
           "subunitcolor": "white"
          },
          "hoverlabel": {
           "align": "left"
          },
          "hovermode": "closest",
          "mapbox": {
           "style": "light"
          },
          "paper_bgcolor": "white",
          "plot_bgcolor": "#E5ECF6",
          "polar": {
           "angularaxis": {
            "gridcolor": "white",
            "linecolor": "white",
            "ticks": ""
           },
           "bgcolor": "#E5ECF6",
           "radialaxis": {
            "gridcolor": "white",
            "linecolor": "white",
            "ticks": ""
           }
          },
          "scene": {
           "xaxis": {
            "backgroundcolor": "#E5ECF6",
            "gridcolor": "white",
            "gridwidth": 2,
            "linecolor": "white",
            "showbackground": true,
            "ticks": "",
            "zerolinecolor": "white"
           },
           "yaxis": {
            "backgroundcolor": "#E5ECF6",
            "gridcolor": "white",
            "gridwidth": 2,
            "linecolor": "white",
            "showbackground": true,
            "ticks": "",
            "zerolinecolor": "white"
           },
           "zaxis": {
            "backgroundcolor": "#E5ECF6",
            "gridcolor": "white",
            "gridwidth": 2,
            "linecolor": "white",
            "showbackground": true,
            "ticks": "",
            "zerolinecolor": "white"
           }
          },
          "shapedefaults": {
           "line": {
            "color": "#2a3f5f"
           }
          },
          "ternary": {
           "aaxis": {
            "gridcolor": "white",
            "linecolor": "white",
            "ticks": ""
           },
           "baxis": {
            "gridcolor": "white",
            "linecolor": "white",
            "ticks": ""
           },
           "bgcolor": "#E5ECF6",
           "caxis": {
            "gridcolor": "white",
            "linecolor": "white",
            "ticks": ""
           }
          },
          "title": {
           "x": 0.05
          },
          "xaxis": {
           "automargin": true,
           "gridcolor": "white",
           "linecolor": "white",
           "ticks": "",
           "title": {
            "standoff": 15
           },
           "zerolinecolor": "white",
           "zerolinewidth": 2
          },
          "yaxis": {
           "automargin": true,
           "gridcolor": "white",
           "linecolor": "white",
           "ticks": "",
           "title": {
            "standoff": 15
           },
           "zerolinecolor": "white",
           "zerolinewidth": 2
          }
         }
        },
        "title": {
         "text": "Curva ROC"
        },
        "width": 800,
        "xaxis": {
         "anchor": "y",
         "domain": [
          0,
          1
         ],
         "title": {
          "text": "Tasa de falsos positivos"
         }
        },
        "yaxis": {
         "anchor": "x",
         "domain": [
          0,
          1
         ],
         "title": {
          "text": "Tasa de verdaderos positivos"
         }
        }
       }
      }
     },
     "metadata": {},
     "output_type": "display_data"
    }
   ],
   "source": [
    "model_knn = KNeighborsClassifier()\n",
    "\n",
    "\n",
    "param_grid = {\n",
    "    'n_neighbors': [3, 5, 7, 9], \n",
    "    'weights': ['uniform', 'distance'],  \n",
    "    'metric': ['euclidean', 'manhattan', 'minkowski'] \n",
    "}\n",
    "\n",
    "grid_search = GridSearchCV(estimator=model_knn, param_grid=param_grid, cv=5, scoring='accuracy', n_jobs=-1, verbose=2)\n",
    "\n",
    "grid_search.fit(X_train, y_train)\n",
    "\n",
    "print(\"Mejores hiperparámetros:\", grid_search.best_params_)\n",
    "\n",
    "# Predecir usando el mejor modelo encontrado\n",
    "best_model = grid_search.best_estimator_\n",
    "predictions = best_model.predict(X_test)\n",
    "\n",
    "\n",
    "find_scores(X_test, y_test, predictions, best_model)\n"
   ]
  },
  {
   "cell_type": "markdown",
   "metadata": {},
   "source": [
    "#### LIGHTGBM"
   ]
  },
  {
   "cell_type": "code",
   "execution_count": 354,
   "metadata": {},
   "outputs": [
    {
     "name": "stdout",
     "output_type": "stream",
     "text": [
      "Mejores hiperparámetros: {'boosting_type': 'gbdt', 'objective': 'binary', 'metric': 'binary_logloss', 'num_leaves': 31, 'learning_rate': 0.1, 'min_child_samples': 30, 'reg_alpha': 0.1, 'reg_lambda': 0.1, 'verbose': -1}\n",
      "              precision    recall  f1-score   support\n",
      "\n",
      "           0       0.88      0.94      0.91       844\n",
      "           1       0.79      0.63      0.70       283\n",
      "\n",
      "    accuracy                           0.87      1127\n",
      "   macro avg       0.84      0.79      0.81      1127\n",
      "weighted avg       0.86      0.87      0.86      1127\n",
      "\n",
      "Área bajo la curva ROC: 0.7878183980037848\n"
     ]
    },
    {
     "data": {
      "application/vnd.plotly.v1+json": {
       "config": {
        "plotlyServerURL": "https://plot.ly"
       },
       "data": [
        {
         "hovertemplate": "Tasa de falsos positivos=%{x}<br>Tasa de verdaderos positivos=%{y}<extra></extra>",
         "legendgroup": "",
         "line": {
          "color": "#636efa",
          "dash": "solid"
         },
         "marker": {
          "symbol": "circle"
         },
         "mode": "lines",
         "name": "",
         "orientation": "v",
         "showlegend": false,
         "type": "scatter",
         "x": [
          0,
          0,
          0,
          0,
          0,
          0,
          0,
          0.001184834123222749,
          0.001184834123222749,
          0.002369668246445498,
          0.002369668246445498,
          0.0035545023696682463,
          0.0035545023696682463,
          0.004739336492890996,
          0.004739336492890996,
          0.005924170616113744,
          0.005924170616113744,
          0.0071090047393364926,
          0.0071090047393364926,
          0.008293838862559242,
          0.008293838862559242,
          0.01066350710900474,
          0.01066350710900474,
          0.011848341232227487,
          0.011848341232227487,
          0.013033175355450236,
          0.013033175355450236,
          0.014218009478672985,
          0.014218009478672985,
          0.016587677725118485,
          0.016587677725118485,
          0.017772511848341232,
          0.017772511848341232,
          0.018957345971563982,
          0.018957345971563982,
          0.02132701421800948,
          0.02132701421800948,
          0.022511848341232227,
          0.022511848341232227,
          0.023696682464454975,
          0.023696682464454975,
          0.024881516587677725,
          0.024881516587677725,
          0.026066350710900472,
          0.026066350710900472,
          0.027251184834123223,
          0.027251184834123223,
          0.02843601895734597,
          0.02843601895734597,
          0.02962085308056872,
          0.02962085308056872,
          0.031990521327014215,
          0.031990521327014215,
          0.03317535545023697,
          0.03317535545023697,
          0.034360189573459717,
          0.034360189573459717,
          0.035545023696682464,
          0.035545023696682464,
          0.03672985781990521,
          0.03672985781990521,
          0.04028436018957346,
          0.04028436018957346,
          0.045023696682464455,
          0.045023696682464455,
          0.04976303317535545,
          0.04976303317535545,
          0.0533175355450237,
          0.0533175355450237,
          0.05568720379146919,
          0.05568720379146919,
          0.05924170616113744,
          0.05924170616113744,
          0.061611374407582936,
          0.061611374407582936,
          0.06398104265402843,
          0.06398104265402843,
          0.06990521327014218,
          0.06990521327014218,
          0.07227488151658767,
          0.07227488151658767,
          0.07582938388625593,
          0.07582938388625593,
          0.07701421800947868,
          0.07701421800947868,
          0.08056872037914692,
          0.08056872037914692,
          0.08293838862559241,
          0.08293838862559241,
          0.08412322274881516,
          0.08412322274881516,
          0.08530805687203792,
          0.08530805687203792,
          0.08767772511848342,
          0.08767772511848342,
          0.09004739336492891,
          0.09004739336492891,
          0.09123222748815166,
          0.09123222748815166,
          0.09360189573459715,
          0.09360189573459715,
          0.0947867298578199,
          0.0947867298578199,
          0.09834123222748815,
          0.09834123222748815,
          0.10308056872037914,
          0.10308056872037914,
          0.10545023696682465,
          0.10545023696682465,
          0.10900473933649289,
          0.10900473933649289,
          0.11255924170616113,
          0.11255924170616113,
          0.11611374407582939,
          0.11611374407582939,
          0.11729857819905214,
          0.11729857819905214,
          0.11848341232227488,
          0.11848341232227488,
          0.12677725118483413,
          0.12677725118483413,
          0.12914691943127962,
          0.12914691943127962,
          0.1338862559241706,
          0.1338862559241706,
          0.1362559241706161,
          0.1362559241706161,
          0.14218009478672985,
          0.14218009478672985,
          0.14454976303317535,
          0.14454976303317535,
          0.14691943127962084,
          0.14691943127962084,
          0.17061611374407584,
          0.17061611374407584,
          0.17535545023696683,
          0.17535545023696683,
          0.17654028436018956,
          0.17654028436018956,
          0.1848341232227488,
          0.1848341232227488,
          0.1872037914691943,
          0.1872037914691943,
          0.18838862559241706,
          0.18838862559241706,
          0.1990521327014218,
          0.1990521327014218,
          0.20260663507109006,
          0.20260663507109006,
          0.21445497630331753,
          0.21445497630331753,
          0.21800947867298578,
          0.21800947867298578,
          0.21919431279620852,
          0.21919431279620852,
          0.22037914691943128,
          0.22037914691943128,
          0.22867298578199052,
          0.22867298578199052,
          0.23459715639810427,
          0.23459715639810427,
          0.235781990521327,
          0.235781990521327,
          0.2381516587677725,
          0.2381516587677725,
          0.24881516587677724,
          0.24881516587677724,
          0.2523696682464455,
          0.2523696682464455,
          0.2571090047393365,
          0.2571090047393365,
          0.2677725118483412,
          0.2677725118483412,
          0.27606635071090047,
          0.27606635071090047,
          0.278436018957346,
          0.278436018957346,
          0.283175355450237,
          0.283175355450237,
          0.2950236966824645,
          0.2950236966824645,
          0.2962085308056872,
          0.2962085308056872,
          0.29739336492890994,
          0.29739336492890994,
          0.2985781990521327,
          0.2985781990521327,
          0.31990521327014215,
          0.31990521327014215,
          0.32109004739336494,
          0.32109004739336494,
          0.3222748815165877,
          0.3222748815165877,
          0.32701421800947866,
          0.32701421800947866,
          0.33767772511848343,
          0.33767772511848343,
          0.35071090047393366,
          0.35071090047393366,
          0.35545023696682465,
          0.35545023696682465,
          0.3732227488151659,
          0.3732227488151659,
          0.3755924170616114,
          0.3755924170616114,
          0.4028436018957346,
          0.4028436018957346,
          0.4158767772511848,
          0.4158767772511848,
          0.43364928909952605,
          0.43364928909952605,
          0.4561611374407583,
          0.4561611374407583,
          0.46327014218009477,
          0.46327014218009477,
          0.46445497630331756,
          0.46445497630331756,
          0.476303317535545,
          0.476303317535545,
          0.48696682464454977,
          0.48696682464454977,
          0.5308056872037915,
          0.5308056872037915,
          0.5710900473933649,
          0.5710900473933649,
          0.5793838862559242,
          0.5793838862559242,
          0.590047393364929,
          0.590047393364929,
          0.6054502369668247,
          0.6054502369668247,
          0.7251184834123223,
          0.7274881516587678,
          0.7393364928909952,
          0.7393364928909952,
          0.8601895734597157,
          0.8601895734597157,
          0.8767772511848341,
          0.8791469194312796,
          0.9620853080568721,
          0.9620853080568721,
          1
         ],
         "xaxis": "x",
         "y": [
          0,
          0.0035335689045936395,
          0.01060070671378092,
          0.0176678445229682,
          0.1696113074204947,
          0.17667844522968199,
          0.303886925795053,
          0.303886925795053,
          0.3250883392226148,
          0.3250883392226148,
          0.3392226148409894,
          0.3392226148409894,
          0.38162544169611307,
          0.38162544169611307,
          0.392226148409894,
          0.392226148409894,
          0.4134275618374558,
          0.4134275618374558,
          0.42402826855123676,
          0.42402826855123676,
          0.4275618374558304,
          0.4275618374558304,
          0.43462897526501765,
          0.43462897526501765,
          0.45936395759717313,
          0.45936395759717313,
          0.4628975265017668,
          0.4628975265017668,
          0.4911660777385159,
          0.4911660777385159,
          0.49823321554770317,
          0.49823321554770317,
          0.5017667844522968,
          0.5017667844522968,
          0.5053003533568905,
          0.5053003533568905,
          0.5229681978798587,
          0.5229681978798587,
          0.5265017667844523,
          0.5265017667844523,
          0.5441696113074205,
          0.5441696113074205,
          0.5477031802120141,
          0.5477031802120141,
          0.5512367491166078,
          0.5512367491166078,
          0.5618374558303887,
          0.5618374558303887,
          0.5653710247349824,
          0.5653710247349824,
          0.568904593639576,
          0.568904593639576,
          0.5795053003533569,
          0.5795053003533569,
          0.5830388692579506,
          0.5830388692579506,
          0.5865724381625441,
          0.5865724381625441,
          0.5936395759717314,
          0.5936395759717314,
          0.6007067137809188,
          0.6007067137809188,
          0.607773851590106,
          0.607773851590106,
          0.6113074204946997,
          0.6113074204946997,
          0.6254416961130742,
          0.6254416961130742,
          0.6289752650176679,
          0.6289752650176679,
          0.6325088339222615,
          0.6325088339222615,
          0.6360424028268551,
          0.6360424028268551,
          0.6395759717314488,
          0.6395759717314488,
          0.6501766784452296,
          0.6501766784452296,
          0.657243816254417,
          0.657243816254417,
          0.6607773851590106,
          0.6607773851590106,
          0.6678445229681979,
          0.6678445229681979,
          0.6713780918727915,
          0.6713780918727915,
          0.6784452296819788,
          0.6784452296819788,
          0.6819787985865724,
          0.6819787985865724,
          0.6855123674911661,
          0.6855123674911661,
          0.6925795053003534,
          0.6925795053003534,
          0.6996466431095406,
          0.6996466431095406,
          0.7031802120141343,
          0.7031802120141343,
          0.7102473498233216,
          0.7102473498233216,
          0.7137809187279152,
          0.7137809187279152,
          0.7173144876325088,
          0.7173144876325088,
          0.7208480565371025,
          0.7208480565371025,
          0.7243816254416962,
          0.7243816254416962,
          0.7279151943462897,
          0.7279151943462897,
          0.7314487632508834,
          0.7314487632508834,
          0.7420494699646644,
          0.7420494699646644,
          0.7455830388692579,
          0.7455830388692579,
          0.7526501766784452,
          0.7526501766784452,
          0.7561837455830389,
          0.7561837455830389,
          0.7597173144876325,
          0.7597173144876325,
          0.7667844522968198,
          0.7667844522968198,
          0.773851590106007,
          0.773851590106007,
          0.784452296819788,
          0.784452296819788,
          0.7879858657243817,
          0.7879858657243817,
          0.7950530035335689,
          0.7950530035335689,
          0.7985865724381626,
          0.7985865724381626,
          0.8021201413427562,
          0.8021201413427562,
          0.8056537102473498,
          0.8056537102473498,
          0.8091872791519434,
          0.8091872791519434,
          0.8162544169611308,
          0.8162544169611308,
          0.8197879858657244,
          0.8197879858657244,
          0.8268551236749117,
          0.8268551236749117,
          0.8303886925795053,
          0.8303886925795053,
          0.833922261484099,
          0.833922261484099,
          0.8374558303886925,
          0.8374558303886925,
          0.8409893992932862,
          0.8409893992932862,
          0.8445229681978799,
          0.8445229681978799,
          0.8480565371024735,
          0.8480565371024735,
          0.8515901060070671,
          0.8515901060070671,
          0.8551236749116607,
          0.8551236749116607,
          0.8586572438162544,
          0.8586572438162544,
          0.8621908127208481,
          0.8621908127208481,
          0.8657243816254417,
          0.8657243816254417,
          0.8692579505300353,
          0.8692579505300353,
          0.872791519434629,
          0.872791519434629,
          0.8798586572438163,
          0.8798586572438163,
          0.8833922261484098,
          0.8833922261484098,
          0.8869257950530035,
          0.8869257950530035,
          0.8904593639575972,
          0.8904593639575972,
          0.8939929328621908,
          0.8939929328621908,
          0.9045936395759717,
          0.9045936395759717,
          0.9081272084805654,
          0.9081272084805654,
          0.911660777385159,
          0.911660777385159,
          0.9151943462897526,
          0.9151943462897526,
          0.9187279151943463,
          0.9187279151943463,
          0.9222614840989399,
          0.9222614840989399,
          0.9257950530035336,
          0.9257950530035336,
          0.9293286219081273,
          0.9293286219081273,
          0.9328621908127208,
          0.9328621908127208,
          0.9363957597173145,
          0.9363957597173145,
          0.9399293286219081,
          0.9399293286219081,
          0.9434628975265018,
          0.9434628975265018,
          0.9469964664310954,
          0.9469964664310954,
          0.950530035335689,
          0.950530035335689,
          0.9540636042402827,
          0.9540636042402827,
          0.9575971731448764,
          0.9575971731448764,
          0.9611307420494699,
          0.9611307420494699,
          0.9646643109540636,
          0.9646643109540636,
          0.9681978798586572,
          0.9681978798586572,
          0.9717314487632509,
          0.9717314487632509,
          0.9752650176678446,
          0.9752650176678446,
          0.9787985865724381,
          0.9787985865724381,
          0.9823321554770318,
          0.9823321554770318,
          0.9858657243816255,
          0.9858657243816255,
          0.9893992932862191,
          0.9893992932862191,
          0.9893992932862191,
          0.9893992932862191,
          0.9929328621908127,
          0.9929328621908127,
          0.9964664310954063,
          0.9964664310954063,
          0.9964664310954063,
          0.9964664310954063,
          1,
          1
         ],
         "yaxis": "y"
        }
       ],
       "layout": {
        "height": 450,
        "legend": {
         "tracegroupgap": 0
        },
        "shapes": [
         {
          "line": {
           "dash": "dash"
          },
          "type": "line",
          "x0": 0,
          "x1": 1,
          "y0": 0,
          "y1": 1
         }
        ],
        "template": {
         "data": {
          "bar": [
           {
            "error_x": {
             "color": "#2a3f5f"
            },
            "error_y": {
             "color": "#2a3f5f"
            },
            "marker": {
             "line": {
              "color": "#E5ECF6",
              "width": 0.5
             },
             "pattern": {
              "fillmode": "overlay",
              "size": 10,
              "solidity": 0.2
             }
            },
            "type": "bar"
           }
          ],
          "barpolar": [
           {
            "marker": {
             "line": {
              "color": "#E5ECF6",
              "width": 0.5
             },
             "pattern": {
              "fillmode": "overlay",
              "size": 10,
              "solidity": 0.2
             }
            },
            "type": "barpolar"
           }
          ],
          "carpet": [
           {
            "aaxis": {
             "endlinecolor": "#2a3f5f",
             "gridcolor": "white",
             "linecolor": "white",
             "minorgridcolor": "white",
             "startlinecolor": "#2a3f5f"
            },
            "baxis": {
             "endlinecolor": "#2a3f5f",
             "gridcolor": "white",
             "linecolor": "white",
             "minorgridcolor": "white",
             "startlinecolor": "#2a3f5f"
            },
            "type": "carpet"
           }
          ],
          "choropleth": [
           {
            "colorbar": {
             "outlinewidth": 0,
             "ticks": ""
            },
            "type": "choropleth"
           }
          ],
          "contour": [
           {
            "colorbar": {
             "outlinewidth": 0,
             "ticks": ""
            },
            "colorscale": [
             [
              0,
              "#0d0887"
             ],
             [
              0.1111111111111111,
              "#46039f"
             ],
             [
              0.2222222222222222,
              "#7201a8"
             ],
             [
              0.3333333333333333,
              "#9c179e"
             ],
             [
              0.4444444444444444,
              "#bd3786"
             ],
             [
              0.5555555555555556,
              "#d8576b"
             ],
             [
              0.6666666666666666,
              "#ed7953"
             ],
             [
              0.7777777777777778,
              "#fb9f3a"
             ],
             [
              0.8888888888888888,
              "#fdca26"
             ],
             [
              1,
              "#f0f921"
             ]
            ],
            "type": "contour"
           }
          ],
          "contourcarpet": [
           {
            "colorbar": {
             "outlinewidth": 0,
             "ticks": ""
            },
            "type": "contourcarpet"
           }
          ],
          "heatmap": [
           {
            "colorbar": {
             "outlinewidth": 0,
             "ticks": ""
            },
            "colorscale": [
             [
              0,
              "#0d0887"
             ],
             [
              0.1111111111111111,
              "#46039f"
             ],
             [
              0.2222222222222222,
              "#7201a8"
             ],
             [
              0.3333333333333333,
              "#9c179e"
             ],
             [
              0.4444444444444444,
              "#bd3786"
             ],
             [
              0.5555555555555556,
              "#d8576b"
             ],
             [
              0.6666666666666666,
              "#ed7953"
             ],
             [
              0.7777777777777778,
              "#fb9f3a"
             ],
             [
              0.8888888888888888,
              "#fdca26"
             ],
             [
              1,
              "#f0f921"
             ]
            ],
            "type": "heatmap"
           }
          ],
          "heatmapgl": [
           {
            "colorbar": {
             "outlinewidth": 0,
             "ticks": ""
            },
            "colorscale": [
             [
              0,
              "#0d0887"
             ],
             [
              0.1111111111111111,
              "#46039f"
             ],
             [
              0.2222222222222222,
              "#7201a8"
             ],
             [
              0.3333333333333333,
              "#9c179e"
             ],
             [
              0.4444444444444444,
              "#bd3786"
             ],
             [
              0.5555555555555556,
              "#d8576b"
             ],
             [
              0.6666666666666666,
              "#ed7953"
             ],
             [
              0.7777777777777778,
              "#fb9f3a"
             ],
             [
              0.8888888888888888,
              "#fdca26"
             ],
             [
              1,
              "#f0f921"
             ]
            ],
            "type": "heatmapgl"
           }
          ],
          "histogram": [
           {
            "marker": {
             "pattern": {
              "fillmode": "overlay",
              "size": 10,
              "solidity": 0.2
             }
            },
            "type": "histogram"
           }
          ],
          "histogram2d": [
           {
            "colorbar": {
             "outlinewidth": 0,
             "ticks": ""
            },
            "colorscale": [
             [
              0,
              "#0d0887"
             ],
             [
              0.1111111111111111,
              "#46039f"
             ],
             [
              0.2222222222222222,
              "#7201a8"
             ],
             [
              0.3333333333333333,
              "#9c179e"
             ],
             [
              0.4444444444444444,
              "#bd3786"
             ],
             [
              0.5555555555555556,
              "#d8576b"
             ],
             [
              0.6666666666666666,
              "#ed7953"
             ],
             [
              0.7777777777777778,
              "#fb9f3a"
             ],
             [
              0.8888888888888888,
              "#fdca26"
             ],
             [
              1,
              "#f0f921"
             ]
            ],
            "type": "histogram2d"
           }
          ],
          "histogram2dcontour": [
           {
            "colorbar": {
             "outlinewidth": 0,
             "ticks": ""
            },
            "colorscale": [
             [
              0,
              "#0d0887"
             ],
             [
              0.1111111111111111,
              "#46039f"
             ],
             [
              0.2222222222222222,
              "#7201a8"
             ],
             [
              0.3333333333333333,
              "#9c179e"
             ],
             [
              0.4444444444444444,
              "#bd3786"
             ],
             [
              0.5555555555555556,
              "#d8576b"
             ],
             [
              0.6666666666666666,
              "#ed7953"
             ],
             [
              0.7777777777777778,
              "#fb9f3a"
             ],
             [
              0.8888888888888888,
              "#fdca26"
             ],
             [
              1,
              "#f0f921"
             ]
            ],
            "type": "histogram2dcontour"
           }
          ],
          "mesh3d": [
           {
            "colorbar": {
             "outlinewidth": 0,
             "ticks": ""
            },
            "type": "mesh3d"
           }
          ],
          "parcoords": [
           {
            "line": {
             "colorbar": {
              "outlinewidth": 0,
              "ticks": ""
             }
            },
            "type": "parcoords"
           }
          ],
          "pie": [
           {
            "automargin": true,
            "type": "pie"
           }
          ],
          "scatter": [
           {
            "fillpattern": {
             "fillmode": "overlay",
             "size": 10,
             "solidity": 0.2
            },
            "type": "scatter"
           }
          ],
          "scatter3d": [
           {
            "line": {
             "colorbar": {
              "outlinewidth": 0,
              "ticks": ""
             }
            },
            "marker": {
             "colorbar": {
              "outlinewidth": 0,
              "ticks": ""
             }
            },
            "type": "scatter3d"
           }
          ],
          "scattercarpet": [
           {
            "marker": {
             "colorbar": {
              "outlinewidth": 0,
              "ticks": ""
             }
            },
            "type": "scattercarpet"
           }
          ],
          "scattergeo": [
           {
            "marker": {
             "colorbar": {
              "outlinewidth": 0,
              "ticks": ""
             }
            },
            "type": "scattergeo"
           }
          ],
          "scattergl": [
           {
            "marker": {
             "colorbar": {
              "outlinewidth": 0,
              "ticks": ""
             }
            },
            "type": "scattergl"
           }
          ],
          "scattermapbox": [
           {
            "marker": {
             "colorbar": {
              "outlinewidth": 0,
              "ticks": ""
             }
            },
            "type": "scattermapbox"
           }
          ],
          "scatterpolar": [
           {
            "marker": {
             "colorbar": {
              "outlinewidth": 0,
              "ticks": ""
             }
            },
            "type": "scatterpolar"
           }
          ],
          "scatterpolargl": [
           {
            "marker": {
             "colorbar": {
              "outlinewidth": 0,
              "ticks": ""
             }
            },
            "type": "scatterpolargl"
           }
          ],
          "scatterternary": [
           {
            "marker": {
             "colorbar": {
              "outlinewidth": 0,
              "ticks": ""
             }
            },
            "type": "scatterternary"
           }
          ],
          "surface": [
           {
            "colorbar": {
             "outlinewidth": 0,
             "ticks": ""
            },
            "colorscale": [
             [
              0,
              "#0d0887"
             ],
             [
              0.1111111111111111,
              "#46039f"
             ],
             [
              0.2222222222222222,
              "#7201a8"
             ],
             [
              0.3333333333333333,
              "#9c179e"
             ],
             [
              0.4444444444444444,
              "#bd3786"
             ],
             [
              0.5555555555555556,
              "#d8576b"
             ],
             [
              0.6666666666666666,
              "#ed7953"
             ],
             [
              0.7777777777777778,
              "#fb9f3a"
             ],
             [
              0.8888888888888888,
              "#fdca26"
             ],
             [
              1,
              "#f0f921"
             ]
            ],
            "type": "surface"
           }
          ],
          "table": [
           {
            "cells": {
             "fill": {
              "color": "#EBF0F8"
             },
             "line": {
              "color": "white"
             }
            },
            "header": {
             "fill": {
              "color": "#C8D4E3"
             },
             "line": {
              "color": "white"
             }
            },
            "type": "table"
           }
          ]
         },
         "layout": {
          "annotationdefaults": {
           "arrowcolor": "#2a3f5f",
           "arrowhead": 0,
           "arrowwidth": 1
          },
          "autotypenumbers": "strict",
          "coloraxis": {
           "colorbar": {
            "outlinewidth": 0,
            "ticks": ""
           }
          },
          "colorscale": {
           "diverging": [
            [
             0,
             "#8e0152"
            ],
            [
             0.1,
             "#c51b7d"
            ],
            [
             0.2,
             "#de77ae"
            ],
            [
             0.3,
             "#f1b6da"
            ],
            [
             0.4,
             "#fde0ef"
            ],
            [
             0.5,
             "#f7f7f7"
            ],
            [
             0.6,
             "#e6f5d0"
            ],
            [
             0.7,
             "#b8e186"
            ],
            [
             0.8,
             "#7fbc41"
            ],
            [
             0.9,
             "#4d9221"
            ],
            [
             1,
             "#276419"
            ]
           ],
           "sequential": [
            [
             0,
             "#0d0887"
            ],
            [
             0.1111111111111111,
             "#46039f"
            ],
            [
             0.2222222222222222,
             "#7201a8"
            ],
            [
             0.3333333333333333,
             "#9c179e"
            ],
            [
             0.4444444444444444,
             "#bd3786"
            ],
            [
             0.5555555555555556,
             "#d8576b"
            ],
            [
             0.6666666666666666,
             "#ed7953"
            ],
            [
             0.7777777777777778,
             "#fb9f3a"
            ],
            [
             0.8888888888888888,
             "#fdca26"
            ],
            [
             1,
             "#f0f921"
            ]
           ],
           "sequentialminus": [
            [
             0,
             "#0d0887"
            ],
            [
             0.1111111111111111,
             "#46039f"
            ],
            [
             0.2222222222222222,
             "#7201a8"
            ],
            [
             0.3333333333333333,
             "#9c179e"
            ],
            [
             0.4444444444444444,
             "#bd3786"
            ],
            [
             0.5555555555555556,
             "#d8576b"
            ],
            [
             0.6666666666666666,
             "#ed7953"
            ],
            [
             0.7777777777777778,
             "#fb9f3a"
            ],
            [
             0.8888888888888888,
             "#fdca26"
            ],
            [
             1,
             "#f0f921"
            ]
           ]
          },
          "colorway": [
           "#636efa",
           "#EF553B",
           "#00cc96",
           "#ab63fa",
           "#FFA15A",
           "#19d3f3",
           "#FF6692",
           "#B6E880",
           "#FF97FF",
           "#FECB52"
          ],
          "font": {
           "color": "#2a3f5f"
          },
          "geo": {
           "bgcolor": "white",
           "lakecolor": "white",
           "landcolor": "#E5ECF6",
           "showlakes": true,
           "showland": true,
           "subunitcolor": "white"
          },
          "hoverlabel": {
           "align": "left"
          },
          "hovermode": "closest",
          "mapbox": {
           "style": "light"
          },
          "paper_bgcolor": "white",
          "plot_bgcolor": "#E5ECF6",
          "polar": {
           "angularaxis": {
            "gridcolor": "white",
            "linecolor": "white",
            "ticks": ""
           },
           "bgcolor": "#E5ECF6",
           "radialaxis": {
            "gridcolor": "white",
            "linecolor": "white",
            "ticks": ""
           }
          },
          "scene": {
           "xaxis": {
            "backgroundcolor": "#E5ECF6",
            "gridcolor": "white",
            "gridwidth": 2,
            "linecolor": "white",
            "showbackground": true,
            "ticks": "",
            "zerolinecolor": "white"
           },
           "yaxis": {
            "backgroundcolor": "#E5ECF6",
            "gridcolor": "white",
            "gridwidth": 2,
            "linecolor": "white",
            "showbackground": true,
            "ticks": "",
            "zerolinecolor": "white"
           },
           "zaxis": {
            "backgroundcolor": "#E5ECF6",
            "gridcolor": "white",
            "gridwidth": 2,
            "linecolor": "white",
            "showbackground": true,
            "ticks": "",
            "zerolinecolor": "white"
           }
          },
          "shapedefaults": {
           "line": {
            "color": "#2a3f5f"
           }
          },
          "ternary": {
           "aaxis": {
            "gridcolor": "white",
            "linecolor": "white",
            "ticks": ""
           },
           "baxis": {
            "gridcolor": "white",
            "linecolor": "white",
            "ticks": ""
           },
           "bgcolor": "#E5ECF6",
           "caxis": {
            "gridcolor": "white",
            "linecolor": "white",
            "ticks": ""
           }
          },
          "title": {
           "x": 0.05
          },
          "xaxis": {
           "automargin": true,
           "gridcolor": "white",
           "linecolor": "white",
           "ticks": "",
           "title": {
            "standoff": 15
           },
           "zerolinecolor": "white",
           "zerolinewidth": 2
          },
          "yaxis": {
           "automargin": true,
           "gridcolor": "white",
           "linecolor": "white",
           "ticks": "",
           "title": {
            "standoff": 15
           },
           "zerolinecolor": "white",
           "zerolinewidth": 2
          }
         }
        },
        "title": {
         "text": "Curva ROC"
        },
        "width": 800,
        "xaxis": {
         "anchor": "y",
         "domain": [
          0,
          1
         ],
         "title": {
          "text": "Tasa de falsos positivos"
         }
        },
        "yaxis": {
         "anchor": "x",
         "domain": [
          0,
          1
         ],
         "title": {
          "text": "Tasa de verdaderos positivos"
         }
        }
       }
      }
     },
     "metadata": {},
     "output_type": "display_data"
    }
   ],
   "source": [
    "\n",
    "train_data = lgbm.Dataset(X_train, label=y_train)\n",
    "\n",
    "# Definir el espacio de búsqueda de hiperparámetros\n",
    "param_grid = {\n",
    "    'boosting_type': ['gbdt'],\n",
    "    'objective': ['binary'],\n",
    "    'metric': ['binary_logloss'],\n",
    "    'num_leaves': [31, 50, 100],\n",
    "    'n_estimators': [100, 200, 300],\n",
    "    'learning_rate': [0.1, 0.01, 0.05],\n",
    "    'min_child_samples': [20, 30],\n",
    "    'reg_alpha': [0.0, 0.1],\n",
    "    'reg_lambda': [0.0, 0.1]\n",
    "}\n",
    "\n",
    "# Variables para almacenar los mejores resultados\n",
    "best_params = None\n",
    "best_score = float('inf')\n",
    "\n",
    "# Parámetros para early stopping\n",
    "early_stopping_rounds = 10\n",
    "\n",
    "# Búsqueda de hiperparámetros utilizando validación cruzada\n",
    "for num_leaves in param_grid['num_leaves']:\n",
    "    for n_estimators in param_grid['num_leaves']:    \n",
    "        for learning_rate in param_grid['learning_rate']:\n",
    "                for min_child_samples in param_grid['min_child_samples']:\n",
    "                    for reg_alpha in param_grid['reg_alpha']:\n",
    "                        for reg_lambda in param_grid['reg_lambda']:\n",
    "                            params = {\n",
    "                                'boosting_type': 'gbdt',\n",
    "                                'objective': 'binary',\n",
    "                                'metric': 'binary_logloss',\n",
    "                                'num_leaves': num_leaves,\n",
    "                                'learning_rate': learning_rate,\n",
    "                                'min_child_samples': min_child_samples,\n",
    "                                'reg_alpha': reg_alpha,\n",
    "                                'reg_lambda': reg_lambda,\n",
    "                                'verbose': -1\n",
    "                            }\n",
    "\n",
    "                            # Realizar la validación cruzada\n",
    "                            cv_results = lgbm.cv(params, train_data, nfold=5, metrics='binary_logloss', stratified=True, seed=123)\n",
    "\n",
    "                            # Implementar early stopping manualmente\n",
    "                            min_logloss = np.min(cv_results['valid binary_logloss-mean'])\n",
    "                            best_round = np.argmin(cv_results['valid binary_logloss-mean'])\n",
    "\n",
    "                            if best_round + early_stopping_rounds < len(cv_results['valid binary_logloss-mean']):\n",
    "                                continue\n",
    "\n",
    "                            # Verificar si es la mejor métrica encontrada\n",
    "                            if min_logloss < best_score:\n",
    "                                best_score = min_logloss\n",
    "                                best_params = params\n",
    "                            \n",
    "\n",
    "# Entrenar el modelo con los mejores hiperparámetros encontrados\n",
    "print(\"Mejores hiperparámetros:\", best_params)\n",
    "\n",
    "model_lgbm = lgbm.train(best_params, train_data)\n",
    "predictions = ((model_lgbm.predict(X_test)) >= 0.5).astype(int)\n",
    "\n",
    "# Evaluar el modelo\n",
    "find_scores(X_test, y_test, predictions, model_lgbm)\n"
   ]
  },
  {
   "cell_type": "code",
   "execution_count": 353,
   "metadata": {},
   "outputs": [
    {
     "name": "stdout",
     "output_type": "stream",
     "text": [
      "              precision    recall  f1-score   support\n",
      "\n",
      "           0       0.88      0.94      0.91       844\n",
      "           1       0.79      0.63      0.70       283\n",
      "\n",
      "    accuracy                           0.87      1127\n",
      "   macro avg       0.84      0.79      0.81      1127\n",
      "weighted avg       0.86      0.87      0.86      1127\n",
      "\n",
      "Área bajo la curva ROC: 0.7878183980037848\n"
     ]
    },
    {
     "data": {
      "application/vnd.plotly.v1+json": {
       "config": {
        "plotlyServerURL": "https://plot.ly"
       },
       "data": [
        {
         "hovertemplate": "Tasa de falsos positivos=%{x}<br>Tasa de verdaderos positivos=%{y}<extra></extra>",
         "legendgroup": "",
         "line": {
          "color": "#636efa",
          "dash": "solid"
         },
         "marker": {
          "symbol": "circle"
         },
         "mode": "lines",
         "name": "",
         "orientation": "v",
         "showlegend": false,
         "type": "scatter",
         "x": [
          0,
          0,
          0,
          0,
          0,
          0,
          0,
          0.001184834123222749,
          0.001184834123222749,
          0.002369668246445498,
          0.002369668246445498,
          0.0035545023696682463,
          0.0035545023696682463,
          0.004739336492890996,
          0.004739336492890996,
          0.005924170616113744,
          0.005924170616113744,
          0.0071090047393364926,
          0.0071090047393364926,
          0.008293838862559242,
          0.008293838862559242,
          0.01066350710900474,
          0.01066350710900474,
          0.011848341232227487,
          0.011848341232227487,
          0.013033175355450236,
          0.013033175355450236,
          0.014218009478672985,
          0.014218009478672985,
          0.016587677725118485,
          0.016587677725118485,
          0.017772511848341232,
          0.017772511848341232,
          0.018957345971563982,
          0.018957345971563982,
          0.02132701421800948,
          0.02132701421800948,
          0.022511848341232227,
          0.022511848341232227,
          0.023696682464454975,
          0.023696682464454975,
          0.024881516587677725,
          0.024881516587677725,
          0.026066350710900472,
          0.026066350710900472,
          0.027251184834123223,
          0.027251184834123223,
          0.02843601895734597,
          0.02843601895734597,
          0.02962085308056872,
          0.02962085308056872,
          0.031990521327014215,
          0.031990521327014215,
          0.03317535545023697,
          0.03317535545023697,
          0.034360189573459717,
          0.034360189573459717,
          0.035545023696682464,
          0.035545023696682464,
          0.03672985781990521,
          0.03672985781990521,
          0.04028436018957346,
          0.04028436018957346,
          0.045023696682464455,
          0.045023696682464455,
          0.04976303317535545,
          0.04976303317535545,
          0.0533175355450237,
          0.0533175355450237,
          0.05568720379146919,
          0.05568720379146919,
          0.05924170616113744,
          0.05924170616113744,
          0.061611374407582936,
          0.061611374407582936,
          0.06398104265402843,
          0.06398104265402843,
          0.06990521327014218,
          0.06990521327014218,
          0.07227488151658767,
          0.07227488151658767,
          0.07582938388625593,
          0.07582938388625593,
          0.07701421800947868,
          0.07701421800947868,
          0.08056872037914692,
          0.08056872037914692,
          0.08293838862559241,
          0.08293838862559241,
          0.08412322274881516,
          0.08412322274881516,
          0.08530805687203792,
          0.08530805687203792,
          0.08767772511848342,
          0.08767772511848342,
          0.09004739336492891,
          0.09004739336492891,
          0.09123222748815166,
          0.09123222748815166,
          0.09360189573459715,
          0.09360189573459715,
          0.0947867298578199,
          0.0947867298578199,
          0.09834123222748815,
          0.09834123222748815,
          0.10308056872037914,
          0.10308056872037914,
          0.10545023696682465,
          0.10545023696682465,
          0.10900473933649289,
          0.10900473933649289,
          0.11255924170616113,
          0.11255924170616113,
          0.11611374407582939,
          0.11611374407582939,
          0.11729857819905214,
          0.11729857819905214,
          0.11848341232227488,
          0.11848341232227488,
          0.12677725118483413,
          0.12677725118483413,
          0.12914691943127962,
          0.12914691943127962,
          0.1338862559241706,
          0.1338862559241706,
          0.1362559241706161,
          0.1362559241706161,
          0.14218009478672985,
          0.14218009478672985,
          0.14454976303317535,
          0.14454976303317535,
          0.14691943127962084,
          0.14691943127962084,
          0.17061611374407584,
          0.17061611374407584,
          0.17535545023696683,
          0.17535545023696683,
          0.17654028436018956,
          0.17654028436018956,
          0.1848341232227488,
          0.1848341232227488,
          0.1872037914691943,
          0.1872037914691943,
          0.18838862559241706,
          0.18838862559241706,
          0.1990521327014218,
          0.1990521327014218,
          0.20260663507109006,
          0.20260663507109006,
          0.21445497630331753,
          0.21445497630331753,
          0.21800947867298578,
          0.21800947867298578,
          0.21919431279620852,
          0.21919431279620852,
          0.22037914691943128,
          0.22037914691943128,
          0.22867298578199052,
          0.22867298578199052,
          0.23459715639810427,
          0.23459715639810427,
          0.235781990521327,
          0.235781990521327,
          0.2381516587677725,
          0.2381516587677725,
          0.24881516587677724,
          0.24881516587677724,
          0.2523696682464455,
          0.2523696682464455,
          0.2571090047393365,
          0.2571090047393365,
          0.2677725118483412,
          0.2677725118483412,
          0.27606635071090047,
          0.27606635071090047,
          0.278436018957346,
          0.278436018957346,
          0.283175355450237,
          0.283175355450237,
          0.2950236966824645,
          0.2950236966824645,
          0.2962085308056872,
          0.2962085308056872,
          0.29739336492890994,
          0.29739336492890994,
          0.2985781990521327,
          0.2985781990521327,
          0.31990521327014215,
          0.31990521327014215,
          0.32109004739336494,
          0.32109004739336494,
          0.3222748815165877,
          0.3222748815165877,
          0.32701421800947866,
          0.32701421800947866,
          0.33767772511848343,
          0.33767772511848343,
          0.35071090047393366,
          0.35071090047393366,
          0.35545023696682465,
          0.35545023696682465,
          0.3732227488151659,
          0.3732227488151659,
          0.3755924170616114,
          0.3755924170616114,
          0.4028436018957346,
          0.4028436018957346,
          0.4158767772511848,
          0.4158767772511848,
          0.43364928909952605,
          0.43364928909952605,
          0.4561611374407583,
          0.4561611374407583,
          0.46327014218009477,
          0.46327014218009477,
          0.46445497630331756,
          0.46445497630331756,
          0.476303317535545,
          0.476303317535545,
          0.48696682464454977,
          0.48696682464454977,
          0.5308056872037915,
          0.5308056872037915,
          0.5710900473933649,
          0.5710900473933649,
          0.5793838862559242,
          0.5793838862559242,
          0.590047393364929,
          0.590047393364929,
          0.6054502369668247,
          0.6054502369668247,
          0.7251184834123223,
          0.7274881516587678,
          0.7393364928909952,
          0.7393364928909952,
          0.8601895734597157,
          0.8601895734597157,
          0.8767772511848341,
          0.8791469194312796,
          0.9620853080568721,
          0.9620853080568721,
          1
         ],
         "xaxis": "x",
         "y": [
          0,
          0.0035335689045936395,
          0.01060070671378092,
          0.0176678445229682,
          0.1696113074204947,
          0.17667844522968199,
          0.303886925795053,
          0.303886925795053,
          0.3250883392226148,
          0.3250883392226148,
          0.3392226148409894,
          0.3392226148409894,
          0.38162544169611307,
          0.38162544169611307,
          0.392226148409894,
          0.392226148409894,
          0.4134275618374558,
          0.4134275618374558,
          0.42402826855123676,
          0.42402826855123676,
          0.4275618374558304,
          0.4275618374558304,
          0.43462897526501765,
          0.43462897526501765,
          0.45936395759717313,
          0.45936395759717313,
          0.4628975265017668,
          0.4628975265017668,
          0.4911660777385159,
          0.4911660777385159,
          0.49823321554770317,
          0.49823321554770317,
          0.5017667844522968,
          0.5017667844522968,
          0.5053003533568905,
          0.5053003533568905,
          0.5229681978798587,
          0.5229681978798587,
          0.5265017667844523,
          0.5265017667844523,
          0.5441696113074205,
          0.5441696113074205,
          0.5477031802120141,
          0.5477031802120141,
          0.5512367491166078,
          0.5512367491166078,
          0.5618374558303887,
          0.5618374558303887,
          0.5653710247349824,
          0.5653710247349824,
          0.568904593639576,
          0.568904593639576,
          0.5795053003533569,
          0.5795053003533569,
          0.5830388692579506,
          0.5830388692579506,
          0.5865724381625441,
          0.5865724381625441,
          0.5936395759717314,
          0.5936395759717314,
          0.6007067137809188,
          0.6007067137809188,
          0.607773851590106,
          0.607773851590106,
          0.6113074204946997,
          0.6113074204946997,
          0.6254416961130742,
          0.6254416961130742,
          0.6289752650176679,
          0.6289752650176679,
          0.6325088339222615,
          0.6325088339222615,
          0.6360424028268551,
          0.6360424028268551,
          0.6395759717314488,
          0.6395759717314488,
          0.6501766784452296,
          0.6501766784452296,
          0.657243816254417,
          0.657243816254417,
          0.6607773851590106,
          0.6607773851590106,
          0.6678445229681979,
          0.6678445229681979,
          0.6713780918727915,
          0.6713780918727915,
          0.6784452296819788,
          0.6784452296819788,
          0.6819787985865724,
          0.6819787985865724,
          0.6855123674911661,
          0.6855123674911661,
          0.6925795053003534,
          0.6925795053003534,
          0.6996466431095406,
          0.6996466431095406,
          0.7031802120141343,
          0.7031802120141343,
          0.7102473498233216,
          0.7102473498233216,
          0.7137809187279152,
          0.7137809187279152,
          0.7173144876325088,
          0.7173144876325088,
          0.7208480565371025,
          0.7208480565371025,
          0.7243816254416962,
          0.7243816254416962,
          0.7279151943462897,
          0.7279151943462897,
          0.7314487632508834,
          0.7314487632508834,
          0.7420494699646644,
          0.7420494699646644,
          0.7455830388692579,
          0.7455830388692579,
          0.7526501766784452,
          0.7526501766784452,
          0.7561837455830389,
          0.7561837455830389,
          0.7597173144876325,
          0.7597173144876325,
          0.7667844522968198,
          0.7667844522968198,
          0.773851590106007,
          0.773851590106007,
          0.784452296819788,
          0.784452296819788,
          0.7879858657243817,
          0.7879858657243817,
          0.7950530035335689,
          0.7950530035335689,
          0.7985865724381626,
          0.7985865724381626,
          0.8021201413427562,
          0.8021201413427562,
          0.8056537102473498,
          0.8056537102473498,
          0.8091872791519434,
          0.8091872791519434,
          0.8162544169611308,
          0.8162544169611308,
          0.8197879858657244,
          0.8197879858657244,
          0.8268551236749117,
          0.8268551236749117,
          0.8303886925795053,
          0.8303886925795053,
          0.833922261484099,
          0.833922261484099,
          0.8374558303886925,
          0.8374558303886925,
          0.8409893992932862,
          0.8409893992932862,
          0.8445229681978799,
          0.8445229681978799,
          0.8480565371024735,
          0.8480565371024735,
          0.8515901060070671,
          0.8515901060070671,
          0.8551236749116607,
          0.8551236749116607,
          0.8586572438162544,
          0.8586572438162544,
          0.8621908127208481,
          0.8621908127208481,
          0.8657243816254417,
          0.8657243816254417,
          0.8692579505300353,
          0.8692579505300353,
          0.872791519434629,
          0.872791519434629,
          0.8798586572438163,
          0.8798586572438163,
          0.8833922261484098,
          0.8833922261484098,
          0.8869257950530035,
          0.8869257950530035,
          0.8904593639575972,
          0.8904593639575972,
          0.8939929328621908,
          0.8939929328621908,
          0.9045936395759717,
          0.9045936395759717,
          0.9081272084805654,
          0.9081272084805654,
          0.911660777385159,
          0.911660777385159,
          0.9151943462897526,
          0.9151943462897526,
          0.9187279151943463,
          0.9187279151943463,
          0.9222614840989399,
          0.9222614840989399,
          0.9257950530035336,
          0.9257950530035336,
          0.9293286219081273,
          0.9293286219081273,
          0.9328621908127208,
          0.9328621908127208,
          0.9363957597173145,
          0.9363957597173145,
          0.9399293286219081,
          0.9399293286219081,
          0.9434628975265018,
          0.9434628975265018,
          0.9469964664310954,
          0.9469964664310954,
          0.950530035335689,
          0.950530035335689,
          0.9540636042402827,
          0.9540636042402827,
          0.9575971731448764,
          0.9575971731448764,
          0.9611307420494699,
          0.9611307420494699,
          0.9646643109540636,
          0.9646643109540636,
          0.9681978798586572,
          0.9681978798586572,
          0.9717314487632509,
          0.9717314487632509,
          0.9752650176678446,
          0.9752650176678446,
          0.9787985865724381,
          0.9787985865724381,
          0.9823321554770318,
          0.9823321554770318,
          0.9858657243816255,
          0.9858657243816255,
          0.9893992932862191,
          0.9893992932862191,
          0.9893992932862191,
          0.9893992932862191,
          0.9929328621908127,
          0.9929328621908127,
          0.9964664310954063,
          0.9964664310954063,
          0.9964664310954063,
          0.9964664310954063,
          1,
          1
         ],
         "yaxis": "y"
        }
       ],
       "layout": {
        "height": 450,
        "legend": {
         "tracegroupgap": 0
        },
        "shapes": [
         {
          "line": {
           "dash": "dash"
          },
          "type": "line",
          "x0": 0,
          "x1": 1,
          "y0": 0,
          "y1": 1
         }
        ],
        "template": {
         "data": {
          "bar": [
           {
            "error_x": {
             "color": "#2a3f5f"
            },
            "error_y": {
             "color": "#2a3f5f"
            },
            "marker": {
             "line": {
              "color": "#E5ECF6",
              "width": 0.5
             },
             "pattern": {
              "fillmode": "overlay",
              "size": 10,
              "solidity": 0.2
             }
            },
            "type": "bar"
           }
          ],
          "barpolar": [
           {
            "marker": {
             "line": {
              "color": "#E5ECF6",
              "width": 0.5
             },
             "pattern": {
              "fillmode": "overlay",
              "size": 10,
              "solidity": 0.2
             }
            },
            "type": "barpolar"
           }
          ],
          "carpet": [
           {
            "aaxis": {
             "endlinecolor": "#2a3f5f",
             "gridcolor": "white",
             "linecolor": "white",
             "minorgridcolor": "white",
             "startlinecolor": "#2a3f5f"
            },
            "baxis": {
             "endlinecolor": "#2a3f5f",
             "gridcolor": "white",
             "linecolor": "white",
             "minorgridcolor": "white",
             "startlinecolor": "#2a3f5f"
            },
            "type": "carpet"
           }
          ],
          "choropleth": [
           {
            "colorbar": {
             "outlinewidth": 0,
             "ticks": ""
            },
            "type": "choropleth"
           }
          ],
          "contour": [
           {
            "colorbar": {
             "outlinewidth": 0,
             "ticks": ""
            },
            "colorscale": [
             [
              0,
              "#0d0887"
             ],
             [
              0.1111111111111111,
              "#46039f"
             ],
             [
              0.2222222222222222,
              "#7201a8"
             ],
             [
              0.3333333333333333,
              "#9c179e"
             ],
             [
              0.4444444444444444,
              "#bd3786"
             ],
             [
              0.5555555555555556,
              "#d8576b"
             ],
             [
              0.6666666666666666,
              "#ed7953"
             ],
             [
              0.7777777777777778,
              "#fb9f3a"
             ],
             [
              0.8888888888888888,
              "#fdca26"
             ],
             [
              1,
              "#f0f921"
             ]
            ],
            "type": "contour"
           }
          ],
          "contourcarpet": [
           {
            "colorbar": {
             "outlinewidth": 0,
             "ticks": ""
            },
            "type": "contourcarpet"
           }
          ],
          "heatmap": [
           {
            "colorbar": {
             "outlinewidth": 0,
             "ticks": ""
            },
            "colorscale": [
             [
              0,
              "#0d0887"
             ],
             [
              0.1111111111111111,
              "#46039f"
             ],
             [
              0.2222222222222222,
              "#7201a8"
             ],
             [
              0.3333333333333333,
              "#9c179e"
             ],
             [
              0.4444444444444444,
              "#bd3786"
             ],
             [
              0.5555555555555556,
              "#d8576b"
             ],
             [
              0.6666666666666666,
              "#ed7953"
             ],
             [
              0.7777777777777778,
              "#fb9f3a"
             ],
             [
              0.8888888888888888,
              "#fdca26"
             ],
             [
              1,
              "#f0f921"
             ]
            ],
            "type": "heatmap"
           }
          ],
          "heatmapgl": [
           {
            "colorbar": {
             "outlinewidth": 0,
             "ticks": ""
            },
            "colorscale": [
             [
              0,
              "#0d0887"
             ],
             [
              0.1111111111111111,
              "#46039f"
             ],
             [
              0.2222222222222222,
              "#7201a8"
             ],
             [
              0.3333333333333333,
              "#9c179e"
             ],
             [
              0.4444444444444444,
              "#bd3786"
             ],
             [
              0.5555555555555556,
              "#d8576b"
             ],
             [
              0.6666666666666666,
              "#ed7953"
             ],
             [
              0.7777777777777778,
              "#fb9f3a"
             ],
             [
              0.8888888888888888,
              "#fdca26"
             ],
             [
              1,
              "#f0f921"
             ]
            ],
            "type": "heatmapgl"
           }
          ],
          "histogram": [
           {
            "marker": {
             "pattern": {
              "fillmode": "overlay",
              "size": 10,
              "solidity": 0.2
             }
            },
            "type": "histogram"
           }
          ],
          "histogram2d": [
           {
            "colorbar": {
             "outlinewidth": 0,
             "ticks": ""
            },
            "colorscale": [
             [
              0,
              "#0d0887"
             ],
             [
              0.1111111111111111,
              "#46039f"
             ],
             [
              0.2222222222222222,
              "#7201a8"
             ],
             [
              0.3333333333333333,
              "#9c179e"
             ],
             [
              0.4444444444444444,
              "#bd3786"
             ],
             [
              0.5555555555555556,
              "#d8576b"
             ],
             [
              0.6666666666666666,
              "#ed7953"
             ],
             [
              0.7777777777777778,
              "#fb9f3a"
             ],
             [
              0.8888888888888888,
              "#fdca26"
             ],
             [
              1,
              "#f0f921"
             ]
            ],
            "type": "histogram2d"
           }
          ],
          "histogram2dcontour": [
           {
            "colorbar": {
             "outlinewidth": 0,
             "ticks": ""
            },
            "colorscale": [
             [
              0,
              "#0d0887"
             ],
             [
              0.1111111111111111,
              "#46039f"
             ],
             [
              0.2222222222222222,
              "#7201a8"
             ],
             [
              0.3333333333333333,
              "#9c179e"
             ],
             [
              0.4444444444444444,
              "#bd3786"
             ],
             [
              0.5555555555555556,
              "#d8576b"
             ],
             [
              0.6666666666666666,
              "#ed7953"
             ],
             [
              0.7777777777777778,
              "#fb9f3a"
             ],
             [
              0.8888888888888888,
              "#fdca26"
             ],
             [
              1,
              "#f0f921"
             ]
            ],
            "type": "histogram2dcontour"
           }
          ],
          "mesh3d": [
           {
            "colorbar": {
             "outlinewidth": 0,
             "ticks": ""
            },
            "type": "mesh3d"
           }
          ],
          "parcoords": [
           {
            "line": {
             "colorbar": {
              "outlinewidth": 0,
              "ticks": ""
             }
            },
            "type": "parcoords"
           }
          ],
          "pie": [
           {
            "automargin": true,
            "type": "pie"
           }
          ],
          "scatter": [
           {
            "fillpattern": {
             "fillmode": "overlay",
             "size": 10,
             "solidity": 0.2
            },
            "type": "scatter"
           }
          ],
          "scatter3d": [
           {
            "line": {
             "colorbar": {
              "outlinewidth": 0,
              "ticks": ""
             }
            },
            "marker": {
             "colorbar": {
              "outlinewidth": 0,
              "ticks": ""
             }
            },
            "type": "scatter3d"
           }
          ],
          "scattercarpet": [
           {
            "marker": {
             "colorbar": {
              "outlinewidth": 0,
              "ticks": ""
             }
            },
            "type": "scattercarpet"
           }
          ],
          "scattergeo": [
           {
            "marker": {
             "colorbar": {
              "outlinewidth": 0,
              "ticks": ""
             }
            },
            "type": "scattergeo"
           }
          ],
          "scattergl": [
           {
            "marker": {
             "colorbar": {
              "outlinewidth": 0,
              "ticks": ""
             }
            },
            "type": "scattergl"
           }
          ],
          "scattermapbox": [
           {
            "marker": {
             "colorbar": {
              "outlinewidth": 0,
              "ticks": ""
             }
            },
            "type": "scattermapbox"
           }
          ],
          "scatterpolar": [
           {
            "marker": {
             "colorbar": {
              "outlinewidth": 0,
              "ticks": ""
             }
            },
            "type": "scatterpolar"
           }
          ],
          "scatterpolargl": [
           {
            "marker": {
             "colorbar": {
              "outlinewidth": 0,
              "ticks": ""
             }
            },
            "type": "scatterpolargl"
           }
          ],
          "scatterternary": [
           {
            "marker": {
             "colorbar": {
              "outlinewidth": 0,
              "ticks": ""
             }
            },
            "type": "scatterternary"
           }
          ],
          "surface": [
           {
            "colorbar": {
             "outlinewidth": 0,
             "ticks": ""
            },
            "colorscale": [
             [
              0,
              "#0d0887"
             ],
             [
              0.1111111111111111,
              "#46039f"
             ],
             [
              0.2222222222222222,
              "#7201a8"
             ],
             [
              0.3333333333333333,
              "#9c179e"
             ],
             [
              0.4444444444444444,
              "#bd3786"
             ],
             [
              0.5555555555555556,
              "#d8576b"
             ],
             [
              0.6666666666666666,
              "#ed7953"
             ],
             [
              0.7777777777777778,
              "#fb9f3a"
             ],
             [
              0.8888888888888888,
              "#fdca26"
             ],
             [
              1,
              "#f0f921"
             ]
            ],
            "type": "surface"
           }
          ],
          "table": [
           {
            "cells": {
             "fill": {
              "color": "#EBF0F8"
             },
             "line": {
              "color": "white"
             }
            },
            "header": {
             "fill": {
              "color": "#C8D4E3"
             },
             "line": {
              "color": "white"
             }
            },
            "type": "table"
           }
          ]
         },
         "layout": {
          "annotationdefaults": {
           "arrowcolor": "#2a3f5f",
           "arrowhead": 0,
           "arrowwidth": 1
          },
          "autotypenumbers": "strict",
          "coloraxis": {
           "colorbar": {
            "outlinewidth": 0,
            "ticks": ""
           }
          },
          "colorscale": {
           "diverging": [
            [
             0,
             "#8e0152"
            ],
            [
             0.1,
             "#c51b7d"
            ],
            [
             0.2,
             "#de77ae"
            ],
            [
             0.3,
             "#f1b6da"
            ],
            [
             0.4,
             "#fde0ef"
            ],
            [
             0.5,
             "#f7f7f7"
            ],
            [
             0.6,
             "#e6f5d0"
            ],
            [
             0.7,
             "#b8e186"
            ],
            [
             0.8,
             "#7fbc41"
            ],
            [
             0.9,
             "#4d9221"
            ],
            [
             1,
             "#276419"
            ]
           ],
           "sequential": [
            [
             0,
             "#0d0887"
            ],
            [
             0.1111111111111111,
             "#46039f"
            ],
            [
             0.2222222222222222,
             "#7201a8"
            ],
            [
             0.3333333333333333,
             "#9c179e"
            ],
            [
             0.4444444444444444,
             "#bd3786"
            ],
            [
             0.5555555555555556,
             "#d8576b"
            ],
            [
             0.6666666666666666,
             "#ed7953"
            ],
            [
             0.7777777777777778,
             "#fb9f3a"
            ],
            [
             0.8888888888888888,
             "#fdca26"
            ],
            [
             1,
             "#f0f921"
            ]
           ],
           "sequentialminus": [
            [
             0,
             "#0d0887"
            ],
            [
             0.1111111111111111,
             "#46039f"
            ],
            [
             0.2222222222222222,
             "#7201a8"
            ],
            [
             0.3333333333333333,
             "#9c179e"
            ],
            [
             0.4444444444444444,
             "#bd3786"
            ],
            [
             0.5555555555555556,
             "#d8576b"
            ],
            [
             0.6666666666666666,
             "#ed7953"
            ],
            [
             0.7777777777777778,
             "#fb9f3a"
            ],
            [
             0.8888888888888888,
             "#fdca26"
            ],
            [
             1,
             "#f0f921"
            ]
           ]
          },
          "colorway": [
           "#636efa",
           "#EF553B",
           "#00cc96",
           "#ab63fa",
           "#FFA15A",
           "#19d3f3",
           "#FF6692",
           "#B6E880",
           "#FF97FF",
           "#FECB52"
          ],
          "font": {
           "color": "#2a3f5f"
          },
          "geo": {
           "bgcolor": "white",
           "lakecolor": "white",
           "landcolor": "#E5ECF6",
           "showlakes": true,
           "showland": true,
           "subunitcolor": "white"
          },
          "hoverlabel": {
           "align": "left"
          },
          "hovermode": "closest",
          "mapbox": {
           "style": "light"
          },
          "paper_bgcolor": "white",
          "plot_bgcolor": "#E5ECF6",
          "polar": {
           "angularaxis": {
            "gridcolor": "white",
            "linecolor": "white",
            "ticks": ""
           },
           "bgcolor": "#E5ECF6",
           "radialaxis": {
            "gridcolor": "white",
            "linecolor": "white",
            "ticks": ""
           }
          },
          "scene": {
           "xaxis": {
            "backgroundcolor": "#E5ECF6",
            "gridcolor": "white",
            "gridwidth": 2,
            "linecolor": "white",
            "showbackground": true,
            "ticks": "",
            "zerolinecolor": "white"
           },
           "yaxis": {
            "backgroundcolor": "#E5ECF6",
            "gridcolor": "white",
            "gridwidth": 2,
            "linecolor": "white",
            "showbackground": true,
            "ticks": "",
            "zerolinecolor": "white"
           },
           "zaxis": {
            "backgroundcolor": "#E5ECF6",
            "gridcolor": "white",
            "gridwidth": 2,
            "linecolor": "white",
            "showbackground": true,
            "ticks": "",
            "zerolinecolor": "white"
           }
          },
          "shapedefaults": {
           "line": {
            "color": "#2a3f5f"
           }
          },
          "ternary": {
           "aaxis": {
            "gridcolor": "white",
            "linecolor": "white",
            "ticks": ""
           },
           "baxis": {
            "gridcolor": "white",
            "linecolor": "white",
            "ticks": ""
           },
           "bgcolor": "#E5ECF6",
           "caxis": {
            "gridcolor": "white",
            "linecolor": "white",
            "ticks": ""
           }
          },
          "title": {
           "x": 0.05
          },
          "xaxis": {
           "automargin": true,
           "gridcolor": "white",
           "linecolor": "white",
           "ticks": "",
           "title": {
            "standoff": 15
           },
           "zerolinecolor": "white",
           "zerolinewidth": 2
          },
          "yaxis": {
           "automargin": true,
           "gridcolor": "white",
           "linecolor": "white",
           "ticks": "",
           "title": {
            "standoff": 15
           },
           "zerolinecolor": "white",
           "zerolinewidth": 2
          }
         }
        },
        "title": {
         "text": "Curva ROC"
        },
        "width": 800,
        "xaxis": {
         "anchor": "y",
         "domain": [
          0,
          1
         ],
         "title": {
          "text": "Tasa de falsos positivos"
         }
        },
        "yaxis": {
         "anchor": "x",
         "domain": [
          0,
          1
         ],
         "title": {
          "text": "Tasa de verdaderos positivos"
         }
        }
       }
      }
     },
     "metadata": {},
     "output_type": "display_data"
    }
   ],
   "source": []
  },
  {
   "cell_type": "markdown",
   "metadata": {},
   "source": [
    "#### CATBOOST"
   ]
  },
  {
   "cell_type": "code",
   "execution_count": 357,
   "metadata": {},
   "outputs": [
    {
     "name": "stdout",
     "output_type": "stream",
     "text": [
      "Mejores hiperparámetros: {'border_count': 50, 'depth': 4, 'iterations': 600, 'l2_leaf_reg': 5, 'learning_rate': 0.1}\n",
      "              precision    recall  f1-score   support\n",
      "\n",
      "           0       0.89      0.95      0.92       844\n",
      "           1       0.81      0.67      0.73       283\n",
      "\n",
      "    accuracy                           0.88      1127\n",
      "   macro avg       0.85      0.81      0.83      1127\n",
      "weighted avg       0.87      0.88      0.87      1127\n",
      "\n",
      "Área bajo la curva ROC: 0.917681241940616\n"
     ]
    }
   ],
   "source": [
    "model_catboost = CatBoostClassifier(random_seed=42, verbose=False)\n",
    "\n",
    "param_grid = {\n",
    "    \"iterations\": [200, 400, 600],\n",
    "    \"learning_rate\": [0.01, 0.1, 0.2],\n",
    "    \"depth\": [4, 6, 8],\n",
    "    \"l2_leaf_reg\": [1, 3, 5],\n",
    "    \"border_count\": [32, 50, 100],\n",
    "}\n",
    "\n",
    "grid_search = GridSearchCV(estimator=model_catboost, param_grid=param_grid, scoring=\"roc_auc\", cv=5, n_jobs=-1)\n",
    "grid_search.fit(X_train, y_train)\n",
    "\n",
    "best_params = grid_search.best_params_\n",
    "best_model = grid_search.best_estimator_\n",
    "\n",
    "predictions = best_model.predict(X_test)\n",
    "\n",
    "print(\"Mejores hiperparámetros:\", best_params)\n",
    "print(classification_report(y_test, predictions))\n",
    "print(\"Área bajo la curva ROC:\", roc_auc_score(y_test, best_model.predict_proba(X_test)[:, 1]),\n",
    ")"
   ]
  },
  {
   "cell_type": "markdown",
   "metadata": {},
   "source": [
    "#### NEURAL NETWORK"
   ]
  },
  {
   "cell_type": "code",
   "execution_count": 356,
   "metadata": {},
   "outputs": [
    {
     "name": "stderr",
     "output_type": "stream",
     "text": [
      "c:\\Users\\armod\\AppData\\Local\\Programs\\Python\\Python312\\Lib\\site-packages\\keras\\src\\layers\\core\\dense.py:87: UserWarning:\n",
      "\n",
      "Do not pass an `input_shape`/`input_dim` argument to a layer. When using Sequential models, prefer using an `Input(shape)` object as the first layer in the model instead.\n",
      "\n"
     ]
    },
    {
     "name": "stdout",
     "output_type": "stream",
     "text": [
      "Epoch 1/50\n",
      "Epoch 2/50\n",
      "Epoch 3/50\n",
      "Epoch 4/50\n",
      "Epoch 5/50\n",
      "Epoch 6/50\n",
      "Epoch 7/50\n",
      "Epoch 8/50\n",
      "Epoch 9/50\n",
      "Epoch 10/50\n",
      "Epoch 11/50\n",
      "Epoch 12/50\n",
      "Epoch 13/50\n",
      "Epoch 14/50\n",
      "Epoch 15/50\n",
      "Epoch 16/50\n",
      "Epoch 17/50\n",
      "Epoch 18/50\n",
      "Epoch 19/50\n",
      "Epoch 20/50\n",
      "Epoch 21/50\n",
      "Epoch 22/50\n",
      "Epoch 23/50\n",
      "Epoch 24/50\n",
      "Epoch 25/50\n",
      "Epoch 26/50\n",
      "Epoch 27/50\n",
      "Epoch 28/50\n",
      "Epoch 29/50\n",
      "Epoch 30/50\n",
      "Epoch 31/50\n",
      "Epoch 32/50\n",
      "Epoch 33/50\n",
      "Epoch 34/50\n",
      "Epoch 35/50\n",
      "Epoch 36/50\n",
      "Epoch 37/50\n",
      "Epoch 38/50\n",
      "Epoch 39/50\n",
      "Epoch 40/50\n",
      "Epoch 41/50\n",
      "Epoch 42/50\n",
      "Epoch 43/50\n",
      "Epoch 44/50\n",
      "Epoch 45/50\n",
      "Epoch 46/50\n",
      "Epoch 47/50\n",
      "Epoch 48/50\n",
      "Epoch 49/50\n",
      "Epoch 50/50\n",
      "\u001b[1m36/36\u001b[0m \u001b[32m━━━━━━━━━━━━━━━━━━━━\u001b[0m\u001b[37m\u001b[0m \u001b[1m0s\u001b[0m 806us/step - accuracy: 0.8264 - loss: 0.3817\n",
      "Precisión en el conjunto de prueba: 0.8243\n",
      "\u001b[1m36/36\u001b[0m \u001b[32m━━━━━━━━━━━━━━━━━━━━\u001b[0m\u001b[37m\u001b[0m \u001b[1m0s\u001b[0m 2ms/step\n",
      "              precision    recall  f1-score   support\n",
      "\n",
      "           0       0.89      0.87      0.88       844\n",
      "           1       0.64      0.69      0.66       283\n",
      "\n",
      "    accuracy                           0.82      1127\n",
      "   macro avg       0.77      0.78      0.77      1127\n",
      "weighted avg       0.83      0.82      0.83      1127\n",
      "\n",
      "Área bajo la curva ROC: 0.7793570914206287\n",
      "\u001b[1m36/36\u001b[0m \u001b[32m━━━━━━━━━━━━━━━━━━━━\u001b[0m\u001b[37m\u001b[0m \u001b[1m0s\u001b[0m 863us/step\n"
     ]
    },
    {
     "data": {
      "application/vnd.plotly.v1+json": {
       "config": {
        "plotlyServerURL": "https://plot.ly"
       },
       "data": [
        {
         "hovertemplate": "Tasa de falsos positivos=%{x}<br>Tasa de verdaderos positivos=%{y}<extra></extra>",
         "legendgroup": "",
         "line": {
          "color": "#636efa",
          "dash": "solid"
         },
         "marker": {
          "symbol": "circle"
         },
         "mode": "lines",
         "name": "",
         "orientation": "v",
         "showlegend": false,
         "type": "scatter",
         "x": [
          0,
          0,
          0,
          0.001184834123222749,
          0.001184834123222749,
          0.002369668246445498,
          0.002369668246445498,
          0.004739336492890996,
          0.004739336492890996,
          0.005924170616113744,
          0.005924170616113744,
          0.0071090047393364926,
          0.0071090047393364926,
          0.008293838862559242,
          0.008293838862559242,
          0.011848341232227487,
          0.011848341232227487,
          0.013033175355450236,
          0.013033175355450236,
          0.015402843601895734,
          0.015402843601895734,
          0.016587677725118485,
          0.016587677725118485,
          0.017772511848341232,
          0.017772511848341232,
          0.018957345971563982,
          0.018957345971563982,
          0.02014218009478673,
          0.02014218009478673,
          0.02132701421800948,
          0.02132701421800948,
          0.022511848341232227,
          0.022511848341232227,
          0.023696682464454975,
          0.023696682464454975,
          0.024881516587677725,
          0.024881516587677725,
          0.026066350710900472,
          0.026066350710900472,
          0.02843601895734597,
          0.02843601895734597,
          0.02962085308056872,
          0.02962085308056872,
          0.030805687203791468,
          0.030805687203791468,
          0.034360189573459717,
          0.034360189573459717,
          0.03672985781990521,
          0.03672985781990521,
          0.037914691943127965,
          0.037914691943127965,
          0.04028436018957346,
          0.04028436018957346,
          0.041469194312796206,
          0.041469194312796206,
          0.04383886255924171,
          0.04383886255924171,
          0.045023696682464455,
          0.045023696682464455,
          0.0462085308056872,
          0.0462085308056872,
          0.04739336492890995,
          0.04739336492890995,
          0.04976303317535545,
          0.04976303317535545,
          0.0509478672985782,
          0.0509478672985782,
          0.05568720379146919,
          0.05568720379146919,
          0.05687203791469194,
          0.05687203791469194,
          0.058056872037914695,
          0.058056872037914695,
          0.05924170616113744,
          0.05924170616113744,
          0.06042654028436019,
          0.06042654028436019,
          0.061611374407582936,
          0.061611374407582936,
          0.06398104265402843,
          0.06398104265402843,
          0.06516587677725119,
          0.06516587677725119,
          0.06635071090047394,
          0.06635071090047394,
          0.06753554502369669,
          0.06753554502369669,
          0.06872037914691943,
          0.06872037914691943,
          0.06990521327014218,
          0.06990521327014218,
          0.07819905213270142,
          0.07819905213270142,
          0.08175355450236967,
          0.08175355450236967,
          0.08293838862559241,
          0.08293838862559241,
          0.08412322274881516,
          0.08412322274881516,
          0.08886255924170616,
          0.08886255924170616,
          0.09004739336492891,
          0.09004739336492891,
          0.0924170616113744,
          0.0924170616113744,
          0.0971563981042654,
          0.0971563981042654,
          0.10071090047393365,
          0.10071090047393365,
          0.1018957345971564,
          0.1018957345971564,
          0.10426540284360189,
          0.10426540284360189,
          0.11137440758293839,
          0.11137440758293839,
          0.11492890995260663,
          0.11492890995260663,
          0.11611374407582939,
          0.11611374407582939,
          0.11729857819905214,
          0.11729857819905214,
          0.12203791469194313,
          0.12203791469194313,
          0.12322274881516587,
          0.12322274881516587,
          0.12677725118483413,
          0.12677725118483413,
          0.13033175355450238,
          0.13033175355450238,
          0.13151658767772512,
          0.13151658767772512,
          0.13270142180094788,
          0.13270142180094788,
          0.13507109004739337,
          0.13507109004739337,
          0.1362559241706161,
          0.1362559241706161,
          0.1386255924170616,
          0.1386255924170616,
          0.14454976303317535,
          0.14454976303317535,
          0.1457345971563981,
          0.1457345971563981,
          0.1481042654028436,
          0.1481042654028436,
          0.14928909952606634,
          0.14928909952606634,
          0.1504739336492891,
          0.1504739336492891,
          0.15402843601895735,
          0.15402843601895735,
          0.1646919431279621,
          0.1646919431279621,
          0.16824644549763032,
          0.16824644549763032,
          0.17180094786729858,
          0.17180094786729858,
          0.17298578199052134,
          0.17298578199052134,
          0.17890995260663506,
          0.17890995260663506,
          0.18009478672985782,
          0.18364928909952608,
          0.1848341232227488,
          0.1848341232227488,
          0.18838862559241706,
          0.18838862559241706,
          0.19194312796208532,
          0.19194312796208532,
          0.19549763033175355,
          0.19549763033175355,
          0.19786729857819904,
          0.19786729857819904,
          0.1990521327014218,
          0.1990521327014218,
          0.2014218009478673,
          0.2014218009478673,
          0.20260663507109006,
          0.20260663507109006,
          0.2109004739336493,
          0.2109004739336493,
          0.21445497630331753,
          0.21445497630331753,
          0.22037914691943128,
          0.22037914691943128,
          0.22748815165876776,
          0.22748815165876776,
          0.23696682464454977,
          0.23696682464454977,
          0.25118483412322273,
          0.25118483412322273,
          0.2523696682464455,
          0.2523696682464455,
          0.2559241706161137,
          0.2559241706161137,
          0.259478672985782,
          0.259478672985782,
          0.26895734597156395,
          0.26895734597156395,
          0.2772511848341232,
          0.2772511848341232,
          0.28791469194312796,
          0.28791469194312796,
          0.2902843601895735,
          0.2902843601895735,
          0.2914691943127962,
          0.2914691943127962,
          0.29976303317535546,
          0.29976303317535546,
          0.3033175355450237,
          0.3033175355450237,
          0.31161137440758296,
          0.31161137440758296,
          0.3127962085308057,
          0.3127962085308057,
          0.31516587677725116,
          0.31516587677725116,
          0.31990521327014215,
          0.31990521327014215,
          0.32582938388625593,
          0.32582938388625593,
          0.33767772511848343,
          0.33767772511848343,
          0.33886255924170616,
          0.33886255924170616,
          0.3400473933649289,
          0.3400473933649289,
          0.3447867298578199,
          0.3447867298578199,
          0.3518957345971564,
          0.3518957345971564,
          0.36729857819905215,
          0.36729857819905215,
          0.3708530805687204,
          0.3708530805687204,
          0.3862559241706161,
          0.3862559241706161,
          0.40165876777251186,
          0.40165876777251186,
          0.4087677725118483,
          0.4087677725118483,
          0.42298578199052134,
          0.42298578199052134,
          0.4324644549763033,
          0.4324644549763033,
          0.43838862559241704,
          0.43838862559241704,
          0.4395734597156398,
          0.4395734597156398,
          0.44075829383886256,
          0.44075829383886256,
          0.4431279620853081,
          0.4431279620853081,
          0.4466824644549763,
          0.4466824644549763,
          0.466824644549763,
          0.466824644549763,
          0.47511848341232227,
          0.47511848341232227,
          0.48104265402843605,
          0.48104265402843605,
          0.5,
          0.5,
          0.518957345971564,
          0.518957345971564,
          0.5225118483412322,
          0.5225118483412322,
          0.5319905213270142,
          0.5319905213270142,
          0.5414691943127962,
          0.5414691943127962,
          0.54739336492891,
          0.54739336492891,
          0.5556872037914692,
          0.5556872037914692,
          0.5841232227488151,
          0.5841232227488151,
          0.5936018957345972,
          0.5936018957345972,
          0.7713270142180095,
          0.7713270142180095,
          0.8376777251184834,
          0.8376777251184834,
          1
         ],
         "xaxis": "x",
         "y": [
          0,
          0.0035335689045936395,
          0.038869257950530034,
          0.038869257950530034,
          0.06007067137809187,
          0.06007067137809187,
          0.12014134275618374,
          0.12014134275618374,
          0.13427561837455831,
          0.13427561837455831,
          0.1519434628975265,
          0.1519434628975265,
          0.15547703180212014,
          0.15547703180212014,
          0.16607773851590105,
          0.16607773851590105,
          0.17314487632508835,
          0.17314487632508835,
          0.18374558303886926,
          0.18374558303886926,
          0.1872791519434629,
          0.1872791519434629,
          0.19434628975265017,
          0.19434628975265017,
          0.1978798586572438,
          0.1978798586572438,
          0.2332155477031802,
          0.2332155477031802,
          0.23674911660777384,
          0.23674911660777384,
          0.24028268551236748,
          0.24028268551236748,
          0.254416961130742,
          0.254416961130742,
          0.26501766784452296,
          0.26501766784452296,
          0.26855123674911663,
          0.26855123674911663,
          0.2826855123674912,
          0.2826855123674912,
          0.2862190812720848,
          0.2862190812720848,
          0.29328621908127206,
          0.29328621908127206,
          0.31802120141342755,
          0.31802120141342755,
          0.3215547703180212,
          0.3215547703180212,
          0.3250883392226148,
          0.3250883392226148,
          0.3286219081272085,
          0.3286219081272085,
          0.3321554770318021,
          0.3321554770318021,
          0.3498233215547703,
          0.3498233215547703,
          0.36042402826855124,
          0.36042402826855124,
          0.3674911660777385,
          0.3674911660777385,
          0.3710247349823322,
          0.3710247349823322,
          0.3992932862190813,
          0.3992932862190813,
          0.4098939929328622,
          0.4098939929328622,
          0.4134275618374558,
          0.4134275618374558,
          0.4169611307420495,
          0.4169611307420495,
          0.42402826855123676,
          0.42402826855123676,
          0.4275618374558304,
          0.4275618374558304,
          0.4381625441696113,
          0.4381625441696113,
          0.4416961130742049,
          0.4416961130742049,
          0.44876325088339225,
          0.44876325088339225,
          0.45229681978798586,
          0.45229681978798586,
          0.4558303886925795,
          0.4558303886925795,
          0.47703180212014135,
          0.47703180212014135,
          0.5159010600706714,
          0.5159010600706714,
          0.5441696113074205,
          0.5441696113074205,
          0.5477031802120141,
          0.5477031802120141,
          0.5512367491166078,
          0.5512367491166078,
          0.5618374558303887,
          0.5618374558303887,
          0.5653710247349824,
          0.5653710247349824,
          0.5724381625441696,
          0.5724381625441696,
          0.5759717314487632,
          0.5759717314487632,
          0.5795053003533569,
          0.5795053003533569,
          0.6007067137809188,
          0.6007067137809188,
          0.607773851590106,
          0.607773851590106,
          0.6183745583038869,
          0.6183745583038869,
          0.6254416961130742,
          0.6254416961130742,
          0.6360424028268551,
          0.6360424028268551,
          0.6395759717314488,
          0.6395759717314488,
          0.6501766784452296,
          0.6501766784452296,
          0.6607773851590106,
          0.6607773851590106,
          0.6713780918727915,
          0.6713780918727915,
          0.6749116607773852,
          0.6749116607773852,
          0.6819787985865724,
          0.6819787985865724,
          0.6855123674911661,
          0.6855123674911661,
          0.6890459363957597,
          0.6890459363957597,
          0.696113074204947,
          0.696113074204947,
          0.6996466431095406,
          0.6996466431095406,
          0.7137809187279152,
          0.7137809187279152,
          0.7173144876325088,
          0.7173144876325088,
          0.7208480565371025,
          0.7208480565371025,
          0.7243816254416962,
          0.7243816254416962,
          0.7279151943462897,
          0.7279151943462897,
          0.7314487632508834,
          0.7314487632508834,
          0.734982332155477,
          0.734982332155477,
          0.7385159010600707,
          0.7385159010600707,
          0.7420494699646644,
          0.7420494699646644,
          0.7455830388692579,
          0.7455830388692579,
          0.7491166077738516,
          0.7491166077738516,
          0.7561837455830389,
          0.7561837455830389,
          0.7597173144876325,
          0.7597173144876325,
          0.7632508833922261,
          0.7632508833922261,
          0.7703180212014135,
          0.7703180212014135,
          0.773851590106007,
          0.773851590106007,
          0.7773851590106007,
          0.7773851590106007,
          0.7809187279151943,
          0.7809187279151943,
          0.784452296819788,
          0.784452296819788,
          0.7879858657243817,
          0.7879858657243817,
          0.7915194346289752,
          0.7915194346289752,
          0.7950530035335689,
          0.7950530035335689,
          0.8021201413427562,
          0.8021201413427562,
          0.8056537102473498,
          0.8056537102473498,
          0.8091872791519434,
          0.8091872791519434,
          0.8127208480565371,
          0.8127208480565371,
          0.8197879858657244,
          0.8197879858657244,
          0.823321554770318,
          0.823321554770318,
          0.8303886925795053,
          0.8303886925795053,
          0.833922261484099,
          0.833922261484099,
          0.8374558303886925,
          0.8374558303886925,
          0.8409893992932862,
          0.8409893992932862,
          0.8445229681978799,
          0.8445229681978799,
          0.8480565371024735,
          0.8480565371024735,
          0.8515901060070671,
          0.8515901060070671,
          0.8551236749116607,
          0.8551236749116607,
          0.8586572438162544,
          0.8586572438162544,
          0.8621908127208481,
          0.8621908127208481,
          0.8657243816254417,
          0.8657243816254417,
          0.8692579505300353,
          0.8692579505300353,
          0.872791519434629,
          0.872791519434629,
          0.8763250883392226,
          0.8763250883392226,
          0.8833922261484098,
          0.8833922261484098,
          0.8869257950530035,
          0.8869257950530035,
          0.8939929328621908,
          0.8939929328621908,
          0.8975265017667845,
          0.8975265017667845,
          0.901060070671378,
          0.901060070671378,
          0.9045936395759717,
          0.9045936395759717,
          0.9081272084805654,
          0.9081272084805654,
          0.911660777385159,
          0.911660777385159,
          0.9151943462897526,
          0.9151943462897526,
          0.9187279151943463,
          0.9187279151943463,
          0.9222614840989399,
          0.9222614840989399,
          0.9257950530035336,
          0.9257950530035336,
          0.9293286219081273,
          0.9293286219081273,
          0.9328621908127208,
          0.9328621908127208,
          0.9363957597173145,
          0.9363957597173145,
          0.9399293286219081,
          0.9399293286219081,
          0.9434628975265018,
          0.9434628975265018,
          0.9469964664310954,
          0.9469964664310954,
          0.950530035335689,
          0.950530035335689,
          0.9540636042402827,
          0.9540636042402827,
          0.9575971731448764,
          0.9575971731448764,
          0.9611307420494699,
          0.9611307420494699,
          0.9646643109540636,
          0.9646643109540636,
          0.9681978798586572,
          0.9681978798586572,
          0.9717314487632509,
          0.9717314487632509,
          0.9752650176678446,
          0.9752650176678446,
          0.9787985865724381,
          0.9787985865724381,
          0.9823321554770318,
          0.9823321554770318,
          0.9858657243816255,
          0.9858657243816255,
          0.9893992932862191,
          0.9893992932862191,
          0.9929328621908127,
          0.9929328621908127,
          0.9964664310954063,
          0.9964664310954063,
          1,
          1
         ],
         "yaxis": "y"
        }
       ],
       "layout": {
        "height": 450,
        "legend": {
         "tracegroupgap": 0
        },
        "shapes": [
         {
          "line": {
           "dash": "dash"
          },
          "type": "line",
          "x0": 0,
          "x1": 1,
          "y0": 0,
          "y1": 1
         }
        ],
        "template": {
         "data": {
          "bar": [
           {
            "error_x": {
             "color": "#2a3f5f"
            },
            "error_y": {
             "color": "#2a3f5f"
            },
            "marker": {
             "line": {
              "color": "#E5ECF6",
              "width": 0.5
             },
             "pattern": {
              "fillmode": "overlay",
              "size": 10,
              "solidity": 0.2
             }
            },
            "type": "bar"
           }
          ],
          "barpolar": [
           {
            "marker": {
             "line": {
              "color": "#E5ECF6",
              "width": 0.5
             },
             "pattern": {
              "fillmode": "overlay",
              "size": 10,
              "solidity": 0.2
             }
            },
            "type": "barpolar"
           }
          ],
          "carpet": [
           {
            "aaxis": {
             "endlinecolor": "#2a3f5f",
             "gridcolor": "white",
             "linecolor": "white",
             "minorgridcolor": "white",
             "startlinecolor": "#2a3f5f"
            },
            "baxis": {
             "endlinecolor": "#2a3f5f",
             "gridcolor": "white",
             "linecolor": "white",
             "minorgridcolor": "white",
             "startlinecolor": "#2a3f5f"
            },
            "type": "carpet"
           }
          ],
          "choropleth": [
           {
            "colorbar": {
             "outlinewidth": 0,
             "ticks": ""
            },
            "type": "choropleth"
           }
          ],
          "contour": [
           {
            "colorbar": {
             "outlinewidth": 0,
             "ticks": ""
            },
            "colorscale": [
             [
              0,
              "#0d0887"
             ],
             [
              0.1111111111111111,
              "#46039f"
             ],
             [
              0.2222222222222222,
              "#7201a8"
             ],
             [
              0.3333333333333333,
              "#9c179e"
             ],
             [
              0.4444444444444444,
              "#bd3786"
             ],
             [
              0.5555555555555556,
              "#d8576b"
             ],
             [
              0.6666666666666666,
              "#ed7953"
             ],
             [
              0.7777777777777778,
              "#fb9f3a"
             ],
             [
              0.8888888888888888,
              "#fdca26"
             ],
             [
              1,
              "#f0f921"
             ]
            ],
            "type": "contour"
           }
          ],
          "contourcarpet": [
           {
            "colorbar": {
             "outlinewidth": 0,
             "ticks": ""
            },
            "type": "contourcarpet"
           }
          ],
          "heatmap": [
           {
            "colorbar": {
             "outlinewidth": 0,
             "ticks": ""
            },
            "colorscale": [
             [
              0,
              "#0d0887"
             ],
             [
              0.1111111111111111,
              "#46039f"
             ],
             [
              0.2222222222222222,
              "#7201a8"
             ],
             [
              0.3333333333333333,
              "#9c179e"
             ],
             [
              0.4444444444444444,
              "#bd3786"
             ],
             [
              0.5555555555555556,
              "#d8576b"
             ],
             [
              0.6666666666666666,
              "#ed7953"
             ],
             [
              0.7777777777777778,
              "#fb9f3a"
             ],
             [
              0.8888888888888888,
              "#fdca26"
             ],
             [
              1,
              "#f0f921"
             ]
            ],
            "type": "heatmap"
           }
          ],
          "heatmapgl": [
           {
            "colorbar": {
             "outlinewidth": 0,
             "ticks": ""
            },
            "colorscale": [
             [
              0,
              "#0d0887"
             ],
             [
              0.1111111111111111,
              "#46039f"
             ],
             [
              0.2222222222222222,
              "#7201a8"
             ],
             [
              0.3333333333333333,
              "#9c179e"
             ],
             [
              0.4444444444444444,
              "#bd3786"
             ],
             [
              0.5555555555555556,
              "#d8576b"
             ],
             [
              0.6666666666666666,
              "#ed7953"
             ],
             [
              0.7777777777777778,
              "#fb9f3a"
             ],
             [
              0.8888888888888888,
              "#fdca26"
             ],
             [
              1,
              "#f0f921"
             ]
            ],
            "type": "heatmapgl"
           }
          ],
          "histogram": [
           {
            "marker": {
             "pattern": {
              "fillmode": "overlay",
              "size": 10,
              "solidity": 0.2
             }
            },
            "type": "histogram"
           }
          ],
          "histogram2d": [
           {
            "colorbar": {
             "outlinewidth": 0,
             "ticks": ""
            },
            "colorscale": [
             [
              0,
              "#0d0887"
             ],
             [
              0.1111111111111111,
              "#46039f"
             ],
             [
              0.2222222222222222,
              "#7201a8"
             ],
             [
              0.3333333333333333,
              "#9c179e"
             ],
             [
              0.4444444444444444,
              "#bd3786"
             ],
             [
              0.5555555555555556,
              "#d8576b"
             ],
             [
              0.6666666666666666,
              "#ed7953"
             ],
             [
              0.7777777777777778,
              "#fb9f3a"
             ],
             [
              0.8888888888888888,
              "#fdca26"
             ],
             [
              1,
              "#f0f921"
             ]
            ],
            "type": "histogram2d"
           }
          ],
          "histogram2dcontour": [
           {
            "colorbar": {
             "outlinewidth": 0,
             "ticks": ""
            },
            "colorscale": [
             [
              0,
              "#0d0887"
             ],
             [
              0.1111111111111111,
              "#46039f"
             ],
             [
              0.2222222222222222,
              "#7201a8"
             ],
             [
              0.3333333333333333,
              "#9c179e"
             ],
             [
              0.4444444444444444,
              "#bd3786"
             ],
             [
              0.5555555555555556,
              "#d8576b"
             ],
             [
              0.6666666666666666,
              "#ed7953"
             ],
             [
              0.7777777777777778,
              "#fb9f3a"
             ],
             [
              0.8888888888888888,
              "#fdca26"
             ],
             [
              1,
              "#f0f921"
             ]
            ],
            "type": "histogram2dcontour"
           }
          ],
          "mesh3d": [
           {
            "colorbar": {
             "outlinewidth": 0,
             "ticks": ""
            },
            "type": "mesh3d"
           }
          ],
          "parcoords": [
           {
            "line": {
             "colorbar": {
              "outlinewidth": 0,
              "ticks": ""
             }
            },
            "type": "parcoords"
           }
          ],
          "pie": [
           {
            "automargin": true,
            "type": "pie"
           }
          ],
          "scatter": [
           {
            "fillpattern": {
             "fillmode": "overlay",
             "size": 10,
             "solidity": 0.2
            },
            "type": "scatter"
           }
          ],
          "scatter3d": [
           {
            "line": {
             "colorbar": {
              "outlinewidth": 0,
              "ticks": ""
             }
            },
            "marker": {
             "colorbar": {
              "outlinewidth": 0,
              "ticks": ""
             }
            },
            "type": "scatter3d"
           }
          ],
          "scattercarpet": [
           {
            "marker": {
             "colorbar": {
              "outlinewidth": 0,
              "ticks": ""
             }
            },
            "type": "scattercarpet"
           }
          ],
          "scattergeo": [
           {
            "marker": {
             "colorbar": {
              "outlinewidth": 0,
              "ticks": ""
             }
            },
            "type": "scattergeo"
           }
          ],
          "scattergl": [
           {
            "marker": {
             "colorbar": {
              "outlinewidth": 0,
              "ticks": ""
             }
            },
            "type": "scattergl"
           }
          ],
          "scattermapbox": [
           {
            "marker": {
             "colorbar": {
              "outlinewidth": 0,
              "ticks": ""
             }
            },
            "type": "scattermapbox"
           }
          ],
          "scatterpolar": [
           {
            "marker": {
             "colorbar": {
              "outlinewidth": 0,
              "ticks": ""
             }
            },
            "type": "scatterpolar"
           }
          ],
          "scatterpolargl": [
           {
            "marker": {
             "colorbar": {
              "outlinewidth": 0,
              "ticks": ""
             }
            },
            "type": "scatterpolargl"
           }
          ],
          "scatterternary": [
           {
            "marker": {
             "colorbar": {
              "outlinewidth": 0,
              "ticks": ""
             }
            },
            "type": "scatterternary"
           }
          ],
          "surface": [
           {
            "colorbar": {
             "outlinewidth": 0,
             "ticks": ""
            },
            "colorscale": [
             [
              0,
              "#0d0887"
             ],
             [
              0.1111111111111111,
              "#46039f"
             ],
             [
              0.2222222222222222,
              "#7201a8"
             ],
             [
              0.3333333333333333,
              "#9c179e"
             ],
             [
              0.4444444444444444,
              "#bd3786"
             ],
             [
              0.5555555555555556,
              "#d8576b"
             ],
             [
              0.6666666666666666,
              "#ed7953"
             ],
             [
              0.7777777777777778,
              "#fb9f3a"
             ],
             [
              0.8888888888888888,
              "#fdca26"
             ],
             [
              1,
              "#f0f921"
             ]
            ],
            "type": "surface"
           }
          ],
          "table": [
           {
            "cells": {
             "fill": {
              "color": "#EBF0F8"
             },
             "line": {
              "color": "white"
             }
            },
            "header": {
             "fill": {
              "color": "#C8D4E3"
             },
             "line": {
              "color": "white"
             }
            },
            "type": "table"
           }
          ]
         },
         "layout": {
          "annotationdefaults": {
           "arrowcolor": "#2a3f5f",
           "arrowhead": 0,
           "arrowwidth": 1
          },
          "autotypenumbers": "strict",
          "coloraxis": {
           "colorbar": {
            "outlinewidth": 0,
            "ticks": ""
           }
          },
          "colorscale": {
           "diverging": [
            [
             0,
             "#8e0152"
            ],
            [
             0.1,
             "#c51b7d"
            ],
            [
             0.2,
             "#de77ae"
            ],
            [
             0.3,
             "#f1b6da"
            ],
            [
             0.4,
             "#fde0ef"
            ],
            [
             0.5,
             "#f7f7f7"
            ],
            [
             0.6,
             "#e6f5d0"
            ],
            [
             0.7,
             "#b8e186"
            ],
            [
             0.8,
             "#7fbc41"
            ],
            [
             0.9,
             "#4d9221"
            ],
            [
             1,
             "#276419"
            ]
           ],
           "sequential": [
            [
             0,
             "#0d0887"
            ],
            [
             0.1111111111111111,
             "#46039f"
            ],
            [
             0.2222222222222222,
             "#7201a8"
            ],
            [
             0.3333333333333333,
             "#9c179e"
            ],
            [
             0.4444444444444444,
             "#bd3786"
            ],
            [
             0.5555555555555556,
             "#d8576b"
            ],
            [
             0.6666666666666666,
             "#ed7953"
            ],
            [
             0.7777777777777778,
             "#fb9f3a"
            ],
            [
             0.8888888888888888,
             "#fdca26"
            ],
            [
             1,
             "#f0f921"
            ]
           ],
           "sequentialminus": [
            [
             0,
             "#0d0887"
            ],
            [
             0.1111111111111111,
             "#46039f"
            ],
            [
             0.2222222222222222,
             "#7201a8"
            ],
            [
             0.3333333333333333,
             "#9c179e"
            ],
            [
             0.4444444444444444,
             "#bd3786"
            ],
            [
             0.5555555555555556,
             "#d8576b"
            ],
            [
             0.6666666666666666,
             "#ed7953"
            ],
            [
             0.7777777777777778,
             "#fb9f3a"
            ],
            [
             0.8888888888888888,
             "#fdca26"
            ],
            [
             1,
             "#f0f921"
            ]
           ]
          },
          "colorway": [
           "#636efa",
           "#EF553B",
           "#00cc96",
           "#ab63fa",
           "#FFA15A",
           "#19d3f3",
           "#FF6692",
           "#B6E880",
           "#FF97FF",
           "#FECB52"
          ],
          "font": {
           "color": "#2a3f5f"
          },
          "geo": {
           "bgcolor": "white",
           "lakecolor": "white",
           "landcolor": "#E5ECF6",
           "showlakes": true,
           "showland": true,
           "subunitcolor": "white"
          },
          "hoverlabel": {
           "align": "left"
          },
          "hovermode": "closest",
          "mapbox": {
           "style": "light"
          },
          "paper_bgcolor": "white",
          "plot_bgcolor": "#E5ECF6",
          "polar": {
           "angularaxis": {
            "gridcolor": "white",
            "linecolor": "white",
            "ticks": ""
           },
           "bgcolor": "#E5ECF6",
           "radialaxis": {
            "gridcolor": "white",
            "linecolor": "white",
            "ticks": ""
           }
          },
          "scene": {
           "xaxis": {
            "backgroundcolor": "#E5ECF6",
            "gridcolor": "white",
            "gridwidth": 2,
            "linecolor": "white",
            "showbackground": true,
            "ticks": "",
            "zerolinecolor": "white"
           },
           "yaxis": {
            "backgroundcolor": "#E5ECF6",
            "gridcolor": "white",
            "gridwidth": 2,
            "linecolor": "white",
            "showbackground": true,
            "ticks": "",
            "zerolinecolor": "white"
           },
           "zaxis": {
            "backgroundcolor": "#E5ECF6",
            "gridcolor": "white",
            "gridwidth": 2,
            "linecolor": "white",
            "showbackground": true,
            "ticks": "",
            "zerolinecolor": "white"
           }
          },
          "shapedefaults": {
           "line": {
            "color": "#2a3f5f"
           }
          },
          "ternary": {
           "aaxis": {
            "gridcolor": "white",
            "linecolor": "white",
            "ticks": ""
           },
           "baxis": {
            "gridcolor": "white",
            "linecolor": "white",
            "ticks": ""
           },
           "bgcolor": "#E5ECF6",
           "caxis": {
            "gridcolor": "white",
            "linecolor": "white",
            "ticks": ""
           }
          },
          "title": {
           "x": 0.05
          },
          "xaxis": {
           "automargin": true,
           "gridcolor": "white",
           "linecolor": "white",
           "ticks": "",
           "title": {
            "standoff": 15
           },
           "zerolinecolor": "white",
           "zerolinewidth": 2
          },
          "yaxis": {
           "automargin": true,
           "gridcolor": "white",
           "linecolor": "white",
           "ticks": "",
           "title": {
            "standoff": 15
           },
           "zerolinecolor": "white",
           "zerolinewidth": 2
          }
         }
        },
        "title": {
         "text": "Curva ROC"
        },
        "width": 800,
        "xaxis": {
         "anchor": "y",
         "domain": [
          0,
          1
         ],
         "title": {
          "text": "Tasa de falsos positivos"
         }
        },
        "yaxis": {
         "anchor": "x",
         "domain": [
          0,
          1
         ],
         "title": {
          "text": "Tasa de verdaderos positivos"
         }
        }
       }
      }
     },
     "metadata": {},
     "output_type": "display_data"
    }
   ],
   "source": [
    "model_net = Sequential()\n",
    "\n",
    "model_net.add(Dense(32, input_dim=X_train.shape[1], activation='relu'))\n",
    "model_net.add(Dropout(0.5))  # Prevención sobreajuste (Apagado aleatorio de neuronas)\n",
    "model_net.add(Dense(16, activation='relu')) \n",
    "model_net.add(Dropout(0.5))  # Prevención sobreajuste (Apagado aleatorio de neuronas)\n",
    "model_net.add(Dense(8, activation='relu')) \n",
    "model_net.add(Dropout(0.5))  # Prevención sobreajuste (Apagado aleatorio de neuronas)\n",
    "model_net.add(Dense(1, activation='sigmoid'))\n",
    "\n",
    "model_net.compile(optimizer='adam', loss='binary_crossentropy', metrics=['accuracy'])\n",
    "\n",
    "history = model_net.fit(X_train, y_train, epochs=50, batch_size=32, validation_data=(X_test, y_test), verbose=5)\n",
    "\n",
    "loss, accuracy = model_net.evaluate(X_test, y_test)\n",
    "print(f\"Precisión en el conjunto de prueba: {accuracy:.4f}\")\n",
    "\n",
    "predictions = (model_net.predict(X_test)>=0.5).astype(int)\n",
    "\n",
    "find_scores(X_test, y_test, predictions, model_net)"
   ]
  }
 ],
 "metadata": {
  "kernelspec": {
   "display_name": "Python 3",
   "language": "python",
   "name": "python3"
  },
  "language_info": {
   "codemirror_mode": {
    "name": "ipython",
    "version": 3
   },
   "file_extension": ".py",
   "mimetype": "text/x-python",
   "name": "python",
   "nbconvert_exporter": "python",
   "pygments_lexer": "ipython3",
   "version": "3.12.0"
  }
 },
 "nbformat": 4,
 "nbformat_minor": 2
}
